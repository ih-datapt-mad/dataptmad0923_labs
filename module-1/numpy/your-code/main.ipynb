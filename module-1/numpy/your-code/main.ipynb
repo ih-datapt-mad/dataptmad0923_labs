{
 "cells": [
  {
   "cell_type": "markdown",
   "metadata": {},
   "source": [
    "# Introduction to NumPy\n",
    "\n",
    "\n",
    "#### 1. Import NumPy under the name np."
   ]
  },
  {
   "cell_type": "code",
   "execution_count": 1,
   "metadata": {},
   "outputs": [],
   "source": [
    "# your code here\n",
    "import numpy as np"
   ]
  },
  {
   "cell_type": "markdown",
   "metadata": {},
   "source": [
    "#### 2. Print your NumPy version."
   ]
  },
  {
   "cell_type": "code",
   "execution_count": 2,
   "metadata": {
    "scrolled": true
   },
   "outputs": [
    {
     "name": "stdout",
     "output_type": "stream",
     "text": [
      "NumPy version: 1.26.0\n"
     ]
    }
   ],
   "source": [
    "# your code here\n",
    "print(\"NumPy version:\", np.__version__)"
   ]
  },
  {
   "cell_type": "markdown",
   "metadata": {},
   "source": [
    "#### 3. Generate a 2x3x5 3-dimensional array with random values. Assign the array to variable *a*.\n",
    "**Challenge**: there are at least three easy ways that use numpy to generate random arrays. How many ways can you find?"
   ]
  },
  {
   "cell_type": "code",
   "execution_count": 7,
   "metadata": {},
   "outputs": [
    {
     "data": {
      "text/plain": [
       "array([[[0.12372039, 0.99359446, 0.13983272, 0.214189  , 0.02144413],\n",
       "        [0.25316988, 0.05592118, 0.54616012, 0.07760178, 0.44323416],\n",
       "        [0.10339915, 0.69751529, 0.24819607, 0.66993707, 0.84298265]],\n",
       "\n",
       "       [[0.9426549 , 0.54220607, 0.07470951, 0.12434577, 0.72795664],\n",
       "        [0.00209283, 0.8967361 , 0.31101991, 0.65955998, 0.02303164],\n",
       "        [0.89749245, 0.61756548, 0.22071756, 0.46533529, 0.94291853]]])"
      ]
     },
     "execution_count": 7,
     "metadata": {},
     "output_type": "execute_result"
    }
   ],
   "source": [
    "# Method 1\n",
    "a1 = np.random.rand(2, 3, 5)\n",
    "a1"
   ]
  },
  {
   "cell_type": "code",
   "execution_count": 8,
   "metadata": {},
   "outputs": [
    {
     "data": {
      "text/plain": [
       "array([[[ 1.45337837, -0.61747123,  1.91021438, -0.68229135,\n",
       "         -0.51971562],\n",
       "        [-1.02076481,  0.10299314, -0.75793206, -0.93655611,\n",
       "          0.42916557],\n",
       "        [ 0.69402185, -2.38871866,  0.34124323,  0.18840411,\n",
       "         -0.45173362]],\n",
       "\n",
       "       [[-0.12837385,  0.16656318, -1.98937092, -0.08805506,\n",
       "          0.98012164],\n",
       "        [-0.78784174,  0.03452597,  0.35767433, -0.49635662,\n",
       "         -1.72584001],\n",
       "        [ 0.09277782,  1.36203928,  0.62371528, -0.4327459 ,\n",
       "         -2.27548824]]])"
      ]
     },
     "execution_count": 8,
     "metadata": {},
     "output_type": "execute_result"
    }
   ],
   "source": [
    "# Method 2\n",
    "a2 = np.random.randn(2, 3, 5)\n",
    "a2"
   ]
  },
  {
   "cell_type": "code",
   "execution_count": 9,
   "metadata": {},
   "outputs": [
    {
     "data": {
      "text/plain": [
       "array([[[0.40545894, 0.70476985, 0.77879837, 0.13103726, 0.97865374],\n",
       "        [0.78443444, 0.65630932, 0.29011262, 0.07212173, 0.57539317],\n",
       "        [0.74578694, 0.05255202, 0.37743667, 0.65704361, 0.96858334]],\n",
       "\n",
       "       [[0.31972564, 0.62374687, 0.50262516, 0.16984006, 0.65360119],\n",
       "        [0.5456803 , 0.58911863, 0.94918227, 0.5811156 , 0.74867151],\n",
       "        [0.28965223, 0.98993834, 0.86788355, 0.54817999, 0.85629128]]])"
      ]
     },
     "execution_count": 9,
     "metadata": {},
     "output_type": "execute_result"
    }
   ],
   "source": [
    "# Method 3\n",
    "a3 = np.random.random_sample((2, 3, 5))\n",
    "a3"
   ]
  },
  {
   "cell_type": "markdown",
   "metadata": {},
   "source": [
    "#### 4. Print *a*.\n"
   ]
  },
  {
   "cell_type": "code",
   "execution_count": 11,
   "metadata": {},
   "outputs": [
    {
     "name": "stdout",
     "output_type": "stream",
     "text": [
      "[[[0.12372039 0.99359446 0.13983272 0.214189   0.02144413]\n",
      "  [0.25316988 0.05592118 0.54616012 0.07760178 0.44323416]\n",
      "  [0.10339915 0.69751529 0.24819607 0.66993707 0.84298265]]\n",
      "\n",
      " [[0.9426549  0.54220607 0.07470951 0.12434577 0.72795664]\n",
      "  [0.00209283 0.8967361  0.31101991 0.65955998 0.02303164]\n",
      "  [0.89749245 0.61756548 0.22071756 0.46533529 0.94291853]]]\n",
      "[[[ 1.45337837 -0.61747123  1.91021438 -0.68229135 -0.51971562]\n",
      "  [-1.02076481  0.10299314 -0.75793206 -0.93655611  0.42916557]\n",
      "  [ 0.69402185 -2.38871866  0.34124323  0.18840411 -0.45173362]]\n",
      "\n",
      " [[-0.12837385  0.16656318 -1.98937092 -0.08805506  0.98012164]\n",
      "  [-0.78784174  0.03452597  0.35767433 -0.49635662 -1.72584001]\n",
      "  [ 0.09277782  1.36203928  0.62371528 -0.4327459  -2.27548824]]]\n",
      "[[[0.40545894 0.70476985 0.77879837 0.13103726 0.97865374]\n",
      "  [0.78443444 0.65630932 0.29011262 0.07212173 0.57539317]\n",
      "  [0.74578694 0.05255202 0.37743667 0.65704361 0.96858334]]\n",
      "\n",
      " [[0.31972564 0.62374687 0.50262516 0.16984006 0.65360119]\n",
      "  [0.5456803  0.58911863 0.94918227 0.5811156  0.74867151]\n",
      "  [0.28965223 0.98993834 0.86788355 0.54817999 0.85629128]]]\n"
     ]
    }
   ],
   "source": [
    "# your code here\n",
    "print(a1)\n",
    "print(a2)\n",
    "print(a3)"
   ]
  },
  {
   "cell_type": "markdown",
   "metadata": {},
   "source": [
    "#### 5. Create a 5x2x3 3-dimensional array with all values equaling 1. Assign the array to variable *b*."
   ]
  },
  {
   "cell_type": "code",
   "execution_count": 12,
   "metadata": {},
   "outputs": [],
   "source": [
    "# your code here\n",
    "b = np.ones((5, 2, 3))"
   ]
  },
  {
   "cell_type": "markdown",
   "metadata": {},
   "source": [
    "#### 6. Print *b*.\n"
   ]
  },
  {
   "cell_type": "code",
   "execution_count": 13,
   "metadata": {},
   "outputs": [
    {
     "name": "stdout",
     "output_type": "stream",
     "text": [
      "[[[1. 1. 1.]\n",
      "  [1. 1. 1.]]\n",
      "\n",
      " [[1. 1. 1.]\n",
      "  [1. 1. 1.]]\n",
      "\n",
      " [[1. 1. 1.]\n",
      "  [1. 1. 1.]]\n",
      "\n",
      " [[1. 1. 1.]\n",
      "  [1. 1. 1.]]\n",
      "\n",
      " [[1. 1. 1.]\n",
      "  [1. 1. 1.]]]\n"
     ]
    }
   ],
   "source": [
    "# your code here\n",
    "print(b)"
   ]
  },
  {
   "cell_type": "markdown",
   "metadata": {},
   "source": [
    "#### 7. Do *a* and *b* have the same size? How do you prove that in Python code?"
   ]
  },
  {
   "cell_type": "code",
   "execution_count": 14,
   "metadata": {},
   "outputs": [
    {
     "name": "stdout",
     "output_type": "stream",
     "text": [
      "Arrays a and b have the same size.\n"
     ]
    }
   ],
   "source": [
    "# your code here\n",
    "a = np.random.rand(2, 3, 5)\n",
    "b = np.ones((5, 2, 3))\n",
    "size_a = np.prod(a.shape)\n",
    "size_b = np.prod(b.shape)\n",
    "if size_a == size_b:\n",
    "    print(\"Arrays a and b have the same size.\")\n",
    "else:\n",
    "    print(\"Arrays a and b do not have the same size.\")"
   ]
  },
  {
   "cell_type": "markdown",
   "metadata": {},
   "source": [
    "#### 8. Are you able to add *a* and *b*? Why or why not?\n"
   ]
  },
  {
   "cell_type": "code",
   "execution_count": null,
   "metadata": {},
   "outputs": [],
   "source": [
    "# your answer here\n",
    "No, we cannot directly add arrays a and b because they have different shapes. In NumPy, for element-wise addition (or any other element-wise operation), the arrays being operated on must have compatible shapes, meaning their dimensions must be either equal or one of them must be 1. This is known as broadcasting.\n",
    "\n"
   ]
  },
  {
   "cell_type": "markdown",
   "metadata": {},
   "source": [
    "#### 9. Transpose *b* so that it has the same structure of *a* (i.e. become a 2x3x5 array). Assign the transposed array to variable *c*."
   ]
  },
  {
   "cell_type": "code",
   "execution_count": 17,
   "metadata": {},
   "outputs": [
    {
     "data": {
      "text/plain": [
       "(2, 3, 5)"
      ]
     },
     "execution_count": 17,
     "metadata": {},
     "output_type": "execute_result"
    }
   ],
   "source": [
    "# your code here\n",
    "a.shape\n",
    "b.shape\n",
    "c = np.transpose(b, (1, 2, 0))\n",
    "c.shape"
   ]
  },
  {
   "cell_type": "markdown",
   "metadata": {},
   "source": [
    "#### 10. Try to add *a* and *c*. Now it should work. Assign the sum to variable *d*. But why does it work now?"
   ]
  },
  {
   "cell_type": "code",
   "execution_count": 18,
   "metadata": {},
   "outputs": [
    {
     "data": {
      "text/plain": [
       "(2, 3, 5)"
      ]
     },
     "execution_count": 18,
     "metadata": {},
     "output_type": "execute_result"
    }
   ],
   "source": [
    "# your code/answer here\n",
    "d = a + c\n",
    "d.shape"
   ]
  },
  {
   "cell_type": "markdown",
   "metadata": {},
   "source": [
    "#### 11. Print *a* and *d*. Notice the difference and relation of the two array in terms of the values? Explain."
   ]
  },
  {
   "cell_type": "code",
   "execution_count": 19,
   "metadata": {},
   "outputs": [
    {
     "name": "stdout",
     "output_type": "stream",
     "text": [
      "Array a:\n",
      "[[[0.23016769 0.38653295 0.63428955 0.89862025 0.57625589]\n",
      "  [0.78480823 0.9833774  0.89707126 0.36465205 0.28121634]\n",
      "  [0.59726848 0.69367567 0.72663773 0.10155277 0.96108291]]\n",
      "\n",
      " [[0.14712196 0.72866382 0.02696693 0.1455818  0.77649681]\n",
      "  [0.30544829 0.98936855 0.50217418 0.06913222 0.76779621]\n",
      "  [0.85379588 0.06325386 0.09888694 0.38773498 0.42212816]]]\n",
      "\n",
      "Array d:\n",
      "[[[1.23016769 1.38653295 1.63428955 1.89862025 1.57625589]\n",
      "  [1.78480823 1.9833774  1.89707126 1.36465205 1.28121634]\n",
      "  [1.59726848 1.69367567 1.72663773 1.10155277 1.96108291]]\n",
      "\n",
      " [[1.14712196 1.72866382 1.02696693 1.1455818  1.77649681]\n",
      "  [1.30544829 1.98936855 1.50217418 1.06913222 1.76779621]\n",
      "  [1.85379588 1.06325386 1.09888694 1.38773498 1.42212816]]]\n"
     ]
    }
   ],
   "source": [
    "# your code/answer here\n",
    "print(\"Array a:\")\n",
    "print(a)\n",
    "print(\"\\nArray d:\")\n",
    "print(d)"
   ]
  },
  {
   "cell_type": "markdown",
   "metadata": {},
   "source": [
    "#### 12. Multiply *a* and *c*. Assign the result to *e*."
   ]
  },
  {
   "cell_type": "code",
   "execution_count": 20,
   "metadata": {},
   "outputs": [
    {
     "data": {
      "text/plain": [
       "array([[[0.23016769, 0.38653295, 0.63428955, 0.89862025, 0.57625589],\n",
       "        [0.78480823, 0.9833774 , 0.89707126, 0.36465205, 0.28121634],\n",
       "        [0.59726848, 0.69367567, 0.72663773, 0.10155277, 0.96108291]],\n",
       "\n",
       "       [[0.14712196, 0.72866382, 0.02696693, 0.1455818 , 0.77649681],\n",
       "        [0.30544829, 0.98936855, 0.50217418, 0.06913222, 0.76779621],\n",
       "        [0.85379588, 0.06325386, 0.09888694, 0.38773498, 0.42212816]]])"
      ]
     },
     "execution_count": 20,
     "metadata": {},
     "output_type": "execute_result"
    }
   ],
   "source": [
    "# your code here\n",
    "e = a * c\n",
    "e"
   ]
  },
  {
   "cell_type": "markdown",
   "metadata": {},
   "source": [
    "#### 13. Does *e* equal to *a*? Why or why not?\n"
   ]
  },
  {
   "cell_type": "code",
   "execution_count": 21,
   "metadata": {},
   "outputs": [
    {
     "data": {
      "text/plain": [
       "True"
      ]
     },
     "execution_count": 21,
     "metadata": {},
     "output_type": "execute_result"
    }
   ],
   "source": [
    "# your code/answer here+\n",
    "are_equal = np.array_equal(a, e)\n",
    "are_equal"
   ]
  },
  {
   "cell_type": "markdown",
   "metadata": {},
   "source": [
    "#### 14. Identify the max, min, and mean values in *d*. Assign those values to variables *d_max*, *d_min* and *d_mean*."
   ]
  },
  {
   "cell_type": "code",
   "execution_count": 22,
   "metadata": {},
   "outputs": [
    {
     "name": "stdout",
     "output_type": "stream",
     "text": [
      "Maximum value in array d: 1.98936855299646\n",
      "Minimum value in array d: 1.026966929281195\n",
      "Mean value of array d: 1.5133919915204714\n"
     ]
    }
   ],
   "source": [
    "# your code here\n",
    "d_max = np.max(d)\n",
    "d_min = np.min(d)\n",
    "d_mean = np.mean(d)\n",
    "print(\"Maximum value in array d:\", d_max)\n",
    "print(\"Minimum value in array d:\", d_min)\n",
    "print(\"Mean value of array d:\", d_mean)"
   ]
  },
  {
   "cell_type": "markdown",
   "metadata": {},
   "source": [
    "#### 15. Now we want to label the values in *d*. First create an empty array *f* with the same shape (i.e. 2x3x5) as *d* using `np.empty`.\n"
   ]
  },
  {
   "cell_type": "code",
   "execution_count": 23,
   "metadata": {},
   "outputs": [
    {
     "data": {
      "text/plain": [
       "array([[[0.23016769, 0.38653295, 0.63428955, 0.89862025, 0.57625589],\n",
       "        [0.78480823, 0.9833774 , 0.89707126, 0.36465205, 0.28121634],\n",
       "        [0.59726848, 0.69367567, 0.72663773, 0.10155277, 0.96108291]],\n",
       "\n",
       "       [[0.14712196, 0.72866382, 0.02696693, 0.1455818 , 0.77649681],\n",
       "        [0.30544829, 0.98936855, 0.50217418, 0.06913222, 0.76779621],\n",
       "        [0.85379588, 0.06325386, 0.09888694, 0.38773498, 0.42212816]]])"
      ]
     },
     "execution_count": 23,
     "metadata": {},
     "output_type": "execute_result"
    }
   ],
   "source": [
    "# your code here\n",
    "f = np.empty_like(d)\n",
    "f"
   ]
  },
  {
   "cell_type": "markdown",
   "metadata": {},
   "source": [
    "#### 16. Populate the values in *f*. \n",
    "\n",
    "For each value in *d*, if it's larger than *d_min* but smaller than *d_mean*, assign 25 to the corresponding value in *f*. If a value in *d* is larger than *d_mean* but smaller than *d_max*, assign 75 to the corresponding value in *f*. If a value equals to *d_mean*, assign 50 to the corresponding value in *f*. Assign 0 to the corresponding value(s) in *f* for *d_min* in *d*. Assign 100 to the corresponding value(s) in *f* for *d_max* in *d*. In the end, f should have only the following values: 0, 25, 50, 75, and 100.\n",
    "\n",
    "**Note**: you don't have to use Numpy in this question."
   ]
  },
  {
   "cell_type": "code",
   "execution_count": 24,
   "metadata": {},
   "outputs": [
    {
     "data": {
      "text/plain": [
       "array([[[ 25.,  25.,  75.,  75.,  75.],\n",
       "        [ 75.,  75.,  75.,  25.,  25.],\n",
       "        [ 75.,  75.,  75.,  25.,  75.]],\n",
       "\n",
       "       [[ 25.,  75.,   0.,  25.,  75.],\n",
       "        [ 25., 100.,  25.,  25.,  75.],\n",
       "        [ 75.,  25.,  25.,  25.,  25.]]])"
      ]
     },
     "execution_count": 24,
     "metadata": {},
     "output_type": "execute_result"
    }
   ],
   "source": [
    "# your code here\n",
    "for i in range(d.shape[0]):\n",
    "    for j in range(d.shape[1]):\n",
    "        for k in range(d.shape[2]):\n",
    "            if d[i, j, k] > d_min and d[i, j, k] < d_mean:\n",
    "                f[i, j, k] = 25\n",
    "            elif d[i, j, k] > d_mean and d[i, j, k] < d_max:\n",
    "                f[i, j, k] = 75\n",
    "            elif d[i, j, k] == d_mean:\n",
    "                f[i, j, k] = 50\n",
    "            elif d[i, j, k] == d_min:\n",
    "                f[i, j, k] = 0\n",
    "            elif d[i, j, k] == d_max:\n",
    "                f[i, j, k] = 100\n",
    "                \n",
    "f"
   ]
  },
  {
   "cell_type": "markdown",
   "metadata": {},
   "source": [
    "#### 17. Print *d* and *f*. Do you have your expected *f*?\n",
    "For instance, if your *d* is:\n",
    "```python\n",
    "[[[1.85836099, 1.67064465, 1.62576044, 1.40243961, 1.88454931],\n",
    "[1.75354326, 1.69403643, 1.36729252, 1.61415071, 1.12104981],\n",
    "[1.72201435, 1.1862918 , 1.87078449, 1.7726778 , 1.88180042]],\n",
    "[[1.44747908, 1.31673383, 1.02000951, 1.52218947, 1.97066381],\n",
    "[1.79129243, 1.74983003, 1.96028037, 1.85166831, 1.65450881],\n",
    "[1.18068344, 1.9587381 , 1.00656599, 1.93402165, 1.73514584]]]\n",
    "```\n",
    "Your *f* should be:\n",
    "```python\n",
    "[[[ 75.,  75.,  75.,  25.,  75.],\n",
    "[ 75.,  75.,  25.,  25.,  25.],\n",
    "[ 75.,  25.,  75.,  75.,  75.]],\n",
    "[[ 25.,  25.,  25.,  25., 100.],\n",
    "[ 75.,  75.,  75.,  75.,  75.],\n",
    "[ 25.,  75.,   0.,  75.,  75.]]]\n",
    "```"
   ]
  },
  {
   "cell_type": "code",
   "execution_count": 25,
   "metadata": {},
   "outputs": [
    {
     "name": "stdout",
     "output_type": "stream",
     "text": [
      "Array d:\n",
      "[[[1.23016769 1.38653295 1.63428955 1.89862025 1.57625589]\n",
      "  [1.78480823 1.9833774  1.89707126 1.36465205 1.28121634]\n",
      "  [1.59726848 1.69367567 1.72663773 1.10155277 1.96108291]]\n",
      "\n",
      " [[1.14712196 1.72866382 1.02696693 1.1455818  1.77649681]\n",
      "  [1.30544829 1.98936855 1.50217418 1.06913222 1.76779621]\n",
      "  [1.85379588 1.06325386 1.09888694 1.38773498 1.42212816]]]\n",
      "\n",
      "Array f:\n",
      "[[[ 25.  25.  75.  75.  75.]\n",
      "  [ 75.  75.  75.  25.  25.]\n",
      "  [ 75.  75.  75.  25.  75.]]\n",
      "\n",
      " [[ 25.  75.   0.  25.  75.]\n",
      "  [ 25. 100.  25.  25.  75.]\n",
      "  [ 75.  25.  25.  25.  25.]]]\n"
     ]
    }
   ],
   "source": [
    "# your code \n",
    "print(\"Array d:\")\n",
    "print(d)\n",
    "print(\"\\nArray f:\")\n",
    "print(f)"
   ]
  },
  {
   "cell_type": "markdown",
   "metadata": {},
   "source": [
    "#### 18. Bonus question: instead of using numbers (i.e. 0, 25, 50, 75, and 100), use string values  (\"A\", \"B\", \"C\", \"D\", and \"E\") to label the array elements. For the example above, the expected result is:\n",
    "\n",
    "```python\n",
    "[[[ 'D',  'D',  'D',  'B',  'D'],\n",
    "[ 'D',  'D',  'B',  'B',  'B'],\n",
    "[ 'D',  'B',  'D',  'D',  'D']],\n",
    "[[ 'B',  'B',  'B',  'B',  'E'],\n",
    "[ 'D',  'D',  'D',  'D',  'D'],\n",
    "[ 'B',  'D',   'A',  'D', 'D']]]\n",
    "```\n",
    "**Note**: you don't have to use Numpy in this question."
   ]
  },
  {
   "cell_type": "code",
   "execution_count": null,
   "metadata": {},
   "outputs": [],
   "source": [
    "# your code here"
   ]
  }
 ],
 "metadata": {
  "kernelspec": {
   "display_name": "Python 3 (ipykernel)",
   "language": "python",
   "name": "python3"
  },
  "language_info": {
   "codemirror_mode": {
    "name": "ipython",
    "version": 3
   },
   "file_extension": ".py",
   "mimetype": "text/x-python",
   "name": "python",
   "nbconvert_exporter": "python",
   "pygments_lexer": "ipython3",
   "version": "3.11.6"
  }
 },
 "nbformat": 4,
 "nbformat_minor": 2
}

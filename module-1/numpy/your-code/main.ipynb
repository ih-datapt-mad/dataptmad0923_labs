{
 "cells": [
  {
   "cell_type": "markdown",
   "metadata": {},
   "source": [
    "# Introduction to NumPy\n",
    "\n",
    "\n",
    "#### 1. Import NumPy under the name np."
   ]
  },
  {
   "cell_type": "code",
   "execution_count": 1,
   "metadata": {},
   "outputs": [],
   "source": [
    "# your code here\n",
    "import numpy as np\n",
    "import random"
   ]
  },
  {
   "cell_type": "markdown",
   "metadata": {},
   "source": [
    "#### 2. Print your NumPy version."
   ]
  },
  {
   "cell_type": "code",
   "execution_count": 2,
   "metadata": {},
   "outputs": [
    {
     "name": "stdout",
     "output_type": "stream",
     "text": [
      "1.24.3\n"
     ]
    }
   ],
   "source": [
    "# your code here\n",
    "print(np.__version__)"
   ]
  },
  {
   "cell_type": "markdown",
   "metadata": {},
   "source": [
    "#### 3. Generate a 2x3x5 3-dimensional array with random values. Assign the array to variable *a*.\n",
    "**Challenge**: there are at least three easy ways that use numpy to generate random arrays. How many ways can you find?"
   ]
  },
  {
   "cell_type": "code",
   "execution_count": 26,
   "metadata": {},
   "outputs": [
    {
     "data": {
      "text/plain": [
       "array([[[0.70935154, 0.30704618, 0.1270475 , 0.01512622, 0.38430271],\n",
       "        [0.11465612, 0.80056696, 0.36818119, 0.97973747, 0.18289487],\n",
       "        [0.06956242, 0.91955742, 0.70207856, 0.93036692, 0.27139668]],\n",
       "\n",
       "       [[0.72176483, 0.67975283, 0.08750476, 0.01979464, 0.8743595 ],\n",
       "        [0.668723  , 0.11392743, 0.44124987, 0.93680366, 0.19548471],\n",
       "        [0.90834596, 0.19458757, 0.23327967, 0.43783574, 0.04447211]]])"
      ]
     },
     "execution_count": 26,
     "metadata": {},
     "output_type": "execute_result"
    }
   ],
   "source": [
    "# Method 1\n",
    "a = np.random.rand(2,3,5)\n",
    "a"
   ]
  },
  {
   "cell_type": "code",
   "execution_count": 8,
   "metadata": {},
   "outputs": [
    {
     "data": {
      "text/plain": [
       "array([[[27, 89, 72, 38, 93],\n",
       "        [87, 35, 67, 59, 35],\n",
       "        [47, 19, 53,  8, 28]],\n",
       "\n",
       "       [[24,  3, 23, 76, 88],\n",
       "        [82, 57, 91, 63, 76],\n",
       "        [51, 72, 43, 81, 35]]])"
      ]
     },
     "execution_count": 8,
     "metadata": {},
     "output_type": "execute_result"
    }
   ],
   "source": [
    "# Method 2\n",
    "a = np.random.randint(0, 100, size=(2, 3, 5))\n",
    "a"
   ]
  },
  {
   "cell_type": "code",
   "execution_count": 17,
   "metadata": {},
   "outputs": [
    {
     "data": {
      "text/plain": [
       "array([[[0.94951431, 0.41513091, 0.15260206, 0.01110836, 0.60660633],\n",
       "        [0.0706278 , 0.52538932, 0.90516942, 0.68588507, 0.3726678 ],\n",
       "        [0.78668626, 0.97314807, 0.04332314, 0.09792448, 0.93375921]],\n",
       "\n",
       "       [[0.53640664, 0.41864178, 0.14941388, 0.58712052, 0.43935103],\n",
       "        [0.13177696, 0.68410692, 0.17049615, 0.60899069, 0.46416446],\n",
       "        [0.20501754, 0.38488915, 0.08418078, 0.85507021, 0.40567628]]])"
      ]
     },
     "execution_count": 17,
     "metadata": {},
     "output_type": "execute_result"
    }
   ],
   "source": [
    "# Method 3\n",
    "a = np.random.random((2,3,5))\n",
    "a"
   ]
  },
  {
   "cell_type": "markdown",
   "metadata": {},
   "source": [
    "#### 4. Print *a*.\n"
   ]
  },
  {
   "cell_type": "code",
   "execution_count": 27,
   "metadata": {},
   "outputs": [
    {
     "data": {
      "text/plain": [
       "array([[[0.70935154, 0.30704618, 0.1270475 , 0.01512622, 0.38430271],\n",
       "        [0.11465612, 0.80056696, 0.36818119, 0.97973747, 0.18289487],\n",
       "        [0.06956242, 0.91955742, 0.70207856, 0.93036692, 0.27139668]],\n",
       "\n",
       "       [[0.72176483, 0.67975283, 0.08750476, 0.01979464, 0.8743595 ],\n",
       "        [0.668723  , 0.11392743, 0.44124987, 0.93680366, 0.19548471],\n",
       "        [0.90834596, 0.19458757, 0.23327967, 0.43783574, 0.04447211]]])"
      ]
     },
     "execution_count": 27,
     "metadata": {},
     "output_type": "execute_result"
    }
   ],
   "source": [
    "# your code here\n",
    "a"
   ]
  },
  {
   "cell_type": "markdown",
   "metadata": {},
   "source": [
    "#### 5. Create a 5x2x3 3-dimensional array with all values equaling 1. Assign the array to variable *b*."
   ]
  },
  {
   "cell_type": "code",
   "execution_count": 57,
   "metadata": {},
   "outputs": [],
   "source": [
    "# your code here\n",
    "b = np.ones((5,2,3))"
   ]
  },
  {
   "cell_type": "markdown",
   "metadata": {},
   "source": [
    "#### 6. Print *b*.\n"
   ]
  },
  {
   "cell_type": "code",
   "execution_count": 58,
   "metadata": {},
   "outputs": [
    {
     "data": {
      "text/plain": [
       "array([[[1., 1., 1.],\n",
       "        [1., 1., 1.]],\n",
       "\n",
       "       [[1., 1., 1.],\n",
       "        [1., 1., 1.]],\n",
       "\n",
       "       [[1., 1., 1.],\n",
       "        [1., 1., 1.]],\n",
       "\n",
       "       [[1., 1., 1.],\n",
       "        [1., 1., 1.]],\n",
       "\n",
       "       [[1., 1., 1.],\n",
       "        [1., 1., 1.]]])"
      ]
     },
     "execution_count": 58,
     "metadata": {},
     "output_type": "execute_result"
    }
   ],
   "source": [
    "# your code here\n",
    "b"
   ]
  },
  {
   "cell_type": "markdown",
   "metadata": {},
   "source": [
    "#### 7. Do *a* and *b* have the same size? How do you prove that in Python code?"
   ]
  },
  {
   "cell_type": "code",
   "execution_count": 59,
   "metadata": {},
   "outputs": [
    {
     "name": "stdout",
     "output_type": "stream",
     "text": [
      "Same size\n"
     ]
    }
   ],
   "source": [
    "# your code here\n",
    "if a.size == b.size:\n",
    "    print (\"Same size\")\n",
    "else:\n",
    "    print (\"Different size\")"
   ]
  },
  {
   "cell_type": "markdown",
   "metadata": {},
   "source": [
    "#### 8. Are you able to add *a* and *b*? Why or why not?\n"
   ]
  },
  {
   "cell_type": "code",
   "execution_count": 50,
   "metadata": {},
   "outputs": [
    {
     "name": "stdout",
     "output_type": "stream",
     "text": [
      "It is not possible because they are not the same shape\n"
     ]
    }
   ],
   "source": [
    "# your answer here\n",
    "print(\"It is not possible because they are not the same shape\")\n"
   ]
  },
  {
   "cell_type": "markdown",
   "metadata": {},
   "source": [
    "#### 9. Transpose *b* so that it has the same structure of *a* (i.e. become a 2x3x5 array). Assign the transposed array to variable *c*."
   ]
  },
  {
   "cell_type": "code",
   "execution_count": 60,
   "metadata": {},
   "outputs": [
    {
     "data": {
      "text/plain": [
       "(3, 2, 5)"
      ]
     },
     "execution_count": 60,
     "metadata": {},
     "output_type": "execute_result"
    }
   ],
   "source": [
    "# your code here\n",
    "c = b.transpose()\n",
    "c.shape"
   ]
  },
  {
   "cell_type": "code",
   "execution_count": 61,
   "metadata": {},
   "outputs": [
    {
     "name": "stdout",
     "output_type": "stream",
     "text": [
      "It does not become a 2x3x5 array\n"
     ]
    }
   ],
   "source": [
    "print(\"It does not become a 2x3x5 array\")"
   ]
  },
  {
   "cell_type": "markdown",
   "metadata": {},
   "source": [
    "#### 10. Try to add *a* and *c*. Now it should work. Assign the sum to variable *d*. But why does it work now?"
   ]
  },
  {
   "cell_type": "code",
   "execution_count": 63,
   "metadata": {},
   "outputs": [],
   "source": [
    "# I am going to create new one to perform the calculations below\n",
    "c = np.ones((2,3,5))"
   ]
  },
  {
   "cell_type": "code",
   "execution_count": 64,
   "metadata": {},
   "outputs": [
    {
     "data": {
      "text/plain": [
       "array([[[1.70935154, 1.30704618, 1.1270475 , 1.01512622, 1.38430271],\n",
       "        [1.11465612, 1.80056696, 1.36818119, 1.97973747, 1.18289487],\n",
       "        [1.06956242, 1.91955742, 1.70207856, 1.93036692, 1.27139668]],\n",
       "\n",
       "       [[1.72176483, 1.67975283, 1.08750476, 1.01979464, 1.8743595 ],\n",
       "        [1.668723  , 1.11392743, 1.44124987, 1.93680366, 1.19548471],\n",
       "        [1.90834596, 1.19458757, 1.23327967, 1.43783574, 1.04447211]]])"
      ]
     },
     "execution_count": 64,
     "metadata": {},
     "output_type": "execute_result"
    }
   ],
   "source": [
    "# your code/answer here\n",
    "d = np.add(a,c)\n",
    "d"
   ]
  },
  {
   "cell_type": "markdown",
   "metadata": {},
   "source": [
    "#### 11. Print *a* and *d*. Notice the difference and relation of the two array in terms of the values? Explain."
   ]
  },
  {
   "cell_type": "code",
   "execution_count": 68,
   "metadata": {},
   "outputs": [
    {
     "name": "stdout",
     "output_type": "stream",
     "text": [
      "[[[0.70935154 0.30704618 0.1270475  0.01512622 0.38430271]\n",
      "  [0.11465612 0.80056696 0.36818119 0.97973747 0.18289487]\n",
      "  [0.06956242 0.91955742 0.70207856 0.93036692 0.27139668]]\n",
      "\n",
      " [[0.72176483 0.67975283 0.08750476 0.01979464 0.8743595 ]\n",
      "  [0.668723   0.11392743 0.44124987 0.93680366 0.19548471]\n",
      "  [0.90834596 0.19458757 0.23327967 0.43783574 0.04447211]]]\n",
      "[[[1.70935154 1.30704618 1.1270475  1.01512622 1.38430271]\n",
      "  [1.11465612 1.80056696 1.36818119 1.97973747 1.18289487]\n",
      "  [1.06956242 1.91955742 1.70207856 1.93036692 1.27139668]]\n",
      "\n",
      " [[1.72176483 1.67975283 1.08750476 1.01979464 1.8743595 ]\n",
      "  [1.668723   1.11392743 1.44124987 1.93680366 1.19548471]\n",
      "  [1.90834596 1.19458757 1.23327967 1.43783574 1.04447211]]]\n",
      "The difference is that every value in d is 1.0 higher than a\n"
     ]
    }
   ],
   "source": [
    "# your code/answer here\n",
    "print (a)\n",
    "print (d)\n",
    "print (\"The difference is that every value in d is 1.0 higher than a\")"
   ]
  },
  {
   "cell_type": "markdown",
   "metadata": {},
   "source": [
    "#### 12. Multiply *a* and *c*. Assign the result to *e*."
   ]
  },
  {
   "cell_type": "code",
   "execution_count": 70,
   "metadata": {},
   "outputs": [
    {
     "data": {
      "text/plain": [
       "array([[[0.70935154, 0.30704618, 0.1270475 , 0.01512622, 0.38430271],\n",
       "        [0.11465612, 0.80056696, 0.36818119, 0.97973747, 0.18289487],\n",
       "        [0.06956242, 0.91955742, 0.70207856, 0.93036692, 0.27139668]],\n",
       "\n",
       "       [[0.72176483, 0.67975283, 0.08750476, 0.01979464, 0.8743595 ],\n",
       "        [0.668723  , 0.11392743, 0.44124987, 0.93680366, 0.19548471],\n",
       "        [0.90834596, 0.19458757, 0.23327967, 0.43783574, 0.04447211]]])"
      ]
     },
     "execution_count": 70,
     "metadata": {},
     "output_type": "execute_result"
    }
   ],
   "source": [
    "# your code here\n",
    "e = np.multiply(a,c)\n",
    "e"
   ]
  },
  {
   "cell_type": "markdown",
   "metadata": {},
   "source": [
    "#### 13. Does *e* equal to *a*? Why or why not?\n"
   ]
  },
  {
   "cell_type": "code",
   "execution_count": 71,
   "metadata": {},
   "outputs": [
    {
     "name": "stdout",
     "output_type": "stream",
     "text": [
      "Yes because a number times 1 equals the number\n"
     ]
    }
   ],
   "source": [
    "# your code/answer here\n",
    "print(\"Yes because a number times 1 equals the number\")"
   ]
  },
  {
   "cell_type": "markdown",
   "metadata": {},
   "source": [
    "#### 14. Identify the max, min, and mean values in *d*. Assign those values to variables *d_max*, *d_min* and *d_mean*."
   ]
  },
  {
   "cell_type": "code",
   "execution_count": 72,
   "metadata": {},
   "outputs": [
    {
     "data": {
      "text/plain": [
       "1.9797374667478325"
      ]
     },
     "execution_count": 72,
     "metadata": {},
     "output_type": "execute_result"
    }
   ],
   "source": [
    "# your code here\n",
    "d_max = d.max()\n",
    "d_max"
   ]
  },
  {
   "cell_type": "code",
   "execution_count": 73,
   "metadata": {},
   "outputs": [
    {
     "data": {
      "text/plain": [
       "1.015126222037511"
      ]
     },
     "execution_count": 73,
     "metadata": {},
     "output_type": "execute_result"
    }
   ],
   "source": [
    "d_min = d.min()\n",
    "d_min"
   ]
  },
  {
   "cell_type": "code",
   "execution_count": 74,
   "metadata": {},
   "outputs": [
    {
     "data": {
      "text/plain": [
       "1.4479919683700497"
      ]
     },
     "execution_count": 74,
     "metadata": {},
     "output_type": "execute_result"
    }
   ],
   "source": [
    "d_mean = d.mean()\n",
    "d_mean"
   ]
  },
  {
   "cell_type": "markdown",
   "metadata": {},
   "source": [
    "#### 15. Now we want to label the values in *d*. First create an empty array *f* with the same shape (i.e. 2x3x5) as *d* using `np.empty`.\n"
   ]
  },
  {
   "cell_type": "code",
   "execution_count": 83,
   "metadata": {},
   "outputs": [
    {
     "data": {
      "text/plain": [
       "array([[[0.70935154, 0.30704618, 0.1270475 , 0.01512622, 0.38430271],\n",
       "        [0.11465612, 0.80056696, 0.36818119, 0.97973747, 0.18289487],\n",
       "        [0.06956242, 0.91955742, 0.70207856, 0.93036692, 0.27139668]],\n",
       "\n",
       "       [[0.72176483, 0.67975283, 0.08750476, 0.01979464, 0.8743595 ],\n",
       "        [0.668723  , 0.11392743, 0.44124987, 0.93680366, 0.19548471],\n",
       "        [0.90834596, 0.19458757, 0.23327967, 0.43783574, 0.04447211]]])"
      ]
     },
     "execution_count": 83,
     "metadata": {},
     "output_type": "execute_result"
    }
   ],
   "source": [
    "# your code here\n",
    "f = np.empty((2,3,5))\n",
    "f"
   ]
  },
  {
   "cell_type": "markdown",
   "metadata": {},
   "source": [
    "#### 16. Populate the values in *f*. \n",
    "\n",
    "For each value in *d*, if it's larger than *d_min* but smaller than *d_mean*, assign 25 to the corresponding value in *f*. If a value in *d* is larger than *d_mean* but smaller than *d_max*, assign 75 to the corresponding value in *f*. If a value equals to *d_mean*, assign 50 to the corresponding value in *f*. Assign 0 to the corresponding value(s) in *f* for *d_min* in *d*. Assign 100 to the corresponding value(s) in *f* for *d_max* in *d*. In the end, f should have only the following values: 0, 25, 50, 75, and 100.\n",
    "\n",
    "**Note**: you don't have to use Numpy in this question."
   ]
  },
  {
   "cell_type": "code",
   "execution_count": 86,
   "metadata": {},
   "outputs": [
    {
     "data": {
      "text/plain": [
       "array([[[1.70935154, 1.30704618, 1.1270475 , 1.01512622, 1.38430271],\n",
       "        [1.11465612, 1.80056696, 1.36818119, 1.97973747, 1.18289487],\n",
       "        [1.06956242, 1.91955742, 1.70207856, 1.93036692, 1.27139668]],\n",
       "\n",
       "       [[1.72176483, 1.67975283, 1.08750476, 1.01979464, 1.8743595 ],\n",
       "        [1.668723  , 1.11392743, 1.44124987, 1.93680366, 1.19548471],\n",
       "        [1.90834596, 1.19458757, 1.23327967, 1.43783574, 1.04447211]]])"
      ]
     },
     "execution_count": 86,
     "metadata": {},
     "output_type": "execute_result"
    }
   ],
   "source": [
    "d"
   ]
  },
  {
   "cell_type": "code",
   "execution_count": 109,
   "metadata": {},
   "outputs": [
    {
     "data": {
      "text/plain": [
       "array([[[ 75,  25,  25,   0,  25],\n",
       "        [ 25,  75,  25, 100,  25],\n",
       "        [ 25,  75,  75,  75,  25]],\n",
       "\n",
       "       [[ 75,  75,  25,  25,  75],\n",
       "        [ 75,  25,  25,  75,  25],\n",
       "        [ 75,  25,  25,  25,  25]]])"
      ]
     },
     "execution_count": 109,
     "metadata": {},
     "output_type": "execute_result"
    }
   ],
   "source": [
    "# your code here\n",
    "g = []\n",
    "for i in d.flatten():\n",
    "    if i > d_min and i < d_mean:\n",
    "        g.append(25)\n",
    "    elif i > d_mean and i < d_max:\n",
    "        g.append(75)\n",
    "    elif i == d_mean:\n",
    "        g.append(50)\n",
    "    elif i == d_min:\n",
    "        g.append(0)\n",
    "    elif i == d_max:\n",
    "        g.append(100)\n",
    "\n",
    "f = np.array(g)\n",
    "f = f.reshape(2,3,5)\n",
    "f"
   ]
  },
  {
   "cell_type": "markdown",
   "metadata": {},
   "source": [
    "#### 17. Print *d* and *f*. Do you have your expected *f*?\n",
    "For instance, if your *d* is:\n",
    "```python\n",
    "[[[1.85836099, 1.67064465, 1.62576044, 1.40243961, 1.88454931],\n",
    "[1.75354326, 1.69403643, 1.36729252, 1.61415071, 1.12104981],\n",
    "[1.72201435, 1.1862918 , 1.87078449, 1.7726778 , 1.88180042]],\n",
    "[[1.44747908, 1.31673383, 1.02000951, 1.52218947, 1.97066381],\n",
    "[1.79129243, 1.74983003, 1.96028037, 1.85166831, 1.65450881],\n",
    "[1.18068344, 1.9587381 , 1.00656599, 1.93402165, 1.73514584]]]\n",
    "```\n",
    "Your *f* should be:\n",
    "```python\n",
    "[[[ 75.,  75.,  75.,  25.,  75.],\n",
    "[ 75.,  75.,  25.,  25.,  25.],\n",
    "[ 75.,  25.,  75.,  75.,  75.]],\n",
    "[[ 25.,  25.,  25.,  25., 100.],\n",
    "[ 75.,  75.,  75.,  75.,  75.],\n",
    "[ 25.,  75.,   0.,  75.,  75.]]]\n",
    "```"
   ]
  },
  {
   "cell_type": "code",
   "execution_count": 110,
   "metadata": {},
   "outputs": [
    {
     "name": "stdout",
     "output_type": "stream",
     "text": [
      "[[[1.70935154 1.30704618 1.1270475  1.01512622 1.38430271]\n",
      "  [1.11465612 1.80056696 1.36818119 1.97973747 1.18289487]\n",
      "  [1.06956242 1.91955742 1.70207856 1.93036692 1.27139668]]\n",
      "\n",
      " [[1.72176483 1.67975283 1.08750476 1.01979464 1.8743595 ]\n",
      "  [1.668723   1.11392743 1.44124987 1.93680366 1.19548471]\n",
      "  [1.90834596 1.19458757 1.23327967 1.43783574 1.04447211]]]\n",
      "[[[ 75  25  25   0  25]\n",
      "  [ 25  75  25 100  25]\n",
      "  [ 25  75  75  75  25]]\n",
      "\n",
      " [[ 75  75  25  25  75]\n",
      "  [ 75  25  25  75  25]\n",
      "  [ 75  25  25  25  25]]]\n"
     ]
    }
   ],
   "source": [
    "# your code here\n",
    "print(d)\n",
    "print(f)"
   ]
  },
  {
   "cell_type": "markdown",
   "metadata": {},
   "source": [
    "#### 18. Bonus question: instead of using numbers (i.e. 0, 25, 50, 75, and 100), use string values  (\"A\", \"B\", \"C\", \"D\", and \"E\") to label the array elements. For the example above, the expected result is:\n",
    "\n",
    "```python\n",
    "[[[ 'D',  'D',  'D',  'B',  'D'],\n",
    "[ 'D',  'D',  'B',  'B',  'B'],\n",
    "[ 'D',  'B',  'D',  'D',  'D']],\n",
    "[[ 'B',  'B',  'B',  'B',  'E'],\n",
    "[ 'D',  'D',  'D',  'D',  'D'],\n",
    "[ 'B',  'D',   'A',  'D', 'D']]]\n",
    "```\n",
    "**Note**: you don't have to use Numpy in this question."
   ]
  },
  {
   "cell_type": "code",
   "execution_count": 120,
   "metadata": {},
   "outputs": [
    {
     "name": "stdout",
     "output_type": "stream",
     "text": [
      "[[['D' 'B' 'B' 'A' 'B']\n",
      "  ['B' 'D' 'B' 'E' 'B']\n",
      "  ['B' 'D' 'D' 'D' 'B']]\n",
      "\n",
      " [['D' 'D' 'B' 'B' 'D']\n",
      "  ['D' 'B' 'B' 'D' 'B']\n",
      "  ['D' 'B' 'B' 'B' 'B']]]\n",
      "No sé hacerlo sin np\n"
     ]
    }
   ],
   "source": [
    "# your code here\n",
    "k = []\n",
    "for element in d:\n",
    "    for j in element:\n",
    "        for i in j:\n",
    "            if i > d_min and i < d_mean:\n",
    "                k.append(\"B\")\n",
    "            elif i > d_mean and i < d_max:\n",
    "                k.append(\"D\")\n",
    "            elif i == d_mean:\n",
    "                k.append(\"C\")\n",
    "            elif i == d_min:\n",
    "                k.append(\"A\")\n",
    "            elif i == d_max:\n",
    "                k.append(\"E\")\n",
    "m = np.array(k)\n",
    "print(m.reshape(2,3,5))\n",
    "print(\"No sé hacerlo sin np\")"
   ]
  },
  {
   "cell_type": "code",
   "execution_count": null,
   "metadata": {},
   "outputs": [],
   "source": []
  }
 ],
 "metadata": {
  "kernelspec": {
   "display_name": "Python 3 (ipykernel)",
   "language": "python",
   "name": "python3"
  },
  "language_info": {
   "codemirror_mode": {
    "name": "ipython",
    "version": 3
   },
   "file_extension": ".py",
   "mimetype": "text/x-python",
   "name": "python",
   "nbconvert_exporter": "python",
   "pygments_lexer": "ipython3",
   "version": "3.8.18"
  }
 },
 "nbformat": 4,
 "nbformat_minor": 2
}

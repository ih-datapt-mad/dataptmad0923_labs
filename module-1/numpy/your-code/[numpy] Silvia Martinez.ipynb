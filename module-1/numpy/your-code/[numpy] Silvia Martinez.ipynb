{
 "cells": [
  {
   "cell_type": "markdown",
   "metadata": {},
   "source": [
    "# Introduction to NumPy\n",
    "\n",
    "\n",
    "#### 1. Import NumPy under the name np."
   ]
  },
  {
   "cell_type": "code",
   "execution_count": 2,
   "metadata": {},
   "outputs": [],
   "source": [
    "# your code here\n",
    "\n",
    "import numpy as np"
   ]
  },
  {
   "cell_type": "markdown",
   "metadata": {},
   "source": [
    "#### 2. Print your NumPy version."
   ]
  },
  {
   "cell_type": "code",
   "execution_count": 4,
   "metadata": {},
   "outputs": [
    {
     "name": "stdout",
     "output_type": "stream",
     "text": [
      "1.26.0\n"
     ]
    }
   ],
   "source": [
    "# your code here\n",
    "\n",
    "print(np.__version__)"
   ]
  },
  {
   "cell_type": "markdown",
   "metadata": {},
   "source": [
    "#### 3. Generate a 2x3x5 3-dimensional array with random values. Assign the array to variable *a*.\n",
    "**Challenge**: there are at least three easy ways that use numpy to generate random arrays. How many ways can you find?"
   ]
  },
  {
   "cell_type": "code",
   "execution_count": 5,
   "metadata": {},
   "outputs": [
    {
     "data": {
      "text/plain": [
       "array([[[0.79390592, 0.6005369 , 0.41351179, 0.26807279, 0.00648923],\n",
       "        [0.62103273, 0.05017556, 0.43923812, 0.29568571, 0.8963177 ],\n",
       "        [0.34153338, 0.26372365, 0.35431121, 0.51892864, 0.5599884 ]],\n",
       "\n",
       "       [[0.20601822, 0.21559882, 0.44592112, 0.94628938, 0.25354823],\n",
       "        [0.24283152, 0.59364162, 0.17785607, 0.36797378, 0.42567496],\n",
       "        [0.98928418, 0.13614119, 0.20700234, 0.17599159, 0.69631196]]])"
      ]
     },
     "execution_count": 5,
     "metadata": {},
     "output_type": "execute_result"
    }
   ],
   "source": [
    "# Method 1\n",
    "\n",
    "a = np.random.random((2,3,5))\n",
    "a"
   ]
  },
  {
   "cell_type": "code",
   "execution_count": 7,
   "metadata": {},
   "outputs": [
    {
     "data": {
      "text/plain": [
       "array([[[54, 91, 42, 46, 61],\n",
       "        [26, 11, 96, 20, 48],\n",
       "        [87, 13, 61, 68,  0]],\n",
       "\n",
       "       [[30,  5, 63, 50, 50],\n",
       "        [94, 92, 17, 67, 51],\n",
       "        [34, 82, 78, 85, 59]]])"
      ]
     },
     "execution_count": 7,
     "metadata": {},
     "output_type": "execute_result"
    }
   ],
   "source": [
    "# Method 2\n",
    "\n",
    "from numpy import random\n",
    "\n",
    "a = random.randint(100, size=(2,3,5))\n",
    "\n",
    "a"
   ]
  },
  {
   "cell_type": "code",
   "execution_count": 4,
   "metadata": {},
   "outputs": [
    {
     "data": {
      "text/plain": [
       "array([[[0.03791932, 0.61793964, 0.02418004, 0.4619839 , 0.88830367],\n",
       "        [0.57244558, 0.94266324, 0.45796518, 0.57802775, 0.29767778],\n",
       "        [0.32019672, 0.62708292, 0.85208495, 0.99713632, 0.67715608]],\n",
       "\n",
       "       [[0.5188013 , 0.73320301, 0.81028273, 0.44370421, 0.32685685],\n",
       "        [0.08168561, 0.29192786, 0.67969384, 0.71054868, 0.44578078],\n",
       "        [0.67509655, 0.38361213, 0.81313851, 0.46929528, 0.7054381 ]]])"
      ]
     },
     "execution_count": 4,
     "metadata": {},
     "output_type": "execute_result"
    }
   ],
   "source": [
    "# Method 3\n",
    "\n",
    "a = np.random.rand(2,3,5)\n",
    "\n",
    "a"
   ]
  },
  {
   "cell_type": "markdown",
   "metadata": {},
   "source": [
    "#### 4. Print *a*.\n"
   ]
  },
  {
   "cell_type": "code",
   "execution_count": 5,
   "metadata": {},
   "outputs": [
    {
     "data": {
      "text/plain": [
       "array([[[0.03791932, 0.61793964, 0.02418004, 0.4619839 , 0.88830367],\n",
       "        [0.57244558, 0.94266324, 0.45796518, 0.57802775, 0.29767778],\n",
       "        [0.32019672, 0.62708292, 0.85208495, 0.99713632, 0.67715608]],\n",
       "\n",
       "       [[0.5188013 , 0.73320301, 0.81028273, 0.44370421, 0.32685685],\n",
       "        [0.08168561, 0.29192786, 0.67969384, 0.71054868, 0.44578078],\n",
       "        [0.67509655, 0.38361213, 0.81313851, 0.46929528, 0.7054381 ]]])"
      ]
     },
     "execution_count": 5,
     "metadata": {},
     "output_type": "execute_result"
    }
   ],
   "source": [
    "# your code here\n",
    "\n",
    "a"
   ]
  },
  {
   "cell_type": "markdown",
   "metadata": {},
   "source": [
    "#### 5. Create a 5x2x3 3-dimensional array with all values equaling 1. Assign the array to variable *b*."
   ]
  },
  {
   "cell_type": "code",
   "execution_count": 25,
   "metadata": {},
   "outputs": [
    {
     "data": {
      "text/plain": [
       "array([[[1., 1., 1.],\n",
       "        [1., 1., 1.]],\n",
       "\n",
       "       [[1., 1., 1.],\n",
       "        [1., 1., 1.]],\n",
       "\n",
       "       [[1., 1., 1.],\n",
       "        [1., 1., 1.]],\n",
       "\n",
       "       [[1., 1., 1.],\n",
       "        [1., 1., 1.]],\n",
       "\n",
       "       [[1., 1., 1.],\n",
       "        [1., 1., 1.]]])"
      ]
     },
     "execution_count": 25,
     "metadata": {},
     "output_type": "execute_result"
    }
   ],
   "source": [
    "# your code here\n",
    "\n",
    "b = np.random.rand(5,2,3)\n",
    "b.fill(1)\n",
    "b"
   ]
  },
  {
   "cell_type": "code",
   "execution_count": 26,
   "metadata": {},
   "outputs": [
    {
     "data": {
      "text/plain": [
       "array([[[1., 1., 1.],\n",
       "        [1., 1., 1.]],\n",
       "\n",
       "       [[1., 1., 1.],\n",
       "        [1., 1., 1.]],\n",
       "\n",
       "       [[1., 1., 1.],\n",
       "        [1., 1., 1.]],\n",
       "\n",
       "       [[1., 1., 1.],\n",
       "        [1., 1., 1.]],\n",
       "\n",
       "       [[1., 1., 1.],\n",
       "        [1., 1., 1.]]])"
      ]
     },
     "execution_count": 26,
     "metadata": {},
     "output_type": "execute_result"
    }
   ],
   "source": [
    "b = np.ones((5,2,3))\n",
    "b"
   ]
  },
  {
   "cell_type": "markdown",
   "metadata": {},
   "source": [
    "#### 6. Print *b*.\n"
   ]
  },
  {
   "cell_type": "code",
   "execution_count": 27,
   "metadata": {},
   "outputs": [
    {
     "data": {
      "text/plain": [
       "array([[[1., 1., 1.],\n",
       "        [1., 1., 1.]],\n",
       "\n",
       "       [[1., 1., 1.],\n",
       "        [1., 1., 1.]],\n",
       "\n",
       "       [[1., 1., 1.],\n",
       "        [1., 1., 1.]],\n",
       "\n",
       "       [[1., 1., 1.],\n",
       "        [1., 1., 1.]],\n",
       "\n",
       "       [[1., 1., 1.],\n",
       "        [1., 1., 1.]]])"
      ]
     },
     "execution_count": 27,
     "metadata": {},
     "output_type": "execute_result"
    }
   ],
   "source": [
    "# your code here\n",
    "b"
   ]
  },
  {
   "cell_type": "markdown",
   "metadata": {},
   "source": [
    "#### 7. Do *a* and *b* have the same size? How do you prove that in Python code?"
   ]
  },
  {
   "cell_type": "code",
   "execution_count": 28,
   "metadata": {},
   "outputs": [
    {
     "data": {
      "text/plain": [
       "False"
      ]
     },
     "execution_count": 28,
     "metadata": {},
     "output_type": "execute_result"
    }
   ],
   "source": [
    "# your code here\n",
    "\n",
    "a.shape == b.shape\n",
    "\n",
    "#They do not have the same size."
   ]
  },
  {
   "cell_type": "markdown",
   "metadata": {},
   "source": [
    "#### 8. Are you able to add *a* and *b*? Why or why not?\n"
   ]
  },
  {
   "cell_type": "code",
   "execution_count": 32,
   "metadata": {},
   "outputs": [
    {
     "ename": "ValueError",
     "evalue": "operands could not be broadcast together with shapes (2,3,5) (5,2,3) ",
     "output_type": "error",
     "traceback": [
      "\u001b[0;31m---------------------------------------------------------------------------\u001b[0m",
      "\u001b[0;31mValueError\u001b[0m                                Traceback (most recent call last)",
      "Cell \u001b[0;32mIn[32], line 3\u001b[0m\n\u001b[1;32m      1\u001b[0m \u001b[38;5;66;03m# your answer here\u001b[39;00m\n\u001b[0;32m----> 3\u001b[0m result \u001b[38;5;241m=\u001b[39m \u001b[43mnp\u001b[49m\u001b[38;5;241;43m.\u001b[39;49m\u001b[43madd\u001b[49m\u001b[43m(\u001b[49m\u001b[43ma\u001b[49m\u001b[43m,\u001b[49m\u001b[43mb\u001b[49m\u001b[43m)\u001b[49m\n",
      "\u001b[0;31mValueError\u001b[0m: operands could not be broadcast together with shapes (2,3,5) (5,2,3) "
     ]
    }
   ],
   "source": [
    "# your answer here\n",
    "\n",
    "result = np.add(a,b)\n",
    "\n",
    "#It says I cannot sum them because they have different shapes."
   ]
  },
  {
   "cell_type": "markdown",
   "metadata": {},
   "source": [
    "#### 9. Transpose *b* so that it has the same structure of *a* (i.e. become a 2x3x5 array). Assign the transposed array to variable *c*."
   ]
  },
  {
   "cell_type": "code",
   "execution_count": 40,
   "metadata": {},
   "outputs": [
    {
     "data": {
      "text/plain": [
       "array([[[1., 1., 1., 1., 1.],\n",
       "        [1., 1., 1., 1., 1.],\n",
       "        [1., 1., 1., 1., 1.]],\n",
       "\n",
       "       [[1., 1., 1., 1., 1.],\n",
       "        [1., 1., 1., 1., 1.],\n",
       "        [1., 1., 1., 1., 1.]]])"
      ]
     },
     "execution_count": 40,
     "metadata": {},
     "output_type": "execute_result"
    }
   ],
   "source": [
    "# your code here\n",
    "\n",
    "c = b.reshape(2,3,5)\n",
    "c"
   ]
  },
  {
   "cell_type": "markdown",
   "metadata": {},
   "source": [
    "#### 10. Try to add *a* and *c*. Now it should work. Assign the sum to variable *d*. But why does it work now?"
   ]
  },
  {
   "cell_type": "code",
   "execution_count": 62,
   "metadata": {},
   "outputs": [
    {
     "data": {
      "text/plain": [
       "array([[[1.03791932, 1.61793964, 1.02418004, 1.4619839 , 1.88830367],\n",
       "        [1.57244558, 1.94266324, 1.45796518, 1.57802775, 1.29767778],\n",
       "        [1.32019672, 1.62708292, 1.85208495, 1.99713632, 1.67715608]],\n",
       "\n",
       "       [[1.5188013 , 1.73320301, 1.81028273, 1.44370421, 1.32685685],\n",
       "        [1.08168561, 1.29192786, 1.67969384, 1.71054868, 1.44578078],\n",
       "        [1.67509655, 1.38361213, 1.81313851, 1.46929528, 1.7054381 ]]])"
      ]
     },
     "execution_count": 62,
     "metadata": {},
     "output_type": "execute_result"
    }
   ],
   "source": [
    "# your code/answer here\n",
    "\n",
    "d = np.add(a,c)\n",
    "d\n",
    "\n",
    "#It works because now both matrices have the same shape."
   ]
  },
  {
   "cell_type": "markdown",
   "metadata": {},
   "source": [
    "#### 11. Print *a* and *d*. Notice the difference and relation of the two array in terms of the values? Explain."
   ]
  },
  {
   "cell_type": "code",
   "execution_count": 63,
   "metadata": {},
   "outputs": [
    {
     "name": "stdout",
     "output_type": "stream",
     "text": [
      "[[[0.03791932 0.61793964 0.02418004 0.4619839  0.88830367]\n",
      "  [0.57244558 0.94266324 0.45796518 0.57802775 0.29767778]\n",
      "  [0.32019672 0.62708292 0.85208495 0.99713632 0.67715608]]\n",
      "\n",
      " [[0.5188013  0.73320301 0.81028273 0.44370421 0.32685685]\n",
      "  [0.08168561 0.29192786 0.67969384 0.71054868 0.44578078]\n",
      "  [0.67509655 0.38361213 0.81313851 0.46929528 0.7054381 ]]]\n",
      "[[[1.03791932 1.61793964 1.02418004 1.4619839  1.88830367]\n",
      "  [1.57244558 1.94266324 1.45796518 1.57802775 1.29767778]\n",
      "  [1.32019672 1.62708292 1.85208495 1.99713632 1.67715608]]\n",
      "\n",
      " [[1.5188013  1.73320301 1.81028273 1.44370421 1.32685685]\n",
      "  [1.08168561 1.29192786 1.67969384 1.71054868 1.44578078]\n",
      "  [1.67509655 1.38361213 1.81313851 1.46929528 1.7054381 ]]]\n"
     ]
    }
   ],
   "source": [
    "# your code/answer here\n",
    "\n",
    "print(a)\n",
    "\n",
    "print(d)\n",
    "\n",
    "#The difference constist in an increment of 1 in d(values). The relation is that both of them have the same shape."
   ]
  },
  {
   "cell_type": "markdown",
   "metadata": {},
   "source": [
    "#### 12. Multiply *a* and *c*. Assign the result to *e*."
   ]
  },
  {
   "cell_type": "code",
   "execution_count": 64,
   "metadata": {},
   "outputs": [
    {
     "data": {
      "text/plain": [
       "array([[[0.03791932, 0.61793964, 0.02418004, 0.4619839 , 0.88830367],\n",
       "        [0.57244558, 0.94266324, 0.45796518, 0.57802775, 0.29767778],\n",
       "        [0.32019672, 0.62708292, 0.85208495, 0.99713632, 0.67715608]],\n",
       "\n",
       "       [[0.5188013 , 0.73320301, 0.81028273, 0.44370421, 0.32685685],\n",
       "        [0.08168561, 0.29192786, 0.67969384, 0.71054868, 0.44578078],\n",
       "        [0.67509655, 0.38361213, 0.81313851, 0.46929528, 0.7054381 ]]])"
      ]
     },
     "execution_count": 64,
     "metadata": {},
     "output_type": "execute_result"
    }
   ],
   "source": [
    "# your code here\n",
    "\n",
    "e =  np.multiply(a,c)\n",
    "e"
   ]
  },
  {
   "cell_type": "markdown",
   "metadata": {},
   "source": [
    "#### 13. Does *e* equal to *a*? Why or why not?\n"
   ]
  },
  {
   "cell_type": "code",
   "execution_count": 65,
   "metadata": {},
   "outputs": [
    {
     "data": {
      "text/plain": [
       "array([[[ True,  True,  True,  True,  True],\n",
       "        [ True,  True,  True,  True,  True],\n",
       "        [ True,  True,  True,  True,  True]],\n",
       "\n",
       "       [[ True,  True,  True,  True,  True],\n",
       "        [ True,  True,  True,  True,  True],\n",
       "        [ True,  True,  True,  True,  True]]])"
      ]
     },
     "execution_count": 65,
     "metadata": {},
     "output_type": "execute_result"
    }
   ],
   "source": [
    "# your code/answer here\n",
    "\n",
    "e == a\n",
    "\n",
    "#Yes, they are equal because for every element in both matrices, that condition remains True. "
   ]
  },
  {
   "cell_type": "code",
   "execution_count": 66,
   "metadata": {},
   "outputs": [
    {
     "data": {
      "text/plain": [
       "True"
      ]
     },
     "execution_count": 66,
     "metadata": {},
     "output_type": "execute_result"
    }
   ],
   "source": [
    "np.array_equal(e,a)\n",
    "\n",
    "#It is true because they have the same shape and elements."
   ]
  },
  {
   "cell_type": "markdown",
   "metadata": {},
   "source": [
    "#### 14. Identify the max, min, and mean values in *d*. Assign those values to variables *d_max*, *d_min* and *d_mean*."
   ]
  },
  {
   "cell_type": "code",
   "execution_count": 67,
   "metadata": {},
   "outputs": [
    {
     "name": "stdout",
     "output_type": "stream",
     "text": [
      "1.99713632122805\n",
      "1.0241800438049347\n",
      "1.548060951699137\n"
     ]
    }
   ],
   "source": [
    "# your code here\n",
    "\n",
    "d_max = d.max()\n",
    "print(d_max)\n",
    "d_min = d.min()\n",
    "print(d_min)\n",
    "d_mean = d.mean()\n",
    "print(d_mean)"
   ]
  },
  {
   "cell_type": "markdown",
   "metadata": {},
   "source": [
    "#### 15. Now we want to label the values in *d*. First create an empty array *f* with the same shape (i.e. 2x3x5) as *d* using `np.empty`.\n"
   ]
  },
  {
   "cell_type": "code",
   "execution_count": 68,
   "metadata": {},
   "outputs": [
    {
     "data": {
      "text/plain": [
       "array([[[0.03791932, 0.61793964, 0.02418004, 0.4619839 , 0.88830367],\n",
       "        [0.57244558, 0.94266324, 0.45796518, 0.57802775, 0.29767778],\n",
       "        [0.32019672, 0.62708292, 0.85208495, 0.99713632, 0.67715608]],\n",
       "\n",
       "       [[0.5188013 , 0.73320301, 0.81028273, 0.44370421, 0.32685685],\n",
       "        [0.08168561, 0.29192786, 0.67969384, 0.71054868, 0.44578078],\n",
       "        [0.67509655, 0.38361213, 0.81313851, 0.46929528, 0.7054381 ]]])"
      ]
     },
     "execution_count": 68,
     "metadata": {},
     "output_type": "execute_result"
    }
   ],
   "source": [
    "# your code here\n",
    "\n",
    "f = np.empty([2,3,5])\n",
    "f"
   ]
  },
  {
   "cell_type": "markdown",
   "metadata": {},
   "source": [
    "#### 16. Populate the values in *f*. \n",
    "\n",
    "For each value in *d*, if it's larger than *d_min* but smaller than *d_mean*, assign 25 to the corresponding value in *f*. If a value in *d* is larger than *d_mean* but smaller than *d_max*, assign 75 to the corresponding value in *f*. If a value equals to *d_mean*, assign 50 to the corresponding value in *f*. Assign 0 to the corresponding value(s) in *f* for *d_min* in *d*. Assign 100 to the corresponding value(s) in *f* for *d_max* in *d*. In the end, f should have only the following values: 0, 25, 50, 75, and 100.\n",
    "\n",
    "**Note**: you don't have to use Numpy in this question."
   ]
  },
  {
   "cell_type": "code",
   "execution_count": 70,
   "metadata": {},
   "outputs": [
    {
     "data": {
      "text/plain": [
       "array([[[ 25.,  75.,   0.,  25.,  75.],\n",
       "        [ 75.,  75.,  25.,  75.,  25.],\n",
       "        [ 25.,  75.,  75., 100.,  75.]],\n",
       "\n",
       "       [[ 25.,  75.,  75.,  25.,  25.],\n",
       "        [ 25.,  25.,  75.,  75.,  25.],\n",
       "        [ 75.,  25.,  75.,  25.,  75.]]])"
      ]
     },
     "execution_count": 70,
     "metadata": {},
     "output_type": "execute_result"
    }
   ],
   "source": [
    "# your code here\n",
    "\n",
    "value1 = (d > d_min) & (d < d_mean) #It doesn't let me use \"and\", so I will use & instead.\n",
    "value2 = (d < d_max) & (d > d_mean)\n",
    "value3 = (d == d_mean)\n",
    "value4 = (d == d_min)\n",
    "value5 = (d == d_max)\n",
    "\n",
    "f[value1] = 25\n",
    "f[value2] = 75\n",
    "f[value3] = 50\n",
    "f[value4] = 0\n",
    "f[value5] = 100\n",
    "\n",
    "f"
   ]
  },
  {
   "cell_type": "markdown",
   "metadata": {},
   "source": [
    "#### 17. Print *d* and *f*. Do you have your expected *f*?\n",
    "For instance, if your *d* is:\n",
    "```python\n",
    "[[[1.85836099, 1.67064465, 1.62576044, 1.40243961, 1.88454931],\n",
    "[1.75354326, 1.69403643, 1.36729252, 1.61415071, 1.12104981],\n",
    "[1.72201435, 1.1862918 , 1.87078449, 1.7726778 , 1.88180042]],\n",
    "[[1.44747908, 1.31673383, 1.02000951, 1.52218947, 1.97066381],\n",
    "[1.79129243, 1.74983003, 1.96028037, 1.85166831, 1.65450881],\n",
    "[1.18068344, 1.9587381 , 1.00656599, 1.93402165, 1.73514584]]]\n",
    "```\n",
    "Your *f* should be:\n",
    "```python\n",
    "[[[ 75.,  75.,  75.,  25.,  75.],\n",
    "[ 75.,  75.,  25.,  25.,  25.],\n",
    "[ 75.,  25.,  75.,  75.,  75.]],\n",
    "[[ 25.,  25.,  25.,  25., 100.],\n",
    "[ 75.,  75.,  75.,  75.,  75.],\n",
    "[ 25.,  75.,   0.,  75.,  75.]]]\n",
    "```"
   ]
  },
  {
   "cell_type": "code",
   "execution_count": 74,
   "metadata": {},
   "outputs": [
    {
     "name": "stdout",
     "output_type": "stream",
     "text": [
      "[[[1.03791932 1.61793964 1.02418004 1.4619839  1.88830367]\n",
      "  [1.57244558 1.94266324 1.45796518 1.57802775 1.29767778]\n",
      "  [1.32019672 1.62708292 1.85208495 1.99713632 1.67715608]]\n",
      "\n",
      " [[1.5188013  1.73320301 1.81028273 1.44370421 1.32685685]\n",
      "  [1.08168561 1.29192786 1.67969384 1.71054868 1.44578078]\n",
      "  [1.67509655 1.38361213 1.81313851 1.46929528 1.7054381 ]]]\n",
      "[[[ 25.  75.   0.  25.  75.]\n",
      "  [ 75.  75.  25.  75.  25.]\n",
      "  [ 25.  75.  75. 100.  75.]]\n",
      "\n",
      " [[ 25.  75.  75.  25.  25.]\n",
      "  [ 25.  25.  75.  75.  25.]\n",
      "  [ 75.  25.  75.  25.  75.]]]\n"
     ]
    }
   ],
   "source": [
    "# your code here\n",
    "\n",
    "print(d)\n",
    "\n",
    "print(f)"
   ]
  },
  {
   "cell_type": "markdown",
   "metadata": {},
   "source": [
    "#### 18. Bonus question: instead of using numbers (i.e. 0, 25, 50, 75, and 100), use string values  (\"A\", \"B\", \"C\", \"D\", and \"E\") to label the array elements. For the example above, the expected result is:\n",
    "\n",
    "```python\n",
    "[[[ 'D',  'D',  'D',  'B',  'D'],\n",
    "[ 'D',  'D',  'B',  'B',  'B'],\n",
    "[ 'D',  'B',  'D',  'D',  'D']],\n",
    "[[ 'B',  'B',  'B',  'B',  'E'],\n",
    "[ 'D',  'D',  'D',  'D',  'D'],\n",
    "[ 'B',  'D',   'A',  'D', 'D']]]\n",
    "```\n",
    "**Note**: you don't have to use Numpy in this question."
   ]
  },
  {
   "cell_type": "code",
   "execution_count": 107,
   "metadata": {},
   "outputs": [
    {
     "data": {
      "text/plain": [
       "array([[['25.0', '75.0', '0.0', '25.0', '75.0'],\n",
       "        ['75.0', '75.0', '25.0', '75.0', '25.0'],\n",
       "        ['25.0', '75.0', '75.0', '100.0', '75.0']],\n",
       "\n",
       "       [['25.0', '75.0', '75.0', '25.0', '25.0'],\n",
       "        ['25.0', '25.0', '75.0', '75.0', '25.0'],\n",
       "        ['75.0', '25.0', '75.0', '25.0', '75.0']]], dtype='<U32')"
      ]
     },
     "execution_count": 107,
     "metadata": {},
     "output_type": "execute_result"
    }
   ],
   "source": [
    "# your code here\n",
    "\n",
    "f2 = f.astype(str)\n",
    "type(f2[0][0][0])\n",
    "\n",
    "f2"
   ]
  },
  {
   "cell_type": "code",
   "execution_count": 112,
   "metadata": {},
   "outputs": [
    {
     "data": {
      "text/plain": [
       "array([[['A', 'B', 'D', 'A', 'B'],\n",
       "        ['B', 'B', 'A', 'B', 'A'],\n",
       "        ['A', 'B', 'B', 'E', 'B']],\n",
       "\n",
       "       [['A', 'B', 'B', 'A', 'A'],\n",
       "        ['A', 'A', 'B', 'B', 'A'],\n",
       "        ['B', 'A', 'B', 'A', 'B']]], dtype='<U32')"
      ]
     },
     "execution_count": 112,
     "metadata": {},
     "output_type": "execute_result"
    }
   ],
   "source": [
    "f2 = f.astype(str) #I convert the data type of the matrix to string.\n",
    "\n",
    "\"\"\" \n",
    "As I cannot use the strings as valid indeces, I cannot do the following:\n",
    "\n",
    "f2[\"25.0\"] = \"A\"\n",
    "f2[\"75.0\"] = \"B\"\n",
    "f2[\"50.0\"] = \"C\"\n",
    "f2[\"0.0\"] = \"D\"\n",
    "f2[\"100.0\"] = \"E\"\n",
    "\n",
    "\"\"\"\n",
    "#I am going to use boolean values, as they are valid indeces.\n",
    "\n",
    "f2[f2 == \"25.0\"] = \"A\"\n",
    "f2[f2 == \"75.0\"] = \"B\"\n",
    "f2[f2 == \"50.0\"] = \"C\"\n",
    "f2[f2 == \"0.0\"] = \"D\"\n",
    "f2[f2 == \"100.0\"] = \"E\"\n",
    "\n",
    "f2"
   ]
  },
  {
   "cell_type": "code",
   "execution_count": null,
   "metadata": {},
   "outputs": [],
   "source": []
  }
 ],
 "metadata": {
  "kernelspec": {
   "display_name": "Python (m1_env)",
   "language": "python",
   "name": "m1_env"
  },
  "language_info": {
   "codemirror_mode": {
    "name": "ipython",
    "version": 3
   },
   "file_extension": ".py",
   "mimetype": "text/x-python",
   "name": "python",
   "nbconvert_exporter": "python",
   "pygments_lexer": "ipython3",
   "version": "3.10.13"
  }
 },
 "nbformat": 4,
 "nbformat_minor": 2
}

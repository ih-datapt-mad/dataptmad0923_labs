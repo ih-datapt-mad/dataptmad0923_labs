{
 "cells": [
  {
   "cell_type": "markdown",
   "metadata": {},
   "source": [
    "# Understanding Descriptive Statistics\n",
    "\n",
    "Import the necessary libraries here:"
   ]
  },
  {
   "cell_type": "code",
   "execution_count": 108,
   "metadata": {},
   "outputs": [
    {
     "data": {
      "text/html": [
       "        <script type=\"text/javascript\">\n",
       "        window.PlotlyConfig = {MathJaxConfig: 'local'};\n",
       "        if (window.MathJax && window.MathJax.Hub && window.MathJax.Hub.Config) {window.MathJax.Hub.Config({SVG: {font: \"STIX-Web\"}});}\n",
       "        if (typeof require !== 'undefined') {\n",
       "        require.undef(\"plotly\");\n",
       "        requirejs.config({\n",
       "            paths: {\n",
       "                'plotly': ['https://cdn.plot.ly/plotly-2.12.1.min']\n",
       "            }\n",
       "        });\n",
       "        require(['plotly'], function(Plotly) {\n",
       "            window._Plotly = Plotly;\n",
       "        });\n",
       "        }\n",
       "        </script>\n",
       "        "
      ]
     },
     "metadata": {},
     "output_type": "display_data"
    }
   ],
   "source": [
    "# Libraries\n",
    "\n",
    "import numpy as np\n",
    "import pandas as pd\n",
    "import matplotlib.pyplot as plt\n",
    "import random\n",
    "import plotly.express as px\n",
    "from plotly.subplots import make_subplots\n",
    "import cufflinks as cf\n",
    "import seaborn as sns\n",
    "cf.go_offline()\n",
    "%matplotlib inline\n",
    "\n",
    "import warnings\n",
    "warnings.filterwarnings('ignore')"
   ]
  },
  {
   "cell_type": "markdown",
   "metadata": {},
   "source": [
    "## Challenge 1\n",
    "#### 1.- Define a function that simulates rolling a dice 10 times. Save the information in a dataframe.\n",
    "**Hint**: you can use the *choices* function from module *random* to help you with the simulation."
   ]
  },
  {
   "cell_type": "code",
   "execution_count": 2,
   "metadata": {},
   "outputs": [],
   "source": [
    "def dice(times):\n",
    "    solution = []\n",
    "    for i in range(times):\n",
    "        solution.append(random.randint(1,6))\n",
    "    return solution"
   ]
  },
  {
   "cell_type": "code",
   "execution_count": 3,
   "metadata": {},
   "outputs": [],
   "source": [
    "dice = pd.DataFrame({\"cara_dado\": dice(10)})\n"
   ]
  },
  {
   "cell_type": "code",
   "execution_count": 4,
   "metadata": {},
   "outputs": [
    {
     "data": {
      "text/html": [
       "<div>\n",
       "<style scoped>\n",
       "    .dataframe tbody tr th:only-of-type {\n",
       "        vertical-align: middle;\n",
       "    }\n",
       "\n",
       "    .dataframe tbody tr th {\n",
       "        vertical-align: top;\n",
       "    }\n",
       "\n",
       "    .dataframe thead th {\n",
       "        text-align: right;\n",
       "    }\n",
       "</style>\n",
       "<table border=\"1\" class=\"dataframe\">\n",
       "  <thead>\n",
       "    <tr style=\"text-align: right;\">\n",
       "      <th></th>\n",
       "      <th>cara_dado</th>\n",
       "    </tr>\n",
       "  </thead>\n",
       "  <tbody>\n",
       "    <tr>\n",
       "      <th>0</th>\n",
       "      <td>1</td>\n",
       "    </tr>\n",
       "    <tr>\n",
       "      <th>1</th>\n",
       "      <td>5</td>\n",
       "    </tr>\n",
       "    <tr>\n",
       "      <th>2</th>\n",
       "      <td>5</td>\n",
       "    </tr>\n",
       "    <tr>\n",
       "      <th>3</th>\n",
       "      <td>6</td>\n",
       "    </tr>\n",
       "    <tr>\n",
       "      <th>4</th>\n",
       "      <td>1</td>\n",
       "    </tr>\n",
       "    <tr>\n",
       "      <th>5</th>\n",
       "      <td>2</td>\n",
       "    </tr>\n",
       "    <tr>\n",
       "      <th>6</th>\n",
       "      <td>2</td>\n",
       "    </tr>\n",
       "    <tr>\n",
       "      <th>7</th>\n",
       "      <td>1</td>\n",
       "    </tr>\n",
       "    <tr>\n",
       "      <th>8</th>\n",
       "      <td>5</td>\n",
       "    </tr>\n",
       "    <tr>\n",
       "      <th>9</th>\n",
       "      <td>6</td>\n",
       "    </tr>\n",
       "  </tbody>\n",
       "</table>\n",
       "</div>"
      ],
      "text/plain": [
       "   cara_dado\n",
       "0          1\n",
       "1          5\n",
       "2          5\n",
       "3          6\n",
       "4          1\n",
       "5          2\n",
       "6          2\n",
       "7          1\n",
       "8          5\n",
       "9          6"
      ]
     },
     "execution_count": 4,
     "metadata": {},
     "output_type": "execute_result"
    }
   ],
   "source": [
    "dice"
   ]
  },
  {
   "cell_type": "markdown",
   "metadata": {},
   "source": [
    "#### 2.- Plot the results sorted by value."
   ]
  },
  {
   "cell_type": "code",
   "execution_count": 88,
   "metadata": {
    "scrolled": false
   },
   "outputs": [
    {
     "data": {
      "text/plain": [
       "[<matplotlib.lines.Line2D at 0x12672c7d0>]"
      ]
     },
     "execution_count": 88,
     "metadata": {},
     "output_type": "execute_result"
    },
    {
     "data": {
      "image/png": "[encoded data removed]",
      "text/plain": [
       "<Figure size 640x480 with 1 Axes>"
      ]
     },
     "metadata": {},
     "output_type": "display_data"
    }
   ],
   "source": [
    "#Doesn't specify the kind of plot...\n",
    "\n",
    "plt.plot(dice.sort_index(), color = \"orange\")"
   ]
  },
  {
   "cell_type": "markdown",
   "metadata": {},
   "source": [
    "#### 3.- Calculate the frequency distribution and plot it. What is the relation between this plot and the plot above? Describe it with words."
   ]
  },
  {
   "cell_type": "code",
   "execution_count": 6,
   "metadata": {},
   "outputs": [],
   "source": [
    "#Calculating frequency distribution?\n",
    "\n",
    "def frequency(column):\n",
    "    frequency = {}\n",
    "    for i in list(column):\n",
    "        if i in frequency:\n",
    "            frequency[i] += 1\n",
    "        else:\n",
    "            frequency[i] = 1\n",
    "    return frequency"
   ]
  },
  {
   "cell_type": "code",
   "execution_count": 118,
   "metadata": {},
   "outputs": [
    {
     "data": {
      "text/plain": [
       "{1: 3, 5: 3, 6: 2, 2: 2}"
      ]
     },
     "execution_count": 118,
     "metadata": {},
     "output_type": "execute_result"
    }
   ],
   "source": [
    "freq1 = frequency(dice[\"cara_dado\"])\n",
    "freq1"
   ]
  },
  {
   "cell_type": "code",
   "execution_count": 120,
   "metadata": {},
   "outputs": [
    {
     "data": {
      "text/plain": [
       "{1: 0.03, 5: 0.03, 6: 0.02, 2: 0.02}"
      ]
     },
     "execution_count": 120,
     "metadata": {},
     "output_type": "execute_result"
    }
   ],
   "source": [
    "prob1 = {key: value/100 for key, value in freq1.items()}\n",
    "prob1"
   ]
  },
  {
   "cell_type": "code",
   "execution_count": 8,
   "metadata": {},
   "outputs": [
    {
     "data": {
      "application/vnd.plotly.v1+json": {
       "config": {
        "plotlyServerURL": "https://plot.ly"
       },
       "data": [
        {
         "alignmentgroup": "True",
         "hovertemplate": "variable=cara_dado<br>index=%{x}<br>value=%{y}<extra></extra>",
         "legendgroup": "cara_dado",
         "marker": {
          "color": "#636efa",
          "pattern": {
           "shape": ""
          }
         },
         "name": "cara_dado",
         "offsetgroup": "cara_dado",
         "orientation": "v",
         "showlegend": true,
         "textposition": "auto",
         "type": "bar",
         "x": [
          0,
          4,
          7,
          5,
          6,
          1,
          2,
          8,
          3,
          9
         ],
         "xaxis": "x",
         "y": [
          1,
          1,
          1,
          2,
          2,
          5,
          5,
          5,
          6,
          6
         ],
         "yaxis": "y"
        }
       ],
       "layout": {
        "barmode": "relative",
        "legend": {
         "title": {
          "text": "variable"
         },
         "tracegroupgap": 0
        },
        "template": {
         "data": {
          "bar": [
           {
            "error_x": {
             "color": "#2a3f5f"
            },
            "error_y": {
             "color": "#2a3f5f"
            },
            "marker": {
             "line": {
              "color": "#E5ECF6",
              "width": 0.5
             },
             "pattern": {
              "fillmode": "overlay",
              "size": 10,
              "solidity": 0.2
             }
            },
            "type": "bar"
           }
          ],
          "barpolar": [
           {
            "marker": {
             "line": {
              "color": "#E5ECF6",
              "width": 0.5
             },
             "pattern": {
              "fillmode": "overlay",
              "size": 10,
              "solidity": 0.2
             }
            },
            "type": "barpolar"
           }
          ],
          "carpet": [
           {
            "aaxis": {
             "endlinecolor": "#2a3f5f",
             "gridcolor": "white",
             "linecolor": "white",
             "minorgridcolor": "white",
             "startlinecolor": "#2a3f5f"
            },
            "baxis": {
             "endlinecolor": "#2a3f5f",
             "gridcolor": "white",
             "linecolor": "white",
             "minorgridcolor": "white",
             "startlinecolor": "#2a3f5f"
            },
            "type": "carpet"
           }
          ],
          "choropleth": [
           {
            "colorbar": {
             "outlinewidth": 0,
             "ticks": ""
            },
            "type": "choropleth"
           }
          ],
          "contour": [
           {
            "colorbar": {
             "outlinewidth": 0,
             "ticks": ""
            },
            "colorscale": [
             [
              0,
              "#0d0887"
             ],
             [
              0.1111111111111111,
              "#46039f"
             ],
             [
              0.2222222222222222,
              "#7201a8"
             ],
             [
              0.3333333333333333,
              "#9c179e"
             ],
             [
              0.4444444444444444,
              "#bd3786"
             ],
             [
              0.5555555555555556,
              "#d8576b"
             ],
             [
              0.6666666666666666,
              "#ed7953"
             ],
             [
              0.7777777777777778,
              "#fb9f3a"
             ],
             [
              0.8888888888888888,
              "#fdca26"
             ],
             [
              1,
              "#f0f921"
             ]
            ],
            "type": "contour"
           }
          ],
          "contourcarpet": [
           {
            "colorbar": {
             "outlinewidth": 0,
             "ticks": ""
            },
            "type": "contourcarpet"
           }
          ],
          "heatmap": [
           {
            "colorbar": {
             "outlinewidth": 0,
             "ticks": ""
            },
            "colorscale": [
             [
              0,
              "#0d0887"
             ],
             [
              0.1111111111111111,
              "#46039f"
             ],
             [
              0.2222222222222222,
              "#7201a8"
             ],
             [
              0.3333333333333333,
              "#9c179e"
             ],
             [
              0.4444444444444444,
              "#bd3786"
             ],
             [
              0.5555555555555556,
              "#d8576b"
             ],
             [
              0.6666666666666666,
              "#ed7953"
             ],
             [
              0.7777777777777778,
              "#fb9f3a"
             ],
             [
              0.8888888888888888,
              "#fdca26"
             ],
             [
              1,
              "#f0f921"
             ]
            ],
            "type": "heatmap"
           }
          ],
          "heatmapgl": [
           {
            "colorbar": {
             "outlinewidth": 0,
             "ticks": ""
            },
            "colorscale": [
             [
              0,
              "#0d0887"
             ],
             [
              0.1111111111111111,
              "#46039f"
             ],
             [
              0.2222222222222222,
              "#7201a8"
             ],
             [
              0.3333333333333333,
              "#9c179e"
             ],
             [
              0.4444444444444444,
              "#bd3786"
             ],
             [
              0.5555555555555556,
              "#d8576b"
             ],
             [
              0.6666666666666666,
              "#ed7953"
             ],
             [
              0.7777777777777778,
              "#fb9f3a"
             ],
             [
              0.8888888888888888,
              "#fdca26"
             ],
             [
              1,
              "#f0f921"
             ]
            ],
            "type": "heatmapgl"
           }
          ],
          "histogram": [
           {
            "marker": {
             "pattern": {
              "fillmode": "overlay",
              "size": 10,
              "solidity": 0.2
             }
            },
            "type": "histogram"
           }
          ],
          "histogram2d": [
           {
            "colorbar": {
             "outlinewidth": 0,
             "ticks": ""
            },
            "colorscale": [
             [
              0,
              "#0d0887"
             ],
             [
              0.1111111111111111,
              "#46039f"
             ],
             [
              0.2222222222222222,
              "#7201a8"
             ],
             [
              0.3333333333333333,
              "#9c179e"
             ],
             [
              0.4444444444444444,
              "#bd3786"
             ],
             [
              0.5555555555555556,
              "#d8576b"
             ],
             [
              0.6666666666666666,
              "#ed7953"
             ],
             [
              0.7777777777777778,
              "#fb9f3a"
             ],
             [
              0.8888888888888888,
              "#fdca26"
             ],
             [
              1,
              "#f0f921"
             ]
            ],
            "type": "histogram2d"
           }
          ],
          "histogram2dcontour": [
           {
            "colorbar": {
             "outlinewidth": 0,
             "ticks": ""
            },
            "colorscale": [
             [
              0,
              "#0d0887"
             ],
             [
              0.1111111111111111,
              "#46039f"
             ],
             [
              0.2222222222222222,
              "#7201a8"
             ],
             [
              0.3333333333333333,
              "#9c179e"
             ],
             [
              0.4444444444444444,
              "#bd3786"
             ],
             [
              0.5555555555555556,
              "#d8576b"
             ],
             [
              0.6666666666666666,
              "#ed7953"
             ],
             [
              0.7777777777777778,
              "#fb9f3a"
             ],
             [
              0.8888888888888888,
              "#fdca26"
             ],
             [
              1,
              "#f0f921"
             ]
            ],
            "type": "histogram2dcontour"
           }
          ],
          "mesh3d": [
           {
            "colorbar": {
             "outlinewidth": 0,
             "ticks": ""
            },
            "type": "mesh3d"
           }
          ],
          "parcoords": [
           {
            "line": {
             "colorbar": {
              "outlinewidth": 0,
              "ticks": ""
             }
            },
            "type": "parcoords"
           }
          ],
          "pie": [
           {
            "automargin": true,
            "type": "pie"
           }
          ],
          "scatter": [
           {
            "fillpattern": {
             "fillmode": "overlay",
             "size": 10,
             "solidity": 0.2
            },
            "type": "scatter"
           }
          ],
          "scatter3d": [
           {
            "line": {
             "colorbar": {
              "outlinewidth": 0,
              "ticks": ""
             }
            },
            "marker": {
             "colorbar": {
              "outlinewidth": 0,
              "ticks": ""
             }
            },
            "type": "scatter3d"
           }
          ],
          "scattercarpet": [
           {
            "marker": {
             "colorbar": {
              "outlinewidth": 0,
              "ticks": ""
             }
            },
            "type": "scattercarpet"
           }
          ],
          "scattergeo": [
           {
            "marker": {
             "colorbar": {
              "outlinewidth": 0,
              "ticks": ""
             }
            },
            "type": "scattergeo"
           }
          ],
          "scattergl": [
           {
            "marker": {
             "colorbar": {
              "outlinewidth": 0,
              "ticks": ""
             }
            },
            "type": "scattergl"
           }
          ],
          "scattermapbox": [
           {
            "marker": {
             "colorbar": {
              "outlinewidth": 0,
              "ticks": ""
             }
            },
            "type": "scattermapbox"
           }
          ],
          "scatterpolar": [
           {
            "marker": {
             "colorbar": {
              "outlinewidth": 0,
              "ticks": ""
             }
            },
            "type": "scatterpolar"
           }
          ],
          "scatterpolargl": [
           {
            "marker": {
             "colorbar": {
              "outlinewidth": 0,
              "ticks": ""
             }
            },
            "type": "scatterpolargl"
           }
          ],
          "scatterternary": [
           {
            "marker": {
             "colorbar": {
              "outlinewidth": 0,
              "ticks": ""
             }
            },
            "type": "scatterternary"
           }
          ],
          "surface": [
           {
            "colorbar": {
             "outlinewidth": 0,
             "ticks": ""
            },
            "colorscale": [
             [
              0,
              "#0d0887"
             ],
             [
              0.1111111111111111,
              "#46039f"
             ],
             [
              0.2222222222222222,
              "#7201a8"
             ],
             [
              0.3333333333333333,
              "#9c179e"
             ],
             [
              0.4444444444444444,
              "#bd3786"
             ],
             [
              0.5555555555555556,
              "#d8576b"
             ],
             [
              0.6666666666666666,
              "#ed7953"
             ],
             [
              0.7777777777777778,
              "#fb9f3a"
             ],
             [
              0.8888888888888888,
              "#fdca26"
             ],
             [
              1,
              "#f0f921"
             ]
            ],
            "type": "surface"
           }
          ],
          "table": [
           {
            "cells": {
             "fill": {
              "color": "#EBF0F8"
             },
             "line": {
              "color": "white"
             }
            },
            "header": {
             "fill": {
              "color": "#C8D4E3"
             },
             "line": {
              "color": "white"
             }
            },
            "type": "table"
           }
          ]
         },
         "layout": {
          "annotationdefaults": {
           "arrowcolor": "#2a3f5f",
           "arrowhead": 0,
           "arrowwidth": 1
          },
          "autotypenumbers": "strict",
          "coloraxis": {
           "colorbar": {
            "outlinewidth": 0,
            "ticks": ""
           }
          },
          "colorscale": {
           "diverging": [
            [
             0,
             "#8e0152"
            ],
            [
             0.1,
             "#c51b7d"
            ],
            [
             0.2,
             "#de77ae"
            ],
            [
             0.3,
             "#f1b6da"
            ],
            [
             0.4,
             "#fde0ef"
            ],
            [
             0.5,
             "#f7f7f7"
            ],
            [
             0.6,
             "#e6f5d0"
            ],
            [
             0.7,
             "#b8e186"
            ],
            [
             0.8,
             "#7fbc41"
            ],
            [
             0.9,
             "#4d9221"
            ],
            [
             1,
             "#276419"
            ]
           ],
           "sequential": [
            [
             0,
             "#0d0887"
            ],
            [
             0.1111111111111111,
             "#46039f"
            ],
            [
             0.2222222222222222,
             "#7201a8"
            ],
            [
             0.3333333333333333,
             "#9c179e"
            ],
            [
             0.4444444444444444,
             "#bd3786"
            ],
            [
             0.5555555555555556,
             "#d8576b"
            ],
            [
             0.6666666666666666,
             "#ed7953"
            ],
            [
             0.7777777777777778,
             "#fb9f3a"
            ],
            [
             0.8888888888888888,
             "#fdca26"
            ],
            [
             1,
             "#f0f921"
            ]
           ],
           "sequentialminus": [
            [
             0,
             "#0d0887"
            ],
            [
             0.1111111111111111,
             "#46039f"
            ],
            [
             0.2222222222222222,
             "#7201a8"
            ],
            [
             0.3333333333333333,
             "#9c179e"
            ],
            [
             0.4444444444444444,
             "#bd3786"
            ],
            [
             0.5555555555555556,
             "#d8576b"
            ],
            [
             0.6666666666666666,
             "#ed7953"
            ],
            [
             0.7777777777777778,
             "#fb9f3a"
            ],
            [
             0.8888888888888888,
             "#fdca26"
            ],
            [
             1,
             "#f0f921"
            ]
           ]
          },
          "colorway": [
           "#636efa",
           "#EF553B",
           "#00cc96",
           "#ab63fa",
           "#FFA15A",
           "#19d3f3",
           "#FF6692",
           "#B6E880",
           "#FF97FF",
           "#FECB52"
          ],
          "font": {
           "color": "#2a3f5f"
          },
          "geo": {
           "bgcolor": "white",
           "lakecolor": "white",
           "landcolor": "#E5ECF6",
           "showlakes": true,
           "showland": true,
           "subunitcolor": "white"
          },
          "hoverlabel": {
           "align": "left"
          },
          "hovermode": "closest",
          "mapbox": {
           "style": "light"
          },
          "paper_bgcolor": "white",
          "plot_bgcolor": "#E5ECF6",
          "polar": {
           "angularaxis": {
            "gridcolor": "white",
            "linecolor": "white",
            "ticks": ""
           },
           "bgcolor": "#E5ECF6",
           "radialaxis": {
            "gridcolor": "white",
            "linecolor": "white",
            "ticks": ""
           }
          },
          "scene": {
           "xaxis": {
            "backgroundcolor": "#E5ECF6",
            "gridcolor": "white",
            "gridwidth": 2,
            "linecolor": "white",
            "showbackground": true,
            "ticks": "",
            "zerolinecolor": "white"
           },
           "yaxis": {
            "backgroundcolor": "#E5ECF6",
            "gridcolor": "white",
            "gridwidth": 2,
            "linecolor": "white",
            "showbackground": true,
            "ticks": "",
            "zerolinecolor": "white"
           },
           "zaxis": {
            "backgroundcolor": "#E5ECF6",
            "gridcolor": "white",
            "gridwidth": 2,
            "linecolor": "white",
            "showbackground": true,
            "ticks": "",
            "zerolinecolor": "white"
           }
          },
          "shapedefaults": {
           "line": {
            "color": "#2a3f5f"
           }
          },
          "ternary": {
           "aaxis": {
            "gridcolor": "white",
            "linecolor": "white",
            "ticks": ""
           },
           "baxis": {
            "gridcolor": "white",
            "linecolor": "white",
            "ticks": ""
           },
           "bgcolor": "#E5ECF6",
           "caxis": {
            "gridcolor": "white",
            "linecolor": "white",
            "ticks": ""
           }
          },
          "title": {
           "x": 0.05
          },
          "xaxis": {
           "automargin": true,
           "gridcolor": "white",
           "linecolor": "white",
           "ticks": "",
           "title": {
            "standoff": 15
           },
           "zerolinecolor": "white",
           "zerolinewidth": 2
          },
          "yaxis": {
           "automargin": true,
           "gridcolor": "white",
           "linecolor": "white",
           "ticks": "",
           "title": {
            "standoff": 15
           },
           "zerolinecolor": "white",
           "zerolinewidth": 2
          }
         }
        },
        "title": {
         "text": "Resultados del Dado (ordenados por valor)"
        },
        "xaxis": {
         "anchor": "y",
         "domain": [
          0,
          1
         ],
         "dtick": 1,
         "tick0": 1,
         "tickmode": "linear",
         "title": {
          "text": "index"
         }
        },
        "yaxis": {
         "anchor": "x",
         "domain": [
          0,
          1
         ],
         "title": {
          "text": "value"
         }
        }
       }
      },
      "text/html": [
       "<div>                            <div id=\"4fc7d2f3-669e-4d78-8073-138d643807f6\" class=\"plotly-graph-div\" style=\"height:525px; width:100%;\"></div>            <script type=\"text/javascript\">                require([\"plotly\"], function(Plotly) {                    window.PLOTLYENV=window.PLOTLYENV || {};                                    if (document.getElementById(\"4fc7d2f3-669e-4d78-8073-138d643807f6\")) {                    Plotly.newPlot(                        \"4fc7d2f3-669e-4d78-8073-138d643807f6\",                        [{\"alignmentgroup\":\"True\",\"hovertemplate\":\"variable=cara_dado<br>index=%{x}<br>value=%{y}<extra></extra>\",\"legendgroup\":\"cara_dado\",\"marker\":{\"color\":\"#636efa\",\"pattern\":{\"shape\":\"\"}},\"name\":\"cara_dado\",\"offsetgroup\":\"cara_dado\",\"orientation\":\"v\",\"showlegend\":true,\"textposition\":\"auto\",\"x\":[0,4,7,5,6,1,2,8,3,9],\"xaxis\":\"x\",\"y\":[1,1,1,2,2,5,5,5,6,6],\"yaxis\":\"y\",\"type\":\"bar\"}],                        {\"template\":{\"data\":{\"histogram2dcontour\":[{\"type\":\"histogram2dcontour\",\"colorbar\":{\"outlinewidth\":0,\"ticks\":\"\"},\"colorscale\":[[0.0,\"#0d0887\"],[0.1111111111111111,\"#46039f\"],[0.2222222222222222,\"#7201a8\"],[0.3333333333333333,\"#9c179e\"],[0.4444444444444444,\"#bd3786\"],[0.5555555555555556,\"#d8576b\"],[0.6666666666666666,\"#ed7953\"],[0.7777777777777778,\"#fb9f3a\"],[0.8888888888888888,\"#fdca26\"],[1.0,\"#f0f921\"]]}],\"choropleth\":[{\"type\":\"choropleth\",\"colorbar\":{\"outlinewidth\":0,\"ticks\":\"\"}}],\"histogram2d\":[{\"type\":\"histogram2d\",\"colorbar\":{\"outlinewidth\":0,\"ticks\":\"\"},\"colorscale\":[[0.0,\"#0d0887\"],[0.1111111111111111,\"#46039f\"],[0.2222222222222222,\"#7201a8\"],[0.3333333333333333,\"#9c179e\"],[0.4444444444444444,\"#bd3786\"],[0.5555555555555556,\"#d8576b\"],[0.6666666666666666,\"#ed7953\"],[0.7777777777777778,\"#fb9f3a\"],[0.8888888888888888,\"#fdca26\"],[1.0,\"#f0f921\"]]}],\"heatmap\":[{\"type\":\"heatmap\",\"colorbar\":{\"outlinewidth\":0,\"ticks\":\"\"},\"colorscale\":[[0.0,\"#0d0887\"],[0.1111111111111111,\"#46039f\"],[0.2222222222222222,\"#7201a8\"],[0.3333333333333333,\"#9c179e\"],[0.4444444444444444,\"#bd3786\"],[0.5555555555555556,\"#d8576b\"],[0.6666666666666666,\"#ed7953\"],[0.7777777777777778,\"#fb9f3a\"],[0.8888888888888888,\"#fdca26\"],[1.0,\"#f0f921\"]]}],\"heatmapgl\":[{\"type\":\"heatmapgl\",\"colorbar\":{\"outlinewidth\":0,\"ticks\":\"\"},\"colorscale\":[[0.0,\"#0d0887\"],[0.1111111111111111,\"#46039f\"],[0.2222222222222222,\"#7201a8\"],[0.3333333333333333,\"#9c179e\"],[0.4444444444444444,\"#bd3786\"],[0.5555555555555556,\"#d8576b\"],[0.6666666666666666,\"#ed7953\"],[0.7777777777777778,\"#fb9f3a\"],[0.8888888888888888,\"#fdca26\"],[1.0,\"#f0f921\"]]}],\"contourcarpet\":[{\"type\":\"contourcarpet\",\"colorbar\":{\"outlinewidth\":0,\"ticks\":\"\"}}],\"contour\":[{\"type\":\"contour\",\"colorbar\":{\"outlinewidth\":0,\"ticks\":\"\"},\"colorscale\":[[0.0,\"#0d0887\"],[0.1111111111111111,\"#46039f\"],[0.2222222222222222,\"#7201a8\"],[0.3333333333333333,\"#9c179e\"],[0.4444444444444444,\"#bd3786\"],[0.5555555555555556,\"#d8576b\"],[0.6666666666666666,\"#ed7953\"],[0.7777777777777778,\"#fb9f3a\"],[0.8888888888888888,\"#fdca26\"],[1.0,\"#f0f921\"]]}],\"surface\":[{\"type\":\"surface\",\"colorbar\":{\"outlinewidth\":0,\"ticks\":\"\"},\"colorscale\":[[0.0,\"#0d0887\"],[0.1111111111111111,\"#46039f\"],[0.2222222222222222,\"#7201a8\"],[0.3333333333333333,\"#9c179e\"],[0.4444444444444444,\"#bd3786\"],[0.5555555555555556,\"#d8576b\"],[0.6666666666666666,\"#ed7953\"],[0.7777777777777778,\"#fb9f3a\"],[0.8888888888888888,\"#fdca26\"],[1.0,\"#f0f921\"]]}],\"mesh3d\":[{\"type\":\"mesh3d\",\"colorbar\":{\"outlinewidth\":0,\"ticks\":\"\"}}],\"scatter\":[{\"fillpattern\":{\"fillmode\":\"overlay\",\"size\":10,\"solidity\":0.2},\"type\":\"scatter\"}],\"parcoords\":[{\"type\":\"parcoords\",\"line\":{\"colorbar\":{\"outlinewidth\":0,\"ticks\":\"\"}}}],\"scatterpolargl\":[{\"type\":\"scatterpolargl\",\"marker\":{\"colorbar\":{\"outlinewidth\":0,\"ticks\":\"\"}}}],\"bar\":[{\"error_x\":{\"color\":\"#2a3f5f\"},\"error_y\":{\"color\":\"#2a3f5f\"},\"marker\":{\"line\":{\"color\":\"#E5ECF6\",\"width\":0.5},\"pattern\":{\"fillmode\":\"overlay\",\"size\":10,\"solidity\":0.2}},\"type\":\"bar\"}],\"scattergeo\":[{\"type\":\"scattergeo\",\"marker\":{\"colorbar\":{\"outlinewidth\":0,\"ticks\":\"\"}}}],\"scatterpolar\":[{\"type\":\"scatterpolar\",\"marker\":{\"colorbar\":{\"outlinewidth\":0,\"ticks\":\"\"}}}],\"histogram\":[{\"marker\":{\"pattern\":{\"fillmode\":\"overlay\",\"size\":10,\"solidity\":0.2}},\"type\":\"histogram\"}],\"scattergl\":[{\"type\":\"scattergl\",\"marker\":{\"colorbar\":{\"outlinewidth\":0,\"ticks\":\"\"}}}],\"scatter3d\":[{\"type\":\"scatter3d\",\"line\":{\"colorbar\":{\"outlinewidth\":0,\"ticks\":\"\"}},\"marker\":{\"colorbar\":{\"outlinewidth\":0,\"ticks\":\"\"}}}],\"scattermapbox\":[{\"type\":\"scattermapbox\",\"marker\":{\"colorbar\":{\"outlinewidth\":0,\"ticks\":\"\"}}}],\"scatterternary\":[{\"type\":\"scatterternary\",\"marker\":{\"colorbar\":{\"outlinewidth\":0,\"ticks\":\"\"}}}],\"scattercarpet\":[{\"type\":\"scattercarpet\",\"marker\":{\"colorbar\":{\"outlinewidth\":0,\"ticks\":\"\"}}}],\"carpet\":[{\"aaxis\":{\"endlinecolor\":\"#2a3f5f\",\"gridcolor\":\"white\",\"linecolor\":\"white\",\"minorgridcolor\":\"white\",\"startlinecolor\":\"#2a3f5f\"},\"baxis\":{\"endlinecolor\":\"#2a3f5f\",\"gridcolor\":\"white\",\"linecolor\":\"white\",\"minorgridcolor\":\"white\",\"startlinecolor\":\"#2a3f5f\"},\"type\":\"carpet\"}],\"table\":[{\"cells\":{\"fill\":{\"color\":\"#EBF0F8\"},\"line\":{\"color\":\"white\"}},\"header\":{\"fill\":{\"color\":\"#C8D4E3\"},\"line\":{\"color\":\"white\"}},\"type\":\"table\"}],\"barpolar\":[{\"marker\":{\"line\":{\"color\":\"#E5ECF6\",\"width\":0.5},\"pattern\":{\"fillmode\":\"overlay\",\"size\":10,\"solidity\":0.2}},\"type\":\"barpolar\"}],\"pie\":[{\"automargin\":true,\"type\":\"pie\"}]},\"layout\":{\"autotypenumbers\":\"strict\",\"colorway\":[\"#636efa\",\"#EF553B\",\"#00cc96\",\"#ab63fa\",\"#FFA15A\",\"#19d3f3\",\"#FF6692\",\"#B6E880\",\"#FF97FF\",\"#FECB52\"],\"font\":{\"color\":\"#2a3f5f\"},\"hovermode\":\"closest\",\"hoverlabel\":{\"align\":\"left\"},\"paper_bgcolor\":\"white\",\"plot_bgcolor\":\"#E5ECF6\",\"polar\":{\"bgcolor\":\"#E5ECF6\",\"angularaxis\":{\"gridcolor\":\"white\",\"linecolor\":\"white\",\"ticks\":\"\"},\"radialaxis\":{\"gridcolor\":\"white\",\"linecolor\":\"white\",\"ticks\":\"\"}},\"ternary\":{\"bgcolor\":\"#E5ECF6\",\"aaxis\":{\"gridcolor\":\"white\",\"linecolor\":\"white\",\"ticks\":\"\"},\"baxis\":{\"gridcolor\":\"white\",\"linecolor\":\"white\",\"ticks\":\"\"},\"caxis\":{\"gridcolor\":\"white\",\"linecolor\":\"white\",\"ticks\":\"\"}},\"coloraxis\":{\"colorbar\":{\"outlinewidth\":0,\"ticks\":\"\"}},\"colorscale\":{\"sequential\":[[0.0,\"#0d0887\"],[0.1111111111111111,\"#46039f\"],[0.2222222222222222,\"#7201a8\"],[0.3333333333333333,\"#9c179e\"],[0.4444444444444444,\"#bd3786\"],[0.5555555555555556,\"#d8576b\"],[0.6666666666666666,\"#ed7953\"],[0.7777777777777778,\"#fb9f3a\"],[0.8888888888888888,\"#fdca26\"],[1.0,\"#f0f921\"]],\"sequentialminus\":[[0.0,\"#0d0887\"],[0.1111111111111111,\"#46039f\"],[0.2222222222222222,\"#7201a8\"],[0.3333333333333333,\"#9c179e\"],[0.4444444444444444,\"#bd3786\"],[0.5555555555555556,\"#d8576b\"],[0.6666666666666666,\"#ed7953\"],[0.7777777777777778,\"#fb9f3a\"],[0.8888888888888888,\"#fdca26\"],[1.0,\"#f0f921\"]],\"diverging\":[[0,\"#8e0152\"],[0.1,\"#c51b7d\"],[0.2,\"#de77ae\"],[0.3,\"#f1b6da\"],[0.4,\"#fde0ef\"],[0.5,\"#f7f7f7\"],[0.6,\"#e6f5d0\"],[0.7,\"#b8e186\"],[0.8,\"#7fbc41\"],[0.9,\"#4d9221\"],[1,\"#276419\"]]},\"xaxis\":{\"gridcolor\":\"white\",\"linecolor\":\"white\",\"ticks\":\"\",\"title\":{\"standoff\":15},\"zerolinecolor\":\"white\",\"automargin\":true,\"zerolinewidth\":2},\"yaxis\":{\"gridcolor\":\"white\",\"linecolor\":\"white\",\"ticks\":\"\",\"title\":{\"standoff\":15},\"zerolinecolor\":\"white\",\"automargin\":true,\"zerolinewidth\":2},\"scene\":{\"xaxis\":{\"backgroundcolor\":\"#E5ECF6\",\"gridcolor\":\"white\",\"linecolor\":\"white\",\"showbackground\":true,\"ticks\":\"\",\"zerolinecolor\":\"white\",\"gridwidth\":2},\"yaxis\":{\"backgroundcolor\":\"#E5ECF6\",\"gridcolor\":\"white\",\"linecolor\":\"white\",\"showbackground\":true,\"ticks\":\"\",\"zerolinecolor\":\"white\",\"gridwidth\":2},\"zaxis\":{\"backgroundcolor\":\"#E5ECF6\",\"gridcolor\":\"white\",\"linecolor\":\"white\",\"showbackground\":true,\"ticks\":\"\",\"zerolinecolor\":\"white\",\"gridwidth\":2}},\"shapedefaults\":{\"line\":{\"color\":\"#2a3f5f\"}},\"annotationdefaults\":{\"arrowcolor\":\"#2a3f5f\",\"arrowhead\":0,\"arrowwidth\":1},\"geo\":{\"bgcolor\":\"white\",\"landcolor\":\"#E5ECF6\",\"subunitcolor\":\"white\",\"showland\":true,\"showlakes\":true,\"lakecolor\":\"white\"},\"title\":{\"x\":0.05},\"mapbox\":{\"style\":\"light\"}}},\"xaxis\":{\"anchor\":\"y\",\"domain\":[0.0,1.0],\"title\":{\"text\":\"index\"},\"tickmode\":\"linear\",\"tick0\":1,\"dtick\":1},\"yaxis\":{\"anchor\":\"x\",\"domain\":[0.0,1.0],\"title\":{\"text\":\"value\"}},\"legend\":{\"title\":{\"text\":\"variable\"},\"tracegroupgap\":0},\"title\":{\"text\":\"Resultados del Dado (ordenados por valor)\"},\"barmode\":\"relative\"},                        {\"responsive\": true}                    ).then(function(){\n",
       "                            \n",
       "var gd = document.getElementById('4fc7d2f3-669e-4d78-8073-138d643807f6');\n",
       "var x = new MutationObserver(function (mutations, observer) {{\n",
       "        var display = window.getComputedStyle(gd).display;\n",
       "        if (!display || display === 'none') {{\n",
       "            console.log([gd, 'removed!']);\n",
       "            Plotly.purge(gd);\n",
       "            observer.disconnect();\n",
       "        }}\n",
       "}});\n",
       "\n",
       "// Listen for the removal of the full notebook cells\n",
       "var notebookContainer = gd.closest('#notebook-container');\n",
       "if (notebookContainer) {{\n",
       "    x.observe(notebookContainer, {childList: true});\n",
       "}}\n",
       "\n",
       "// Listen for the clearing of the current output cell\n",
       "var outputEl = gd.closest('.output');\n",
       "if (outputEl) {{\n",
       "    x.observe(outputEl, {childList: true});\n",
       "}}\n",
       "\n",
       "                        })                };                });            </script>        </div>"
      ]
     },
     "metadata": {},
     "output_type": "display_data"
    }
   ],
   "source": [
    "fig = px.bar(dice.sort_values(by = \"cara_dado\"), title='Resultados del Dado (ordenados por valor)')\n",
    "fig.update_layout(xaxis=dict(tickmode='linear', tick0=1, dtick=1))\n",
    "fig"
   ]
  },
  {
   "cell_type": "code",
   "execution_count": 9,
   "metadata": {},
   "outputs": [
    {
     "data": {
      "text/plain": [
       "'\\n\\nThe first one is really confusing but the histogram represents quite good the distribution of frequency. It says\\nit is the representative chart for that kind of task.\\n\\n'"
      ]
     },
     "execution_count": 9,
     "metadata": {},
     "output_type": "execute_result"
    }
   ],
   "source": [
    "\"\"\"\n",
    "\n",
    "The first one is really confusing but the histogram represents quite good the distribution of frequency. It says\n",
    "it is the representative chart for that kind of task.\n",
    "\n",
    "\"\"\""
   ]
  },
  {
   "cell_type": "markdown",
   "metadata": {},
   "source": [
    "## Challenge 2\n",
    "Now, using the dice results obtained in *challenge 1*, your are going to define some functions that will help you calculate the mean of your data in two different ways, the median and the four quartiles. \n",
    "\n",
    "#### 1.- Define a function that computes the mean by summing all the observations and dividing by the total number of observations. You are not allowed to use any methods or functions that directly calculate the mean value. "
   ]
  },
  {
   "cell_type": "code",
   "execution_count": 10,
   "metadata": {},
   "outputs": [],
   "source": [
    "#mean\n",
    "\n",
    "def mean(colum):\n",
    "    total_sum = colum.sum()\n",
    "    total_number = colum.count()\n",
    "    return total_sum / total_number"
   ]
  },
  {
   "cell_type": "code",
   "execution_count": 11,
   "metadata": {},
   "outputs": [
    {
     "data": {
      "text/plain": [
       "3.4"
      ]
     },
     "execution_count": 11,
     "metadata": {},
     "output_type": "execute_result"
    }
   ],
   "source": [
    "mean(dice[\"cara_dado\"])"
   ]
  },
  {
   "cell_type": "markdown",
   "metadata": {},
   "source": [
    "#### 2.- First, calculate the frequency distribution. Then, calculate the mean using the values of the frequency distribution you've just computed. You are not allowed to use any methods or functions that directly calculate the mean value. "
   ]
  },
  {
   "cell_type": "code",
   "execution_count": 12,
   "metadata": {},
   "outputs": [],
   "source": [
    "# Calculating again the frequency distribution:\n",
    "\n",
    "def frequency(column):\n",
    "    frequency = {}\n",
    "    for i in list(column):\n",
    "        if i in frequency:\n",
    "            frequency[i] += 1\n",
    "        else:\n",
    "            frequency[i] = 1\n",
    "    return frequency"
   ]
  },
  {
   "cell_type": "code",
   "execution_count": 13,
   "metadata": {},
   "outputs": [],
   "source": [
    "freq = frequency(dice[\"cara_dado\"])"
   ]
  },
  {
   "cell_type": "code",
   "execution_count": 14,
   "metadata": {},
   "outputs": [
    {
     "data": {
      "text/plain": [
       "{1: 3, 5: 3, 6: 2, 2: 2}"
      ]
     },
     "execution_count": 14,
     "metadata": {},
     "output_type": "execute_result"
    }
   ],
   "source": [
    "freq"
   ]
  },
  {
   "cell_type": "code",
   "execution_count": 15,
   "metadata": {},
   "outputs": [
    {
     "data": {
      "text/plain": [
       "[3, 15, 12, 4]"
      ]
     },
     "execution_count": 15,
     "metadata": {},
     "output_type": "execute_result"
    }
   ],
   "source": [
    "values = [k * v for k, v in freq.items()]\n",
    "values"
   ]
  },
  {
   "cell_type": "code",
   "execution_count": 16,
   "metadata": {},
   "outputs": [],
   "source": [
    "#Calculating mean:\n",
    "\n",
    "def mean():\n",
    "    return sum(values) / sum(freq.values())"
   ]
  },
  {
   "cell_type": "code",
   "execution_count": 17,
   "metadata": {},
   "outputs": [
    {
     "data": {
      "text/plain": [
       "3.4"
      ]
     },
     "execution_count": 17,
     "metadata": {},
     "output_type": "execute_result"
    }
   ],
   "source": [
    "mean()"
   ]
  },
  {
   "cell_type": "markdown",
   "metadata": {},
   "source": [
    "#### 3.- Define a function to calculate the median. You are not allowed to use any methods or functions that directly calculate the median value. \n",
    "**Hint**: you might need to define two computation cases depending on the number of observations used to calculate the median."
   ]
  },
  {
   "cell_type": "code",
   "execution_count": 18,
   "metadata": {},
   "outputs": [
    {
     "data": {
      "text/plain": [
       "[1, 5, 5, 6, 1, 2, 2, 1, 5, 6]"
      ]
     },
     "execution_count": 18,
     "metadata": {},
     "output_type": "execute_result"
    }
   ],
   "source": [
    "l = list(dice[\"cara_dado\"])\n",
    "l"
   ]
  },
  {
   "cell_type": "code",
   "execution_count": 19,
   "metadata": {},
   "outputs": [],
   "source": [
    "#median\n",
    "\n",
    "def median(l):\n",
    "    sorted_l = sorted(l)\n",
    "    if len(sorted(l)) % 2 !=0: #Si el número de observaciones es impar, la mediana es la observación del medio.\n",
    "        m = sorted_l[len(sorted_l) // 2]\n",
    "    else: #Si es par, la mediana es la media de las dos observaciones que están en el medio.\n",
    "        m1 = sorted_l[len(sorted(l)) // 2]\n",
    "        m2 = sorted_l[(len(sorted(l)) // 2) -1]\n",
    "        m = (m1+m2) / 2\n",
    "    return m"
   ]
  },
  {
   "cell_type": "code",
   "execution_count": 20,
   "metadata": {},
   "outputs": [
    {
     "data": {
      "text/plain": [
       "3.5"
      ]
     },
     "execution_count": 20,
     "metadata": {},
     "output_type": "execute_result"
    }
   ],
   "source": [
    "median(l)"
   ]
  },
  {
   "cell_type": "markdown",
   "metadata": {},
   "source": [
    "#### 4.- Define a function to calculate the four quartiles. You can use the function you defined above to compute the median but you are not allowed to use any methods or functions that directly calculate the quartiles. "
   ]
  },
  {
   "cell_type": "code",
   "execution_count": 21,
   "metadata": {},
   "outputs": [
    {
     "data": {
      "text/plain": [
       "[1, 5, 5, 6, 1, 2, 2, 1, 5, 6]"
      ]
     },
     "execution_count": 21,
     "metadata": {},
     "output_type": "execute_result"
    }
   ],
   "source": [
    "l = list(dice[\"cara_dado\"])\n",
    "l"
   ]
  },
  {
   "cell_type": "code",
   "execution_count": 22,
   "metadata": {},
   "outputs": [
    {
     "data": {
      "text/plain": [
       "[2, 1, 5, 6]"
      ]
     },
     "execution_count": 22,
     "metadata": {},
     "output_type": "execute_result"
    }
   ],
   "source": [
    "lower_half = l[:len(l) // 2]\n",
    "lower_half\n",
    "upper_half = l[len(l)//2+1:]\n",
    "upper_half"
   ]
  },
  {
   "cell_type": "code",
   "execution_count": 23,
   "metadata": {},
   "outputs": [],
   "source": [
    "#Quartiles\n",
    "\n",
    "def quartiles(l):\n",
    "    sorted_l = sorted(l)\n",
    "    q2 = median(sorted_l)\n",
    "    \n",
    "    lower_half = sorted_l[:len(sorted_l) // 2]\n",
    "    upper_half = sorted_l[len(sorted_l)//2+1:]\n",
    "    \n",
    "    q1 = median(lower_half)\n",
    "    q2 = median(sorted_l)\n",
    "    q3 = median(upper_half)\n",
    "    \n",
    "    return q1, q2, q3"
   ]
  },
  {
   "cell_type": "code",
   "execution_count": 24,
   "metadata": {},
   "outputs": [
    {
     "data": {
      "text/plain": [
       "(1, 3.5, 5.5)"
      ]
     },
     "execution_count": 24,
     "metadata": {},
     "output_type": "execute_result"
    }
   ],
   "source": [
    "quartiles(l)"
   ]
  },
  {
   "cell_type": "code",
   "execution_count": 25,
   "metadata": {
    "scrolled": true
   },
   "outputs": [
    {
     "data": {
      "text/html": [
       "<div>\n",
       "<style scoped>\n",
       "    .dataframe tbody tr th:only-of-type {\n",
       "        vertical-align: middle;\n",
       "    }\n",
       "\n",
       "    .dataframe tbody tr th {\n",
       "        vertical-align: top;\n",
       "    }\n",
       "\n",
       "    .dataframe thead th {\n",
       "        text-align: right;\n",
       "    }\n",
       "</style>\n",
       "<table border=\"1\" class=\"dataframe\">\n",
       "  <thead>\n",
       "    <tr style=\"text-align: right;\">\n",
       "      <th></th>\n",
       "      <th>cara_dado</th>\n",
       "    </tr>\n",
       "  </thead>\n",
       "  <tbody>\n",
       "    <tr>\n",
       "      <th>count</th>\n",
       "      <td>10.000000</td>\n",
       "    </tr>\n",
       "    <tr>\n",
       "      <th>mean</th>\n",
       "      <td>3.400000</td>\n",
       "    </tr>\n",
       "    <tr>\n",
       "      <th>std</th>\n",
       "      <td>2.170509</td>\n",
       "    </tr>\n",
       "    <tr>\n",
       "      <th>min</th>\n",
       "      <td>1.000000</td>\n",
       "    </tr>\n",
       "    <tr>\n",
       "      <th>25%</th>\n",
       "      <td>1.250000</td>\n",
       "    </tr>\n",
       "    <tr>\n",
       "      <th>50%</th>\n",
       "      <td>3.500000</td>\n",
       "    </tr>\n",
       "    <tr>\n",
       "      <th>75%</th>\n",
       "      <td>5.000000</td>\n",
       "    </tr>\n",
       "    <tr>\n",
       "      <th>max</th>\n",
       "      <td>6.000000</td>\n",
       "    </tr>\n",
       "  </tbody>\n",
       "</table>\n",
       "</div>"
      ],
      "text/plain": [
       "       cara_dado\n",
       "count  10.000000\n",
       "mean    3.400000\n",
       "std     2.170509\n",
       "min     1.000000\n",
       "25%     1.250000\n",
       "50%     3.500000\n",
       "75%     5.000000\n",
       "max     6.000000"
      ]
     },
     "execution_count": 25,
     "metadata": {},
     "output_type": "execute_result"
    }
   ],
   "source": [
    "#To corroborate:\n",
    "\n",
    "dice.describe()"
   ]
  },
  {
   "cell_type": "markdown",
   "metadata": {},
   "source": [
    "## Challenge 3\n",
    "Read the csv `roll_the_dice_hundred.csv` from the `data` folder.\n",
    "#### 1.- Sort the values and plot them. What do you see?"
   ]
  },
  {
   "cell_type": "code",
   "execution_count": 26,
   "metadata": {},
   "outputs": [
    {
     "data": {
      "text/html": [
       "<div>\n",
       "<style scoped>\n",
       "    .dataframe tbody tr th:only-of-type {\n",
       "        vertical-align: middle;\n",
       "    }\n",
       "\n",
       "    .dataframe tbody tr th {\n",
       "        vertical-align: top;\n",
       "    }\n",
       "\n",
       "    .dataframe thead th {\n",
       "        text-align: right;\n",
       "    }\n",
       "</style>\n",
       "<table border=\"1\" class=\"dataframe\">\n",
       "  <thead>\n",
       "    <tr style=\"text-align: right;\">\n",
       "      <th></th>\n",
       "      <th>Unnamed: 0</th>\n",
       "      <th>roll</th>\n",
       "      <th>value</th>\n",
       "    </tr>\n",
       "  </thead>\n",
       "  <tbody>\n",
       "    <tr>\n",
       "      <th>0</th>\n",
       "      <td>0</td>\n",
       "      <td>0</td>\n",
       "      <td>1</td>\n",
       "    </tr>\n",
       "    <tr>\n",
       "      <th>1</th>\n",
       "      <td>1</td>\n",
       "      <td>1</td>\n",
       "      <td>2</td>\n",
       "    </tr>\n",
       "    <tr>\n",
       "      <th>2</th>\n",
       "      <td>2</td>\n",
       "      <td>2</td>\n",
       "      <td>6</td>\n",
       "    </tr>\n",
       "    <tr>\n",
       "      <th>3</th>\n",
       "      <td>3</td>\n",
       "      <td>3</td>\n",
       "      <td>1</td>\n",
       "    </tr>\n",
       "    <tr>\n",
       "      <th>4</th>\n",
       "      <td>4</td>\n",
       "      <td>4</td>\n",
       "      <td>6</td>\n",
       "    </tr>\n",
       "  </tbody>\n",
       "</table>\n",
       "</div>"
      ],
      "text/plain": [
       "   Unnamed: 0  roll  value\n",
       "0           0     0      1\n",
       "1           1     1      2\n",
       "2           2     2      6\n",
       "3           3     3      1\n",
       "4           4     4      6"
      ]
     },
     "execution_count": 26,
     "metadata": {},
     "output_type": "execute_result"
    }
   ],
   "source": [
    "# Reading file and storing it as a dataframe\n",
    "\n",
    "dice_hundred = pd.read_csv(\"../data/roll_the_dice_hundred.csv\")\n",
    "dice_hundred.head(5)"
   ]
  },
  {
   "cell_type": "code",
   "execution_count": 27,
   "metadata": {},
   "outputs": [
    {
     "data": {
      "text/html": [
       "<div>\n",
       "<style scoped>\n",
       "    .dataframe tbody tr th:only-of-type {\n",
       "        vertical-align: middle;\n",
       "    }\n",
       "\n",
       "    .dataframe tbody tr th {\n",
       "        vertical-align: top;\n",
       "    }\n",
       "\n",
       "    .dataframe thead th {\n",
       "        text-align: right;\n",
       "    }\n",
       "</style>\n",
       "<table border=\"1\" class=\"dataframe\">\n",
       "  <thead>\n",
       "    <tr style=\"text-align: right;\">\n",
       "      <th></th>\n",
       "      <th>Unnamed: 0</th>\n",
       "      <th>roll</th>\n",
       "      <th>value</th>\n",
       "    </tr>\n",
       "  </thead>\n",
       "  <tbody>\n",
       "    <tr>\n",
       "      <th>count</th>\n",
       "      <td>100.000000</td>\n",
       "      <td>100.000000</td>\n",
       "      <td>100.000000</td>\n",
       "    </tr>\n",
       "    <tr>\n",
       "      <th>mean</th>\n",
       "      <td>49.500000</td>\n",
       "      <td>49.500000</td>\n",
       "      <td>3.740000</td>\n",
       "    </tr>\n",
       "    <tr>\n",
       "      <th>std</th>\n",
       "      <td>29.011492</td>\n",
       "      <td>29.011492</td>\n",
       "      <td>1.703354</td>\n",
       "    </tr>\n",
       "    <tr>\n",
       "      <th>min</th>\n",
       "      <td>0.000000</td>\n",
       "      <td>0.000000</td>\n",
       "      <td>1.000000</td>\n",
       "    </tr>\n",
       "    <tr>\n",
       "      <th>25%</th>\n",
       "      <td>24.750000</td>\n",
       "      <td>24.750000</td>\n",
       "      <td>2.000000</td>\n",
       "    </tr>\n",
       "    <tr>\n",
       "      <th>50%</th>\n",
       "      <td>49.500000</td>\n",
       "      <td>49.500000</td>\n",
       "      <td>4.000000</td>\n",
       "    </tr>\n",
       "    <tr>\n",
       "      <th>75%</th>\n",
       "      <td>74.250000</td>\n",
       "      <td>74.250000</td>\n",
       "      <td>5.000000</td>\n",
       "    </tr>\n",
       "    <tr>\n",
       "      <th>max</th>\n",
       "      <td>99.000000</td>\n",
       "      <td>99.000000</td>\n",
       "      <td>6.000000</td>\n",
       "    </tr>\n",
       "  </tbody>\n",
       "</table>\n",
       "</div>"
      ],
      "text/plain": [
       "       Unnamed: 0        roll       value\n",
       "count  100.000000  100.000000  100.000000\n",
       "mean    49.500000   49.500000    3.740000\n",
       "std     29.011492   29.011492    1.703354\n",
       "min      0.000000    0.000000    1.000000\n",
       "25%     24.750000   24.750000    2.000000\n",
       "50%     49.500000   49.500000    4.000000\n",
       "75%     74.250000   74.250000    5.000000\n",
       "max     99.000000   99.000000    6.000000"
      ]
     },
     "execution_count": 27,
     "metadata": {},
     "output_type": "execute_result"
    }
   ],
   "source": [
    "dice_hundred.describe()"
   ]
  },
  {
   "cell_type": "code",
   "execution_count": 28,
   "metadata": {},
   "outputs": [
    {
     "data": {
      "application/vnd.plotly.v1+json": {
       "config": {
        "plotlyServerURL": "https://plot.ly"
       },
       "data": [
        {
         "alignmentgroup": "True",
         "hovertemplate": "roll=%{x}<br>value=%{y}<extra></extra>",
         "legendgroup": "",
         "marker": {
          "color": "#636efa",
          "pattern": {
           "shape": ""
          }
         },
         "name": "",
         "offsetgroup": "",
         "orientation": "v",
         "showlegend": false,
         "textposition": "auto",
         "type": "bar",
         "x": [
          0,
          47,
          56,
          9,
          73,
          63,
          26,
          89,
          3,
          94,
          82,
          97,
          33,
          37,
          41,
          46,
          76,
          52,
          58,
          29,
          70,
          71,
          51,
          55,
          49,
          7,
          1,
          18,
          6,
          64,
          61,
          57,
          38,
          98,
          50,
          34,
          83,
          84,
          85,
          91,
          22,
          43,
          66,
          60,
          59,
          25,
          68,
          69,
          8,
          77,
          81,
          93,
          95,
          67,
          13,
          62,
          53,
          15,
          16,
          48,
          27,
          28,
          44,
          19,
          20,
          10,
          86,
          5,
          88,
          79,
          14,
          74,
          31,
          32,
          42,
          12,
          72,
          30,
          92,
          90,
          4,
          2,
          96,
          87,
          23,
          54,
          36,
          35,
          80,
          78,
          75,
          39,
          40,
          45,
          65,
          17,
          11,
          24,
          21,
          99
         ],
         "xaxis": "x",
         "y": [
          1,
          1,
          1,
          1,
          1,
          1,
          1,
          1,
          1,
          1,
          1,
          1,
          2,
          2,
          2,
          2,
          2,
          2,
          2,
          2,
          2,
          2,
          2,
          2,
          2,
          2,
          2,
          2,
          2,
          3,
          3,
          3,
          3,
          3,
          3,
          3,
          3,
          3,
          3,
          3,
          3,
          3,
          3,
          4,
          4,
          4,
          4,
          4,
          4,
          4,
          4,
          4,
          4,
          4,
          4,
          4,
          4,
          4,
          4,
          4,
          4,
          4,
          4,
          4,
          4,
          5,
          5,
          5,
          5,
          5,
          5,
          5,
          5,
          5,
          5,
          5,
          5,
          6,
          6,
          6,
          6,
          6,
          6,
          6,
          6,
          6,
          6,
          6,
          6,
          6,
          6,
          6,
          6,
          6,
          6,
          6,
          6,
          6,
          6,
          6
         ],
         "yaxis": "y"
        }
       ],
       "layout": {
        "barmode": "relative",
        "legend": {
         "tracegroupgap": 0
        },
        "template": {
         "data": {
          "bar": [
           {
            "error_x": {
             "color": "#2a3f5f"
            },
            "error_y": {
             "color": "#2a3f5f"
            },
            "marker": {
             "line": {
              "color": "#E5ECF6",
              "width": 0.5
             },
             "pattern": {
              "fillmode": "overlay",
              "size": 10,
              "solidity": 0.2
             }
            },
            "type": "bar"
           }
          ],
          "barpolar": [
           {
            "marker": {
             "line": {
              "color": "#E5ECF6",
              "width": 0.5
             },
             "pattern": {
              "fillmode": "overlay",
              "size": 10,
              "solidity": 0.2
             }
            },
            "type": "barpolar"
           }
          ],
          "carpet": [
           {
            "aaxis": {
             "endlinecolor": "#2a3f5f",
             "gridcolor": "white",
             "linecolor": "white",
             "minorgridcolor": "white",
             "startlinecolor": "#2a3f5f"
            },
            "baxis": {
             "endlinecolor": "#2a3f5f",
             "gridcolor": "white",
             "linecolor": "white",
             "minorgridcolor": "white",
             "startlinecolor": "#2a3f5f"
            },
            "type": "carpet"
           }
          ],
          "choropleth": [
           {
            "colorbar": {
             "outlinewidth": 0,
             "ticks": ""
            },
            "type": "choropleth"
           }
          ],
          "contour": [
           {
            "colorbar": {
             "outlinewidth": 0,
             "ticks": ""
            },
            "colorscale": [
             [
              0,
              "#0d0887"
             ],
             [
              0.1111111111111111,
              "#46039f"
             ],
             [
              0.2222222222222222,
              "#7201a8"
             ],
             [
              0.3333333333333333,
              "#9c179e"
             ],
             [
              0.4444444444444444,
              "#bd3786"
             ],
             [
              0.5555555555555556,
              "#d8576b"
             ],
             [
              0.6666666666666666,
              "#ed7953"
             ],
             [
              0.7777777777777778,
              "#fb9f3a"
             ],
             [
              0.8888888888888888,
              "#fdca26"
             ],
             [
              1,
              "#f0f921"
             ]
            ],
            "type": "contour"
           }
          ],
          "contourcarpet": [
           {
            "colorbar": {
             "outlinewidth": 0,
             "ticks": ""
            },
            "type": "contourcarpet"
           }
          ],
          "heatmap": [
           {
            "colorbar": {
             "outlinewidth": 0,
             "ticks": ""
            },
            "colorscale": [
             [
              0,
              "#0d0887"
             ],
             [
              0.1111111111111111,
              "#46039f"
             ],
             [
              0.2222222222222222,
              "#7201a8"
             ],
             [
              0.3333333333333333,
              "#9c179e"
             ],
             [
              0.4444444444444444,
              "#bd3786"
             ],
             [
              0.5555555555555556,
              "#d8576b"
             ],
             [
              0.6666666666666666,
              "#ed7953"
             ],
             [
              0.7777777777777778,
              "#fb9f3a"
             ],
             [
              0.8888888888888888,
              "#fdca26"
             ],
             [
              1,
              "#f0f921"
             ]
            ],
            "type": "heatmap"
           }
          ],
          "heatmapgl": [
           {
            "colorbar": {
             "outlinewidth": 0,
             "ticks": ""
            },
            "colorscale": [
             [
              0,
              "#0d0887"
             ],
             [
              0.1111111111111111,
              "#46039f"
             ],
             [
              0.2222222222222222,
              "#7201a8"
             ],
             [
              0.3333333333333333,
              "#9c179e"
             ],
             [
              0.4444444444444444,
              "#bd3786"
             ],
             [
              0.5555555555555556,
              "#d8576b"
             ],
             [
              0.6666666666666666,
              "#ed7953"
             ],
             [
              0.7777777777777778,
              "#fb9f3a"
             ],
             [
              0.8888888888888888,
              "#fdca26"
             ],
             [
              1,
              "#f0f921"
             ]
            ],
            "type": "heatmapgl"
           }
          ],
          "histogram": [
           {
            "marker": {
             "pattern": {
              "fillmode": "overlay",
              "size": 10,
              "solidity": 0.2
             }
            },
            "type": "histogram"
           }
          ],
          "histogram2d": [
           {
            "colorbar": {
             "outlinewidth": 0,
             "ticks": ""
            },
            "colorscale": [
             [
              0,
              "#0d0887"
             ],
             [
              0.1111111111111111,
              "#46039f"
             ],
             [
              0.2222222222222222,
              "#7201a8"
             ],
             [
              0.3333333333333333,
              "#9c179e"
             ],
             [
              0.4444444444444444,
              "#bd3786"
             ],
             [
              0.5555555555555556,
              "#d8576b"
             ],
             [
              0.6666666666666666,
              "#ed7953"
             ],
             [
              0.7777777777777778,
              "#fb9f3a"
             ],
             [
              0.8888888888888888,
              "#fdca26"
             ],
             [
              1,
              "#f0f921"
             ]
            ],
            "type": "histogram2d"
           }
          ],
          "histogram2dcontour": [
           {
            "colorbar": {
             "outlinewidth": 0,
             "ticks": ""
            },
            "colorscale": [
             [
              0,
              "#0d0887"
             ],
             [
              0.1111111111111111,
              "#46039f"
             ],
             [
              0.2222222222222222,
              "#7201a8"
             ],
             [
              0.3333333333333333,
              "#9c179e"
             ],
             [
              0.4444444444444444,
              "#bd3786"
             ],
             [
              0.5555555555555556,
              "#d8576b"
             ],
             [
              0.6666666666666666,
              "#ed7953"
             ],
             [
              0.7777777777777778,
              "#fb9f3a"
             ],
             [
              0.8888888888888888,
              "#fdca26"
             ],
             [
              1,
              "#f0f921"
             ]
            ],
            "type": "histogram2dcontour"
           }
          ],
          "mesh3d": [
           {
            "colorbar": {
             "outlinewidth": 0,
             "ticks": ""
            },
            "type": "mesh3d"
           }
          ],
          "parcoords": [
           {
            "line": {
             "colorbar": {
              "outlinewidth": 0,
              "ticks": ""
             }
            },
            "type": "parcoords"
           }
          ],
          "pie": [
           {
            "automargin": true,
            "type": "pie"
           }
          ],
          "scatter": [
           {
            "fillpattern": {
             "fillmode": "overlay",
             "size": 10,
             "solidity": 0.2
            },
            "type": "scatter"
           }
          ],
          "scatter3d": [
           {
            "line": {
             "colorbar": {
              "outlinewidth": 0,
              "ticks": ""
             }
            },
            "marker": {
             "colorbar": {
              "outlinewidth": 0,
              "ticks": ""
             }
            },
            "type": "scatter3d"
           }
          ],
          "scattercarpet": [
           {
            "marker": {
             "colorbar": {
              "outlinewidth": 0,
              "ticks": ""
             }
            },
            "type": "scattercarpet"
           }
          ],
          "scattergeo": [
           {
            "marker": {
             "colorbar": {
              "outlinewidth": 0,
              "ticks": ""
             }
            },
            "type": "scattergeo"
           }
          ],
          "scattergl": [
           {
            "marker": {
             "colorbar": {
              "outlinewidth": 0,
              "ticks": ""
             }
            },
            "type": "scattergl"
           }
          ],
          "scattermapbox": [
           {
            "marker": {
             "colorbar": {
              "outlinewidth": 0,
              "ticks": ""
             }
            },
            "type": "scattermapbox"
           }
          ],
          "scatterpolar": [
           {
            "marker": {
             "colorbar": {
              "outlinewidth": 0,
              "ticks": ""
             }
            },
            "type": "scatterpolar"
           }
          ],
          "scatterpolargl": [
           {
            "marker": {
             "colorbar": {
              "outlinewidth": 0,
              "ticks": ""
             }
            },
            "type": "scatterpolargl"
           }
          ],
          "scatterternary": [
           {
            "marker": {
             "colorbar": {
              "outlinewidth": 0,
              "ticks": ""
             }
            },
            "type": "scatterternary"
           }
          ],
          "surface": [
           {
            "colorbar": {
             "outlinewidth": 0,
             "ticks": ""
            },
            "colorscale": [
             [
              0,
              "#0d0887"
             ],
             [
              0.1111111111111111,
              "#46039f"
             ],
             [
              0.2222222222222222,
              "#7201a8"
             ],
             [
              0.3333333333333333,
              "#9c179e"
             ],
             [
              0.4444444444444444,
              "#bd3786"
             ],
             [
              0.5555555555555556,
              "#d8576b"
             ],
             [
              0.6666666666666666,
              "#ed7953"
             ],
             [
              0.7777777777777778,
              "#fb9f3a"
             ],
             [
              0.8888888888888888,
              "#fdca26"
             ],
             [
              1,
              "#f0f921"
             ]
            ],
            "type": "surface"
           }
          ],
          "table": [
           {
            "cells": {
             "fill": {
              "color": "#EBF0F8"
             },
             "line": {
              "color": "white"
             }
            },
            "header": {
             "fill": {
              "color": "#C8D4E3"
             },
             "line": {
              "color": "white"
             }
            },
            "type": "table"
           }
          ]
         },
         "layout": {
          "annotationdefaults": {
           "arrowcolor": "#2a3f5f",
           "arrowhead": 0,
           "arrowwidth": 1
          },
          "autotypenumbers": "strict",
          "coloraxis": {
           "colorbar": {
            "outlinewidth": 0,
            "ticks": ""
           }
          },
          "colorscale": {
           "diverging": [
            [
             0,
             "#8e0152"
            ],
            [
             0.1,
             "#c51b7d"
            ],
            [
             0.2,
             "#de77ae"
            ],
            [
             0.3,
             "#f1b6da"
            ],
            [
             0.4,
             "#fde0ef"
            ],
            [
             0.5,
             "#f7f7f7"
            ],
            [
             0.6,
             "#e6f5d0"
            ],
            [
             0.7,
             "#b8e186"
            ],
            [
             0.8,
             "#7fbc41"
            ],
            [
             0.9,
             "#4d9221"
            ],
            [
             1,
             "#276419"
            ]
           ],
           "sequential": [
            [
             0,
             "#0d0887"
            ],
            [
             0.1111111111111111,
             "#46039f"
            ],
            [
             0.2222222222222222,
             "#7201a8"
            ],
            [
             0.3333333333333333,
             "#9c179e"
            ],
            [
             0.4444444444444444,
             "#bd3786"
            ],
            [
             0.5555555555555556,
             "#d8576b"
            ],
            [
             0.6666666666666666,
             "#ed7953"
            ],
            [
             0.7777777777777778,
             "#fb9f3a"
            ],
            [
             0.8888888888888888,
             "#fdca26"
            ],
            [
             1,
             "#f0f921"
            ]
           ],
           "sequentialminus": [
            [
             0,
             "#0d0887"
            ],
            [
             0.1111111111111111,
             "#46039f"
            ],
            [
             0.2222222222222222,
             "#7201a8"
            ],
            [
             0.3333333333333333,
             "#9c179e"
            ],
            [
             0.4444444444444444,
             "#bd3786"
            ],
            [
             0.5555555555555556,
             "#d8576b"
            ],
            [
             0.6666666666666666,
             "#ed7953"
            ],
            [
             0.7777777777777778,
             "#fb9f3a"
            ],
            [
             0.8888888888888888,
             "#fdca26"
            ],
            [
             1,
             "#f0f921"
            ]
           ]
          },
          "colorway": [
           "#636efa",
           "#EF553B",
           "#00cc96",
           "#ab63fa",
           "#FFA15A",
           "#19d3f3",
           "#FF6692",
           "#B6E880",
           "#FF97FF",
           "#FECB52"
          ],
          "font": {
           "color": "#2a3f5f"
          },
          "geo": {
           "bgcolor": "white",
           "lakecolor": "white",
           "landcolor": "#E5ECF6",
           "showlakes": true,
           "showland": true,
           "subunitcolor": "white"
          },
          "hoverlabel": {
           "align": "left"
          },
          "hovermode": "closest",
          "mapbox": {
           "style": "light"
          },
          "paper_bgcolor": "white",
          "plot_bgcolor": "#E5ECF6",
          "polar": {
           "angularaxis": {
            "gridcolor": "white",
            "linecolor": "white",
            "ticks": ""
           },
           "bgcolor": "#E5ECF6",
           "radialaxis": {
            "gridcolor": "white",
            "linecolor": "white",
            "ticks": ""
           }
          },
          "scene": {
           "xaxis": {
            "backgroundcolor": "#E5ECF6",
            "gridcolor": "white",
            "gridwidth": 2,
            "linecolor": "white",
            "showbackground": true,
            "ticks": "",
            "zerolinecolor": "white"
           },
           "yaxis": {
            "backgroundcolor": "#E5ECF6",
            "gridcolor": "white",
            "gridwidth": 2,
            "linecolor": "white",
            "showbackground": true,
            "ticks": "",
            "zerolinecolor": "white"
           },
           "zaxis": {
            "backgroundcolor": "#E5ECF6",
            "gridcolor": "white",
            "gridwidth": 2,
            "linecolor": "white",
            "showbackground": true,
            "ticks": "",
            "zerolinecolor": "white"
           }
          },
          "shapedefaults": {
           "line": {
            "color": "#2a3f5f"
           }
          },
          "ternary": {
           "aaxis": {
            "gridcolor": "white",
            "linecolor": "white",
            "ticks": ""
           },
           "baxis": {
            "gridcolor": "white",
            "linecolor": "white",
            "ticks": ""
           },
           "bgcolor": "#E5ECF6",
           "caxis": {
            "gridcolor": "white",
            "linecolor": "white",
            "ticks": ""
           }
          },
          "title": {
           "x": 0.05
          },
          "xaxis": {
           "automargin": true,
           "gridcolor": "white",
           "linecolor": "white",
           "ticks": "",
           "title": {
            "standoff": 15
           },
           "zerolinecolor": "white",
           "zerolinewidth": 2
          },
          "yaxis": {
           "automargin": true,
           "gridcolor": "white",
           "linecolor": "white",
           "ticks": "",
           "title": {
            "standoff": 15
           },
           "zerolinecolor": "white",
           "zerolinewidth": 2
          }
         }
        },
        "title": {
         "text": "Resultados del Dado (ordenados por valor)"
        },
        "xaxis": {
         "anchor": "y",
         "domain": [
          0,
          1
         ],
         "title": {
          "text": "roll"
         }
        },
        "yaxis": {
         "anchor": "x",
         "domain": [
          0,
          1
         ],
         "title": {
          "text": "value"
         }
        }
       }
      },
      "text/html": [
       "<div>                            <div id=\"8531f8f2-2e2e-4a97-b9c0-dc70a0f48985\" class=\"plotly-graph-div\" style=\"height:525px; width:100%;\"></div>            <script type=\"text/javascript\">                require([\"plotly\"], function(Plotly) {                    window.PLOTLYENV=window.PLOTLYENV || {};                                    if (document.getElementById(\"8531f8f2-2e2e-4a97-b9c0-dc70a0f48985\")) {                    Plotly.newPlot(                        \"8531f8f2-2e2e-4a97-b9c0-dc70a0f48985\",                        [{\"alignmentgroup\":\"True\",\"hovertemplate\":\"roll=%{x}<br>value=%{y}<extra></extra>\",\"legendgroup\":\"\",\"marker\":{\"color\":\"#636efa\",\"pattern\":{\"shape\":\"\"}},\"name\":\"\",\"offsetgroup\":\"\",\"orientation\":\"v\",\"showlegend\":false,\"textposition\":\"auto\",\"x\":[0,47,56,9,73,63,26,89,3,94,82,97,33,37,41,46,76,52,58,29,70,71,51,55,49,7,1,18,6,64,61,57,38,98,50,34,83,84,85,91,22,43,66,60,59,25,68,69,8,77,81,93,95,67,13,62,53,15,16,48,27,28,44,19,20,10,86,5,88,79,14,74,31,32,42,12,72,30,92,90,4,2,96,87,23,54,36,35,80,78,75,39,40,45,65,17,11,24,21,99],\"xaxis\":\"x\",\"y\":[1,1,1,1,1,1,1,1,1,1,1,1,2,2,2,2,2,2,2,2,2,2,2,2,2,2,2,2,2,3,3,3,3,3,3,3,3,3,3,3,3,3,3,4,4,4,4,4,4,4,4,4,4,4,4,4,4,4,4,4,4,4,4,4,4,5,5,5,5,5,5,5,5,5,5,5,5,6,6,6,6,6,6,6,6,6,6,6,6,6,6,6,6,6,6,6,6,6,6,6],\"yaxis\":\"y\",\"type\":\"bar\"}],                        {\"template\":{\"data\":{\"histogram2dcontour\":[{\"type\":\"histogram2dcontour\",\"colorbar\":{\"outlinewidth\":0,\"ticks\":\"\"},\"colorscale\":[[0.0,\"#0d0887\"],[0.1111111111111111,\"#46039f\"],[0.2222222222222222,\"#7201a8\"],[0.3333333333333333,\"#9c179e\"],[0.4444444444444444,\"#bd3786\"],[0.5555555555555556,\"#d8576b\"],[0.6666666666666666,\"#ed7953\"],[0.7777777777777778,\"#fb9f3a\"],[0.8888888888888888,\"#fdca26\"],[1.0,\"#f0f921\"]]}],\"choropleth\":[{\"type\":\"choropleth\",\"colorbar\":{\"outlinewidth\":0,\"ticks\":\"\"}}],\"histogram2d\":[{\"type\":\"histogram2d\",\"colorbar\":{\"outlinewidth\":0,\"ticks\":\"\"},\"colorscale\":[[0.0,\"#0d0887\"],[0.1111111111111111,\"#46039f\"],[0.2222222222222222,\"#7201a8\"],[0.3333333333333333,\"#9c179e\"],[0.4444444444444444,\"#bd3786\"],[0.5555555555555556,\"#d8576b\"],[0.6666666666666666,\"#ed7953\"],[0.7777777777777778,\"#fb9f3a\"],[0.8888888888888888,\"#fdca26\"],[1.0,\"#f0f921\"]]}],\"heatmap\":[{\"type\":\"heatmap\",\"colorbar\":{\"outlinewidth\":0,\"ticks\":\"\"},\"colorscale\":[[0.0,\"#0d0887\"],[0.1111111111111111,\"#46039f\"],[0.2222222222222222,\"#7201a8\"],[0.3333333333333333,\"#9c179e\"],[0.4444444444444444,\"#bd3786\"],[0.5555555555555556,\"#d8576b\"],[0.6666666666666666,\"#ed7953\"],[0.7777777777777778,\"#fb9f3a\"],[0.8888888888888888,\"#fdca26\"],[1.0,\"#f0f921\"]]}],\"heatmapgl\":[{\"type\":\"heatmapgl\",\"colorbar\":{\"outlinewidth\":0,\"ticks\":\"\"},\"colorscale\":[[0.0,\"#0d0887\"],[0.1111111111111111,\"#46039f\"],[0.2222222222222222,\"#7201a8\"],[0.3333333333333333,\"#9c179e\"],[0.4444444444444444,\"#bd3786\"],[0.5555555555555556,\"#d8576b\"],[0.6666666666666666,\"#ed7953\"],[0.7777777777777778,\"#fb9f3a\"],[0.8888888888888888,\"#fdca26\"],[1.0,\"#f0f921\"]]}],\"contourcarpet\":[{\"type\":\"contourcarpet\",\"colorbar\":{\"outlinewidth\":0,\"ticks\":\"\"}}],\"contour\":[{\"type\":\"contour\",\"colorbar\":{\"outlinewidth\":0,\"ticks\":\"\"},\"colorscale\":[[0.0,\"#0d0887\"],[0.1111111111111111,\"#46039f\"],[0.2222222222222222,\"#7201a8\"],[0.3333333333333333,\"#9c179e\"],[0.4444444444444444,\"#bd3786\"],[0.5555555555555556,\"#d8576b\"],[0.6666666666666666,\"#ed7953\"],[0.7777777777777778,\"#fb9f3a\"],[0.8888888888888888,\"#fdca26\"],[1.0,\"#f0f921\"]]}],\"surface\":[{\"type\":\"surface\",\"colorbar\":{\"outlinewidth\":0,\"ticks\":\"\"},\"colorscale\":[[0.0,\"#0d0887\"],[0.1111111111111111,\"#46039f\"],[0.2222222222222222,\"#7201a8\"],[0.3333333333333333,\"#9c179e\"],[0.4444444444444444,\"#bd3786\"],[0.5555555555555556,\"#d8576b\"],[0.6666666666666666,\"#ed7953\"],[0.7777777777777778,\"#fb9f3a\"],[0.8888888888888888,\"#fdca26\"],[1.0,\"#f0f921\"]]}],\"mesh3d\":[{\"type\":\"mesh3d\",\"colorbar\":{\"outlinewidth\":0,\"ticks\":\"\"}}],\"scatter\":[{\"fillpattern\":{\"fillmode\":\"overlay\",\"size\":10,\"solidity\":0.2},\"type\":\"scatter\"}],\"parcoords\":[{\"type\":\"parcoords\",\"line\":{\"colorbar\":{\"outlinewidth\":0,\"ticks\":\"\"}}}],\"scatterpolargl\":[{\"type\":\"scatterpolargl\",\"marker\":{\"colorbar\":{\"outlinewidth\":0,\"ticks\":\"\"}}}],\"bar\":[{\"error_x\":{\"color\":\"#2a3f5f\"},\"error_y\":{\"color\":\"#2a3f5f\"},\"marker\":{\"line\":{\"color\":\"#E5ECF6\",\"width\":0.5},\"pattern\":{\"fillmode\":\"overlay\",\"size\":10,\"solidity\":0.2}},\"type\":\"bar\"}],\"scattergeo\":[{\"type\":\"scattergeo\",\"marker\":{\"colorbar\":{\"outlinewidth\":0,\"ticks\":\"\"}}}],\"scatterpolar\":[{\"type\":\"scatterpolar\",\"marker\":{\"colorbar\":{\"outlinewidth\":0,\"ticks\":\"\"}}}],\"histogram\":[{\"marker\":{\"pattern\":{\"fillmode\":\"overlay\",\"size\":10,\"solidity\":0.2}},\"type\":\"histogram\"}],\"scattergl\":[{\"type\":\"scattergl\",\"marker\":{\"colorbar\":{\"outlinewidth\":0,\"ticks\":\"\"}}}],\"scatter3d\":[{\"type\":\"scatter3d\",\"line\":{\"colorbar\":{\"outlinewidth\":0,\"ticks\":\"\"}},\"marker\":{\"colorbar\":{\"outlinewidth\":0,\"ticks\":\"\"}}}],\"scattermapbox\":[{\"type\":\"scattermapbox\",\"marker\":{\"colorbar\":{\"outlinewidth\":0,\"ticks\":\"\"}}}],\"scatterternary\":[{\"type\":\"scatterternary\",\"marker\":{\"colorbar\":{\"outlinewidth\":0,\"ticks\":\"\"}}}],\"scattercarpet\":[{\"type\":\"scattercarpet\",\"marker\":{\"colorbar\":{\"outlinewidth\":0,\"ticks\":\"\"}}}],\"carpet\":[{\"aaxis\":{\"endlinecolor\":\"#2a3f5f\",\"gridcolor\":\"white\",\"linecolor\":\"white\",\"minorgridcolor\":\"white\",\"startlinecolor\":\"#2a3f5f\"},\"baxis\":{\"endlinecolor\":\"#2a3f5f\",\"gridcolor\":\"white\",\"linecolor\":\"white\",\"minorgridcolor\":\"white\",\"startlinecolor\":\"#2a3f5f\"},\"type\":\"carpet\"}],\"table\":[{\"cells\":{\"fill\":{\"color\":\"#EBF0F8\"},\"line\":{\"color\":\"white\"}},\"header\":{\"fill\":{\"color\":\"#C8D4E3\"},\"line\":{\"color\":\"white\"}},\"type\":\"table\"}],\"barpolar\":[{\"marker\":{\"line\":{\"color\":\"#E5ECF6\",\"width\":0.5},\"pattern\":{\"fillmode\":\"overlay\",\"size\":10,\"solidity\":0.2}},\"type\":\"barpolar\"}],\"pie\":[{\"automargin\":true,\"type\":\"pie\"}]},\"layout\":{\"autotypenumbers\":\"strict\",\"colorway\":[\"#636efa\",\"#EF553B\",\"#00cc96\",\"#ab63fa\",\"#FFA15A\",\"#19d3f3\",\"#FF6692\",\"#B6E880\",\"#FF97FF\",\"#FECB52\"],\"font\":{\"color\":\"#2a3f5f\"},\"hovermode\":\"closest\",\"hoverlabel\":{\"align\":\"left\"},\"paper_bgcolor\":\"white\",\"plot_bgcolor\":\"#E5ECF6\",\"polar\":{\"bgcolor\":\"#E5ECF6\",\"angularaxis\":{\"gridcolor\":\"white\",\"linecolor\":\"white\",\"ticks\":\"\"},\"radialaxis\":{\"gridcolor\":\"white\",\"linecolor\":\"white\",\"ticks\":\"\"}},\"ternary\":{\"bgcolor\":\"#E5ECF6\",\"aaxis\":{\"gridcolor\":\"white\",\"linecolor\":\"white\",\"ticks\":\"\"},\"baxis\":{\"gridcolor\":\"white\",\"linecolor\":\"white\",\"ticks\":\"\"},\"caxis\":{\"gridcolor\":\"white\",\"linecolor\":\"white\",\"ticks\":\"\"}},\"coloraxis\":{\"colorbar\":{\"outlinewidth\":0,\"ticks\":\"\"}},\"colorscale\":{\"sequential\":[[0.0,\"#0d0887\"],[0.1111111111111111,\"#46039f\"],[0.2222222222222222,\"#7201a8\"],[0.3333333333333333,\"#9c179e\"],[0.4444444444444444,\"#bd3786\"],[0.5555555555555556,\"#d8576b\"],[0.6666666666666666,\"#ed7953\"],[0.7777777777777778,\"#fb9f3a\"],[0.8888888888888888,\"#fdca26\"],[1.0,\"#f0f921\"]],\"sequentialminus\":[[0.0,\"#0d0887\"],[0.1111111111111111,\"#46039f\"],[0.2222222222222222,\"#7201a8\"],[0.3333333333333333,\"#9c179e\"],[0.4444444444444444,\"#bd3786\"],[0.5555555555555556,\"#d8576b\"],[0.6666666666666666,\"#ed7953\"],[0.7777777777777778,\"#fb9f3a\"],[0.8888888888888888,\"#fdca26\"],[1.0,\"#f0f921\"]],\"diverging\":[[0,\"#8e0152\"],[0.1,\"#c51b7d\"],[0.2,\"#de77ae\"],[0.3,\"#f1b6da\"],[0.4,\"#fde0ef\"],[0.5,\"#f7f7f7\"],[0.6,\"#e6f5d0\"],[0.7,\"#b8e186\"],[0.8,\"#7fbc41\"],[0.9,\"#4d9221\"],[1,\"#276419\"]]},\"xaxis\":{\"gridcolor\":\"white\",\"linecolor\":\"white\",\"ticks\":\"\",\"title\":{\"standoff\":15},\"zerolinecolor\":\"white\",\"automargin\":true,\"zerolinewidth\":2},\"yaxis\":{\"gridcolor\":\"white\",\"linecolor\":\"white\",\"ticks\":\"\",\"title\":{\"standoff\":15},\"zerolinecolor\":\"white\",\"automargin\":true,\"zerolinewidth\":2},\"scene\":{\"xaxis\":{\"backgroundcolor\":\"#E5ECF6\",\"gridcolor\":\"white\",\"linecolor\":\"white\",\"showbackground\":true,\"ticks\":\"\",\"zerolinecolor\":\"white\",\"gridwidth\":2},\"yaxis\":{\"backgroundcolor\":\"#E5ECF6\",\"gridcolor\":\"white\",\"linecolor\":\"white\",\"showbackground\":true,\"ticks\":\"\",\"zerolinecolor\":\"white\",\"gridwidth\":2},\"zaxis\":{\"backgroundcolor\":\"#E5ECF6\",\"gridcolor\":\"white\",\"linecolor\":\"white\",\"showbackground\":true,\"ticks\":\"\",\"zerolinecolor\":\"white\",\"gridwidth\":2}},\"shapedefaults\":{\"line\":{\"color\":\"#2a3f5f\"}},\"annotationdefaults\":{\"arrowcolor\":\"#2a3f5f\",\"arrowhead\":0,\"arrowwidth\":1},\"geo\":{\"bgcolor\":\"white\",\"landcolor\":\"#E5ECF6\",\"subunitcolor\":\"white\",\"showland\":true,\"showlakes\":true,\"lakecolor\":\"white\"},\"title\":{\"x\":0.05},\"mapbox\":{\"style\":\"light\"}}},\"xaxis\":{\"anchor\":\"y\",\"domain\":[0.0,1.0],\"title\":{\"text\":\"roll\"}},\"yaxis\":{\"anchor\":\"x\",\"domain\":[0.0,1.0],\"title\":{\"text\":\"value\"}},\"legend\":{\"tracegroupgap\":0},\"title\":{\"text\":\"Resultados del Dado (ordenados por valor)\"},\"barmode\":\"relative\"},                        {\"responsive\": true}                    ).then(function(){\n",
       "                            \n",
       "var gd = document.getElementById('8531f8f2-2e2e-4a97-b9c0-dc70a0f48985');\n",
       "var x = new MutationObserver(function (mutations, observer) {{\n",
       "        var display = window.getComputedStyle(gd).display;\n",
       "        if (!display || display === 'none') {{\n",
       "            console.log([gd, 'removed!']);\n",
       "            Plotly.purge(gd);\n",
       "            observer.disconnect();\n",
       "        }}\n",
       "}});\n",
       "\n",
       "// Listen for the removal of the full notebook cells\n",
       "var notebookContainer = gd.closest('#notebook-container');\n",
       "if (notebookContainer) {{\n",
       "    x.observe(notebookContainer, {childList: true});\n",
       "}}\n",
       "\n",
       "// Listen for the clearing of the current output cell\n",
       "var outputEl = gd.closest('.output');\n",
       "if (outputEl) {{\n",
       "    x.observe(outputEl, {childList: true});\n",
       "}}\n",
       "\n",
       "                        })                };                });            </script>        </div>"
      ]
     },
     "metadata": {},
     "output_type": "display_data"
    }
   ],
   "source": [
    "fig = px.bar(dice_hundred.sort_values(by=\"value\"), x = \"roll\", y = \"value\", title='Resultados del Dado (ordenados por valor)')\n",
    "fig"
   ]
  },
  {
   "cell_type": "code",
   "execution_count": 29,
   "metadata": {},
   "outputs": [
    {
     "data": {
      "text/plain": [
       "'\\nThe sample is so big it really tells us nothing...\\n'"
      ]
     },
     "execution_count": 29,
     "metadata": {},
     "output_type": "execute_result"
    }
   ],
   "source": [
    "\"\"\"\n",
    "The sample is so big it really tells us nothing...\n",
    "\"\"\""
   ]
  },
  {
   "cell_type": "markdown",
   "metadata": {},
   "source": [
    "#### 2.- Using the functions you defined in *challenge 2*, calculate the mean value of the hundred dice rolls."
   ]
  },
  {
   "cell_type": "code",
   "execution_count": 30,
   "metadata": {},
   "outputs": [],
   "source": [
    "def mean(colum):\n",
    "    total_sum = colum.sum()\n",
    "    total_number = colum.count()\n",
    "    return total_sum / total_number"
   ]
  },
  {
   "cell_type": "code",
   "execution_count": 31,
   "metadata": {},
   "outputs": [
    {
     "data": {
      "text/plain": [
       "3.74"
      ]
     },
     "execution_count": 31,
     "metadata": {},
     "output_type": "execute_result"
    }
   ],
   "source": [
    "# mean value of the hundred dice rolls\n",
    "\n",
    "mean(dice_hundred[\"value\"])"
   ]
  },
  {
   "cell_type": "markdown",
   "metadata": {},
   "source": [
    "#### 3.- Now, calculate the frequency distribution.\n"
   ]
  },
  {
   "cell_type": "code",
   "execution_count": 32,
   "metadata": {},
   "outputs": [],
   "source": [
    "def frequency(column):\n",
    "    frequency = {}\n",
    "    for i in list(column):\n",
    "        if i in frequency:\n",
    "            frequency[i] += 1\n",
    "        else:\n",
    "            frequency[i] = 1\n",
    "    return frequency"
   ]
  },
  {
   "cell_type": "code",
   "execution_count": 122,
   "metadata": {},
   "outputs": [
    {
     "data": {
      "text/plain": [
       "{1: 12, 2: 17, 3: 14, 4: 22, 5: 12, 6: 23}"
      ]
     },
     "execution_count": 122,
     "metadata": {},
     "output_type": "execute_result"
    }
   ],
   "source": [
    "f = frequency(dice_hundred[\"value\"])\n",
    "sorted_f = dict(sorted(f.items()))\n",
    "sorted_f"
   ]
  },
  {
   "cell_type": "code",
   "execution_count": 123,
   "metadata": {},
   "outputs": [
    {
     "data": {
      "text/plain": [
       "{1: 0.12, 2: 0.17, 3: 0.14, 4: 0.22, 5: 0.12, 6: 0.23}"
      ]
     },
     "execution_count": 123,
     "metadata": {},
     "output_type": "execute_result"
    }
   ],
   "source": [
    "prob2 = {key: value/100 for key, value in sorted_f.items()}\n",
    "prob2"
   ]
  },
  {
   "cell_type": "markdown",
   "metadata": {},
   "source": [
    "#### 4.- Plot the histogram. What do you see (shape, values...) ? How can you connect the mean value to the histogram? "
   ]
  },
  {
   "cell_type": "code",
   "execution_count": 35,
   "metadata": {},
   "outputs": [
    {
     "data": {
      "application/vnd.plotly.v1+json": {
       "config": {
        "plotlyServerURL": "https://plot.ly"
       },
       "data": [
        {
         "alignmentgroup": "True",
         "hovertemplate": "roll=%{x}<br>value=%{y}<extra></extra>",
         "legendgroup": "",
         "marker": {
          "color": "#636efa",
          "pattern": {
           "shape": ""
          }
         },
         "name": "",
         "offsetgroup": "",
         "orientation": "v",
         "showlegend": false,
         "textposition": "auto",
         "type": "bar",
         "x": [
          0,
          47,
          56,
          9,
          73,
          63,
          26,
          89,
          3,
          94,
          82,
          97,
          33,
          37,
          41,
          46,
          76,
          52,
          58,
          29,
          70,
          71,
          51,
          55,
          49,
          7,
          1,
          18,
          6,
          64,
          61,
          57,
          38,
          98,
          50,
          34,
          83,
          84,
          85,
          91,
          22,
          43,
          66,
          60,
          59,
          25,
          68,
          69,
          8,
          77,
          81,
          93,
          95,
          67,
          13,
          62,
          53,
          15,
          16,
          48,
          27,
          28,
          44,
          19,
          20,
          10,
          86,
          5,
          88,
          79,
          14,
          74,
          31,
          32,
          42,
          12,
          72,
          30,
          92,
          90,
          4,
          2,
          96,
          87,
          23,
          54,
          36,
          35,
          80,
          78,
          75,
          39,
          40,
          45,
          65,
          17,
          11,
          24,
          21,
          99
         ],
         "xaxis": "x",
         "y": [
          1,
          1,
          1,
          1,
          1,
          1,
          1,
          1,
          1,
          1,
          1,
          1,
          2,
          2,
          2,
          2,
          2,
          2,
          2,
          2,
          2,
          2,
          2,
          2,
          2,
          2,
          2,
          2,
          2,
          3,
          3,
          3,
          3,
          3,
          3,
          3,
          3,
          3,
          3,
          3,
          3,
          3,
          3,
          4,
          4,
          4,
          4,
          4,
          4,
          4,
          4,
          4,
          4,
          4,
          4,
          4,
          4,
          4,
          4,
          4,
          4,
          4,
          4,
          4,
          4,
          5,
          5,
          5,
          5,
          5,
          5,
          5,
          5,
          5,
          5,
          5,
          5,
          6,
          6,
          6,
          6,
          6,
          6,
          6,
          6,
          6,
          6,
          6,
          6,
          6,
          6,
          6,
          6,
          6,
          6,
          6,
          6,
          6,
          6,
          6
         ],
         "yaxis": "y"
        }
       ],
       "layout": {
        "barmode": "relative",
        "legend": {
         "tracegroupgap": 0
        },
        "template": {
         "data": {
          "bar": [
           {
            "error_x": {
             "color": "#2a3f5f"
            },
            "error_y": {
             "color": "#2a3f5f"
            },
            "marker": {
             "line": {
              "color": "#E5ECF6",
              "width": 0.5
             },
             "pattern": {
              "fillmode": "overlay",
              "size": 10,
              "solidity": 0.2
             }
            },
            "type": "bar"
           }
          ],
          "barpolar": [
           {
            "marker": {
             "line": {
              "color": "#E5ECF6",
              "width": 0.5
             },
             "pattern": {
              "fillmode": "overlay",
              "size": 10,
              "solidity": 0.2
             }
            },
            "type": "barpolar"
           }
          ],
          "carpet": [
           {
            "aaxis": {
             "endlinecolor": "#2a3f5f",
             "gridcolor": "white",
             "linecolor": "white",
             "minorgridcolor": "white",
             "startlinecolor": "#2a3f5f"
            },
            "baxis": {
             "endlinecolor": "#2a3f5f",
             "gridcolor": "white",
             "linecolor": "white",
             "minorgridcolor": "white",
             "startlinecolor": "#2a3f5f"
            },
            "type": "carpet"
           }
          ],
          "choropleth": [
           {
            "colorbar": {
             "outlinewidth": 0,
             "ticks": ""
            },
            "type": "choropleth"
           }
          ],
          "contour": [
           {
            "colorbar": {
             "outlinewidth": 0,
             "ticks": ""
            },
            "colorscale": [
             [
              0,
              "#0d0887"
             ],
             [
              0.1111111111111111,
              "#46039f"
             ],
             [
              0.2222222222222222,
              "#7201a8"
             ],
             [
              0.3333333333333333,
              "#9c179e"
             ],
             [
              0.4444444444444444,
              "#bd3786"
             ],
             [
              0.5555555555555556,
              "#d8576b"
             ],
             [
              0.6666666666666666,
              "#ed7953"
             ],
             [
              0.7777777777777778,
              "#fb9f3a"
             ],
             [
              0.8888888888888888,
              "#fdca26"
             ],
             [
              1,
              "#f0f921"
             ]
            ],
            "type": "contour"
           }
          ],
          "contourcarpet": [
           {
            "colorbar": {
             "outlinewidth": 0,
             "ticks": ""
            },
            "type": "contourcarpet"
           }
          ],
          "heatmap": [
           {
            "colorbar": {
             "outlinewidth": 0,
             "ticks": ""
            },
            "colorscale": [
             [
              0,
              "#0d0887"
             ],
             [
              0.1111111111111111,
              "#46039f"
             ],
             [
              0.2222222222222222,
              "#7201a8"
             ],
             [
              0.3333333333333333,
              "#9c179e"
             ],
             [
              0.4444444444444444,
              "#bd3786"
             ],
             [
              0.5555555555555556,
              "#d8576b"
             ],
             [
              0.6666666666666666,
              "#ed7953"
             ],
             [
              0.7777777777777778,
              "#fb9f3a"
             ],
             [
              0.8888888888888888,
              "#fdca26"
             ],
             [
              1,
              "#f0f921"
             ]
            ],
            "type": "heatmap"
           }
          ],
          "heatmapgl": [
           {
            "colorbar": {
             "outlinewidth": 0,
             "ticks": ""
            },
            "colorscale": [
             [
              0,
              "#0d0887"
             ],
             [
              0.1111111111111111,
              "#46039f"
             ],
             [
              0.2222222222222222,
              "#7201a8"
             ],
             [
              0.3333333333333333,
              "#9c179e"
             ],
             [
              0.4444444444444444,
              "#bd3786"
             ],
             [
              0.5555555555555556,
              "#d8576b"
             ],
             [
              0.6666666666666666,
              "#ed7953"
             ],
             [
              0.7777777777777778,
              "#fb9f3a"
             ],
             [
              0.8888888888888888,
              "#fdca26"
             ],
             [
              1,
              "#f0f921"
             ]
            ],
            "type": "heatmapgl"
           }
          ],
          "histogram": [
           {
            "marker": {
             "pattern": {
              "fillmode": "overlay",
              "size": 10,
              "solidity": 0.2
             }
            },
            "type": "histogram"
           }
          ],
          "histogram2d": [
           {
            "colorbar": {
             "outlinewidth": 0,
             "ticks": ""
            },
            "colorscale": [
             [
              0,
              "#0d0887"
             ],
             [
              0.1111111111111111,
              "#46039f"
             ],
             [
              0.2222222222222222,
              "#7201a8"
             ],
             [
              0.3333333333333333,
              "#9c179e"
             ],
             [
              0.4444444444444444,
              "#bd3786"
             ],
             [
              0.5555555555555556,
              "#d8576b"
             ],
             [
              0.6666666666666666,
              "#ed7953"
             ],
             [
              0.7777777777777778,
              "#fb9f3a"
             ],
             [
              0.8888888888888888,
              "#fdca26"
             ],
             [
              1,
              "#f0f921"
             ]
            ],
            "type": "histogram2d"
           }
          ],
          "histogram2dcontour": [
           {
            "colorbar": {
             "outlinewidth": 0,
             "ticks": ""
            },
            "colorscale": [
             [
              0,
              "#0d0887"
             ],
             [
              0.1111111111111111,
              "#46039f"
             ],
             [
              0.2222222222222222,
              "#7201a8"
             ],
             [
              0.3333333333333333,
              "#9c179e"
             ],
             [
              0.4444444444444444,
              "#bd3786"
             ],
             [
              0.5555555555555556,
              "#d8576b"
             ],
             [
              0.6666666666666666,
              "#ed7953"
             ],
             [
              0.7777777777777778,
              "#fb9f3a"
             ],
             [
              0.8888888888888888,
              "#fdca26"
             ],
             [
              1,
              "#f0f921"
             ]
            ],
            "type": "histogram2dcontour"
           }
          ],
          "mesh3d": [
           {
            "colorbar": {
             "outlinewidth": 0,
             "ticks": ""
            },
            "type": "mesh3d"
           }
          ],
          "parcoords": [
           {
            "line": {
             "colorbar": {
              "outlinewidth": 0,
              "ticks": ""
             }
            },
            "type": "parcoords"
           }
          ],
          "pie": [
           {
            "automargin": true,
            "type": "pie"
           }
          ],
          "scatter": [
           {
            "fillpattern": {
             "fillmode": "overlay",
             "size": 10,
             "solidity": 0.2
            },
            "type": "scatter"
           }
          ],
          "scatter3d": [
           {
            "line": {
             "colorbar": {
              "outlinewidth": 0,
              "ticks": ""
             }
            },
            "marker": {
             "colorbar": {
              "outlinewidth": 0,
              "ticks": ""
             }
            },
            "type": "scatter3d"
           }
          ],
          "scattercarpet": [
           {
            "marker": {
             "colorbar": {
              "outlinewidth": 0,
              "ticks": ""
             }
            },
            "type": "scattercarpet"
           }
          ],
          "scattergeo": [
           {
            "marker": {
             "colorbar": {
              "outlinewidth": 0,
              "ticks": ""
             }
            },
            "type": "scattergeo"
           }
          ],
          "scattergl": [
           {
            "marker": {
             "colorbar": {
              "outlinewidth": 0,
              "ticks": ""
             }
            },
            "type": "scattergl"
           }
          ],
          "scattermapbox": [
           {
            "marker": {
             "colorbar": {
              "outlinewidth": 0,
              "ticks": ""
             }
            },
            "type": "scattermapbox"
           }
          ],
          "scatterpolar": [
           {
            "marker": {
             "colorbar": {
              "outlinewidth": 0,
              "ticks": ""
             }
            },
            "type": "scatterpolar"
           }
          ],
          "scatterpolargl": [
           {
            "marker": {
             "colorbar": {
              "outlinewidth": 0,
              "ticks": ""
             }
            },
            "type": "scatterpolargl"
           }
          ],
          "scatterternary": [
           {
            "marker": {
             "colorbar": {
              "outlinewidth": 0,
              "ticks": ""
             }
            },
            "type": "scatterternary"
           }
          ],
          "surface": [
           {
            "colorbar": {
             "outlinewidth": 0,
             "ticks": ""
            },
            "colorscale": [
             [
              0,
              "#0d0887"
             ],
             [
              0.1111111111111111,
              "#46039f"
             ],
             [
              0.2222222222222222,
              "#7201a8"
             ],
             [
              0.3333333333333333,
              "#9c179e"
             ],
             [
              0.4444444444444444,
              "#bd3786"
             ],
             [
              0.5555555555555556,
              "#d8576b"
             ],
             [
              0.6666666666666666,
              "#ed7953"
             ],
             [
              0.7777777777777778,
              "#fb9f3a"
             ],
             [
              0.8888888888888888,
              "#fdca26"
             ],
             [
              1,
              "#f0f921"
             ]
            ],
            "type": "surface"
           }
          ],
          "table": [
           {
            "cells": {
             "fill": {
              "color": "#EBF0F8"
             },
             "line": {
              "color": "white"
             }
            },
            "header": {
             "fill": {
              "color": "#C8D4E3"
             },
             "line": {
              "color": "white"
             }
            },
            "type": "table"
           }
          ]
         },
         "layout": {
          "annotationdefaults": {
           "arrowcolor": "#2a3f5f",
           "arrowhead": 0,
           "arrowwidth": 1
          },
          "autotypenumbers": "strict",
          "coloraxis": {
           "colorbar": {
            "outlinewidth": 0,
            "ticks": ""
           }
          },
          "colorscale": {
           "diverging": [
            [
             0,
             "#8e0152"
            ],
            [
             0.1,
             "#c51b7d"
            ],
            [
             0.2,
             "#de77ae"
            ],
            [
             0.3,
             "#f1b6da"
            ],
            [
             0.4,
             "#fde0ef"
            ],
            [
             0.5,
             "#f7f7f7"
            ],
            [
             0.6,
             "#e6f5d0"
            ],
            [
             0.7,
             "#b8e186"
            ],
            [
             0.8,
             "#7fbc41"
            ],
            [
             0.9,
             "#4d9221"
            ],
            [
             1,
             "#276419"
            ]
           ],
           "sequential": [
            [
             0,
             "#0d0887"
            ],
            [
             0.1111111111111111,
             "#46039f"
            ],
            [
             0.2222222222222222,
             "#7201a8"
            ],
            [
             0.3333333333333333,
             "#9c179e"
            ],
            [
             0.4444444444444444,
             "#bd3786"
            ],
            [
             0.5555555555555556,
             "#d8576b"
            ],
            [
             0.6666666666666666,
             "#ed7953"
            ],
            [
             0.7777777777777778,
             "#fb9f3a"
            ],
            [
             0.8888888888888888,
             "#fdca26"
            ],
            [
             1,
             "#f0f921"
            ]
           ],
           "sequentialminus": [
            [
             0,
             "#0d0887"
            ],
            [
             0.1111111111111111,
             "#46039f"
            ],
            [
             0.2222222222222222,
             "#7201a8"
            ],
            [
             0.3333333333333333,
             "#9c179e"
            ],
            [
             0.4444444444444444,
             "#bd3786"
            ],
            [
             0.5555555555555556,
             "#d8576b"
            ],
            [
             0.6666666666666666,
             "#ed7953"
            ],
            [
             0.7777777777777778,
             "#fb9f3a"
            ],
            [
             0.8888888888888888,
             "#fdca26"
            ],
            [
             1,
             "#f0f921"
            ]
           ]
          },
          "colorway": [
           "#636efa",
           "#EF553B",
           "#00cc96",
           "#ab63fa",
           "#FFA15A",
           "#19d3f3",
           "#FF6692",
           "#B6E880",
           "#FF97FF",
           "#FECB52"
          ],
          "font": {
           "color": "#2a3f5f"
          },
          "geo": {
           "bgcolor": "white",
           "lakecolor": "white",
           "landcolor": "#E5ECF6",
           "showlakes": true,
           "showland": true,
           "subunitcolor": "white"
          },
          "hoverlabel": {
           "align": "left"
          },
          "hovermode": "closest",
          "mapbox": {
           "style": "light"
          },
          "paper_bgcolor": "white",
          "plot_bgcolor": "#E5ECF6",
          "polar": {
           "angularaxis": {
            "gridcolor": "white",
            "linecolor": "white",
            "ticks": ""
           },
           "bgcolor": "#E5ECF6",
           "radialaxis": {
            "gridcolor": "white",
            "linecolor": "white",
            "ticks": ""
           }
          },
          "scene": {
           "xaxis": {
            "backgroundcolor": "#E5ECF6",
            "gridcolor": "white",
            "gridwidth": 2,
            "linecolor": "white",
            "showbackground": true,
            "ticks": "",
            "zerolinecolor": "white"
           },
           "yaxis": {
            "backgroundcolor": "#E5ECF6",
            "gridcolor": "white",
            "gridwidth": 2,
            "linecolor": "white",
            "showbackground": true,
            "ticks": "",
            "zerolinecolor": "white"
           },
           "zaxis": {
            "backgroundcolor": "#E5ECF6",
            "gridcolor": "white",
            "gridwidth": 2,
            "linecolor": "white",
            "showbackground": true,
            "ticks": "",
            "zerolinecolor": "white"
           }
          },
          "shapedefaults": {
           "line": {
            "color": "#2a3f5f"
           }
          },
          "ternary": {
           "aaxis": {
            "gridcolor": "white",
            "linecolor": "white",
            "ticks": ""
           },
           "baxis": {
            "gridcolor": "white",
            "linecolor": "white",
            "ticks": ""
           },
           "bgcolor": "#E5ECF6",
           "caxis": {
            "gridcolor": "white",
            "linecolor": "white",
            "ticks": ""
           }
          },
          "title": {
           "x": 0.05
          },
          "xaxis": {
           "automargin": true,
           "gridcolor": "white",
           "linecolor": "white",
           "ticks": "",
           "title": {
            "standoff": 15
           },
           "zerolinecolor": "white",
           "zerolinewidth": 2
          },
          "yaxis": {
           "automargin": true,
           "gridcolor": "white",
           "linecolor": "white",
           "ticks": "",
           "title": {
            "standoff": 15
           },
           "zerolinecolor": "white",
           "zerolinewidth": 2
          }
         }
        },
        "title": {
         "text": "Resultados del Dado (ordenados por valor)"
        },
        "xaxis": {
         "anchor": "y",
         "domain": [
          0,
          1
         ],
         "title": {
          "text": "roll"
         }
        },
        "yaxis": {
         "anchor": "x",
         "domain": [
          0,
          1
         ],
         "title": {
          "text": "value"
         }
        }
       }
      },
      "text/html": [
       "<div>                            <div id=\"cc6924d5-a45d-49b9-ae5d-d0af5fc616e5\" class=\"plotly-graph-div\" style=\"height:525px; width:100%;\"></div>            <script type=\"text/javascript\">                require([\"plotly\"], function(Plotly) {                    window.PLOTLYENV=window.PLOTLYENV || {};                                    if (document.getElementById(\"cc6924d5-a45d-49b9-ae5d-d0af5fc616e5\")) {                    Plotly.newPlot(                        \"cc6924d5-a45d-49b9-ae5d-d0af5fc616e5\",                        [{\"alignmentgroup\":\"True\",\"hovertemplate\":\"roll=%{x}<br>value=%{y}<extra></extra>\",\"legendgroup\":\"\",\"marker\":{\"color\":\"#636efa\",\"pattern\":{\"shape\":\"\"}},\"name\":\"\",\"offsetgroup\":\"\",\"orientation\":\"v\",\"showlegend\":false,\"textposition\":\"auto\",\"x\":[0,47,56,9,73,63,26,89,3,94,82,97,33,37,41,46,76,52,58,29,70,71,51,55,49,7,1,18,6,64,61,57,38,98,50,34,83,84,85,91,22,43,66,60,59,25,68,69,8,77,81,93,95,67,13,62,53,15,16,48,27,28,44,19,20,10,86,5,88,79,14,74,31,32,42,12,72,30,92,90,4,2,96,87,23,54,36,35,80,78,75,39,40,45,65,17,11,24,21,99],\"xaxis\":\"x\",\"y\":[1,1,1,1,1,1,1,1,1,1,1,1,2,2,2,2,2,2,2,2,2,2,2,2,2,2,2,2,2,3,3,3,3,3,3,3,3,3,3,3,3,3,3,4,4,4,4,4,4,4,4,4,4,4,4,4,4,4,4,4,4,4,4,4,4,5,5,5,5,5,5,5,5,5,5,5,5,6,6,6,6,6,6,6,6,6,6,6,6,6,6,6,6,6,6,6,6,6,6,6],\"yaxis\":\"y\",\"type\":\"bar\"}],                        {\"template\":{\"data\":{\"histogram2dcontour\":[{\"type\":\"histogram2dcontour\",\"colorbar\":{\"outlinewidth\":0,\"ticks\":\"\"},\"colorscale\":[[0.0,\"#0d0887\"],[0.1111111111111111,\"#46039f\"],[0.2222222222222222,\"#7201a8\"],[0.3333333333333333,\"#9c179e\"],[0.4444444444444444,\"#bd3786\"],[0.5555555555555556,\"#d8576b\"],[0.6666666666666666,\"#ed7953\"],[0.7777777777777778,\"#fb9f3a\"],[0.8888888888888888,\"#fdca26\"],[1.0,\"#f0f921\"]]}],\"choropleth\":[{\"type\":\"choropleth\",\"colorbar\":{\"outlinewidth\":0,\"ticks\":\"\"}}],\"histogram2d\":[{\"type\":\"histogram2d\",\"colorbar\":{\"outlinewidth\":0,\"ticks\":\"\"},\"colorscale\":[[0.0,\"#0d0887\"],[0.1111111111111111,\"#46039f\"],[0.2222222222222222,\"#7201a8\"],[0.3333333333333333,\"#9c179e\"],[0.4444444444444444,\"#bd3786\"],[0.5555555555555556,\"#d8576b\"],[0.6666666666666666,\"#ed7953\"],[0.7777777777777778,\"#fb9f3a\"],[0.8888888888888888,\"#fdca26\"],[1.0,\"#f0f921\"]]}],\"heatmap\":[{\"type\":\"heatmap\",\"colorbar\":{\"outlinewidth\":0,\"ticks\":\"\"},\"colorscale\":[[0.0,\"#0d0887\"],[0.1111111111111111,\"#46039f\"],[0.2222222222222222,\"#7201a8\"],[0.3333333333333333,\"#9c179e\"],[0.4444444444444444,\"#bd3786\"],[0.5555555555555556,\"#d8576b\"],[0.6666666666666666,\"#ed7953\"],[0.7777777777777778,\"#fb9f3a\"],[0.8888888888888888,\"#fdca26\"],[1.0,\"#f0f921\"]]}],\"heatmapgl\":[{\"type\":\"heatmapgl\",\"colorbar\":{\"outlinewidth\":0,\"ticks\":\"\"},\"colorscale\":[[0.0,\"#0d0887\"],[0.1111111111111111,\"#46039f\"],[0.2222222222222222,\"#7201a8\"],[0.3333333333333333,\"#9c179e\"],[0.4444444444444444,\"#bd3786\"],[0.5555555555555556,\"#d8576b\"],[0.6666666666666666,\"#ed7953\"],[0.7777777777777778,\"#fb9f3a\"],[0.8888888888888888,\"#fdca26\"],[1.0,\"#f0f921\"]]}],\"contourcarpet\":[{\"type\":\"contourcarpet\",\"colorbar\":{\"outlinewidth\":0,\"ticks\":\"\"}}],\"contour\":[{\"type\":\"contour\",\"colorbar\":{\"outlinewidth\":0,\"ticks\":\"\"},\"colorscale\":[[0.0,\"#0d0887\"],[0.1111111111111111,\"#46039f\"],[0.2222222222222222,\"#7201a8\"],[0.3333333333333333,\"#9c179e\"],[0.4444444444444444,\"#bd3786\"],[0.5555555555555556,\"#d8576b\"],[0.6666666666666666,\"#ed7953\"],[0.7777777777777778,\"#fb9f3a\"],[0.8888888888888888,\"#fdca26\"],[1.0,\"#f0f921\"]]}],\"surface\":[{\"type\":\"surface\",\"colorbar\":{\"outlinewidth\":0,\"ticks\":\"\"},\"colorscale\":[[0.0,\"#0d0887\"],[0.1111111111111111,\"#46039f\"],[0.2222222222222222,\"#7201a8\"],[0.3333333333333333,\"#9c179e\"],[0.4444444444444444,\"#bd3786\"],[0.5555555555555556,\"#d8576b\"],[0.6666666666666666,\"#ed7953\"],[0.7777777777777778,\"#fb9f3a\"],[0.8888888888888888,\"#fdca26\"],[1.0,\"#f0f921\"]]}],\"mesh3d\":[{\"type\":\"mesh3d\",\"colorbar\":{\"outlinewidth\":0,\"ticks\":\"\"}}],\"scatter\":[{\"fillpattern\":{\"fillmode\":\"overlay\",\"size\":10,\"solidity\":0.2},\"type\":\"scatter\"}],\"parcoords\":[{\"type\":\"parcoords\",\"line\":{\"colorbar\":{\"outlinewidth\":0,\"ticks\":\"\"}}}],\"scatterpolargl\":[{\"type\":\"scatterpolargl\",\"marker\":{\"colorbar\":{\"outlinewidth\":0,\"ticks\":\"\"}}}],\"bar\":[{\"error_x\":{\"color\":\"#2a3f5f\"},\"error_y\":{\"color\":\"#2a3f5f\"},\"marker\":{\"line\":{\"color\":\"#E5ECF6\",\"width\":0.5},\"pattern\":{\"fillmode\":\"overlay\",\"size\":10,\"solidity\":0.2}},\"type\":\"bar\"}],\"scattergeo\":[{\"type\":\"scattergeo\",\"marker\":{\"colorbar\":{\"outlinewidth\":0,\"ticks\":\"\"}}}],\"scatterpolar\":[{\"type\":\"scatterpolar\",\"marker\":{\"colorbar\":{\"outlinewidth\":0,\"ticks\":\"\"}}}],\"histogram\":[{\"marker\":{\"pattern\":{\"fillmode\":\"overlay\",\"size\":10,\"solidity\":0.2}},\"type\":\"histogram\"}],\"scattergl\":[{\"type\":\"scattergl\",\"marker\":{\"colorbar\":{\"outlinewidth\":0,\"ticks\":\"\"}}}],\"scatter3d\":[{\"type\":\"scatter3d\",\"line\":{\"colorbar\":{\"outlinewidth\":0,\"ticks\":\"\"}},\"marker\":{\"colorbar\":{\"outlinewidth\":0,\"ticks\":\"\"}}}],\"scattermapbox\":[{\"type\":\"scattermapbox\",\"marker\":{\"colorbar\":{\"outlinewidth\":0,\"ticks\":\"\"}}}],\"scatterternary\":[{\"type\":\"scatterternary\",\"marker\":{\"colorbar\":{\"outlinewidth\":0,\"ticks\":\"\"}}}],\"scattercarpet\":[{\"type\":\"scattercarpet\",\"marker\":{\"colorbar\":{\"outlinewidth\":0,\"ticks\":\"\"}}}],\"carpet\":[{\"aaxis\":{\"endlinecolor\":\"#2a3f5f\",\"gridcolor\":\"white\",\"linecolor\":\"white\",\"minorgridcolor\":\"white\",\"startlinecolor\":\"#2a3f5f\"},\"baxis\":{\"endlinecolor\":\"#2a3f5f\",\"gridcolor\":\"white\",\"linecolor\":\"white\",\"minorgridcolor\":\"white\",\"startlinecolor\":\"#2a3f5f\"},\"type\":\"carpet\"}],\"table\":[{\"cells\":{\"fill\":{\"color\":\"#EBF0F8\"},\"line\":{\"color\":\"white\"}},\"header\":{\"fill\":{\"color\":\"#C8D4E3\"},\"line\":{\"color\":\"white\"}},\"type\":\"table\"}],\"barpolar\":[{\"marker\":{\"line\":{\"color\":\"#E5ECF6\",\"width\":0.5},\"pattern\":{\"fillmode\":\"overlay\",\"size\":10,\"solidity\":0.2}},\"type\":\"barpolar\"}],\"pie\":[{\"automargin\":true,\"type\":\"pie\"}]},\"layout\":{\"autotypenumbers\":\"strict\",\"colorway\":[\"#636efa\",\"#EF553B\",\"#00cc96\",\"#ab63fa\",\"#FFA15A\",\"#19d3f3\",\"#FF6692\",\"#B6E880\",\"#FF97FF\",\"#FECB52\"],\"font\":{\"color\":\"#2a3f5f\"},\"hovermode\":\"closest\",\"hoverlabel\":{\"align\":\"left\"},\"paper_bgcolor\":\"white\",\"plot_bgcolor\":\"#E5ECF6\",\"polar\":{\"bgcolor\":\"#E5ECF6\",\"angularaxis\":{\"gridcolor\":\"white\",\"linecolor\":\"white\",\"ticks\":\"\"},\"radialaxis\":{\"gridcolor\":\"white\",\"linecolor\":\"white\",\"ticks\":\"\"}},\"ternary\":{\"bgcolor\":\"#E5ECF6\",\"aaxis\":{\"gridcolor\":\"white\",\"linecolor\":\"white\",\"ticks\":\"\"},\"baxis\":{\"gridcolor\":\"white\",\"linecolor\":\"white\",\"ticks\":\"\"},\"caxis\":{\"gridcolor\":\"white\",\"linecolor\":\"white\",\"ticks\":\"\"}},\"coloraxis\":{\"colorbar\":{\"outlinewidth\":0,\"ticks\":\"\"}},\"colorscale\":{\"sequential\":[[0.0,\"#0d0887\"],[0.1111111111111111,\"#46039f\"],[0.2222222222222222,\"#7201a8\"],[0.3333333333333333,\"#9c179e\"],[0.4444444444444444,\"#bd3786\"],[0.5555555555555556,\"#d8576b\"],[0.6666666666666666,\"#ed7953\"],[0.7777777777777778,\"#fb9f3a\"],[0.8888888888888888,\"#fdca26\"],[1.0,\"#f0f921\"]],\"sequentialminus\":[[0.0,\"#0d0887\"],[0.1111111111111111,\"#46039f\"],[0.2222222222222222,\"#7201a8\"],[0.3333333333333333,\"#9c179e\"],[0.4444444444444444,\"#bd3786\"],[0.5555555555555556,\"#d8576b\"],[0.6666666666666666,\"#ed7953\"],[0.7777777777777778,\"#fb9f3a\"],[0.8888888888888888,\"#fdca26\"],[1.0,\"#f0f921\"]],\"diverging\":[[0,\"#8e0152\"],[0.1,\"#c51b7d\"],[0.2,\"#de77ae\"],[0.3,\"#f1b6da\"],[0.4,\"#fde0ef\"],[0.5,\"#f7f7f7\"],[0.6,\"#e6f5d0\"],[0.7,\"#b8e186\"],[0.8,\"#7fbc41\"],[0.9,\"#4d9221\"],[1,\"#276419\"]]},\"xaxis\":{\"gridcolor\":\"white\",\"linecolor\":\"white\",\"ticks\":\"\",\"title\":{\"standoff\":15},\"zerolinecolor\":\"white\",\"automargin\":true,\"zerolinewidth\":2},\"yaxis\":{\"gridcolor\":\"white\",\"linecolor\":\"white\",\"ticks\":\"\",\"title\":{\"standoff\":15},\"zerolinecolor\":\"white\",\"automargin\":true,\"zerolinewidth\":2},\"scene\":{\"xaxis\":{\"backgroundcolor\":\"#E5ECF6\",\"gridcolor\":\"white\",\"linecolor\":\"white\",\"showbackground\":true,\"ticks\":\"\",\"zerolinecolor\":\"white\",\"gridwidth\":2},\"yaxis\":{\"backgroundcolor\":\"#E5ECF6\",\"gridcolor\":\"white\",\"linecolor\":\"white\",\"showbackground\":true,\"ticks\":\"\",\"zerolinecolor\":\"white\",\"gridwidth\":2},\"zaxis\":{\"backgroundcolor\":\"#E5ECF6\",\"gridcolor\":\"white\",\"linecolor\":\"white\",\"showbackground\":true,\"ticks\":\"\",\"zerolinecolor\":\"white\",\"gridwidth\":2}},\"shapedefaults\":{\"line\":{\"color\":\"#2a3f5f\"}},\"annotationdefaults\":{\"arrowcolor\":\"#2a3f5f\",\"arrowhead\":0,\"arrowwidth\":1},\"geo\":{\"bgcolor\":\"white\",\"landcolor\":\"#E5ECF6\",\"subunitcolor\":\"white\",\"showland\":true,\"showlakes\":true,\"lakecolor\":\"white\"},\"title\":{\"x\":0.05},\"mapbox\":{\"style\":\"light\"}}},\"xaxis\":{\"anchor\":\"y\",\"domain\":[0.0,1.0],\"title\":{\"text\":\"roll\"}},\"yaxis\":{\"anchor\":\"x\",\"domain\":[0.0,1.0],\"title\":{\"text\":\"value\"}},\"legend\":{\"tracegroupgap\":0},\"title\":{\"text\":\"Resultados del Dado (ordenados por valor)\"},\"barmode\":\"relative\"},                        {\"responsive\": true}                    ).then(function(){\n",
       "                            \n",
       "var gd = document.getElementById('cc6924d5-a45d-49b9-ae5d-d0af5fc616e5');\n",
       "var x = new MutationObserver(function (mutations, observer) {{\n",
       "        var display = window.getComputedStyle(gd).display;\n",
       "        if (!display || display === 'none') {{\n",
       "            console.log([gd, 'removed!']);\n",
       "            Plotly.purge(gd);\n",
       "            observer.disconnect();\n",
       "        }}\n",
       "}});\n",
       "\n",
       "// Listen for the removal of the full notebook cells\n",
       "var notebookContainer = gd.closest('#notebook-container');\n",
       "if (notebookContainer) {{\n",
       "    x.observe(notebookContainer, {childList: true});\n",
       "}}\n",
       "\n",
       "// Listen for the clearing of the current output cell\n",
       "var outputEl = gd.closest('.output');\n",
       "if (outputEl) {{\n",
       "    x.observe(outputEl, {childList: true});\n",
       "}}\n",
       "\n",
       "                        })                };                });            </script>        </div>"
      ]
     },
     "metadata": {},
     "output_type": "display_data"
    }
   ],
   "source": [
    "fig = px.bar(dice_hundred.sort_values(by=\"value\"), x = \"roll\", y = \"value\", title='Resultados del Dado (ordenados por valor)')\n",
    "fig"
   ]
  },
  {
   "cell_type": "code",
   "execution_count": 36,
   "metadata": {},
   "outputs": [
    {
     "data": {
      "text/plain": [
       "'\\nAgain, I think this representation tells us nothing \\nbecause the number of values taken in consideration \\nis too big. \\nNevertheless, I suposse the mean is conected to \\nthis result because 4 and 6 are the most common results.\\nAnother thing I see is that, on the right part of the \\ngraph the values are more similar, \\nor there is some kind of pattern that becomes clearer\\nthe more times you roll the dice?\\n'"
      ]
     },
     "execution_count": 36,
     "metadata": {},
     "output_type": "execute_result"
    }
   ],
   "source": [
    "\"\"\"\n",
    "Again, I think this representation tells us nothing \n",
    "because the number of values taken in consideration \n",
    "is too big. \n",
    "Nevertheless, I suposse the mean is conected to \n",
    "this result because 4 and 6 are the most common results.\n",
    "Another thing I see is that, on the right part of the \n",
    "graph the values are more similar, \n",
    "or there is some kind of pattern that becomes clearer\n",
    "the more times you roll the dice?\n",
    "\"\"\""
   ]
  },
  {
   "cell_type": "markdown",
   "metadata": {},
   "source": [
    "#### 5.- Read the `roll_the_dice_thousand.csv` from the `data` folder. Plot the frequency distribution as you did before. Has anything changed? Why do you think it changed?"
   ]
  },
  {
   "cell_type": "code",
   "execution_count": 37,
   "metadata": {},
   "outputs": [
    {
     "data": {
      "text/html": [
       "<div>\n",
       "<style scoped>\n",
       "    .dataframe tbody tr th:only-of-type {\n",
       "        vertical-align: middle;\n",
       "    }\n",
       "\n",
       "    .dataframe tbody tr th {\n",
       "        vertical-align: top;\n",
       "    }\n",
       "\n",
       "    .dataframe thead th {\n",
       "        text-align: right;\n",
       "    }\n",
       "</style>\n",
       "<table border=\"1\" class=\"dataframe\">\n",
       "  <thead>\n",
       "    <tr style=\"text-align: right;\">\n",
       "      <th></th>\n",
       "      <th>Unnamed: 0</th>\n",
       "      <th>roll</th>\n",
       "      <th>value</th>\n",
       "    </tr>\n",
       "  </thead>\n",
       "  <tbody>\n",
       "    <tr>\n",
       "      <th>0</th>\n",
       "      <td>0</td>\n",
       "      <td>0</td>\n",
       "      <td>5</td>\n",
       "    </tr>\n",
       "    <tr>\n",
       "      <th>1</th>\n",
       "      <td>1</td>\n",
       "      <td>1</td>\n",
       "      <td>6</td>\n",
       "    </tr>\n",
       "    <tr>\n",
       "      <th>2</th>\n",
       "      <td>2</td>\n",
       "      <td>2</td>\n",
       "      <td>1</td>\n",
       "    </tr>\n",
       "    <tr>\n",
       "      <th>3</th>\n",
       "      <td>3</td>\n",
       "      <td>3</td>\n",
       "      <td>6</td>\n",
       "    </tr>\n",
       "    <tr>\n",
       "      <th>4</th>\n",
       "      <td>4</td>\n",
       "      <td>4</td>\n",
       "      <td>5</td>\n",
       "    </tr>\n",
       "  </tbody>\n",
       "</table>\n",
       "</div>"
      ],
      "text/plain": [
       "   Unnamed: 0  roll  value\n",
       "0           0     0      5\n",
       "1           1     1      6\n",
       "2           2     2      1\n",
       "3           3     3      6\n",
       "4           4     4      5"
      ]
     },
     "execution_count": 37,
     "metadata": {},
     "output_type": "execute_result"
    }
   ],
   "source": [
    "dice_thousand = pd.read_csv(\"../data/roll_the_dice_thousand.csv\")\n",
    "dice_thousand.head()"
   ]
  },
  {
   "cell_type": "code",
   "execution_count": 38,
   "metadata": {},
   "outputs": [
    {
     "data": {
      "text/html": [
       "<div>\n",
       "<style scoped>\n",
       "    .dataframe tbody tr th:only-of-type {\n",
       "        vertical-align: middle;\n",
       "    }\n",
       "\n",
       "    .dataframe tbody tr th {\n",
       "        vertical-align: top;\n",
       "    }\n",
       "\n",
       "    .dataframe thead th {\n",
       "        text-align: right;\n",
       "    }\n",
       "</style>\n",
       "<table border=\"1\" class=\"dataframe\">\n",
       "  <thead>\n",
       "    <tr style=\"text-align: right;\">\n",
       "      <th></th>\n",
       "      <th>Unnamed: 0</th>\n",
       "      <th>roll</th>\n",
       "      <th>value</th>\n",
       "    </tr>\n",
       "  </thead>\n",
       "  <tbody>\n",
       "    <tr>\n",
       "      <th>count</th>\n",
       "      <td>1000.000000</td>\n",
       "      <td>1000.000000</td>\n",
       "      <td>1000.000000</td>\n",
       "    </tr>\n",
       "    <tr>\n",
       "      <th>mean</th>\n",
       "      <td>499.500000</td>\n",
       "      <td>499.500000</td>\n",
       "      <td>3.447000</td>\n",
       "    </tr>\n",
       "    <tr>\n",
       "      <th>std</th>\n",
       "      <td>288.819436</td>\n",
       "      <td>288.819436</td>\n",
       "      <td>1.711175</td>\n",
       "    </tr>\n",
       "    <tr>\n",
       "      <th>min</th>\n",
       "      <td>0.000000</td>\n",
       "      <td>0.000000</td>\n",
       "      <td>1.000000</td>\n",
       "    </tr>\n",
       "    <tr>\n",
       "      <th>25%</th>\n",
       "      <td>249.750000</td>\n",
       "      <td>249.750000</td>\n",
       "      <td>2.000000</td>\n",
       "    </tr>\n",
       "    <tr>\n",
       "      <th>50%</th>\n",
       "      <td>499.500000</td>\n",
       "      <td>499.500000</td>\n",
       "      <td>3.000000</td>\n",
       "    </tr>\n",
       "    <tr>\n",
       "      <th>75%</th>\n",
       "      <td>749.250000</td>\n",
       "      <td>749.250000</td>\n",
       "      <td>5.000000</td>\n",
       "    </tr>\n",
       "    <tr>\n",
       "      <th>max</th>\n",
       "      <td>999.000000</td>\n",
       "      <td>999.000000</td>\n",
       "      <td>6.000000</td>\n",
       "    </tr>\n",
       "  </tbody>\n",
       "</table>\n",
       "</div>"
      ],
      "text/plain": [
       "        Unnamed: 0         roll        value\n",
       "count  1000.000000  1000.000000  1000.000000\n",
       "mean    499.500000   499.500000     3.447000\n",
       "std     288.819436   288.819436     1.711175\n",
       "min       0.000000     0.000000     1.000000\n",
       "25%     249.750000   249.750000     2.000000\n",
       "50%     499.500000   499.500000     3.000000\n",
       "75%     749.250000   749.250000     5.000000\n",
       "max     999.000000   999.000000     6.000000"
      ]
     },
     "execution_count": 38,
     "metadata": {},
     "output_type": "execute_result"
    }
   ],
   "source": [
    "dice_thousand.describe()"
   ]
  },
  {
   "cell_type": "code",
   "execution_count": 124,
   "metadata": {},
   "outputs": [
    {
     "data": {
      "text/plain": [
       "{1: 175, 2: 167, 3: 175, 4: 168, 5: 149, 6: 166}"
      ]
     },
     "execution_count": 124,
     "metadata": {},
     "output_type": "execute_result"
    }
   ],
   "source": [
    "f = frequency(dice_thousand[\"value\"])\n",
    "sorted_f = dict(sorted(f.items()))\n",
    "sorted_f"
   ]
  },
  {
   "cell_type": "code",
   "execution_count": 125,
   "metadata": {},
   "outputs": [
    {
     "data": {
      "text/plain": [
       "{1: 1.75, 2: 1.67, 3: 1.75, 4: 1.68, 5: 1.49, 6: 1.66}"
      ]
     },
     "execution_count": 125,
     "metadata": {},
     "output_type": "execute_result"
    }
   ],
   "source": [
    "prob3 = {key: value/100 for key, value in sorted_f.items()}\n",
    "prob3"
   ]
  },
  {
   "cell_type": "code",
   "execution_count": 126,
   "metadata": {},
   "outputs": [
    {
     "name": "stdout",
     "output_type": "stream",
     "text": [
      "{1: 0.03, 5: 0.03, 6: 0.02, 2: 0.02}\n",
      "{1: 0.12, 2: 0.17, 3: 0.14, 4: 0.22, 5: 0.12, 6: 0.23}\n",
      "{1: 1.75, 2: 1.67, 3: 1.75, 4: 1.68, 5: 1.49, 6: 1.66}\n"
     ]
    }
   ],
   "source": [
    "print(prob1)\n",
    "print(prob2)\n",
    "print(prob3)"
   ]
  },
  {
   "cell_type": "code",
   "execution_count": 41,
   "metadata": {},
   "outputs": [
    {
     "data": {
      "text/plain": [
       "\"\\nComparing this with the frequencies of the 100 dice \\nrolls, I can observe that the frequencies are closer \\nto each other. However, I don't understand why the \\nfrequencies here deviate further from the ideal \\ndistribution of 1/6 for each value when it should be \\nthe opposite. Additionally, I believe that the larger \\nsample size makes the inferences and observations more \\nreliable.\\nAlso, the mean has decreased.\\n\""
      ]
     },
     "execution_count": 41,
     "metadata": {},
     "output_type": "execute_result"
    }
   ],
   "source": [
    "\"\"\"\n",
    "Comparing this with the frequencies of the 100 dice \n",
    "rolls, I can observe that the frequencies are closer \n",
    "to each other. \n",
    "\n",
    "The probability gets closer to the ideal 1/6 the higher the number of dice rolls is.\n",
    "\n",
    "Additionally, I believe that the larger \n",
    "sample size makes the inferences and observations more \n",
    "reliable.\n",
    "\n",
    "Also, the mean has decreased.\n",
    "\"\"\""
   ]
  },
  {
   "cell_type": "markdown",
   "metadata": {},
   "source": [
    "## Challenge 4\n",
    "In the `data` folder of this repository you will find three different files with the prefix `ages_population`. These files contain information about a poll answered by a thousand people regarding their age. Each file corresponds to the poll answers in different neighbourhoods of Barcelona.\n",
    "\n",
    "#### 1.- Read the file `ages_population.csv`. Calculate the frequency distribution and plot it as we did during the lesson. Try to guess the range in which the mean and the standard deviation will be by looking at the plot. "
   ]
  },
  {
   "cell_type": "code",
   "execution_count": 42,
   "metadata": {},
   "outputs": [
    {
     "data": {
      "text/html": [
       "<div>\n",
       "<style scoped>\n",
       "    .dataframe tbody tr th:only-of-type {\n",
       "        vertical-align: middle;\n",
       "    }\n",
       "\n",
       "    .dataframe tbody tr th {\n",
       "        vertical-align: top;\n",
       "    }\n",
       "\n",
       "    .dataframe thead th {\n",
       "        text-align: right;\n",
       "    }\n",
       "</style>\n",
       "<table border=\"1\" class=\"dataframe\">\n",
       "  <thead>\n",
       "    <tr style=\"text-align: right;\">\n",
       "      <th></th>\n",
       "      <th>observation</th>\n",
       "    </tr>\n",
       "  </thead>\n",
       "  <tbody>\n",
       "    <tr>\n",
       "      <th>0</th>\n",
       "      <td>68.0</td>\n",
       "    </tr>\n",
       "    <tr>\n",
       "      <th>1</th>\n",
       "      <td>12.0</td>\n",
       "    </tr>\n",
       "    <tr>\n",
       "      <th>2</th>\n",
       "      <td>45.0</td>\n",
       "    </tr>\n",
       "    <tr>\n",
       "      <th>3</th>\n",
       "      <td>38.0</td>\n",
       "    </tr>\n",
       "    <tr>\n",
       "      <th>4</th>\n",
       "      <td>49.0</td>\n",
       "    </tr>\n",
       "    <tr>\n",
       "      <th>...</th>\n",
       "      <td>...</td>\n",
       "    </tr>\n",
       "    <tr>\n",
       "      <th>995</th>\n",
       "      <td>27.0</td>\n",
       "    </tr>\n",
       "    <tr>\n",
       "      <th>996</th>\n",
       "      <td>47.0</td>\n",
       "    </tr>\n",
       "    <tr>\n",
       "      <th>997</th>\n",
       "      <td>53.0</td>\n",
       "    </tr>\n",
       "    <tr>\n",
       "      <th>998</th>\n",
       "      <td>33.0</td>\n",
       "    </tr>\n",
       "    <tr>\n",
       "      <th>999</th>\n",
       "      <td>31.0</td>\n",
       "    </tr>\n",
       "  </tbody>\n",
       "</table>\n",
       "<p>1000 rows × 1 columns</p>\n",
       "</div>"
      ],
      "text/plain": [
       "     observation\n",
       "0           68.0\n",
       "1           12.0\n",
       "2           45.0\n",
       "3           38.0\n",
       "4           49.0\n",
       "..           ...\n",
       "995         27.0\n",
       "996         47.0\n",
       "997         53.0\n",
       "998         33.0\n",
       "999         31.0\n",
       "\n",
       "[1000 rows x 1 columns]"
      ]
     },
     "execution_count": 42,
     "metadata": {},
     "output_type": "execute_result"
    }
   ],
   "source": [
    "ages = pd.read_csv(\"../data/ages_population.csv\")\n",
    "ages"
   ]
  },
  {
   "cell_type": "code",
   "execution_count": 43,
   "metadata": {},
   "outputs": [
    {
     "data": {
      "text/plain": [
       "{1.0: 2,\n",
       " 2.0: 2,\n",
       " 4.0: 1,\n",
       " 5.0: 2,\n",
       " 6.0: 2,\n",
       " 7.0: 1,\n",
       " 8.0: 5,\n",
       " 9.0: 2,\n",
       " 10.0: 3,\n",
       " 11.0: 3,\n",
       " 12.0: 11,\n",
       " 13.0: 6,\n",
       " 14.0: 10,\n",
       " 15.0: 8,\n",
       " 16.0: 8,\n",
       " 17.0: 10,\n",
       " 18.0: 7,\n",
       " 19.0: 11,\n",
       " 20.0: 13,\n",
       " 21.0: 14,\n",
       " 22.0: 16,\n",
       " 23.0: 17,\n",
       " 24.0: 18,\n",
       " 25.0: 19,\n",
       " 26.0: 23,\n",
       " 27.0: 25,\n",
       " 28.0: 20,\n",
       " 29.0: 26,\n",
       " 30.0: 34,\n",
       " 31.0: 24,\n",
       " 32.0: 30,\n",
       " 33.0: 22,\n",
       " 34.0: 29,\n",
       " 35.0: 33,\n",
       " 36.0: 31,\n",
       " 37.0: 30,\n",
       " 38.0: 30,\n",
       " 39.0: 45,\n",
       " 40.0: 27,\n",
       " 41.0: 36,\n",
       " 42.0: 32,\n",
       " 43.0: 32,\n",
       " 44.0: 23,\n",
       " 45.0: 29,\n",
       " 46.0: 23,\n",
       " 47.0: 17,\n",
       " 48.0: 19,\n",
       " 49.0: 19,\n",
       " 50.0: 16,\n",
       " 51.0: 9,\n",
       " 52.0: 14,\n",
       " 53.0: 12,\n",
       " 54.0: 13,\n",
       " 55.0: 13,\n",
       " 56.0: 15,\n",
       " 57.0: 7,\n",
       " 58.0: 7,\n",
       " 59.0: 8,\n",
       " 60.0: 4,\n",
       " 61.0: 2,\n",
       " 62.0: 4,\n",
       " 63.0: 7,\n",
       " 64.0: 2,\n",
       " 65.0: 2,\n",
       " 66.0: 3,\n",
       " 67.0: 4,\n",
       " 68.0: 3,\n",
       " 69.0: 1,\n",
       " 70.0: 1,\n",
       " 71.0: 1,\n",
       " 73.0: 1,\n",
       " 82.0: 1}"
      ]
     },
     "execution_count": 43,
     "metadata": {},
     "output_type": "execute_result"
    }
   ],
   "source": [
    "f = frequency(ages[\"observation\"])\n",
    "sorted_f = dict(sorted(f.items()))\n",
    "sorted_f"
   ]
  },
  {
   "cell_type": "code",
   "execution_count": 44,
   "metadata": {},
   "outputs": [
    {
     "data": {
      "application/vnd.plotly.v1+json": {
       "config": {
        "plotlyServerURL": "https://plot.ly"
       },
       "data": [
        {
         "alignmentgroup": "True",
         "bingroup": "x",
         "hovertemplate": "observation=%{x}<br>count=%{y}<extra></extra>",
         "legendgroup": "",
         "marker": {
          "color": "#636efa",
          "line": {
           "color": "black",
           "width": 1.5
          },
          "pattern": {
           "shape": ""
          }
         },
         "name": "",
         "nbinsx": 10,
         "offsetgroup": "",
         "opacity": 0.7,
         "orientation": "v",
         "showlegend": false,
         "type": "histogram",
         "x": [
          68,
          12,
          45,
          38,
          49,
          27,
          39,
          12,
          42,
          33,
          30,
          25,
          30,
          44,
          53,
          46,
          50,
          22,
          6,
          29,
          29,
          27,
          35,
          38,
          28,
          26,
          60,
          41,
          38,
          41,
          44,
          52,
          46,
          39,
          44,
          46,
          32,
          23,
          15,
          40,
          42,
          32,
          45,
          29,
          22,
          41,
          39,
          63,
          39,
          31,
          34,
          28,
          45,
          33,
          32,
          61,
          64,
          37,
          56,
          44,
          33,
          38,
          40,
          38,
          56,
          14,
          52,
          34,
          14,
          34,
          31,
          46,
          50,
          37,
          13,
          12,
          25,
          28,
          51,
          13,
          36,
          52,
          13,
          30,
          36,
          35,
          26,
          34,
          51,
          52,
          35,
          44,
          23,
          29,
          25,
          30,
          27,
          42,
          18,
          39,
          42,
          48,
          30,
          40,
          34,
          28,
          48,
          48,
          42,
          53,
          34,
          37,
          32,
          29,
          18,
          35,
          58,
          37,
          32,
          49,
          20,
          42,
          29,
          22,
          39,
          41,
          54,
          20,
          19,
          39,
          39,
          39,
          58,
          23,
          45,
          13,
          44,
          39,
          30,
          37,
          62,
          45,
          33,
          55,
          33,
          39,
          34,
          32,
          25,
          21,
          39,
          43,
          18,
          40,
          50,
          35,
          46,
          36,
          30,
          44,
          34,
          58,
          14,
          27,
          62,
          42,
          27,
          50,
          29,
          41,
          30,
          37,
          43,
          43,
          49,
          31,
          17,
          42,
          48,
          29,
          38,
          31,
          20,
          50,
          26,
          45,
          56,
          35,
          48,
          35,
          55,
          44,
          23,
          39,
          39,
          45,
          21,
          43,
          38,
          40,
          35,
          25,
          7,
          26,
          40,
          52,
          46,
          47,
          38,
          1,
          16,
          54,
          45,
          35,
          54,
          41,
          12,
          37,
          50,
          37,
          24,
          47,
          39,
          30,
          41,
          31,
          23,
          42,
          24,
          23,
          31,
          45,
          53,
          21,
          59,
          63,
          41,
          53,
          59,
          48,
          57,
          39,
          32,
          36,
          21,
          40,
          51,
          44,
          59,
          25,
          52,
          42,
          8,
          34,
          43,
          46,
          36,
          42,
          46,
          44,
          29,
          17,
          56,
          41,
          30,
          67,
          41,
          34,
          42,
          22,
          19,
          57,
          16,
          24,
          26,
          32,
          35,
          36,
          26,
          21,
          20,
          28,
          19,
          56,
          41,
          38,
          42,
          31,
          30,
          41,
          31,
          33,
          42,
          45,
          62,
          29,
          41,
          19,
          42,
          42,
          54,
          2,
          40,
          28,
          42,
          28,
          26,
          43,
          32,
          54,
          34,
          25,
          32,
          14,
          66,
          24,
          43,
          33,
          29,
          8,
          43,
          30,
          34,
          37,
          40,
          42,
          48,
          19,
          35,
          41,
          26,
          36,
          23,
          46,
          35,
          28,
          39,
          21,
          4,
          73,
          43,
          48,
          20,
          49,
          28,
          26,
          34,
          20,
          39,
          46,
          37,
          20,
          29,
          63,
          36,
          49,
          36,
          36,
          34,
          46,
          44,
          15,
          38,
          82,
          48,
          29,
          49,
          57,
          16,
          12,
          36,
          59,
          49,
          17,
          25,
          33,
          37,
          40,
          43,
          57,
          43,
          38,
          35,
          30,
          14,
          48,
          24,
          32,
          47,
          29,
          50,
          43,
          55,
          36,
          49,
          46,
          45,
          52,
          36,
          30,
          33,
          34,
          18,
          32,
          40,
          37,
          36,
          63,
          44,
          57,
          35,
          28,
          57,
          15,
          40,
          47,
          17,
          53,
          39,
          29,
          47,
          37,
          30,
          19,
          66,
          56,
          8,
          22,
          43,
          39,
          21,
          41,
          54,
          51,
          37,
          23,
          56,
          70,
          39,
          14,
          60,
          26,
          30,
          47,
          52,
          30,
          54,
          5,
          22,
          23,
          34,
          2,
          34,
          45,
          31,
          42,
          47,
          35,
          36,
          39,
          41,
          60,
          42,
          26,
          45,
          25,
          32,
          47,
          36,
          37,
          40,
          57,
          40,
          59,
          31,
          32,
          63,
          38,
          41,
          43,
          17,
          34,
          28,
          43,
          51,
          8,
          30,
          43,
          24,
          1,
          16,
          43,
          27,
          71,
          50,
          50,
          9,
          30,
          15,
          32,
          50,
          39,
          24,
          55,
          38,
          17,
          36,
          43,
          40,
          42,
          37,
          55,
          31,
          31,
          31,
          21,
          43,
          45,
          36,
          23,
          32,
          14,
          16,
          69,
          11,
          33,
          36,
          39,
          19,
          31,
          26,
          52,
          41,
          30,
          31,
          32,
          35,
          43,
          52,
          41,
          17,
          38,
          28,
          54,
          42,
          24,
          39,
          44,
          31,
          48,
          6,
          50,
          27,
          45,
          28,
          29,
          43,
          44,
          14,
          28,
          15,
          37,
          61,
          36,
          35,
          32,
          34,
          26,
          37,
          41,
          59,
          45,
          46,
          32,
          30,
          33,
          27,
          10,
          42,
          30,
          54,
          36,
          44,
          45,
          54,
          37,
          40,
          23,
          66,
          32,
          39,
          34,
          46,
          39,
          38,
          38,
          50,
          55,
          30,
          47,
          41,
          56,
          39,
          41,
          27,
          23,
          30,
          17,
          45,
          29,
          42,
          26,
          22,
          39,
          23,
          48,
          51,
          39,
          52,
          39,
          41,
          56,
          38,
          44,
          33,
          39,
          44,
          29,
          49,
          13,
          53,
          58,
          27,
          23,
          27,
          45,
          12,
          30,
          40,
          30,
          49,
          40,
          32,
          53,
          37,
          31,
          46,
          31,
          22,
          19,
          12,
          49,
          47,
          42,
          38,
          58,
          43,
          38,
          42,
          30,
          45,
          26,
          38,
          26,
          46,
          20,
          29,
          39,
          37,
          42,
          43,
          48,
          55,
          22,
          26,
          30,
          55,
          35,
          51,
          46,
          38,
          65,
          55,
          41,
          30,
          37,
          27,
          36,
          42,
          38,
          20,
          47,
          31,
          34,
          35,
          36,
          5,
          40,
          41,
          27,
          47,
          63,
          35,
          32,
          27,
          50,
          39,
          38,
          36,
          17,
          27,
          45,
          30,
          28,
          43,
          33,
          45,
          20,
          29,
          48,
          20,
          44,
          42,
          60,
          25,
          48,
          41,
          39,
          11,
          35,
          43,
          51,
          24,
          33,
          22,
          21,
          45,
          48,
          56,
          25,
          33,
          36,
          53,
          51,
          42,
          15,
          32,
          22,
          59,
          54,
          32,
          39,
          47,
          17,
          28,
          29,
          56,
          34,
          28,
          44,
          67,
          26,
          25,
          23,
          56,
          52,
          25,
          49,
          26,
          39,
          63,
          48,
          48,
          30,
          37,
          46,
          14,
          15,
          44,
          39,
          40,
          22,
          30,
          39,
          43,
          46,
          35,
          16,
          44,
          18,
          26,
          27,
          37,
          20,
          35,
          50,
          55,
          45,
          41,
          54,
          56,
          46,
          56,
          24,
          33,
          12,
          31,
          12,
          25,
          49,
          52,
          55,
          27,
          49,
          44,
          49,
          40,
          34,
          16,
          19,
          36,
          32,
          67,
          52,
          38,
          33,
          68,
          14,
          43,
          10,
          11,
          39,
          13,
          54,
          41,
          40,
          18,
          16,
          45,
          35,
          39,
          34,
          46,
          53,
          23,
          55,
          37,
          29,
          48,
          35,
          45,
          68,
          29,
          40,
          33,
          64,
          45,
          10,
          47,
          23,
          39,
          20,
          41,
          36,
          41,
          25,
          46,
          49,
          28,
          40,
          58,
          46,
          37,
          41,
          38,
          35,
          31,
          30,
          35,
          34,
          15,
          58,
          41,
          59,
          32,
          12,
          27,
          41,
          37,
          47,
          49,
          47,
          53,
          35,
          38,
          24,
          50,
          27,
          27,
          26,
          24,
          30,
          43,
          35,
          22,
          22,
          32,
          37,
          55,
          27,
          36,
          50,
          21,
          45,
          27,
          53,
          41,
          28,
          45,
          39,
          43,
          29,
          18,
          34,
          19,
          26,
          32,
          65,
          38,
          24,
          27,
          24,
          19,
          49,
          25,
          41,
          22,
          31,
          24,
          21,
          8,
          56,
          42,
          43,
          62,
          22,
          67,
          38,
          43,
          41,
          34,
          38,
          21,
          35,
          28,
          27,
          21,
          40,
          44,
          25,
          40,
          29,
          39,
          25,
          33,
          37,
          35,
          26,
          34,
          43,
          39,
          32,
          33,
          24,
          24,
          25,
          36,
          49,
          31,
          12,
          9,
          35,
          21,
          36,
          37,
          34,
          24,
          35,
          38,
          33,
          42,
          32,
          29,
          36,
          40,
          27,
          47,
          53,
          33,
          31
         ],
         "xaxis": "x",
         "yaxis": "y"
        },
        {
         "alignmentgroup": "True",
         "hovertemplate": "observation=%{x}<extra></extra>",
         "legendgroup": "",
         "marker": {
          "color": "#636efa",
          "line": {
           "color": "black",
           "width": 1.5
          }
         },
         "name": "",
         "notched": true,
         "offsetgroup": "",
         "opacity": 0.7,
         "showlegend": false,
         "type": "box",
         "x": [
          68,
          12,
          45,
          38,
          49,
          27,
          39,
          12,
          42,
          33,
          30,
          25,
          30,
          44,
          53,
          46,
          50,
          22,
          6,
          29,
          29,
          27,
          35,
          38,
          28,
          26,
          60,
          41,
          38,
          41,
          44,
          52,
          46,
          39,
          44,
          46,
          32,
          23,
          15,
          40,
          42,
          32,
          45,
          29,
          22,
          41,
          39,
          63,
          39,
          31,
          34,
          28,
          45,
          33,
          32,
          61,
          64,
          37,
          56,
          44,
          33,
          38,
          40,
          38,
          56,
          14,
          52,
          34,
          14,
          34,
          31,
          46,
          50,
          37,
          13,
          12,
          25,
          28,
          51,
          13,
          36,
          52,
          13,
          30,
          36,
          35,
          26,
          34,
          51,
          52,
          35,
          44,
          23,
          29,
          25,
          30,
          27,
          42,
          18,
          39,
          42,
          48,
          30,
          40,
          34,
          28,
          48,
          48,
          42,
          53,
          34,
          37,
          32,
          29,
          18,
          35,
          58,
          37,
          32,
          49,
          20,
          42,
          29,
          22,
          39,
          41,
          54,
          20,
          19,
          39,
          39,
          39,
          58,
          23,
          45,
          13,
          44,
          39,
          30,
          37,
          62,
          45,
          33,
          55,
          33,
          39,
          34,
          32,
          25,
          21,
          39,
          43,
          18,
          40,
          50,
          35,
          46,
          36,
          30,
          44,
          34,
          58,
          14,
          27,
          62,
          42,
          27,
          50,
          29,
          41,
          30,
          37,
          43,
          43,
          49,
          31,
          17,
          42,
          48,
          29,
          38,
          31,
          20,
          50,
          26,
          45,
          56,
          35,
          48,
          35,
          55,
          44,
          23,
          39,
          39,
          45,
          21,
          43,
          38,
          40,
          35,
          25,
          7,
          26,
          40,
          52,
          46,
          47,
          38,
          1,
          16,
          54,
          45,
          35,
          54,
          41,
          12,
          37,
          50,
          37,
          24,
          47,
          39,
          30,
          41,
          31,
          23,
          42,
          24,
          23,
          31,
          45,
          53,
          21,
          59,
          63,
          41,
          53,
          59,
          48,
          57,
          39,
          32,
          36,
          21,
          40,
          51,
          44,
          59,
          25,
          52,
          42,
          8,
          34,
          43,
          46,
          36,
          42,
          46,
          44,
          29,
          17,
          56,
          41,
          30,
          67,
          41,
          34,
          42,
          22,
          19,
          57,
          16,
          24,
          26,
          32,
          35,
          36,
          26,
          21,
          20,
          28,
          19,
          56,
          41,
          38,
          42,
          31,
          30,
          41,
          31,
          33,
          42,
          45,
          62,
          29,
          41,
          19,
          42,
          42,
          54,
          2,
          40,
          28,
          42,
          28,
          26,
          43,
          32,
          54,
          34,
          25,
          32,
          14,
          66,
          24,
          43,
          33,
          29,
          8,
          43,
          30,
          34,
          37,
          40,
          42,
          48,
          19,
          35,
          41,
          26,
          36,
          23,
          46,
          35,
          28,
          39,
          21,
          4,
          73,
          43,
          48,
          20,
          49,
          28,
          26,
          34,
          20,
          39,
          46,
          37,
          20,
          29,
          63,
          36,
          49,
          36,
          36,
          34,
          46,
          44,
          15,
          38,
          82,
          48,
          29,
          49,
          57,
          16,
          12,
          36,
          59,
          49,
          17,
          25,
          33,
          37,
          40,
          43,
          57,
          43,
          38,
          35,
          30,
          14,
          48,
          24,
          32,
          47,
          29,
          50,
          43,
          55,
          36,
          49,
          46,
          45,
          52,
          36,
          30,
          33,
          34,
          18,
          32,
          40,
          37,
          36,
          63,
          44,
          57,
          35,
          28,
          57,
          15,
          40,
          47,
          17,
          53,
          39,
          29,
          47,
          37,
          30,
          19,
          66,
          56,
          8,
          22,
          43,
          39,
          21,
          41,
          54,
          51,
          37,
          23,
          56,
          70,
          39,
          14,
          60,
          26,
          30,
          47,
          52,
          30,
          54,
          5,
          22,
          23,
          34,
          2,
          34,
          45,
          31,
          42,
          47,
          35,
          36,
          39,
          41,
          60,
          42,
          26,
          45,
          25,
          32,
          47,
          36,
          37,
          40,
          57,
          40,
          59,
          31,
          32,
          63,
          38,
          41,
          43,
          17,
          34,
          28,
          43,
          51,
          8,
          30,
          43,
          24,
          1,
          16,
          43,
          27,
          71,
          50,
          50,
          9,
          30,
          15,
          32,
          50,
          39,
          24,
          55,
          38,
          17,
          36,
          43,
          40,
          42,
          37,
          55,
          31,
          31,
          31,
          21,
          43,
          45,
          36,
          23,
          32,
          14,
          16,
          69,
          11,
          33,
          36,
          39,
          19,
          31,
          26,
          52,
          41,
          30,
          31,
          32,
          35,
          43,
          52,
          41,
          17,
          38,
          28,
          54,
          42,
          24,
          39,
          44,
          31,
          48,
          6,
          50,
          27,
          45,
          28,
          29,
          43,
          44,
          14,
          28,
          15,
          37,
          61,
          36,
          35,
          32,
          34,
          26,
          37,
          41,
          59,
          45,
          46,
          32,
          30,
          33,
          27,
          10,
          42,
          30,
          54,
          36,
          44,
          45,
          54,
          37,
          40,
          23,
          66,
          32,
          39,
          34,
          46,
          39,
          38,
          38,
          50,
          55,
          30,
          47,
          41,
          56,
          39,
          41,
          27,
          23,
          30,
          17,
          45,
          29,
          42,
          26,
          22,
          39,
          23,
          48,
          51,
          39,
          52,
          39,
          41,
          56,
          38,
          44,
          33,
          39,
          44,
          29,
          49,
          13,
          53,
          58,
          27,
          23,
          27,
          45,
          12,
          30,
          40,
          30,
          49,
          40,
          32,
          53,
          37,
          31,
          46,
          31,
          22,
          19,
          12,
          49,
          47,
          42,
          38,
          58,
          43,
          38,
          42,
          30,
          45,
          26,
          38,
          26,
          46,
          20,
          29,
          39,
          37,
          42,
          43,
          48,
          55,
          22,
          26,
          30,
          55,
          35,
          51,
          46,
          38,
          65,
          55,
          41,
          30,
          37,
          27,
          36,
          42,
          38,
          20,
          47,
          31,
          34,
          35,
          36,
          5,
          40,
          41,
          27,
          47,
          63,
          35,
          32,
          27,
          50,
          39,
          38,
          36,
          17,
          27,
          45,
          30,
          28,
          43,
          33,
          45,
          20,
          29,
          48,
          20,
          44,
          42,
          60,
          25,
          48,
          41,
          39,
          11,
          35,
          43,
          51,
          24,
          33,
          22,
          21,
          45,
          48,
          56,
          25,
          33,
          36,
          53,
          51,
          42,
          15,
          32,
          22,
          59,
          54,
          32,
          39,
          47,
          17,
          28,
          29,
          56,
          34,
          28,
          44,
          67,
          26,
          25,
          23,
          56,
          52,
          25,
          49,
          26,
          39,
          63,
          48,
          48,
          30,
          37,
          46,
          14,
          15,
          44,
          39,
          40,
          22,
          30,
          39,
          43,
          46,
          35,
          16,
          44,
          18,
          26,
          27,
          37,
          20,
          35,
          50,
          55,
          45,
          41,
          54,
          56,
          46,
          56,
          24,
          33,
          12,
          31,
          12,
          25,
          49,
          52,
          55,
          27,
          49,
          44,
          49,
          40,
          34,
          16,
          19,
          36,
          32,
          67,
          52,
          38,
          33,
          68,
          14,
          43,
          10,
          11,
          39,
          13,
          54,
          41,
          40,
          18,
          16,
          45,
          35,
          39,
          34,
          46,
          53,
          23,
          55,
          37,
          29,
          48,
          35,
          45,
          68,
          29,
          40,
          33,
          64,
          45,
          10,
          47,
          23,
          39,
          20,
          41,
          36,
          41,
          25,
          46,
          49,
          28,
          40,
          58,
          46,
          37,
          41,
          38,
          35,
          31,
          30,
          35,
          34,
          15,
          58,
          41,
          59,
          32,
          12,
          27,
          41,
          37,
          47,
          49,
          47,
          53,
          35,
          38,
          24,
          50,
          27,
          27,
          26,
          24,
          30,
          43,
          35,
          22,
          22,
          32,
          37,
          55,
          27,
          36,
          50,
          21,
          45,
          27,
          53,
          41,
          28,
          45,
          39,
          43,
          29,
          18,
          34,
          19,
          26,
          32,
          65,
          38,
          24,
          27,
          24,
          19,
          49,
          25,
          41,
          22,
          31,
          24,
          21,
          8,
          56,
          42,
          43,
          62,
          22,
          67,
          38,
          43,
          41,
          34,
          38,
          21,
          35,
          28,
          27,
          21,
          40,
          44,
          25,
          40,
          29,
          39,
          25,
          33,
          37,
          35,
          26,
          34,
          43,
          39,
          32,
          33,
          24,
          24,
          25,
          36,
          49,
          31,
          12,
          9,
          35,
          21,
          36,
          37,
          34,
          24,
          35,
          38,
          33,
          42,
          32,
          29,
          36,
          40,
          27,
          47,
          53,
          33,
          31
         ],
         "xaxis": "x2",
         "yaxis": "y2"
        }
       ],
       "layout": {
        "barmode": "relative",
        "legend": {
         "tracegroupgap": 0
        },
        "margin": {
         "t": 60
        },
        "template": {
         "data": {
          "bar": [
           {
            "error_x": {
             "color": "#2a3f5f"
            },
            "error_y": {
             "color": "#2a3f5f"
            },
            "marker": {
             "line": {
              "color": "#E5ECF6",
              "width": 0.5
             },
             "pattern": {
              "fillmode": "overlay",
              "size": 10,
              "solidity": 0.2
             }
            },
            "type": "bar"
           }
          ],
          "barpolar": [
           {
            "marker": {
             "line": {
              "color": "#E5ECF6",
              "width": 0.5
             },
             "pattern": {
              "fillmode": "overlay",
              "size": 10,
              "solidity": 0.2
             }
            },
            "type": "barpolar"
           }
          ],
          "carpet": [
           {
            "aaxis": {
             "endlinecolor": "#2a3f5f",
             "gridcolor": "white",
             "linecolor": "white",
             "minorgridcolor": "white",
             "startlinecolor": "#2a3f5f"
            },
            "baxis": {
             "endlinecolor": "#2a3f5f",
             "gridcolor": "white",
             "linecolor": "white",
             "minorgridcolor": "white",
             "startlinecolor": "#2a3f5f"
            },
            "type": "carpet"
           }
          ],
          "choropleth": [
           {
            "colorbar": {
             "outlinewidth": 0,
             "ticks": ""
            },
            "type": "choropleth"
           }
          ],
          "contour": [
           {
            "colorbar": {
             "outlinewidth": 0,
             "ticks": ""
            },
            "colorscale": [
             [
              0,
              "#0d0887"
             ],
             [
              0.1111111111111111,
              "#46039f"
             ],
             [
              0.2222222222222222,
              "#7201a8"
             ],
             [
              0.3333333333333333,
              "#9c179e"
             ],
             [
              0.4444444444444444,
              "#bd3786"
             ],
             [
              0.5555555555555556,
              "#d8576b"
             ],
             [
              0.6666666666666666,
              "#ed7953"
             ],
             [
              0.7777777777777778,
              "#fb9f3a"
             ],
             [
              0.8888888888888888,
              "#fdca26"
             ],
             [
              1,
              "#f0f921"
             ]
            ],
            "type": "contour"
           }
          ],
          "contourcarpet": [
           {
            "colorbar": {
             "outlinewidth": 0,
             "ticks": ""
            },
            "type": "contourcarpet"
           }
          ],
          "heatmap": [
           {
            "colorbar": {
             "outlinewidth": 0,
             "ticks": ""
            },
            "colorscale": [
             [
              0,
              "#0d0887"
             ],
             [
              0.1111111111111111,
              "#46039f"
             ],
             [
              0.2222222222222222,
              "#7201a8"
             ],
             [
              0.3333333333333333,
              "#9c179e"
             ],
             [
              0.4444444444444444,
              "#bd3786"
             ],
             [
              0.5555555555555556,
              "#d8576b"
             ],
             [
              0.6666666666666666,
              "#ed7953"
             ],
             [
              0.7777777777777778,
              "#fb9f3a"
             ],
             [
              0.8888888888888888,
              "#fdca26"
             ],
             [
              1,
              "#f0f921"
             ]
            ],
            "type": "heatmap"
           }
          ],
          "heatmapgl": [
           {
            "colorbar": {
             "outlinewidth": 0,
             "ticks": ""
            },
            "colorscale": [
             [
              0,
              "#0d0887"
             ],
             [
              0.1111111111111111,
              "#46039f"
             ],
             [
              0.2222222222222222,
              "#7201a8"
             ],
             [
              0.3333333333333333,
              "#9c179e"
             ],
             [
              0.4444444444444444,
              "#bd3786"
             ],
             [
              0.5555555555555556,
              "#d8576b"
             ],
             [
              0.6666666666666666,
              "#ed7953"
             ],
             [
              0.7777777777777778,
              "#fb9f3a"
             ],
             [
              0.8888888888888888,
              "#fdca26"
             ],
             [
              1,
              "#f0f921"
             ]
            ],
            "type": "heatmapgl"
           }
          ],
          "histogram": [
           {
            "marker": {
             "pattern": {
              "fillmode": "overlay",
              "size": 10,
              "solidity": 0.2
             }
            },
            "type": "histogram"
           }
          ],
          "histogram2d": [
           {
            "colorbar": {
             "outlinewidth": 0,
             "ticks": ""
            },
            "colorscale": [
             [
              0,
              "#0d0887"
             ],
             [
              0.1111111111111111,
              "#46039f"
             ],
             [
              0.2222222222222222,
              "#7201a8"
             ],
             [
              0.3333333333333333,
              "#9c179e"
             ],
             [
              0.4444444444444444,
              "#bd3786"
             ],
             [
              0.5555555555555556,
              "#d8576b"
             ],
             [
              0.6666666666666666,
              "#ed7953"
             ],
             [
              0.7777777777777778,
              "#fb9f3a"
             ],
             [
              0.8888888888888888,
              "#fdca26"
             ],
             [
              1,
              "#f0f921"
             ]
            ],
            "type": "histogram2d"
           }
          ],
          "histogram2dcontour": [
           {
            "colorbar": {
             "outlinewidth": 0,
             "ticks": ""
            },
            "colorscale": [
             [
              0,
              "#0d0887"
             ],
             [
              0.1111111111111111,
              "#46039f"
             ],
             [
              0.2222222222222222,
              "#7201a8"
             ],
             [
              0.3333333333333333,
              "#9c179e"
             ],
             [
              0.4444444444444444,
              "#bd3786"
             ],
             [
              0.5555555555555556,
              "#d8576b"
             ],
             [
              0.6666666666666666,
              "#ed7953"
             ],
             [
              0.7777777777777778,
              "#fb9f3a"
             ],
             [
              0.8888888888888888,
              "#fdca26"
             ],
             [
              1,
              "#f0f921"
             ]
            ],
            "type": "histogram2dcontour"
           }
          ],
          "mesh3d": [
           {
            "colorbar": {
             "outlinewidth": 0,
             "ticks": ""
            },
            "type": "mesh3d"
           }
          ],
          "parcoords": [
           {
            "line": {
             "colorbar": {
              "outlinewidth": 0,
              "ticks": ""
             }
            },
            "type": "parcoords"
           }
          ],
          "pie": [
           {
            "automargin": true,
            "type": "pie"
           }
          ],
          "scatter": [
           {
            "fillpattern": {
             "fillmode": "overlay",
             "size": 10,
             "solidity": 0.2
            },
            "type": "scatter"
           }
          ],
          "scatter3d": [
           {
            "line": {
             "colorbar": {
              "outlinewidth": 0,
              "ticks": ""
             }
            },
            "marker": {
             "colorbar": {
              "outlinewidth": 0,
              "ticks": ""
             }
            },
            "type": "scatter3d"
           }
          ],
          "scattercarpet": [
           {
            "marker": {
             "colorbar": {
              "outlinewidth": 0,
              "ticks": ""
             }
            },
            "type": "scattercarpet"
           }
          ],
          "scattergeo": [
           {
            "marker": {
             "colorbar": {
              "outlinewidth": 0,
              "ticks": ""
             }
            },
            "type": "scattergeo"
           }
          ],
          "scattergl": [
           {
            "marker": {
             "colorbar": {
              "outlinewidth": 0,
              "ticks": ""
             }
            },
            "type": "scattergl"
           }
          ],
          "scattermapbox": [
           {
            "marker": {
             "colorbar": {
              "outlinewidth": 0,
              "ticks": ""
             }
            },
            "type": "scattermapbox"
           }
          ],
          "scatterpolar": [
           {
            "marker": {
             "colorbar": {
              "outlinewidth": 0,
              "ticks": ""
             }
            },
            "type": "scatterpolar"
           }
          ],
          "scatterpolargl": [
           {
            "marker": {
             "colorbar": {
              "outlinewidth": 0,
              "ticks": ""
             }
            },
            "type": "scatterpolargl"
           }
          ],
          "scatterternary": [
           {
            "marker": {
             "colorbar": {
              "outlinewidth": 0,
              "ticks": ""
             }
            },
            "type": "scatterternary"
           }
          ],
          "surface": [
           {
            "colorbar": {
             "outlinewidth": 0,
             "ticks": ""
            },
            "colorscale": [
             [
              0,
              "#0d0887"
             ],
             [
              0.1111111111111111,
              "#46039f"
             ],
             [
              0.2222222222222222,
              "#7201a8"
             ],
             [
              0.3333333333333333,
              "#9c179e"
             ],
             [
              0.4444444444444444,
              "#bd3786"
             ],
             [
              0.5555555555555556,
              "#d8576b"
             ],
             [
              0.6666666666666666,
              "#ed7953"
             ],
             [
              0.7777777777777778,
              "#fb9f3a"
             ],
             [
              0.8888888888888888,
              "#fdca26"
             ],
             [
              1,
              "#f0f921"
             ]
            ],
            "type": "surface"
           }
          ],
          "table": [
           {
            "cells": {
             "fill": {
              "color": "#EBF0F8"
             },
             "line": {
              "color": "white"
             }
            },
            "header": {
             "fill": {
              "color": "#C8D4E3"
             },
             "line": {
              "color": "white"
             }
            },
            "type": "table"
           }
          ]
         },
         "layout": {
          "annotationdefaults": {
           "arrowcolor": "#2a3f5f",
           "arrowhead": 0,
           "arrowwidth": 1
          },
          "autotypenumbers": "strict",
          "coloraxis": {
           "colorbar": {
            "outlinewidth": 0,
            "ticks": ""
           }
          },
          "colorscale": {
           "diverging": [
            [
             0,
             "#8e0152"
            ],
            [
             0.1,
             "#c51b7d"
            ],
            [
             0.2,
             "#de77ae"
            ],
            [
             0.3,
             "#f1b6da"
            ],
            [
             0.4,
             "#fde0ef"
            ],
            [
             0.5,
             "#f7f7f7"
            ],
            [
             0.6,
             "#e6f5d0"
            ],
            [
             0.7,
             "#b8e186"
            ],
            [
             0.8,
             "#7fbc41"
            ],
            [
             0.9,
             "#4d9221"
            ],
            [
             1,
             "#276419"
            ]
           ],
           "sequential": [
            [
             0,
             "#0d0887"
            ],
            [
             0.1111111111111111,
             "#46039f"
            ],
            [
             0.2222222222222222,
             "#7201a8"
            ],
            [
             0.3333333333333333,
             "#9c179e"
            ],
            [
             0.4444444444444444,
             "#bd3786"
            ],
            [
             0.5555555555555556,
             "#d8576b"
            ],
            [
             0.6666666666666666,
             "#ed7953"
            ],
            [
             0.7777777777777778,
             "#fb9f3a"
            ],
            [
             0.8888888888888888,
             "#fdca26"
            ],
            [
             1,
             "#f0f921"
            ]
           ],
           "sequentialminus": [
            [
             0,
             "#0d0887"
            ],
            [
             0.1111111111111111,
             "#46039f"
            ],
            [
             0.2222222222222222,
             "#7201a8"
            ],
            [
             0.3333333333333333,
             "#9c179e"
            ],
            [
             0.4444444444444444,
             "#bd3786"
            ],
            [
             0.5555555555555556,
             "#d8576b"
            ],
            [
             0.6666666666666666,
             "#ed7953"
            ],
            [
             0.7777777777777778,
             "#fb9f3a"
            ],
            [
             0.8888888888888888,
             "#fdca26"
            ],
            [
             1,
             "#f0f921"
            ]
           ]
          },
          "colorway": [
           "#636efa",
           "#EF553B",
           "#00cc96",
           "#ab63fa",
           "#FFA15A",
           "#19d3f3",
           "#FF6692",
           "#B6E880",
           "#FF97FF",
           "#FECB52"
          ],
          "font": {
           "color": "#2a3f5f"
          },
          "geo": {
           "bgcolor": "white",
           "lakecolor": "white",
           "landcolor": "#E5ECF6",
           "showlakes": true,
           "showland": true,
           "subunitcolor": "white"
          },
          "hoverlabel": {
           "align": "left"
          },
          "hovermode": "closest",
          "mapbox": {
           "style": "light"
          },
          "paper_bgcolor": "white",
          "plot_bgcolor": "#E5ECF6",
          "polar": {
           "angularaxis": {
            "gridcolor": "white",
            "linecolor": "white",
            "ticks": ""
           },
           "bgcolor": "#E5ECF6",
           "radialaxis": {
            "gridcolor": "white",
            "linecolor": "white",
            "ticks": ""
           }
          },
          "scene": {
           "xaxis": {
            "backgroundcolor": "#E5ECF6",
            "gridcolor": "white",
            "gridwidth": 2,
            "linecolor": "white",
            "showbackground": true,
            "ticks": "",
            "zerolinecolor": "white"
           },
           "yaxis": {
            "backgroundcolor": "#E5ECF6",
            "gridcolor": "white",
            "gridwidth": 2,
            "linecolor": "white",
            "showbackground": true,
            "ticks": "",
            "zerolinecolor": "white"
           },
           "zaxis": {
            "backgroundcolor": "#E5ECF6",
            "gridcolor": "white",
            "gridwidth": 2,
            "linecolor": "white",
            "showbackground": true,
            "ticks": "",
            "zerolinecolor": "white"
           }
          },
          "shapedefaults": {
           "line": {
            "color": "#2a3f5f"
           }
          },
          "ternary": {
           "aaxis": {
            "gridcolor": "white",
            "linecolor": "white",
            "ticks": ""
           },
           "baxis": {
            "gridcolor": "white",
            "linecolor": "white",
            "ticks": ""
           },
           "bgcolor": "#E5ECF6",
           "caxis": {
            "gridcolor": "white",
            "linecolor": "white",
            "ticks": ""
           }
          },
          "title": {
           "x": 0.05
          },
          "xaxis": {
           "automargin": true,
           "gridcolor": "white",
           "linecolor": "white",
           "ticks": "",
           "title": {
            "standoff": 15
           },
           "zerolinecolor": "white",
           "zerolinewidth": 2
          },
          "yaxis": {
           "automargin": true,
           "gridcolor": "white",
           "linecolor": "white",
           "ticks": "",
           "title": {
            "standoff": 15
           },
           "zerolinecolor": "white",
           "zerolinewidth": 2
          }
         }
        },
        "xaxis": {
         "anchor": "y",
         "domain": [
          0,
          1
         ],
         "title": {
          "text": "observation"
         }
        },
        "xaxis2": {
         "anchor": "y2",
         "domain": [
          0,
          1
         ],
         "matches": "x",
         "showgrid": true,
         "showticklabels": false
        },
        "yaxis": {
         "anchor": "x",
         "domain": [
          0,
          0.8316
         ],
         "title": {
          "text": "count"
         }
        },
        "yaxis2": {
         "anchor": "x2",
         "domain": [
          0.8416,
          1
         ],
         "matches": "y2",
         "showgrid": false,
         "showline": false,
         "showticklabels": false,
         "ticks": ""
        }
       }
      },
      "text/html": [
       "<div>                            <div id=\"f6374ef7-b679-401a-ba9f-cc6e7c8e3eea\" class=\"plotly-graph-div\" style=\"height:525px; width:100%;\"></div>            <script type=\"text/javascript\">                require([\"plotly\"], function(Plotly) {                    window.PLOTLYENV=window.PLOTLYENV || {};                                    if (document.getElementById(\"f6374ef7-b679-401a-ba9f-cc6e7c8e3eea\")) {                    Plotly.newPlot(                        \"f6374ef7-b679-401a-ba9f-cc6e7c8e3eea\",                        [{\"alignmentgroup\":\"True\",\"bingroup\":\"x\",\"hovertemplate\":\"observation=%{x}<br>count=%{y}<extra></extra>\",\"legendgroup\":\"\",\"marker\":{\"color\":\"#636efa\",\"pattern\":{\"shape\":\"\"},\"line\":{\"color\":\"black\",\"width\":1.5}},\"name\":\"\",\"nbinsx\":10,\"offsetgroup\":\"\",\"orientation\":\"v\",\"showlegend\":false,\"x\":[68.0,12.0,45.0,38.0,49.0,27.0,39.0,12.0,42.0,33.0,30.0,25.0,30.0,44.0,53.0,46.0,50.0,22.0,6.0,29.0,29.0,27.0,35.0,38.0,28.0,26.0,60.0,41.0,38.0,41.0,44.0,52.0,46.0,39.0,44.0,46.0,32.0,23.0,15.0,40.0,42.0,32.0,45.0,29.0,22.0,41.0,39.0,63.0,39.0,31.0,34.0,28.0,45.0,33.0,32.0,61.0,64.0,37.0,56.0,44.0,33.0,38.0,40.0,38.0,56.0,14.0,52.0,34.0,14.0,34.0,31.0,46.0,50.0,37.0,13.0,12.0,25.0,28.0,51.0,13.0,36.0,52.0,13.0,30.0,36.0,35.0,26.0,34.0,51.0,52.0,35.0,44.0,23.0,29.0,25.0,30.0,27.0,42.0,18.0,39.0,42.0,48.0,30.0,40.0,34.0,28.0,48.0,48.0,42.0,53.0,34.0,37.0,32.0,29.0,18.0,35.0,58.0,37.0,32.0,49.0,20.0,42.0,29.0,22.0,39.0,41.0,54.0,20.0,19.0,39.0,39.0,39.0,58.0,23.0,45.0,13.0,44.0,39.0,30.0,37.0,62.0,45.0,33.0,55.0,33.0,39.0,34.0,32.0,25.0,21.0,39.0,43.0,18.0,40.0,50.0,35.0,46.0,36.0,30.0,44.0,34.0,58.0,14.0,27.0,62.0,42.0,27.0,50.0,29.0,41.0,30.0,37.0,43.0,43.0,49.0,31.0,17.0,42.0,48.0,29.0,38.0,31.0,20.0,50.0,26.0,45.0,56.0,35.0,48.0,35.0,55.0,44.0,23.0,39.0,39.0,45.0,21.0,43.0,38.0,40.0,35.0,25.0,7.0,26.0,40.0,52.0,46.0,47.0,38.0,1.0,16.0,54.0,45.0,35.0,54.0,41.0,12.0,37.0,50.0,37.0,24.0,47.0,39.0,30.0,41.0,31.0,23.0,42.0,24.0,23.0,31.0,45.0,53.0,21.0,59.0,63.0,41.0,53.0,59.0,48.0,57.0,39.0,32.0,36.0,21.0,40.0,51.0,44.0,59.0,25.0,52.0,42.0,8.0,34.0,43.0,46.0,36.0,42.0,46.0,44.0,29.0,17.0,56.0,41.0,30.0,67.0,41.0,34.0,42.0,22.0,19.0,57.0,16.0,24.0,26.0,32.0,35.0,36.0,26.0,21.0,20.0,28.0,19.0,56.0,41.0,38.0,42.0,31.0,30.0,41.0,31.0,33.0,42.0,45.0,62.0,29.0,41.0,19.0,42.0,42.0,54.0,2.0,40.0,28.0,42.0,28.0,26.0,43.0,32.0,54.0,34.0,25.0,32.0,14.0,66.0,24.0,43.0,33.0,29.0,8.0,43.0,30.0,34.0,37.0,40.0,42.0,48.0,19.0,35.0,41.0,26.0,36.0,23.0,46.0,35.0,28.0,39.0,21.0,4.0,73.0,43.0,48.0,20.0,49.0,28.0,26.0,34.0,20.0,39.0,46.0,37.0,20.0,29.0,63.0,36.0,49.0,36.0,36.0,34.0,46.0,44.0,15.0,38.0,82.0,48.0,29.0,49.0,57.0,16.0,12.0,36.0,59.0,49.0,17.0,25.0,33.0,37.0,40.0,43.0,57.0,43.0,38.0,35.0,30.0,14.0,48.0,24.0,32.0,47.0,29.0,50.0,43.0,55.0,36.0,49.0,46.0,45.0,52.0,36.0,30.0,33.0,34.0,18.0,32.0,40.0,37.0,36.0,63.0,44.0,57.0,35.0,28.0,57.0,15.0,40.0,47.0,17.0,53.0,39.0,29.0,47.0,37.0,30.0,19.0,66.0,56.0,8.0,22.0,43.0,39.0,21.0,41.0,54.0,51.0,37.0,23.0,56.0,70.0,39.0,14.0,60.0,26.0,30.0,47.0,52.0,30.0,54.0,5.0,22.0,23.0,34.0,2.0,34.0,45.0,31.0,42.0,47.0,35.0,36.0,39.0,41.0,60.0,42.0,26.0,45.0,25.0,32.0,47.0,36.0,37.0,40.0,57.0,40.0,59.0,31.0,32.0,63.0,38.0,41.0,43.0,17.0,34.0,28.0,43.0,51.0,8.0,30.0,43.0,24.0,1.0,16.0,43.0,27.0,71.0,50.0,50.0,9.0,30.0,15.0,32.0,50.0,39.0,24.0,55.0,38.0,17.0,36.0,43.0,40.0,42.0,37.0,55.0,31.0,31.0,31.0,21.0,43.0,45.0,36.0,23.0,32.0,14.0,16.0,69.0,11.0,33.0,36.0,39.0,19.0,31.0,26.0,52.0,41.0,30.0,31.0,32.0,35.0,43.0,52.0,41.0,17.0,38.0,28.0,54.0,42.0,24.0,39.0,44.0,31.0,48.0,6.0,50.0,27.0,45.0,28.0,29.0,43.0,44.0,14.0,28.0,15.0,37.0,61.0,36.0,35.0,32.0,34.0,26.0,37.0,41.0,59.0,45.0,46.0,32.0,30.0,33.0,27.0,10.0,42.0,30.0,54.0,36.0,44.0,45.0,54.0,37.0,40.0,23.0,66.0,32.0,39.0,34.0,46.0,39.0,38.0,38.0,50.0,55.0,30.0,47.0,41.0,56.0,39.0,41.0,27.0,23.0,30.0,17.0,45.0,29.0,42.0,26.0,22.0,39.0,23.0,48.0,51.0,39.0,52.0,39.0,41.0,56.0,38.0,44.0,33.0,39.0,44.0,29.0,49.0,13.0,53.0,58.0,27.0,23.0,27.0,45.0,12.0,30.0,40.0,30.0,49.0,40.0,32.0,53.0,37.0,31.0,46.0,31.0,22.0,19.0,12.0,49.0,47.0,42.0,38.0,58.0,43.0,38.0,42.0,30.0,45.0,26.0,38.0,26.0,46.0,20.0,29.0,39.0,37.0,42.0,43.0,48.0,55.0,22.0,26.0,30.0,55.0,35.0,51.0,46.0,38.0,65.0,55.0,41.0,30.0,37.0,27.0,36.0,42.0,38.0,20.0,47.0,31.0,34.0,35.0,36.0,5.0,40.0,41.0,27.0,47.0,63.0,35.0,32.0,27.0,50.0,39.0,38.0,36.0,17.0,27.0,45.0,30.0,28.0,43.0,33.0,45.0,20.0,29.0,48.0,20.0,44.0,42.0,60.0,25.0,48.0,41.0,39.0,11.0,35.0,43.0,51.0,24.0,33.0,22.0,21.0,45.0,48.0,56.0,25.0,33.0,36.0,53.0,51.0,42.0,15.0,32.0,22.0,59.0,54.0,32.0,39.0,47.0,17.0,28.0,29.0,56.0,34.0,28.0,44.0,67.0,26.0,25.0,23.0,56.0,52.0,25.0,49.0,26.0,39.0,63.0,48.0,48.0,30.0,37.0,46.0,14.0,15.0,44.0,39.0,40.0,22.0,30.0,39.0,43.0,46.0,35.0,16.0,44.0,18.0,26.0,27.0,37.0,20.0,35.0,50.0,55.0,45.0,41.0,54.0,56.0,46.0,56.0,24.0,33.0,12.0,31.0,12.0,25.0,49.0,52.0,55.0,27.0,49.0,44.0,49.0,40.0,34.0,16.0,19.0,36.0,32.0,67.0,52.0,38.0,33.0,68.0,14.0,43.0,10.0,11.0,39.0,13.0,54.0,41.0,40.0,18.0,16.0,45.0,35.0,39.0,34.0,46.0,53.0,23.0,55.0,37.0,29.0,48.0,35.0,45.0,68.0,29.0,40.0,33.0,64.0,45.0,10.0,47.0,23.0,39.0,20.0,41.0,36.0,41.0,25.0,46.0,49.0,28.0,40.0,58.0,46.0,37.0,41.0,38.0,35.0,31.0,30.0,35.0,34.0,15.0,58.0,41.0,59.0,32.0,12.0,27.0,41.0,37.0,47.0,49.0,47.0,53.0,35.0,38.0,24.0,50.0,27.0,27.0,26.0,24.0,30.0,43.0,35.0,22.0,22.0,32.0,37.0,55.0,27.0,36.0,50.0,21.0,45.0,27.0,53.0,41.0,28.0,45.0,39.0,43.0,29.0,18.0,34.0,19.0,26.0,32.0,65.0,38.0,24.0,27.0,24.0,19.0,49.0,25.0,41.0,22.0,31.0,24.0,21.0,8.0,56.0,42.0,43.0,62.0,22.0,67.0,38.0,43.0,41.0,34.0,38.0,21.0,35.0,28.0,27.0,21.0,40.0,44.0,25.0,40.0,29.0,39.0,25.0,33.0,37.0,35.0,26.0,34.0,43.0,39.0,32.0,33.0,24.0,24.0,25.0,36.0,49.0,31.0,12.0,9.0,35.0,21.0,36.0,37.0,34.0,24.0,35.0,38.0,33.0,42.0,32.0,29.0,36.0,40.0,27.0,47.0,53.0,33.0,31.0],\"xaxis\":\"x\",\"yaxis\":\"y\",\"type\":\"histogram\",\"opacity\":0.7},{\"alignmentgroup\":\"True\",\"hovertemplate\":\"observation=%{x}<extra></extra>\",\"legendgroup\":\"\",\"marker\":{\"color\":\"#636efa\",\"line\":{\"color\":\"black\",\"width\":1.5}},\"name\":\"\",\"notched\":true,\"offsetgroup\":\"\",\"showlegend\":false,\"x\":[68.0,12.0,45.0,38.0,49.0,27.0,39.0,12.0,42.0,33.0,30.0,25.0,30.0,44.0,53.0,46.0,50.0,22.0,6.0,29.0,29.0,27.0,35.0,38.0,28.0,26.0,60.0,41.0,38.0,41.0,44.0,52.0,46.0,39.0,44.0,46.0,32.0,23.0,15.0,40.0,42.0,32.0,45.0,29.0,22.0,41.0,39.0,63.0,39.0,31.0,34.0,28.0,45.0,33.0,32.0,61.0,64.0,37.0,56.0,44.0,33.0,38.0,40.0,38.0,56.0,14.0,52.0,34.0,14.0,34.0,31.0,46.0,50.0,37.0,13.0,12.0,25.0,28.0,51.0,13.0,36.0,52.0,13.0,30.0,36.0,35.0,26.0,34.0,51.0,52.0,35.0,44.0,23.0,29.0,25.0,30.0,27.0,42.0,18.0,39.0,42.0,48.0,30.0,40.0,34.0,28.0,48.0,48.0,42.0,53.0,34.0,37.0,32.0,29.0,18.0,35.0,58.0,37.0,32.0,49.0,20.0,42.0,29.0,22.0,39.0,41.0,54.0,20.0,19.0,39.0,39.0,39.0,58.0,23.0,45.0,13.0,44.0,39.0,30.0,37.0,62.0,45.0,33.0,55.0,33.0,39.0,34.0,32.0,25.0,21.0,39.0,43.0,18.0,40.0,50.0,35.0,46.0,36.0,30.0,44.0,34.0,58.0,14.0,27.0,62.0,42.0,27.0,50.0,29.0,41.0,30.0,37.0,43.0,43.0,49.0,31.0,17.0,42.0,48.0,29.0,38.0,31.0,20.0,50.0,26.0,45.0,56.0,35.0,48.0,35.0,55.0,44.0,23.0,39.0,39.0,45.0,21.0,43.0,38.0,40.0,35.0,25.0,7.0,26.0,40.0,52.0,46.0,47.0,38.0,1.0,16.0,54.0,45.0,35.0,54.0,41.0,12.0,37.0,50.0,37.0,24.0,47.0,39.0,30.0,41.0,31.0,23.0,42.0,24.0,23.0,31.0,45.0,53.0,21.0,59.0,63.0,41.0,53.0,59.0,48.0,57.0,39.0,32.0,36.0,21.0,40.0,51.0,44.0,59.0,25.0,52.0,42.0,8.0,34.0,43.0,46.0,36.0,42.0,46.0,44.0,29.0,17.0,56.0,41.0,30.0,67.0,41.0,34.0,42.0,22.0,19.0,57.0,16.0,24.0,26.0,32.0,35.0,36.0,26.0,21.0,20.0,28.0,19.0,56.0,41.0,38.0,42.0,31.0,30.0,41.0,31.0,33.0,42.0,45.0,62.0,29.0,41.0,19.0,42.0,42.0,54.0,2.0,40.0,28.0,42.0,28.0,26.0,43.0,32.0,54.0,34.0,25.0,32.0,14.0,66.0,24.0,43.0,33.0,29.0,8.0,43.0,30.0,34.0,37.0,40.0,42.0,48.0,19.0,35.0,41.0,26.0,36.0,23.0,46.0,35.0,28.0,39.0,21.0,4.0,73.0,43.0,48.0,20.0,49.0,28.0,26.0,34.0,20.0,39.0,46.0,37.0,20.0,29.0,63.0,36.0,49.0,36.0,36.0,34.0,46.0,44.0,15.0,38.0,82.0,48.0,29.0,49.0,57.0,16.0,12.0,36.0,59.0,49.0,17.0,25.0,33.0,37.0,40.0,43.0,57.0,43.0,38.0,35.0,30.0,14.0,48.0,24.0,32.0,47.0,29.0,50.0,43.0,55.0,36.0,49.0,46.0,45.0,52.0,36.0,30.0,33.0,34.0,18.0,32.0,40.0,37.0,36.0,63.0,44.0,57.0,35.0,28.0,57.0,15.0,40.0,47.0,17.0,53.0,39.0,29.0,47.0,37.0,30.0,19.0,66.0,56.0,8.0,22.0,43.0,39.0,21.0,41.0,54.0,51.0,37.0,23.0,56.0,70.0,39.0,14.0,60.0,26.0,30.0,47.0,52.0,30.0,54.0,5.0,22.0,23.0,34.0,2.0,34.0,45.0,31.0,42.0,47.0,35.0,36.0,39.0,41.0,60.0,42.0,26.0,45.0,25.0,32.0,47.0,36.0,37.0,40.0,57.0,40.0,59.0,31.0,32.0,63.0,38.0,41.0,43.0,17.0,34.0,28.0,43.0,51.0,8.0,30.0,43.0,24.0,1.0,16.0,43.0,27.0,71.0,50.0,50.0,9.0,30.0,15.0,32.0,50.0,39.0,24.0,55.0,38.0,17.0,36.0,43.0,40.0,42.0,37.0,55.0,31.0,31.0,31.0,21.0,43.0,45.0,36.0,23.0,32.0,14.0,16.0,69.0,11.0,33.0,36.0,39.0,19.0,31.0,26.0,52.0,41.0,30.0,31.0,32.0,35.0,43.0,52.0,41.0,17.0,38.0,28.0,54.0,42.0,24.0,39.0,44.0,31.0,48.0,6.0,50.0,27.0,45.0,28.0,29.0,43.0,44.0,14.0,28.0,15.0,37.0,61.0,36.0,35.0,32.0,34.0,26.0,37.0,41.0,59.0,45.0,46.0,32.0,30.0,33.0,27.0,10.0,42.0,30.0,54.0,36.0,44.0,45.0,54.0,37.0,40.0,23.0,66.0,32.0,39.0,34.0,46.0,39.0,38.0,38.0,50.0,55.0,30.0,47.0,41.0,56.0,39.0,41.0,27.0,23.0,30.0,17.0,45.0,29.0,42.0,26.0,22.0,39.0,23.0,48.0,51.0,39.0,52.0,39.0,41.0,56.0,38.0,44.0,33.0,39.0,44.0,29.0,49.0,13.0,53.0,58.0,27.0,23.0,27.0,45.0,12.0,30.0,40.0,30.0,49.0,40.0,32.0,53.0,37.0,31.0,46.0,31.0,22.0,19.0,12.0,49.0,47.0,42.0,38.0,58.0,43.0,38.0,42.0,30.0,45.0,26.0,38.0,26.0,46.0,20.0,29.0,39.0,37.0,42.0,43.0,48.0,55.0,22.0,26.0,30.0,55.0,35.0,51.0,46.0,38.0,65.0,55.0,41.0,30.0,37.0,27.0,36.0,42.0,38.0,20.0,47.0,31.0,34.0,35.0,36.0,5.0,40.0,41.0,27.0,47.0,63.0,35.0,32.0,27.0,50.0,39.0,38.0,36.0,17.0,27.0,45.0,30.0,28.0,43.0,33.0,45.0,20.0,29.0,48.0,20.0,44.0,42.0,60.0,25.0,48.0,41.0,39.0,11.0,35.0,43.0,51.0,24.0,33.0,22.0,21.0,45.0,48.0,56.0,25.0,33.0,36.0,53.0,51.0,42.0,15.0,32.0,22.0,59.0,54.0,32.0,39.0,47.0,17.0,28.0,29.0,56.0,34.0,28.0,44.0,67.0,26.0,25.0,23.0,56.0,52.0,25.0,49.0,26.0,39.0,63.0,48.0,48.0,30.0,37.0,46.0,14.0,15.0,44.0,39.0,40.0,22.0,30.0,39.0,43.0,46.0,35.0,16.0,44.0,18.0,26.0,27.0,37.0,20.0,35.0,50.0,55.0,45.0,41.0,54.0,56.0,46.0,56.0,24.0,33.0,12.0,31.0,12.0,25.0,49.0,52.0,55.0,27.0,49.0,44.0,49.0,40.0,34.0,16.0,19.0,36.0,32.0,67.0,52.0,38.0,33.0,68.0,14.0,43.0,10.0,11.0,39.0,13.0,54.0,41.0,40.0,18.0,16.0,45.0,35.0,39.0,34.0,46.0,53.0,23.0,55.0,37.0,29.0,48.0,35.0,45.0,68.0,29.0,40.0,33.0,64.0,45.0,10.0,47.0,23.0,39.0,20.0,41.0,36.0,41.0,25.0,46.0,49.0,28.0,40.0,58.0,46.0,37.0,41.0,38.0,35.0,31.0,30.0,35.0,34.0,15.0,58.0,41.0,59.0,32.0,12.0,27.0,41.0,37.0,47.0,49.0,47.0,53.0,35.0,38.0,24.0,50.0,27.0,27.0,26.0,24.0,30.0,43.0,35.0,22.0,22.0,32.0,37.0,55.0,27.0,36.0,50.0,21.0,45.0,27.0,53.0,41.0,28.0,45.0,39.0,43.0,29.0,18.0,34.0,19.0,26.0,32.0,65.0,38.0,24.0,27.0,24.0,19.0,49.0,25.0,41.0,22.0,31.0,24.0,21.0,8.0,56.0,42.0,43.0,62.0,22.0,67.0,38.0,43.0,41.0,34.0,38.0,21.0,35.0,28.0,27.0,21.0,40.0,44.0,25.0,40.0,29.0,39.0,25.0,33.0,37.0,35.0,26.0,34.0,43.0,39.0,32.0,33.0,24.0,24.0,25.0,36.0,49.0,31.0,12.0,9.0,35.0,21.0,36.0,37.0,34.0,24.0,35.0,38.0,33.0,42.0,32.0,29.0,36.0,40.0,27.0,47.0,53.0,33.0,31.0],\"xaxis\":\"x2\",\"yaxis\":\"y2\",\"type\":\"box\",\"opacity\":0.7}],                        {\"template\":{\"data\":{\"histogram2dcontour\":[{\"type\":\"histogram2dcontour\",\"colorbar\":{\"outlinewidth\":0,\"ticks\":\"\"},\"colorscale\":[[0.0,\"#0d0887\"],[0.1111111111111111,\"#46039f\"],[0.2222222222222222,\"#7201a8\"],[0.3333333333333333,\"#9c179e\"],[0.4444444444444444,\"#bd3786\"],[0.5555555555555556,\"#d8576b\"],[0.6666666666666666,\"#ed7953\"],[0.7777777777777778,\"#fb9f3a\"],[0.8888888888888888,\"#fdca26\"],[1.0,\"#f0f921\"]]}],\"choropleth\":[{\"type\":\"choropleth\",\"colorbar\":{\"outlinewidth\":0,\"ticks\":\"\"}}],\"histogram2d\":[{\"type\":\"histogram2d\",\"colorbar\":{\"outlinewidth\":0,\"ticks\":\"\"},\"colorscale\":[[0.0,\"#0d0887\"],[0.1111111111111111,\"#46039f\"],[0.2222222222222222,\"#7201a8\"],[0.3333333333333333,\"#9c179e\"],[0.4444444444444444,\"#bd3786\"],[0.5555555555555556,\"#d8576b\"],[0.6666666666666666,\"#ed7953\"],[0.7777777777777778,\"#fb9f3a\"],[0.8888888888888888,\"#fdca26\"],[1.0,\"#f0f921\"]]}],\"heatmap\":[{\"type\":\"heatmap\",\"colorbar\":{\"outlinewidth\":0,\"ticks\":\"\"},\"colorscale\":[[0.0,\"#0d0887\"],[0.1111111111111111,\"#46039f\"],[0.2222222222222222,\"#7201a8\"],[0.3333333333333333,\"#9c179e\"],[0.4444444444444444,\"#bd3786\"],[0.5555555555555556,\"#d8576b\"],[0.6666666666666666,\"#ed7953\"],[0.7777777777777778,\"#fb9f3a\"],[0.8888888888888888,\"#fdca26\"],[1.0,\"#f0f921\"]]}],\"heatmapgl\":[{\"type\":\"heatmapgl\",\"colorbar\":{\"outlinewidth\":0,\"ticks\":\"\"},\"colorscale\":[[0.0,\"#0d0887\"],[0.1111111111111111,\"#46039f\"],[0.2222222222222222,\"#7201a8\"],[0.3333333333333333,\"#9c179e\"],[0.4444444444444444,\"#bd3786\"],[0.5555555555555556,\"#d8576b\"],[0.6666666666666666,\"#ed7953\"],[0.7777777777777778,\"#fb9f3a\"],[0.8888888888888888,\"#fdca26\"],[1.0,\"#f0f921\"]]}],\"contourcarpet\":[{\"type\":\"contourcarpet\",\"colorbar\":{\"outlinewidth\":0,\"ticks\":\"\"}}],\"contour\":[{\"type\":\"contour\",\"colorbar\":{\"outlinewidth\":0,\"ticks\":\"\"},\"colorscale\":[[0.0,\"#0d0887\"],[0.1111111111111111,\"#46039f\"],[0.2222222222222222,\"#7201a8\"],[0.3333333333333333,\"#9c179e\"],[0.4444444444444444,\"#bd3786\"],[0.5555555555555556,\"#d8576b\"],[0.6666666666666666,\"#ed7953\"],[0.7777777777777778,\"#fb9f3a\"],[0.8888888888888888,\"#fdca26\"],[1.0,\"#f0f921\"]]}],\"surface\":[{\"type\":\"surface\",\"colorbar\":{\"outlinewidth\":0,\"ticks\":\"\"},\"colorscale\":[[0.0,\"#0d0887\"],[0.1111111111111111,\"#46039f\"],[0.2222222222222222,\"#7201a8\"],[0.3333333333333333,\"#9c179e\"],[0.4444444444444444,\"#bd3786\"],[0.5555555555555556,\"#d8576b\"],[0.6666666666666666,\"#ed7953\"],[0.7777777777777778,\"#fb9f3a\"],[0.8888888888888888,\"#fdca26\"],[1.0,\"#f0f921\"]]}],\"mesh3d\":[{\"type\":\"mesh3d\",\"colorbar\":{\"outlinewidth\":0,\"ticks\":\"\"}}],\"scatter\":[{\"fillpattern\":{\"fillmode\":\"overlay\",\"size\":10,\"solidity\":0.2},\"type\":\"scatter\"}],\"parcoords\":[{\"type\":\"parcoords\",\"line\":{\"colorbar\":{\"outlinewidth\":0,\"ticks\":\"\"}}}],\"scatterpolargl\":[{\"type\":\"scatterpolargl\",\"marker\":{\"colorbar\":{\"outlinewidth\":0,\"ticks\":\"\"}}}],\"bar\":[{\"error_x\":{\"color\":\"#2a3f5f\"},\"error_y\":{\"color\":\"#2a3f5f\"},\"marker\":{\"line\":{\"color\":\"#E5ECF6\",\"width\":0.5},\"pattern\":{\"fillmode\":\"overlay\",\"size\":10,\"solidity\":0.2}},\"type\":\"bar\"}],\"scattergeo\":[{\"type\":\"scattergeo\",\"marker\":{\"colorbar\":{\"outlinewidth\":0,\"ticks\":\"\"}}}],\"scatterpolar\":[{\"type\":\"scatterpolar\",\"marker\":{\"colorbar\":{\"outlinewidth\":0,\"ticks\":\"\"}}}],\"histogram\":[{\"marker\":{\"pattern\":{\"fillmode\":\"overlay\",\"size\":10,\"solidity\":0.2}},\"type\":\"histogram\"}],\"scattergl\":[{\"type\":\"scattergl\",\"marker\":{\"colorbar\":{\"outlinewidth\":0,\"ticks\":\"\"}}}],\"scatter3d\":[{\"type\":\"scatter3d\",\"line\":{\"colorbar\":{\"outlinewidth\":0,\"ticks\":\"\"}},\"marker\":{\"colorbar\":{\"outlinewidth\":0,\"ticks\":\"\"}}}],\"scattermapbox\":[{\"type\":\"scattermapbox\",\"marker\":{\"colorbar\":{\"outlinewidth\":0,\"ticks\":\"\"}}}],\"scatterternary\":[{\"type\":\"scatterternary\",\"marker\":{\"colorbar\":{\"outlinewidth\":0,\"ticks\":\"\"}}}],\"scattercarpet\":[{\"type\":\"scattercarpet\",\"marker\":{\"colorbar\":{\"outlinewidth\":0,\"ticks\":\"\"}}}],\"carpet\":[{\"aaxis\":{\"endlinecolor\":\"#2a3f5f\",\"gridcolor\":\"white\",\"linecolor\":\"white\",\"minorgridcolor\":\"white\",\"startlinecolor\":\"#2a3f5f\"},\"baxis\":{\"endlinecolor\":\"#2a3f5f\",\"gridcolor\":\"white\",\"linecolor\":\"white\",\"minorgridcolor\":\"white\",\"startlinecolor\":\"#2a3f5f\"},\"type\":\"carpet\"}],\"table\":[{\"cells\":{\"fill\":{\"color\":\"#EBF0F8\"},\"line\":{\"color\":\"white\"}},\"header\":{\"fill\":{\"color\":\"#C8D4E3\"},\"line\":{\"color\":\"white\"}},\"type\":\"table\"}],\"barpolar\":[{\"marker\":{\"line\":{\"color\":\"#E5ECF6\",\"width\":0.5},\"pattern\":{\"fillmode\":\"overlay\",\"size\":10,\"solidity\":0.2}},\"type\":\"barpolar\"}],\"pie\":[{\"automargin\":true,\"type\":\"pie\"}]},\"layout\":{\"autotypenumbers\":\"strict\",\"colorway\":[\"#636efa\",\"#EF553B\",\"#00cc96\",\"#ab63fa\",\"#FFA15A\",\"#19d3f3\",\"#FF6692\",\"#B6E880\",\"#FF97FF\",\"#FECB52\"],\"font\":{\"color\":\"#2a3f5f\"},\"hovermode\":\"closest\",\"hoverlabel\":{\"align\":\"left\"},\"paper_bgcolor\":\"white\",\"plot_bgcolor\":\"#E5ECF6\",\"polar\":{\"bgcolor\":\"#E5ECF6\",\"angularaxis\":{\"gridcolor\":\"white\",\"linecolor\":\"white\",\"ticks\":\"\"},\"radialaxis\":{\"gridcolor\":\"white\",\"linecolor\":\"white\",\"ticks\":\"\"}},\"ternary\":{\"bgcolor\":\"#E5ECF6\",\"aaxis\":{\"gridcolor\":\"white\",\"linecolor\":\"white\",\"ticks\":\"\"},\"baxis\":{\"gridcolor\":\"white\",\"linecolor\":\"white\",\"ticks\":\"\"},\"caxis\":{\"gridcolor\":\"white\",\"linecolor\":\"white\",\"ticks\":\"\"}},\"coloraxis\":{\"colorbar\":{\"outlinewidth\":0,\"ticks\":\"\"}},\"colorscale\":{\"sequential\":[[0.0,\"#0d0887\"],[0.1111111111111111,\"#46039f\"],[0.2222222222222222,\"#7201a8\"],[0.3333333333333333,\"#9c179e\"],[0.4444444444444444,\"#bd3786\"],[0.5555555555555556,\"#d8576b\"],[0.6666666666666666,\"#ed7953\"],[0.7777777777777778,\"#fb9f3a\"],[0.8888888888888888,\"#fdca26\"],[1.0,\"#f0f921\"]],\"sequentialminus\":[[0.0,\"#0d0887\"],[0.1111111111111111,\"#46039f\"],[0.2222222222222222,\"#7201a8\"],[0.3333333333333333,\"#9c179e\"],[0.4444444444444444,\"#bd3786\"],[0.5555555555555556,\"#d8576b\"],[0.6666666666666666,\"#ed7953\"],[0.7777777777777778,\"#fb9f3a\"],[0.8888888888888888,\"#fdca26\"],[1.0,\"#f0f921\"]],\"diverging\":[[0,\"#8e0152\"],[0.1,\"#c51b7d\"],[0.2,\"#de77ae\"],[0.3,\"#f1b6da\"],[0.4,\"#fde0ef\"],[0.5,\"#f7f7f7\"],[0.6,\"#e6f5d0\"],[0.7,\"#b8e186\"],[0.8,\"#7fbc41\"],[0.9,\"#4d9221\"],[1,\"#276419\"]]},\"xaxis\":{\"gridcolor\":\"white\",\"linecolor\":\"white\",\"ticks\":\"\",\"title\":{\"standoff\":15},\"zerolinecolor\":\"white\",\"automargin\":true,\"zerolinewidth\":2},\"yaxis\":{\"gridcolor\":\"white\",\"linecolor\":\"white\",\"ticks\":\"\",\"title\":{\"standoff\":15},\"zerolinecolor\":\"white\",\"automargin\":true,\"zerolinewidth\":2},\"scene\":{\"xaxis\":{\"backgroundcolor\":\"#E5ECF6\",\"gridcolor\":\"white\",\"linecolor\":\"white\",\"showbackground\":true,\"ticks\":\"\",\"zerolinecolor\":\"white\",\"gridwidth\":2},\"yaxis\":{\"backgroundcolor\":\"#E5ECF6\",\"gridcolor\":\"white\",\"linecolor\":\"white\",\"showbackground\":true,\"ticks\":\"\",\"zerolinecolor\":\"white\",\"gridwidth\":2},\"zaxis\":{\"backgroundcolor\":\"#E5ECF6\",\"gridcolor\":\"white\",\"linecolor\":\"white\",\"showbackground\":true,\"ticks\":\"\",\"zerolinecolor\":\"white\",\"gridwidth\":2}},\"shapedefaults\":{\"line\":{\"color\":\"#2a3f5f\"}},\"annotationdefaults\":{\"arrowcolor\":\"#2a3f5f\",\"arrowhead\":0,\"arrowwidth\":1},\"geo\":{\"bgcolor\":\"white\",\"landcolor\":\"#E5ECF6\",\"subunitcolor\":\"white\",\"showland\":true,\"showlakes\":true,\"lakecolor\":\"white\"},\"title\":{\"x\":0.05},\"mapbox\":{\"style\":\"light\"}}},\"xaxis\":{\"anchor\":\"y\",\"domain\":[0.0,1.0],\"title\":{\"text\":\"observation\"}},\"yaxis\":{\"anchor\":\"x\",\"domain\":[0.0,0.8316],\"title\":{\"text\":\"count\"}},\"xaxis2\":{\"anchor\":\"y2\",\"domain\":[0.0,1.0],\"matches\":\"x\",\"showticklabels\":false,\"showgrid\":true},\"yaxis2\":{\"anchor\":\"x2\",\"domain\":[0.8416,1.0],\"matches\":\"y2\",\"showticklabels\":false,\"showline\":false,\"ticks\":\"\",\"showgrid\":false},\"legend\":{\"tracegroupgap\":0},\"margin\":{\"t\":60},\"barmode\":\"relative\"},                        {\"responsive\": true}                    ).then(function(){\n",
       "                            \n",
       "var gd = document.getElementById('f6374ef7-b679-401a-ba9f-cc6e7c8e3eea');\n",
       "var x = new MutationObserver(function (mutations, observer) {{\n",
       "        var display = window.getComputedStyle(gd).display;\n",
       "        if (!display || display === 'none') {{\n",
       "            console.log([gd, 'removed!']);\n",
       "            Plotly.purge(gd);\n",
       "            observer.disconnect();\n",
       "        }}\n",
       "}});\n",
       "\n",
       "// Listen for the removal of the full notebook cells\n",
       "var notebookContainer = gd.closest('#notebook-container');\n",
       "if (notebookContainer) {{\n",
       "    x.observe(notebookContainer, {childList: true});\n",
       "}}\n",
       "\n",
       "// Listen for the clearing of the current output cell\n",
       "var outputEl = gd.closest('.output');\n",
       "if (outputEl) {{\n",
       "    x.observe(outputEl, {childList: true});\n",
       "}}\n",
       "\n",
       "                        })                };                });            </script>        </div>"
      ]
     },
     "metadata": {},
     "output_type": "display_data"
    }
   ],
   "source": [
    "fig1 = px.histogram(ages, x = \"observation\", nbins=10, marginal = \"box\")\n",
    "fig1.update_traces(marker_line_color='black', marker_line_width=1.5, opacity=0.7)\n",
    "fig1"
   ]
  },
  {
   "cell_type": "code",
   "execution_count": 109,
   "metadata": {},
   "outputs": [
    {
     "data": {
      "image/png": "[encoded data removed]",
      "text/plain": [
       "<Figure size 800x600 with 1 Axes>"
      ]
     },
     "metadata": {},
     "output_type": "display_data"
    }
   ],
   "source": [
    "fig, ax = plt.subplots(figsize=(8, 6))\n",
    "\n",
    "sns.histplot(ages[\"observation\"], bins=10, kde=True, ax=ax)\n",
    "\n",
    "ax.set_xlabel('Observation')\n",
    "ax.set_ylabel('Frecuencia')\n",
    "\n",
    "for patch in ax.patches:\n",
    "    patch.set_edgecolor('black')\n",
    "    patch.set_linewidth(1.5)\n",
    "    patch.set_alpha(0.7)\n",
    "plt.show()"
   ]
  },
  {
   "cell_type": "code",
   "execution_count": 45,
   "metadata": {},
   "outputs": [
    {
     "data": {
      "text/plain": [
       "'\\nI guess the mean will be around 30 \\nsomething and the standard deviation around 10 or 15? \\n(the standard deviation gives me more trouble)\\n'"
      ]
     },
     "execution_count": 45,
     "metadata": {},
     "output_type": "execute_result"
    }
   ],
   "source": [
    "\"\"\"\n",
    "I guess the mean will be around 30 \n",
    "something and the standard deviation around 10 or 15? \n",
    "(the standard deviation gives me more trouble)\n",
    "\"\"\""
   ]
  },
  {
   "cell_type": "markdown",
   "metadata": {},
   "source": [
    "#### 2.- Calculate the exact mean and standard deviation and compare them with your guesses. Do they fall inside the ranges you guessed?"
   ]
  },
  {
   "cell_type": "code",
   "execution_count": 46,
   "metadata": {},
   "outputs": [
    {
     "data": {
      "text/plain": [
       "36.56"
      ]
     },
     "execution_count": 46,
     "metadata": {},
     "output_type": "execute_result"
    }
   ],
   "source": [
    "mean = mean(ages[\"observation\"])\n",
    "mean"
   ]
  },
  {
   "cell_type": "code",
   "execution_count": 47,
   "metadata": {},
   "outputs": [
    {
     "data": {
      "text/plain": [
       "12.81008977329979"
      ]
     },
     "execution_count": 47,
     "metadata": {},
     "output_type": "execute_result"
    }
   ],
   "source": [
    "s_d = np.std(ages[\"observation\"])\n",
    "s_d"
   ]
  },
  {
   "cell_type": "code",
   "execution_count": 48,
   "metadata": {},
   "outputs": [
    {
     "data": {
      "text/plain": [
       "'\\nThe mean was more or less what I predicted.\\nThe standard deviation is in the range I predicted, but \\nwith less precision.\\n\\n'"
      ]
     },
     "execution_count": 48,
     "metadata": {},
     "output_type": "execute_result"
    }
   ],
   "source": [
    "\"\"\"\n",
    "The mean was more or less what I predicted.\n",
    "The standard deviation is in the range I predicted, but \n",
    "with less precision.\n",
    "\n",
    "\"\"\""
   ]
  },
  {
   "cell_type": "markdown",
   "metadata": {},
   "source": [
    "#### 3.- Now read the file `ages_population2.csv` . Calculate the frequency distribution and plot it."
   ]
  },
  {
   "cell_type": "code",
   "execution_count": 49,
   "metadata": {},
   "outputs": [
    {
     "data": {
      "text/html": [
       "<div>\n",
       "<style scoped>\n",
       "    .dataframe tbody tr th:only-of-type {\n",
       "        vertical-align: middle;\n",
       "    }\n",
       "\n",
       "    .dataframe tbody tr th {\n",
       "        vertical-align: top;\n",
       "    }\n",
       "\n",
       "    .dataframe thead th {\n",
       "        text-align: right;\n",
       "    }\n",
       "</style>\n",
       "<table border=\"1\" class=\"dataframe\">\n",
       "  <thead>\n",
       "    <tr style=\"text-align: right;\">\n",
       "      <th></th>\n",
       "      <th>observation</th>\n",
       "    </tr>\n",
       "  </thead>\n",
       "  <tbody>\n",
       "    <tr>\n",
       "      <th>0</th>\n",
       "      <td>25.0</td>\n",
       "    </tr>\n",
       "    <tr>\n",
       "      <th>1</th>\n",
       "      <td>31.0</td>\n",
       "    </tr>\n",
       "    <tr>\n",
       "      <th>2</th>\n",
       "      <td>29.0</td>\n",
       "    </tr>\n",
       "    <tr>\n",
       "      <th>3</th>\n",
       "      <td>31.0</td>\n",
       "    </tr>\n",
       "    <tr>\n",
       "      <th>4</th>\n",
       "      <td>29.0</td>\n",
       "    </tr>\n",
       "    <tr>\n",
       "      <th>...</th>\n",
       "      <td>...</td>\n",
       "    </tr>\n",
       "    <tr>\n",
       "      <th>995</th>\n",
       "      <td>26.0</td>\n",
       "    </tr>\n",
       "    <tr>\n",
       "      <th>996</th>\n",
       "      <td>22.0</td>\n",
       "    </tr>\n",
       "    <tr>\n",
       "      <th>997</th>\n",
       "      <td>21.0</td>\n",
       "    </tr>\n",
       "    <tr>\n",
       "      <th>998</th>\n",
       "      <td>19.0</td>\n",
       "    </tr>\n",
       "    <tr>\n",
       "      <th>999</th>\n",
       "      <td>28.0</td>\n",
       "    </tr>\n",
       "  </tbody>\n",
       "</table>\n",
       "<p>1000 rows × 1 columns</p>\n",
       "</div>"
      ],
      "text/plain": [
       "     observation\n",
       "0           25.0\n",
       "1           31.0\n",
       "2           29.0\n",
       "3           31.0\n",
       "4           29.0\n",
       "..           ...\n",
       "995         26.0\n",
       "996         22.0\n",
       "997         21.0\n",
       "998         19.0\n",
       "999         28.0\n",
       "\n",
       "[1000 rows x 1 columns]"
      ]
     },
     "execution_count": 49,
     "metadata": {},
     "output_type": "execute_result"
    }
   ],
   "source": [
    "ages2 = pd.read_csv(\"../data/ages_population2.csv\")\n",
    "ages2"
   ]
  },
  {
   "cell_type": "code",
   "execution_count": 50,
   "metadata": {},
   "outputs": [
    {
     "data": {
      "text/plain": [
       "{19.0: 3,\n",
       " 20.0: 13,\n",
       " 21.0: 17,\n",
       " 22.0: 35,\n",
       " 23.0: 41,\n",
       " 24.0: 78,\n",
       " 25.0: 98,\n",
       " 26.0: 120,\n",
       " 27.0: 125,\n",
       " 28.0: 139,\n",
       " 29.0: 115,\n",
       " 30.0: 90,\n",
       " 31.0: 61,\n",
       " 32.0: 31,\n",
       " 33.0: 22,\n",
       " 34.0: 7,\n",
       " 35.0: 3,\n",
       " 36.0: 2}"
      ]
     },
     "execution_count": 50,
     "metadata": {},
     "output_type": "execute_result"
    }
   ],
   "source": [
    "f = frequency(ages2[\"observation\"])\n",
    "sorted_f = dict(sorted(f.items()))\n",
    "sorted_f"
   ]
  },
  {
   "cell_type": "code",
   "execution_count": 51,
   "metadata": {},
   "outputs": [
    {
     "data": {
      "application/vnd.plotly.v1+json": {
       "config": {
        "plotlyServerURL": "https://plot.ly"
       },
       "data": [
        {
         "alignmentgroup": "True",
         "bingroup": "x",
         "hovertemplate": "observation=%{x}<br>count=%{y}<extra></extra>",
         "legendgroup": "",
         "marker": {
          "color": "#636efa",
          "line": {
           "color": "black",
           "width": 1.5
          },
          "pattern": {
           "shape": ""
          }
         },
         "name": "",
         "nbinsx": 10,
         "offsetgroup": "",
         "opacity": 0.7,
         "orientation": "v",
         "showlegend": false,
         "type": "histogram",
         "x": [
          25,
          31,
          29,
          31,
          29,
          29,
          28,
          30,
          24,
          26,
          30,
          29,
          24,
          26,
          30,
          25,
          25,
          30,
          21,
          29,
          25,
          28,
          27,
          27,
          31,
          27,
          26,
          24,
          29,
          23,
          31,
          26,
          28,
          22,
          28,
          31,
          29,
          22,
          28,
          25,
          26,
          32,
          26,
          28,
          29,
          31,
          27,
          25,
          24,
          30,
          27,
          22,
          25,
          28,
          25,
          31,
          27,
          30,
          28,
          27,
          29,
          26,
          28,
          26,
          22,
          30,
          27,
          31,
          27,
          24,
          27,
          28,
          23,
          20,
          23,
          25,
          29,
          33,
          27,
          25,
          25,
          26,
          31,
          28,
          29,
          23,
          30,
          26,
          27,
          24,
          29,
          26,
          28,
          24,
          25,
          21,
          19,
          26,
          28,
          28,
          24,
          28,
          30,
          27,
          29,
          26,
          28,
          31,
          32,
          25,
          30,
          30,
          24,
          22,
          29,
          25,
          21,
          30,
          30,
          29,
          29,
          22,
          33,
          31,
          26,
          25,
          28,
          31,
          28,
          28,
          31,
          23,
          33,
          25,
          33,
          23,
          30,
          27,
          24,
          29,
          24,
          28,
          23,
          24,
          32,
          29,
          31,
          34,
          31,
          27,
          26,
          28,
          26,
          28,
          26,
          33,
          29,
          22,
          26,
          25,
          28,
          29,
          28,
          28,
          31,
          25,
          30,
          26,
          26,
          30,
          27,
          23,
          29,
          30,
          25,
          32,
          27,
          29,
          28,
          27,
          27,
          23,
          23,
          27,
          25,
          27,
          35,
          30,
          27,
          27,
          28,
          30,
          26,
          32,
          21,
          29,
          28,
          31,
          31,
          28,
          27,
          31,
          26,
          24,
          28,
          28,
          26,
          26,
          24,
          28,
          25,
          29,
          26,
          24,
          30,
          25,
          29,
          30,
          29,
          26,
          28,
          25,
          29,
          29,
          31,
          26,
          23,
          25,
          24,
          27,
          23,
          28,
          31,
          26,
          25,
          31,
          29,
          24,
          28,
          26,
          27,
          25,
          27,
          31,
          29,
          29,
          29,
          32,
          24,
          30,
          28,
          27,
          22,
          29,
          21,
          25,
          27,
          24,
          23,
          33,
          23,
          30,
          25,
          35,
          26,
          23,
          27,
          30,
          27,
          28,
          24,
          27,
          20,
          29,
          31,
          23,
          29,
          29,
          31,
          25,
          24,
          23,
          23,
          20,
          28,
          28,
          28,
          27,
          36,
          20,
          31,
          28,
          29,
          30,
          33,
          28,
          25,
          29,
          28,
          26,
          23,
          26,
          34,
          29,
          30,
          28,
          29,
          27,
          26,
          30,
          33,
          25,
          25,
          24,
          25,
          29,
          34,
          24,
          34,
          27,
          27,
          28,
          30,
          27,
          26,
          21,
          21,
          19,
          29,
          28,
          32,
          29,
          28,
          27,
          24,
          28,
          30,
          26,
          29,
          24,
          27,
          32,
          29,
          31,
          31,
          24,
          30,
          26,
          24,
          27,
          23,
          25,
          28,
          28,
          31,
          24,
          21,
          28,
          23,
          28,
          25,
          26,
          24,
          28,
          23,
          24,
          24,
          31,
          30,
          26,
          28,
          28,
          25,
          28,
          25,
          28,
          29,
          27,
          27,
          33,
          25,
          29,
          25,
          25,
          25,
          32,
          26,
          28,
          32,
          29,
          25,
          30,
          28,
          26,
          27,
          20,
          26,
          30,
          31,
          29,
          23,
          27,
          29,
          28,
          27,
          23,
          26,
          29,
          31,
          27,
          26,
          33,
          25,
          26,
          26,
          30,
          30,
          26,
          28,
          26,
          29,
          28,
          31,
          29,
          31,
          23,
          23,
          28,
          27,
          26,
          29,
          26,
          25,
          30,
          27,
          25,
          27,
          24,
          28,
          29,
          21,
          24,
          27,
          26,
          28,
          30,
          22,
          25,
          22,
          25,
          31,
          29,
          22,
          20,
          30,
          28,
          30,
          29,
          32,
          27,
          31,
          26,
          30,
          23,
          25,
          28,
          26,
          29,
          34,
          26,
          27,
          33,
          27,
          25,
          30,
          30,
          26,
          25,
          26,
          30,
          21,
          25,
          27,
          29,
          24,
          22,
          30,
          23,
          33,
          28,
          29,
          22,
          29,
          28,
          27,
          26,
          25,
          29,
          27,
          32,
          30,
          24,
          24,
          26,
          30,
          26,
          24,
          28,
          30,
          20,
          20,
          28,
          29,
          26,
          24,
          25,
          29,
          26,
          30,
          25,
          29,
          27,
          28,
          28,
          25,
          36,
          25,
          30,
          26,
          20,
          26,
          22,
          23,
          27,
          25,
          24,
          28,
          27,
          25,
          28,
          26,
          24,
          29,
          22,
          29,
          30,
          25,
          26,
          31,
          22,
          29,
          32,
          27,
          28,
          30,
          29,
          27,
          27,
          26,
          27,
          32,
          30,
          29,
          28,
          29,
          28,
          31,
          33,
          22,
          30,
          27,
          30,
          25,
          29,
          30,
          28,
          28,
          25,
          26,
          26,
          24,
          25,
          26,
          23,
          32,
          31,
          22,
          28,
          22,
          29,
          27,
          29,
          27,
          24,
          27,
          32,
          26,
          24,
          24,
          26,
          33,
          23,
          23,
          27,
          30,
          31,
          27,
          24,
          26,
          31,
          27,
          26,
          30,
          27,
          28,
          31,
          35,
          30,
          30,
          28,
          26,
          22,
          32,
          28,
          28,
          26,
          22,
          27,
          24,
          27,
          30,
          32,
          30,
          28,
          27,
          28,
          28,
          20,
          32,
          26,
          31,
          27,
          25,
          26,
          24,
          29,
          31,
          29,
          27,
          26,
          23,
          27,
          25,
          28,
          28,
          24,
          29,
          30,
          26,
          29,
          22,
          28,
          28,
          28,
          25,
          28,
          25,
          29,
          31,
          33,
          28,
          26,
          28,
          31,
          29,
          25,
          27,
          28,
          30,
          26,
          21,
          29,
          22,
          31,
          30,
          33,
          29,
          21,
          26,
          30,
          32,
          25,
          26,
          31,
          24,
          24,
          27,
          29,
          28,
          28,
          23,
          30,
          29,
          25,
          24,
          30,
          22,
          29,
          23,
          26,
          30,
          27,
          24,
          33,
          31,
          25,
          24,
          30,
          23,
          27,
          26,
          26,
          25,
          30,
          28,
          33,
          23,
          28,
          25,
          33,
          28,
          31,
          26,
          22,
          30,
          28,
          28,
          24,
          29,
          28,
          28,
          30,
          21,
          32,
          30,
          27,
          24,
          26,
          25,
          25,
          31,
          29,
          27,
          23,
          29,
          29,
          28,
          26,
          24,
          29,
          32,
          25,
          25,
          26,
          29,
          27,
          27,
          28,
          26,
          29,
          25,
          29,
          23,
          27,
          31,
          27,
          28,
          28,
          25,
          21,
          23,
          29,
          24,
          29,
          30,
          28,
          30,
          29,
          25,
          25,
          28,
          26,
          27,
          27,
          28,
          25,
          32,
          26,
          29,
          28,
          24,
          28,
          27,
          24,
          31,
          27,
          29,
          26,
          33,
          26,
          30,
          32,
          28,
          25,
          25,
          27,
          28,
          30,
          25,
          33,
          21,
          31,
          30,
          26,
          28,
          29,
          27,
          24,
          27,
          27,
          27,
          26,
          27,
          32,
          25,
          30,
          22,
          25,
          34,
          26,
          27,
          33,
          26,
          27,
          28,
          24,
          26,
          25,
          26,
          25,
          24,
          29,
          27,
          25,
          26,
          22,
          24,
          22,
          26,
          32,
          29,
          27,
          31,
          26,
          27,
          34,
          32,
          26,
          30,
          24,
          27,
          24,
          30,
          31,
          28,
          27,
          27,
          29,
          30,
          28,
          29,
          24,
          24,
          29,
          30,
          31,
          28,
          27,
          29,
          28,
          30,
          26,
          20,
          28,
          24,
          28,
          26,
          20,
          28,
          32,
          24,
          27,
          28,
          24,
          26,
          29,
          26,
          28,
          24,
          29,
          29,
          30,
          26,
          24,
          27,
          24,
          29,
          26,
          22,
          26,
          31,
          27,
          24,
          30,
          27,
          24,
          27,
          28,
          31,
          28,
          27,
          22,
          27,
          32,
          26,
          30,
          25,
          32,
          25,
          26,
          28,
          26,
          27,
          26,
          29,
          29,
          24,
          22,
          22,
          26,
          27,
          32,
          29,
          27,
          27,
          25,
          30,
          30,
          27,
          28,
          27,
          26,
          23,
          22,
          31,
          28,
          25,
          28,
          27,
          29,
          28,
          24,
          31,
          28,
          28,
          24,
          29,
          26,
          30,
          27,
          20,
          25,
          22,
          28,
          25,
          29,
          21,
          27,
          27,
          25,
          27,
          25,
          26,
          25,
          27,
          26,
          22,
          21,
          19,
          28
         ],
         "xaxis": "x",
         "yaxis": "y"
        },
        {
         "alignmentgroup": "True",
         "hovertemplate": "observation=%{x}<extra></extra>",
         "legendgroup": "",
         "marker": {
          "color": "#636efa",
          "line": {
           "color": "black",
           "width": 1.5
          }
         },
         "name": "",
         "notched": true,
         "offsetgroup": "",
         "opacity": 0.7,
         "showlegend": false,
         "type": "box",
         "x": [
          25,
          31,
          29,
          31,
          29,
          29,
          28,
          30,
          24,
          26,
          30,
          29,
          24,
          26,
          30,
          25,
          25,
          30,
          21,
          29,
          25,
          28,
          27,
          27,
          31,
          27,
          26,
          24,
          29,
          23,
          31,
          26,
          28,
          22,
          28,
          31,
          29,
          22,
          28,
          25,
          26,
          32,
          26,
          28,
          29,
          31,
          27,
          25,
          24,
          30,
          27,
          22,
          25,
          28,
          25,
          31,
          27,
          30,
          28,
          27,
          29,
          26,
          28,
          26,
          22,
          30,
          27,
          31,
          27,
          24,
          27,
          28,
          23,
          20,
          23,
          25,
          29,
          33,
          27,
          25,
          25,
          26,
          31,
          28,
          29,
          23,
          30,
          26,
          27,
          24,
          29,
          26,
          28,
          24,
          25,
          21,
          19,
          26,
          28,
          28,
          24,
          28,
          30,
          27,
          29,
          26,
          28,
          31,
          32,
          25,
          30,
          30,
          24,
          22,
          29,
          25,
          21,
          30,
          30,
          29,
          29,
          22,
          33,
          31,
          26,
          25,
          28,
          31,
          28,
          28,
          31,
          23,
          33,
          25,
          33,
          23,
          30,
          27,
          24,
          29,
          24,
          28,
          23,
          24,
          32,
          29,
          31,
          34,
          31,
          27,
          26,
          28,
          26,
          28,
          26,
          33,
          29,
          22,
          26,
          25,
          28,
          29,
          28,
          28,
          31,
          25,
          30,
          26,
          26,
          30,
          27,
          23,
          29,
          30,
          25,
          32,
          27,
          29,
          28,
          27,
          27,
          23,
          23,
          27,
          25,
          27,
          35,
          30,
          27,
          27,
          28,
          30,
          26,
          32,
          21,
          29,
          28,
          31,
          31,
          28,
          27,
          31,
          26,
          24,
          28,
          28,
          26,
          26,
          24,
          28,
          25,
          29,
          26,
          24,
          30,
          25,
          29,
          30,
          29,
          26,
          28,
          25,
          29,
          29,
          31,
          26,
          23,
          25,
          24,
          27,
          23,
          28,
          31,
          26,
          25,
          31,
          29,
          24,
          28,
          26,
          27,
          25,
          27,
          31,
          29,
          29,
          29,
          32,
          24,
          30,
          28,
          27,
          22,
          29,
          21,
          25,
          27,
          24,
          23,
          33,
          23,
          30,
          25,
          35,
          26,
          23,
          27,
          30,
          27,
          28,
          24,
          27,
          20,
          29,
          31,
          23,
          29,
          29,
          31,
          25,
          24,
          23,
          23,
          20,
          28,
          28,
          28,
          27,
          36,
          20,
          31,
          28,
          29,
          30,
          33,
          28,
          25,
          29,
          28,
          26,
          23,
          26,
          34,
          29,
          30,
          28,
          29,
          27,
          26,
          30,
          33,
          25,
          25,
          24,
          25,
          29,
          34,
          24,
          34,
          27,
          27,
          28,
          30,
          27,
          26,
          21,
          21,
          19,
          29,
          28,
          32,
          29,
          28,
          27,
          24,
          28,
          30,
          26,
          29,
          24,
          27,
          32,
          29,
          31,
          31,
          24,
          30,
          26,
          24,
          27,
          23,
          25,
          28,
          28,
          31,
          24,
          21,
          28,
          23,
          28,
          25,
          26,
          24,
          28,
          23,
          24,
          24,
          31,
          30,
          26,
          28,
          28,
          25,
          28,
          25,
          28,
          29,
          27,
          27,
          33,
          25,
          29,
          25,
          25,
          25,
          32,
          26,
          28,
          32,
          29,
          25,
          30,
          28,
          26,
          27,
          20,
          26,
          30,
          31,
          29,
          23,
          27,
          29,
          28,
          27,
          23,
          26,
          29,
          31,
          27,
          26,
          33,
          25,
          26,
          26,
          30,
          30,
          26,
          28,
          26,
          29,
          28,
          31,
          29,
          31,
          23,
          23,
          28,
          27,
          26,
          29,
          26,
          25,
          30,
          27,
          25,
          27,
          24,
          28,
          29,
          21,
          24,
          27,
          26,
          28,
          30,
          22,
          25,
          22,
          25,
          31,
          29,
          22,
          20,
          30,
          28,
          30,
          29,
          32,
          27,
          31,
          26,
          30,
          23,
          25,
          28,
          26,
          29,
          34,
          26,
          27,
          33,
          27,
          25,
          30,
          30,
          26,
          25,
          26,
          30,
          21,
          25,
          27,
          29,
          24,
          22,
          30,
          23,
          33,
          28,
          29,
          22,
          29,
          28,
          27,
          26,
          25,
          29,
          27,
          32,
          30,
          24,
          24,
          26,
          30,
          26,
          24,
          28,
          30,
          20,
          20,
          28,
          29,
          26,
          24,
          25,
          29,
          26,
          30,
          25,
          29,
          27,
          28,
          28,
          25,
          36,
          25,
          30,
          26,
          20,
          26,
          22,
          23,
          27,
          25,
          24,
          28,
          27,
          25,
          28,
          26,
          24,
          29,
          22,
          29,
          30,
          25,
          26,
          31,
          22,
          29,
          32,
          27,
          28,
          30,
          29,
          27,
          27,
          26,
          27,
          32,
          30,
          29,
          28,
          29,
          28,
          31,
          33,
          22,
          30,
          27,
          30,
          25,
          29,
          30,
          28,
          28,
          25,
          26,
          26,
          24,
          25,
          26,
          23,
          32,
          31,
          22,
          28,
          22,
          29,
          27,
          29,
          27,
          24,
          27,
          32,
          26,
          24,
          24,
          26,
          33,
          23,
          23,
          27,
          30,
          31,
          27,
          24,
          26,
          31,
          27,
          26,
          30,
          27,
          28,
          31,
          35,
          30,
          30,
          28,
          26,
          22,
          32,
          28,
          28,
          26,
          22,
          27,
          24,
          27,
          30,
          32,
          30,
          28,
          27,
          28,
          28,
          20,
          32,
          26,
          31,
          27,
          25,
          26,
          24,
          29,
          31,
          29,
          27,
          26,
          23,
          27,
          25,
          28,
          28,
          24,
          29,
          30,
          26,
          29,
          22,
          28,
          28,
          28,
          25,
          28,
          25,
          29,
          31,
          33,
          28,
          26,
          28,
          31,
          29,
          25,
          27,
          28,
          30,
          26,
          21,
          29,
          22,
          31,
          30,
          33,
          29,
          21,
          26,
          30,
          32,
          25,
          26,
          31,
          24,
          24,
          27,
          29,
          28,
          28,
          23,
          30,
          29,
          25,
          24,
          30,
          22,
          29,
          23,
          26,
          30,
          27,
          24,
          33,
          31,
          25,
          24,
          30,
          23,
          27,
          26,
          26,
          25,
          30,
          28,
          33,
          23,
          28,
          25,
          33,
          28,
          31,
          26,
          22,
          30,
          28,
          28,
          24,
          29,
          28,
          28,
          30,
          21,
          32,
          30,
          27,
          24,
          26,
          25,
          25,
          31,
          29,
          27,
          23,
          29,
          29,
          28,
          26,
          24,
          29,
          32,
          25,
          25,
          26,
          29,
          27,
          27,
          28,
          26,
          29,
          25,
          29,
          23,
          27,
          31,
          27,
          28,
          28,
          25,
          21,
          23,
          29,
          24,
          29,
          30,
          28,
          30,
          29,
          25,
          25,
          28,
          26,
          27,
          27,
          28,
          25,
          32,
          26,
          29,
          28,
          24,
          28,
          27,
          24,
          31,
          27,
          29,
          26,
          33,
          26,
          30,
          32,
          28,
          25,
          25,
          27,
          28,
          30,
          25,
          33,
          21,
          31,
          30,
          26,
          28,
          29,
          27,
          24,
          27,
          27,
          27,
          26,
          27,
          32,
          25,
          30,
          22,
          25,
          34,
          26,
          27,
          33,
          26,
          27,
          28,
          24,
          26,
          25,
          26,
          25,
          24,
          29,
          27,
          25,
          26,
          22,
          24,
          22,
          26,
          32,
          29,
          27,
          31,
          26,
          27,
          34,
          32,
          26,
          30,
          24,
          27,
          24,
          30,
          31,
          28,
          27,
          27,
          29,
          30,
          28,
          29,
          24,
          24,
          29,
          30,
          31,
          28,
          27,
          29,
          28,
          30,
          26,
          20,
          28,
          24,
          28,
          26,
          20,
          28,
          32,
          24,
          27,
          28,
          24,
          26,
          29,
          26,
          28,
          24,
          29,
          29,
          30,
          26,
          24,
          27,
          24,
          29,
          26,
          22,
          26,
          31,
          27,
          24,
          30,
          27,
          24,
          27,
          28,
          31,
          28,
          27,
          22,
          27,
          32,
          26,
          30,
          25,
          32,
          25,
          26,
          28,
          26,
          27,
          26,
          29,
          29,
          24,
          22,
          22,
          26,
          27,
          32,
          29,
          27,
          27,
          25,
          30,
          30,
          27,
          28,
          27,
          26,
          23,
          22,
          31,
          28,
          25,
          28,
          27,
          29,
          28,
          24,
          31,
          28,
          28,
          24,
          29,
          26,
          30,
          27,
          20,
          25,
          22,
          28,
          25,
          29,
          21,
          27,
          27,
          25,
          27,
          25,
          26,
          25,
          27,
          26,
          22,
          21,
          19,
          28
         ],
         "xaxis": "x2",
         "yaxis": "y2"
        }
       ],
       "layout": {
        "barmode": "relative",
        "legend": {
         "tracegroupgap": 0
        },
        "margin": {
         "t": 60
        },
        "template": {
         "data": {
          "bar": [
           {
            "error_x": {
             "color": "#2a3f5f"
            },
            "error_y": {
             "color": "#2a3f5f"
            },
            "marker": {
             "line": {
              "color": "#E5ECF6",
              "width": 0.5
             },
             "pattern": {
              "fillmode": "overlay",
              "size": 10,
              "solidity": 0.2
             }
            },
            "type": "bar"
           }
          ],
          "barpolar": [
           {
            "marker": {
             "line": {
              "color": "#E5ECF6",
              "width": 0.5
             },
             "pattern": {
              "fillmode": "overlay",
              "size": 10,
              "solidity": 0.2
             }
            },
            "type": "barpolar"
           }
          ],
          "carpet": [
           {
            "aaxis": {
             "endlinecolor": "#2a3f5f",
             "gridcolor": "white",
             "linecolor": "white",
             "minorgridcolor": "white",
             "startlinecolor": "#2a3f5f"
            },
            "baxis": {
             "endlinecolor": "#2a3f5f",
             "gridcolor": "white",
             "linecolor": "white",
             "minorgridcolor": "white",
             "startlinecolor": "#2a3f5f"
            },
            "type": "carpet"
           }
          ],
          "choropleth": [
           {
            "colorbar": {
             "outlinewidth": 0,
             "ticks": ""
            },
            "type": "choropleth"
           }
          ],
          "contour": [
           {
            "colorbar": {
             "outlinewidth": 0,
             "ticks": ""
            },
            "colorscale": [
             [
              0,
              "#0d0887"
             ],
             [
              0.1111111111111111,
              "#46039f"
             ],
             [
              0.2222222222222222,
              "#7201a8"
             ],
             [
              0.3333333333333333,
              "#9c179e"
             ],
             [
              0.4444444444444444,
              "#bd3786"
             ],
             [
              0.5555555555555556,
              "#d8576b"
             ],
             [
              0.6666666666666666,
              "#ed7953"
             ],
             [
              0.7777777777777778,
              "#fb9f3a"
             ],
             [
              0.8888888888888888,
              "#fdca26"
             ],
             [
              1,
              "#f0f921"
             ]
            ],
            "type": "contour"
           }
          ],
          "contourcarpet": [
           {
            "colorbar": {
             "outlinewidth": 0,
             "ticks": ""
            },
            "type": "contourcarpet"
           }
          ],
          "heatmap": [
           {
            "colorbar": {
             "outlinewidth": 0,
             "ticks": ""
            },
            "colorscale": [
             [
              0,
              "#0d0887"
             ],
             [
              0.1111111111111111,
              "#46039f"
             ],
             [
              0.2222222222222222,
              "#7201a8"
             ],
             [
              0.3333333333333333,
              "#9c179e"
             ],
             [
              0.4444444444444444,
              "#bd3786"
             ],
             [
              0.5555555555555556,
              "#d8576b"
             ],
             [
              0.6666666666666666,
              "#ed7953"
             ],
             [
              0.7777777777777778,
              "#fb9f3a"
             ],
             [
              0.8888888888888888,
              "#fdca26"
             ],
             [
              1,
              "#f0f921"
             ]
            ],
            "type": "heatmap"
           }
          ],
          "heatmapgl": [
           {
            "colorbar": {
             "outlinewidth": 0,
             "ticks": ""
            },
            "colorscale": [
             [
              0,
              "#0d0887"
             ],
             [
              0.1111111111111111,
              "#46039f"
             ],
             [
              0.2222222222222222,
              "#7201a8"
             ],
             [
              0.3333333333333333,
              "#9c179e"
             ],
             [
              0.4444444444444444,
              "#bd3786"
             ],
             [
              0.5555555555555556,
              "#d8576b"
             ],
             [
              0.6666666666666666,
              "#ed7953"
             ],
             [
              0.7777777777777778,
              "#fb9f3a"
             ],
             [
              0.8888888888888888,
              "#fdca26"
             ],
             [
              1,
              "#f0f921"
             ]
            ],
            "type": "heatmapgl"
           }
          ],
          "histogram": [
           {
            "marker": {
             "pattern": {
              "fillmode": "overlay",
              "size": 10,
              "solidity": 0.2
             }
            },
            "type": "histogram"
           }
          ],
          "histogram2d": [
           {
            "colorbar": {
             "outlinewidth": 0,
             "ticks": ""
            },
            "colorscale": [
             [
              0,
              "#0d0887"
             ],
             [
              0.1111111111111111,
              "#46039f"
             ],
             [
              0.2222222222222222,
              "#7201a8"
             ],
             [
              0.3333333333333333,
              "#9c179e"
             ],
             [
              0.4444444444444444,
              "#bd3786"
             ],
             [
              0.5555555555555556,
              "#d8576b"
             ],
             [
              0.6666666666666666,
              "#ed7953"
             ],
             [
              0.7777777777777778,
              "#fb9f3a"
             ],
             [
              0.8888888888888888,
              "#fdca26"
             ],
             [
              1,
              "#f0f921"
             ]
            ],
            "type": "histogram2d"
           }
          ],
          "histogram2dcontour": [
           {
            "colorbar": {
             "outlinewidth": 0,
             "ticks": ""
            },
            "colorscale": [
             [
              0,
              "#0d0887"
             ],
             [
              0.1111111111111111,
              "#46039f"
             ],
             [
              0.2222222222222222,
              "#7201a8"
             ],
             [
              0.3333333333333333,
              "#9c179e"
             ],
             [
              0.4444444444444444,
              "#bd3786"
             ],
             [
              0.5555555555555556,
              "#d8576b"
             ],
             [
              0.6666666666666666,
              "#ed7953"
             ],
             [
              0.7777777777777778,
              "#fb9f3a"
             ],
             [
              0.8888888888888888,
              "#fdca26"
             ],
             [
              1,
              "#f0f921"
             ]
            ],
            "type": "histogram2dcontour"
           }
          ],
          "mesh3d": [
           {
            "colorbar": {
             "outlinewidth": 0,
             "ticks": ""
            },
            "type": "mesh3d"
           }
          ],
          "parcoords": [
           {
            "line": {
             "colorbar": {
              "outlinewidth": 0,
              "ticks": ""
             }
            },
            "type": "parcoords"
           }
          ],
          "pie": [
           {
            "automargin": true,
            "type": "pie"
           }
          ],
          "scatter": [
           {
            "fillpattern": {
             "fillmode": "overlay",
             "size": 10,
             "solidity": 0.2
            },
            "type": "scatter"
           }
          ],
          "scatter3d": [
           {
            "line": {
             "colorbar": {
              "outlinewidth": 0,
              "ticks": ""
             }
            },
            "marker": {
             "colorbar": {
              "outlinewidth": 0,
              "ticks": ""
             }
            },
            "type": "scatter3d"
           }
          ],
          "scattercarpet": [
           {
            "marker": {
             "colorbar": {
              "outlinewidth": 0,
              "ticks": ""
             }
            },
            "type": "scattercarpet"
           }
          ],
          "scattergeo": [
           {
            "marker": {
             "colorbar": {
              "outlinewidth": 0,
              "ticks": ""
             }
            },
            "type": "scattergeo"
           }
          ],
          "scattergl": [
           {
            "marker": {
             "colorbar": {
              "outlinewidth": 0,
              "ticks": ""
             }
            },
            "type": "scattergl"
           }
          ],
          "scattermapbox": [
           {
            "marker": {
             "colorbar": {
              "outlinewidth": 0,
              "ticks": ""
             }
            },
            "type": "scattermapbox"
           }
          ],
          "scatterpolar": [
           {
            "marker": {
             "colorbar": {
              "outlinewidth": 0,
              "ticks": ""
             }
            },
            "type": "scatterpolar"
           }
          ],
          "scatterpolargl": [
           {
            "marker": {
             "colorbar": {
              "outlinewidth": 0,
              "ticks": ""
             }
            },
            "type": "scatterpolargl"
           }
          ],
          "scatterternary": [
           {
            "marker": {
             "colorbar": {
              "outlinewidth": 0,
              "ticks": ""
             }
            },
            "type": "scatterternary"
           }
          ],
          "surface": [
           {
            "colorbar": {
             "outlinewidth": 0,
             "ticks": ""
            },
            "colorscale": [
             [
              0,
              "#0d0887"
             ],
             [
              0.1111111111111111,
              "#46039f"
             ],
             [
              0.2222222222222222,
              "#7201a8"
             ],
             [
              0.3333333333333333,
              "#9c179e"
             ],
             [
              0.4444444444444444,
              "#bd3786"
             ],
             [
              0.5555555555555556,
              "#d8576b"
             ],
             [
              0.6666666666666666,
              "#ed7953"
             ],
             [
              0.7777777777777778,
              "#fb9f3a"
             ],
             [
              0.8888888888888888,
              "#fdca26"
             ],
             [
              1,
              "#f0f921"
             ]
            ],
            "type": "surface"
           }
          ],
          "table": [
           {
            "cells": {
             "fill": {
              "color": "#EBF0F8"
             },
             "line": {
              "color": "white"
             }
            },
            "header": {
             "fill": {
              "color": "#C8D4E3"
             },
             "line": {
              "color": "white"
             }
            },
            "type": "table"
           }
          ]
         },
         "layout": {
          "annotationdefaults": {
           "arrowcolor": "#2a3f5f",
           "arrowhead": 0,
           "arrowwidth": 1
          },
          "autotypenumbers": "strict",
          "coloraxis": {
           "colorbar": {
            "outlinewidth": 0,
            "ticks": ""
           }
          },
          "colorscale": {
           "diverging": [
            [
             0,
             "#8e0152"
            ],
            [
             0.1,
             "#c51b7d"
            ],
            [
             0.2,
             "#de77ae"
            ],
            [
             0.3,
             "#f1b6da"
            ],
            [
             0.4,
             "#fde0ef"
            ],
            [
             0.5,
             "#f7f7f7"
            ],
            [
             0.6,
             "#e6f5d0"
            ],
            [
             0.7,
             "#b8e186"
            ],
            [
             0.8,
             "#7fbc41"
            ],
            [
             0.9,
             "#4d9221"
            ],
            [
             1,
             "#276419"
            ]
           ],
           "sequential": [
            [
             0,
             "#0d0887"
            ],
            [
             0.1111111111111111,
             "#46039f"
            ],
            [
             0.2222222222222222,
             "#7201a8"
            ],
            [
             0.3333333333333333,
             "#9c179e"
            ],
            [
             0.4444444444444444,
             "#bd3786"
            ],
            [
             0.5555555555555556,
             "#d8576b"
            ],
            [
             0.6666666666666666,
             "#ed7953"
            ],
            [
             0.7777777777777778,
             "#fb9f3a"
            ],
            [
             0.8888888888888888,
             "#fdca26"
            ],
            [
             1,
             "#f0f921"
            ]
           ],
           "sequentialminus": [
            [
             0,
             "#0d0887"
            ],
            [
             0.1111111111111111,
             "#46039f"
            ],
            [
             0.2222222222222222,
             "#7201a8"
            ],
            [
             0.3333333333333333,
             "#9c179e"
            ],
            [
             0.4444444444444444,
             "#bd3786"
            ],
            [
             0.5555555555555556,
             "#d8576b"
            ],
            [
             0.6666666666666666,
             "#ed7953"
            ],
            [
             0.7777777777777778,
             "#fb9f3a"
            ],
            [
             0.8888888888888888,
             "#fdca26"
            ],
            [
             1,
             "#f0f921"
            ]
           ]
          },
          "colorway": [
           "#636efa",
           "#EF553B",
           "#00cc96",
           "#ab63fa",
           "#FFA15A",
           "#19d3f3",
           "#FF6692",
           "#B6E880",
           "#FF97FF",
           "#FECB52"
          ],
          "font": {
           "color": "#2a3f5f"
          },
          "geo": {
           "bgcolor": "white",
           "lakecolor": "white",
           "landcolor": "#E5ECF6",
           "showlakes": true,
           "showland": true,
           "subunitcolor": "white"
          },
          "hoverlabel": {
           "align": "left"
          },
          "hovermode": "closest",
          "mapbox": {
           "style": "light"
          },
          "paper_bgcolor": "white",
          "plot_bgcolor": "#E5ECF6",
          "polar": {
           "angularaxis": {
            "gridcolor": "white",
            "linecolor": "white",
            "ticks": ""
           },
           "bgcolor": "#E5ECF6",
           "radialaxis": {
            "gridcolor": "white",
            "linecolor": "white",
            "ticks": ""
           }
          },
          "scene": {
           "xaxis": {
            "backgroundcolor": "#E5ECF6",
            "gridcolor": "white",
            "gridwidth": 2,
            "linecolor": "white",
            "showbackground": true,
            "ticks": "",
            "zerolinecolor": "white"
           },
           "yaxis": {
            "backgroundcolor": "#E5ECF6",
            "gridcolor": "white",
            "gridwidth": 2,
            "linecolor": "white",
            "showbackground": true,
            "ticks": "",
            "zerolinecolor": "white"
           },
           "zaxis": {
            "backgroundcolor": "#E5ECF6",
            "gridcolor": "white",
            "gridwidth": 2,
            "linecolor": "white",
            "showbackground": true,
            "ticks": "",
            "zerolinecolor": "white"
           }
          },
          "shapedefaults": {
           "line": {
            "color": "#2a3f5f"
           }
          },
          "ternary": {
           "aaxis": {
            "gridcolor": "white",
            "linecolor": "white",
            "ticks": ""
           },
           "baxis": {
            "gridcolor": "white",
            "linecolor": "white",
            "ticks": ""
           },
           "bgcolor": "#E5ECF6",
           "caxis": {
            "gridcolor": "white",
            "linecolor": "white",
            "ticks": ""
           }
          },
          "title": {
           "x": 0.05
          },
          "xaxis": {
           "automargin": true,
           "gridcolor": "white",
           "linecolor": "white",
           "ticks": "",
           "title": {
            "standoff": 15
           },
           "zerolinecolor": "white",
           "zerolinewidth": 2
          },
          "yaxis": {
           "automargin": true,
           "gridcolor": "white",
           "linecolor": "white",
           "ticks": "",
           "title": {
            "standoff": 15
           },
           "zerolinecolor": "white",
           "zerolinewidth": 2
          }
         }
        },
        "xaxis": {
         "anchor": "y",
         "domain": [
          0,
          1
         ],
         "title": {
          "text": "observation"
         }
        },
        "xaxis2": {
         "anchor": "y2",
         "domain": [
          0,
          1
         ],
         "matches": "x",
         "showgrid": true,
         "showticklabels": false
        },
        "yaxis": {
         "anchor": "x",
         "domain": [
          0,
          0.8316
         ],
         "title": {
          "text": "count"
         }
        },
        "yaxis2": {
         "anchor": "x2",
         "domain": [
          0.8416,
          1
         ],
         "matches": "y2",
         "showgrid": false,
         "showline": false,
         "showticklabels": false,
         "ticks": ""
        }
       }
      },
      "text/html": [
       "<div>                            <div id=\"89e24a3e-f5ee-40e8-87ba-7db81261aaed\" class=\"plotly-graph-div\" style=\"height:525px; width:100%;\"></div>            <script type=\"text/javascript\">                require([\"plotly\"], function(Plotly) {                    window.PLOTLYENV=window.PLOTLYENV || {};                                    if (document.getElementById(\"89e24a3e-f5ee-40e8-87ba-7db81261aaed\")) {                    Plotly.newPlot(                        \"89e24a3e-f5ee-40e8-87ba-7db81261aaed\",                        [{\"alignmentgroup\":\"True\",\"bingroup\":\"x\",\"hovertemplate\":\"observation=%{x}<br>count=%{y}<extra></extra>\",\"legendgroup\":\"\",\"marker\":{\"color\":\"#636efa\",\"pattern\":{\"shape\":\"\"},\"line\":{\"color\":\"black\",\"width\":1.5}},\"name\":\"\",\"nbinsx\":10,\"offsetgroup\":\"\",\"orientation\":\"v\",\"showlegend\":false,\"x\":[25.0,31.0,29.0,31.0,29.0,29.0,28.0,30.0,24.0,26.0,30.0,29.0,24.0,26.0,30.0,25.0,25.0,30.0,21.0,29.0,25.0,28.0,27.0,27.0,31.0,27.0,26.0,24.0,29.0,23.0,31.0,26.0,28.0,22.0,28.0,31.0,29.0,22.0,28.0,25.0,26.0,32.0,26.0,28.0,29.0,31.0,27.0,25.0,24.0,30.0,27.0,22.0,25.0,28.0,25.0,31.0,27.0,30.0,28.0,27.0,29.0,26.0,28.0,26.0,22.0,30.0,27.0,31.0,27.0,24.0,27.0,28.0,23.0,20.0,23.0,25.0,29.0,33.0,27.0,25.0,25.0,26.0,31.0,28.0,29.0,23.0,30.0,26.0,27.0,24.0,29.0,26.0,28.0,24.0,25.0,21.0,19.0,26.0,28.0,28.0,24.0,28.0,30.0,27.0,29.0,26.0,28.0,31.0,32.0,25.0,30.0,30.0,24.0,22.0,29.0,25.0,21.0,30.0,30.0,29.0,29.0,22.0,33.0,31.0,26.0,25.0,28.0,31.0,28.0,28.0,31.0,23.0,33.0,25.0,33.0,23.0,30.0,27.0,24.0,29.0,24.0,28.0,23.0,24.0,32.0,29.0,31.0,34.0,31.0,27.0,26.0,28.0,26.0,28.0,26.0,33.0,29.0,22.0,26.0,25.0,28.0,29.0,28.0,28.0,31.0,25.0,30.0,26.0,26.0,30.0,27.0,23.0,29.0,30.0,25.0,32.0,27.0,29.0,28.0,27.0,27.0,23.0,23.0,27.0,25.0,27.0,35.0,30.0,27.0,27.0,28.0,30.0,26.0,32.0,21.0,29.0,28.0,31.0,31.0,28.0,27.0,31.0,26.0,24.0,28.0,28.0,26.0,26.0,24.0,28.0,25.0,29.0,26.0,24.0,30.0,25.0,29.0,30.0,29.0,26.0,28.0,25.0,29.0,29.0,31.0,26.0,23.0,25.0,24.0,27.0,23.0,28.0,31.0,26.0,25.0,31.0,29.0,24.0,28.0,26.0,27.0,25.0,27.0,31.0,29.0,29.0,29.0,32.0,24.0,30.0,28.0,27.0,22.0,29.0,21.0,25.0,27.0,24.0,23.0,33.0,23.0,30.0,25.0,35.0,26.0,23.0,27.0,30.0,27.0,28.0,24.0,27.0,20.0,29.0,31.0,23.0,29.0,29.0,31.0,25.0,24.0,23.0,23.0,20.0,28.0,28.0,28.0,27.0,36.0,20.0,31.0,28.0,29.0,30.0,33.0,28.0,25.0,29.0,28.0,26.0,23.0,26.0,34.0,29.0,30.0,28.0,29.0,27.0,26.0,30.0,33.0,25.0,25.0,24.0,25.0,29.0,34.0,24.0,34.0,27.0,27.0,28.0,30.0,27.0,26.0,21.0,21.0,19.0,29.0,28.0,32.0,29.0,28.0,27.0,24.0,28.0,30.0,26.0,29.0,24.0,27.0,32.0,29.0,31.0,31.0,24.0,30.0,26.0,24.0,27.0,23.0,25.0,28.0,28.0,31.0,24.0,21.0,28.0,23.0,28.0,25.0,26.0,24.0,28.0,23.0,24.0,24.0,31.0,30.0,26.0,28.0,28.0,25.0,28.0,25.0,28.0,29.0,27.0,27.0,33.0,25.0,29.0,25.0,25.0,25.0,32.0,26.0,28.0,32.0,29.0,25.0,30.0,28.0,26.0,27.0,20.0,26.0,30.0,31.0,29.0,23.0,27.0,29.0,28.0,27.0,23.0,26.0,29.0,31.0,27.0,26.0,33.0,25.0,26.0,26.0,30.0,30.0,26.0,28.0,26.0,29.0,28.0,31.0,29.0,31.0,23.0,23.0,28.0,27.0,26.0,29.0,26.0,25.0,30.0,27.0,25.0,27.0,24.0,28.0,29.0,21.0,24.0,27.0,26.0,28.0,30.0,22.0,25.0,22.0,25.0,31.0,29.0,22.0,20.0,30.0,28.0,30.0,29.0,32.0,27.0,31.0,26.0,30.0,23.0,25.0,28.0,26.0,29.0,34.0,26.0,27.0,33.0,27.0,25.0,30.0,30.0,26.0,25.0,26.0,30.0,21.0,25.0,27.0,29.0,24.0,22.0,30.0,23.0,33.0,28.0,29.0,22.0,29.0,28.0,27.0,26.0,25.0,29.0,27.0,32.0,30.0,24.0,24.0,26.0,30.0,26.0,24.0,28.0,30.0,20.0,20.0,28.0,29.0,26.0,24.0,25.0,29.0,26.0,30.0,25.0,29.0,27.0,28.0,28.0,25.0,36.0,25.0,30.0,26.0,20.0,26.0,22.0,23.0,27.0,25.0,24.0,28.0,27.0,25.0,28.0,26.0,24.0,29.0,22.0,29.0,30.0,25.0,26.0,31.0,22.0,29.0,32.0,27.0,28.0,30.0,29.0,27.0,27.0,26.0,27.0,32.0,30.0,29.0,28.0,29.0,28.0,31.0,33.0,22.0,30.0,27.0,30.0,25.0,29.0,30.0,28.0,28.0,25.0,26.0,26.0,24.0,25.0,26.0,23.0,32.0,31.0,22.0,28.0,22.0,29.0,27.0,29.0,27.0,24.0,27.0,32.0,26.0,24.0,24.0,26.0,33.0,23.0,23.0,27.0,30.0,31.0,27.0,24.0,26.0,31.0,27.0,26.0,30.0,27.0,28.0,31.0,35.0,30.0,30.0,28.0,26.0,22.0,32.0,28.0,28.0,26.0,22.0,27.0,24.0,27.0,30.0,32.0,30.0,28.0,27.0,28.0,28.0,20.0,32.0,26.0,31.0,27.0,25.0,26.0,24.0,29.0,31.0,29.0,27.0,26.0,23.0,27.0,25.0,28.0,28.0,24.0,29.0,30.0,26.0,29.0,22.0,28.0,28.0,28.0,25.0,28.0,25.0,29.0,31.0,33.0,28.0,26.0,28.0,31.0,29.0,25.0,27.0,28.0,30.0,26.0,21.0,29.0,22.0,31.0,30.0,33.0,29.0,21.0,26.0,30.0,32.0,25.0,26.0,31.0,24.0,24.0,27.0,29.0,28.0,28.0,23.0,30.0,29.0,25.0,24.0,30.0,22.0,29.0,23.0,26.0,30.0,27.0,24.0,33.0,31.0,25.0,24.0,30.0,23.0,27.0,26.0,26.0,25.0,30.0,28.0,33.0,23.0,28.0,25.0,33.0,28.0,31.0,26.0,22.0,30.0,28.0,28.0,24.0,29.0,28.0,28.0,30.0,21.0,32.0,30.0,27.0,24.0,26.0,25.0,25.0,31.0,29.0,27.0,23.0,29.0,29.0,28.0,26.0,24.0,29.0,32.0,25.0,25.0,26.0,29.0,27.0,27.0,28.0,26.0,29.0,25.0,29.0,23.0,27.0,31.0,27.0,28.0,28.0,25.0,21.0,23.0,29.0,24.0,29.0,30.0,28.0,30.0,29.0,25.0,25.0,28.0,26.0,27.0,27.0,28.0,25.0,32.0,26.0,29.0,28.0,24.0,28.0,27.0,24.0,31.0,27.0,29.0,26.0,33.0,26.0,30.0,32.0,28.0,25.0,25.0,27.0,28.0,30.0,25.0,33.0,21.0,31.0,30.0,26.0,28.0,29.0,27.0,24.0,27.0,27.0,27.0,26.0,27.0,32.0,25.0,30.0,22.0,25.0,34.0,26.0,27.0,33.0,26.0,27.0,28.0,24.0,26.0,25.0,26.0,25.0,24.0,29.0,27.0,25.0,26.0,22.0,24.0,22.0,26.0,32.0,29.0,27.0,31.0,26.0,27.0,34.0,32.0,26.0,30.0,24.0,27.0,24.0,30.0,31.0,28.0,27.0,27.0,29.0,30.0,28.0,29.0,24.0,24.0,29.0,30.0,31.0,28.0,27.0,29.0,28.0,30.0,26.0,20.0,28.0,24.0,28.0,26.0,20.0,28.0,32.0,24.0,27.0,28.0,24.0,26.0,29.0,26.0,28.0,24.0,29.0,29.0,30.0,26.0,24.0,27.0,24.0,29.0,26.0,22.0,26.0,31.0,27.0,24.0,30.0,27.0,24.0,27.0,28.0,31.0,28.0,27.0,22.0,27.0,32.0,26.0,30.0,25.0,32.0,25.0,26.0,28.0,26.0,27.0,26.0,29.0,29.0,24.0,22.0,22.0,26.0,27.0,32.0,29.0,27.0,27.0,25.0,30.0,30.0,27.0,28.0,27.0,26.0,23.0,22.0,31.0,28.0,25.0,28.0,27.0,29.0,28.0,24.0,31.0,28.0,28.0,24.0,29.0,26.0,30.0,27.0,20.0,25.0,22.0,28.0,25.0,29.0,21.0,27.0,27.0,25.0,27.0,25.0,26.0,25.0,27.0,26.0,22.0,21.0,19.0,28.0],\"xaxis\":\"x\",\"yaxis\":\"y\",\"type\":\"histogram\",\"opacity\":0.7},{\"alignmentgroup\":\"True\",\"hovertemplate\":\"observation=%{x}<extra></extra>\",\"legendgroup\":\"\",\"marker\":{\"color\":\"#636efa\",\"line\":{\"color\":\"black\",\"width\":1.5}},\"name\":\"\",\"notched\":true,\"offsetgroup\":\"\",\"showlegend\":false,\"x\":[25.0,31.0,29.0,31.0,29.0,29.0,28.0,30.0,24.0,26.0,30.0,29.0,24.0,26.0,30.0,25.0,25.0,30.0,21.0,29.0,25.0,28.0,27.0,27.0,31.0,27.0,26.0,24.0,29.0,23.0,31.0,26.0,28.0,22.0,28.0,31.0,29.0,22.0,28.0,25.0,26.0,32.0,26.0,28.0,29.0,31.0,27.0,25.0,24.0,30.0,27.0,22.0,25.0,28.0,25.0,31.0,27.0,30.0,28.0,27.0,29.0,26.0,28.0,26.0,22.0,30.0,27.0,31.0,27.0,24.0,27.0,28.0,23.0,20.0,23.0,25.0,29.0,33.0,27.0,25.0,25.0,26.0,31.0,28.0,29.0,23.0,30.0,26.0,27.0,24.0,29.0,26.0,28.0,24.0,25.0,21.0,19.0,26.0,28.0,28.0,24.0,28.0,30.0,27.0,29.0,26.0,28.0,31.0,32.0,25.0,30.0,30.0,24.0,22.0,29.0,25.0,21.0,30.0,30.0,29.0,29.0,22.0,33.0,31.0,26.0,25.0,28.0,31.0,28.0,28.0,31.0,23.0,33.0,25.0,33.0,23.0,30.0,27.0,24.0,29.0,24.0,28.0,23.0,24.0,32.0,29.0,31.0,34.0,31.0,27.0,26.0,28.0,26.0,28.0,26.0,33.0,29.0,22.0,26.0,25.0,28.0,29.0,28.0,28.0,31.0,25.0,30.0,26.0,26.0,30.0,27.0,23.0,29.0,30.0,25.0,32.0,27.0,29.0,28.0,27.0,27.0,23.0,23.0,27.0,25.0,27.0,35.0,30.0,27.0,27.0,28.0,30.0,26.0,32.0,21.0,29.0,28.0,31.0,31.0,28.0,27.0,31.0,26.0,24.0,28.0,28.0,26.0,26.0,24.0,28.0,25.0,29.0,26.0,24.0,30.0,25.0,29.0,30.0,29.0,26.0,28.0,25.0,29.0,29.0,31.0,26.0,23.0,25.0,24.0,27.0,23.0,28.0,31.0,26.0,25.0,31.0,29.0,24.0,28.0,26.0,27.0,25.0,27.0,31.0,29.0,29.0,29.0,32.0,24.0,30.0,28.0,27.0,22.0,29.0,21.0,25.0,27.0,24.0,23.0,33.0,23.0,30.0,25.0,35.0,26.0,23.0,27.0,30.0,27.0,28.0,24.0,27.0,20.0,29.0,31.0,23.0,29.0,29.0,31.0,25.0,24.0,23.0,23.0,20.0,28.0,28.0,28.0,27.0,36.0,20.0,31.0,28.0,29.0,30.0,33.0,28.0,25.0,29.0,28.0,26.0,23.0,26.0,34.0,29.0,30.0,28.0,29.0,27.0,26.0,30.0,33.0,25.0,25.0,24.0,25.0,29.0,34.0,24.0,34.0,27.0,27.0,28.0,30.0,27.0,26.0,21.0,21.0,19.0,29.0,28.0,32.0,29.0,28.0,27.0,24.0,28.0,30.0,26.0,29.0,24.0,27.0,32.0,29.0,31.0,31.0,24.0,30.0,26.0,24.0,27.0,23.0,25.0,28.0,28.0,31.0,24.0,21.0,28.0,23.0,28.0,25.0,26.0,24.0,28.0,23.0,24.0,24.0,31.0,30.0,26.0,28.0,28.0,25.0,28.0,25.0,28.0,29.0,27.0,27.0,33.0,25.0,29.0,25.0,25.0,25.0,32.0,26.0,28.0,32.0,29.0,25.0,30.0,28.0,26.0,27.0,20.0,26.0,30.0,31.0,29.0,23.0,27.0,29.0,28.0,27.0,23.0,26.0,29.0,31.0,27.0,26.0,33.0,25.0,26.0,26.0,30.0,30.0,26.0,28.0,26.0,29.0,28.0,31.0,29.0,31.0,23.0,23.0,28.0,27.0,26.0,29.0,26.0,25.0,30.0,27.0,25.0,27.0,24.0,28.0,29.0,21.0,24.0,27.0,26.0,28.0,30.0,22.0,25.0,22.0,25.0,31.0,29.0,22.0,20.0,30.0,28.0,30.0,29.0,32.0,27.0,31.0,26.0,30.0,23.0,25.0,28.0,26.0,29.0,34.0,26.0,27.0,33.0,27.0,25.0,30.0,30.0,26.0,25.0,26.0,30.0,21.0,25.0,27.0,29.0,24.0,22.0,30.0,23.0,33.0,28.0,29.0,22.0,29.0,28.0,27.0,26.0,25.0,29.0,27.0,32.0,30.0,24.0,24.0,26.0,30.0,26.0,24.0,28.0,30.0,20.0,20.0,28.0,29.0,26.0,24.0,25.0,29.0,26.0,30.0,25.0,29.0,27.0,28.0,28.0,25.0,36.0,25.0,30.0,26.0,20.0,26.0,22.0,23.0,27.0,25.0,24.0,28.0,27.0,25.0,28.0,26.0,24.0,29.0,22.0,29.0,30.0,25.0,26.0,31.0,22.0,29.0,32.0,27.0,28.0,30.0,29.0,27.0,27.0,26.0,27.0,32.0,30.0,29.0,28.0,29.0,28.0,31.0,33.0,22.0,30.0,27.0,30.0,25.0,29.0,30.0,28.0,28.0,25.0,26.0,26.0,24.0,25.0,26.0,23.0,32.0,31.0,22.0,28.0,22.0,29.0,27.0,29.0,27.0,24.0,27.0,32.0,26.0,24.0,24.0,26.0,33.0,23.0,23.0,27.0,30.0,31.0,27.0,24.0,26.0,31.0,27.0,26.0,30.0,27.0,28.0,31.0,35.0,30.0,30.0,28.0,26.0,22.0,32.0,28.0,28.0,26.0,22.0,27.0,24.0,27.0,30.0,32.0,30.0,28.0,27.0,28.0,28.0,20.0,32.0,26.0,31.0,27.0,25.0,26.0,24.0,29.0,31.0,29.0,27.0,26.0,23.0,27.0,25.0,28.0,28.0,24.0,29.0,30.0,26.0,29.0,22.0,28.0,28.0,28.0,25.0,28.0,25.0,29.0,31.0,33.0,28.0,26.0,28.0,31.0,29.0,25.0,27.0,28.0,30.0,26.0,21.0,29.0,22.0,31.0,30.0,33.0,29.0,21.0,26.0,30.0,32.0,25.0,26.0,31.0,24.0,24.0,27.0,29.0,28.0,28.0,23.0,30.0,29.0,25.0,24.0,30.0,22.0,29.0,23.0,26.0,30.0,27.0,24.0,33.0,31.0,25.0,24.0,30.0,23.0,27.0,26.0,26.0,25.0,30.0,28.0,33.0,23.0,28.0,25.0,33.0,28.0,31.0,26.0,22.0,30.0,28.0,28.0,24.0,29.0,28.0,28.0,30.0,21.0,32.0,30.0,27.0,24.0,26.0,25.0,25.0,31.0,29.0,27.0,23.0,29.0,29.0,28.0,26.0,24.0,29.0,32.0,25.0,25.0,26.0,29.0,27.0,27.0,28.0,26.0,29.0,25.0,29.0,23.0,27.0,31.0,27.0,28.0,28.0,25.0,21.0,23.0,29.0,24.0,29.0,30.0,28.0,30.0,29.0,25.0,25.0,28.0,26.0,27.0,27.0,28.0,25.0,32.0,26.0,29.0,28.0,24.0,28.0,27.0,24.0,31.0,27.0,29.0,26.0,33.0,26.0,30.0,32.0,28.0,25.0,25.0,27.0,28.0,30.0,25.0,33.0,21.0,31.0,30.0,26.0,28.0,29.0,27.0,24.0,27.0,27.0,27.0,26.0,27.0,32.0,25.0,30.0,22.0,25.0,34.0,26.0,27.0,33.0,26.0,27.0,28.0,24.0,26.0,25.0,26.0,25.0,24.0,29.0,27.0,25.0,26.0,22.0,24.0,22.0,26.0,32.0,29.0,27.0,31.0,26.0,27.0,34.0,32.0,26.0,30.0,24.0,27.0,24.0,30.0,31.0,28.0,27.0,27.0,29.0,30.0,28.0,29.0,24.0,24.0,29.0,30.0,31.0,28.0,27.0,29.0,28.0,30.0,26.0,20.0,28.0,24.0,28.0,26.0,20.0,28.0,32.0,24.0,27.0,28.0,24.0,26.0,29.0,26.0,28.0,24.0,29.0,29.0,30.0,26.0,24.0,27.0,24.0,29.0,26.0,22.0,26.0,31.0,27.0,24.0,30.0,27.0,24.0,27.0,28.0,31.0,28.0,27.0,22.0,27.0,32.0,26.0,30.0,25.0,32.0,25.0,26.0,28.0,26.0,27.0,26.0,29.0,29.0,24.0,22.0,22.0,26.0,27.0,32.0,29.0,27.0,27.0,25.0,30.0,30.0,27.0,28.0,27.0,26.0,23.0,22.0,31.0,28.0,25.0,28.0,27.0,29.0,28.0,24.0,31.0,28.0,28.0,24.0,29.0,26.0,30.0,27.0,20.0,25.0,22.0,28.0,25.0,29.0,21.0,27.0,27.0,25.0,27.0,25.0,26.0,25.0,27.0,26.0,22.0,21.0,19.0,28.0],\"xaxis\":\"x2\",\"yaxis\":\"y2\",\"type\":\"box\",\"opacity\":0.7}],                        {\"template\":{\"data\":{\"histogram2dcontour\":[{\"type\":\"histogram2dcontour\",\"colorbar\":{\"outlinewidth\":0,\"ticks\":\"\"},\"colorscale\":[[0.0,\"#0d0887\"],[0.1111111111111111,\"#46039f\"],[0.2222222222222222,\"#7201a8\"],[0.3333333333333333,\"#9c179e\"],[0.4444444444444444,\"#bd3786\"],[0.5555555555555556,\"#d8576b\"],[0.6666666666666666,\"#ed7953\"],[0.7777777777777778,\"#fb9f3a\"],[0.8888888888888888,\"#fdca26\"],[1.0,\"#f0f921\"]]}],\"choropleth\":[{\"type\":\"choropleth\",\"colorbar\":{\"outlinewidth\":0,\"ticks\":\"\"}}],\"histogram2d\":[{\"type\":\"histogram2d\",\"colorbar\":{\"outlinewidth\":0,\"ticks\":\"\"},\"colorscale\":[[0.0,\"#0d0887\"],[0.1111111111111111,\"#46039f\"],[0.2222222222222222,\"#7201a8\"],[0.3333333333333333,\"#9c179e\"],[0.4444444444444444,\"#bd3786\"],[0.5555555555555556,\"#d8576b\"],[0.6666666666666666,\"#ed7953\"],[0.7777777777777778,\"#fb9f3a\"],[0.8888888888888888,\"#fdca26\"],[1.0,\"#f0f921\"]]}],\"heatmap\":[{\"type\":\"heatmap\",\"colorbar\":{\"outlinewidth\":0,\"ticks\":\"\"},\"colorscale\":[[0.0,\"#0d0887\"],[0.1111111111111111,\"#46039f\"],[0.2222222222222222,\"#7201a8\"],[0.3333333333333333,\"#9c179e\"],[0.4444444444444444,\"#bd3786\"],[0.5555555555555556,\"#d8576b\"],[0.6666666666666666,\"#ed7953\"],[0.7777777777777778,\"#fb9f3a\"],[0.8888888888888888,\"#fdca26\"],[1.0,\"#f0f921\"]]}],\"heatmapgl\":[{\"type\":\"heatmapgl\",\"colorbar\":{\"outlinewidth\":0,\"ticks\":\"\"},\"colorscale\":[[0.0,\"#0d0887\"],[0.1111111111111111,\"#46039f\"],[0.2222222222222222,\"#7201a8\"],[0.3333333333333333,\"#9c179e\"],[0.4444444444444444,\"#bd3786\"],[0.5555555555555556,\"#d8576b\"],[0.6666666666666666,\"#ed7953\"],[0.7777777777777778,\"#fb9f3a\"],[0.8888888888888888,\"#fdca26\"],[1.0,\"#f0f921\"]]}],\"contourcarpet\":[{\"type\":\"contourcarpet\",\"colorbar\":{\"outlinewidth\":0,\"ticks\":\"\"}}],\"contour\":[{\"type\":\"contour\",\"colorbar\":{\"outlinewidth\":0,\"ticks\":\"\"},\"colorscale\":[[0.0,\"#0d0887\"],[0.1111111111111111,\"#46039f\"],[0.2222222222222222,\"#7201a8\"],[0.3333333333333333,\"#9c179e\"],[0.4444444444444444,\"#bd3786\"],[0.5555555555555556,\"#d8576b\"],[0.6666666666666666,\"#ed7953\"],[0.7777777777777778,\"#fb9f3a\"],[0.8888888888888888,\"#fdca26\"],[1.0,\"#f0f921\"]]}],\"surface\":[{\"type\":\"surface\",\"colorbar\":{\"outlinewidth\":0,\"ticks\":\"\"},\"colorscale\":[[0.0,\"#0d0887\"],[0.1111111111111111,\"#46039f\"],[0.2222222222222222,\"#7201a8\"],[0.3333333333333333,\"#9c179e\"],[0.4444444444444444,\"#bd3786\"],[0.5555555555555556,\"#d8576b\"],[0.6666666666666666,\"#ed7953\"],[0.7777777777777778,\"#fb9f3a\"],[0.8888888888888888,\"#fdca26\"],[1.0,\"#f0f921\"]]}],\"mesh3d\":[{\"type\":\"mesh3d\",\"colorbar\":{\"outlinewidth\":0,\"ticks\":\"\"}}],\"scatter\":[{\"fillpattern\":{\"fillmode\":\"overlay\",\"size\":10,\"solidity\":0.2},\"type\":\"scatter\"}],\"parcoords\":[{\"type\":\"parcoords\",\"line\":{\"colorbar\":{\"outlinewidth\":0,\"ticks\":\"\"}}}],\"scatterpolargl\":[{\"type\":\"scatterpolargl\",\"marker\":{\"colorbar\":{\"outlinewidth\":0,\"ticks\":\"\"}}}],\"bar\":[{\"error_x\":{\"color\":\"#2a3f5f\"},\"error_y\":{\"color\":\"#2a3f5f\"},\"marker\":{\"line\":{\"color\":\"#E5ECF6\",\"width\":0.5},\"pattern\":{\"fillmode\":\"overlay\",\"size\":10,\"solidity\":0.2}},\"type\":\"bar\"}],\"scattergeo\":[{\"type\":\"scattergeo\",\"marker\":{\"colorbar\":{\"outlinewidth\":0,\"ticks\":\"\"}}}],\"scatterpolar\":[{\"type\":\"scatterpolar\",\"marker\":{\"colorbar\":{\"outlinewidth\":0,\"ticks\":\"\"}}}],\"histogram\":[{\"marker\":{\"pattern\":{\"fillmode\":\"overlay\",\"size\":10,\"solidity\":0.2}},\"type\":\"histogram\"}],\"scattergl\":[{\"type\":\"scattergl\",\"marker\":{\"colorbar\":{\"outlinewidth\":0,\"ticks\":\"\"}}}],\"scatter3d\":[{\"type\":\"scatter3d\",\"line\":{\"colorbar\":{\"outlinewidth\":0,\"ticks\":\"\"}},\"marker\":{\"colorbar\":{\"outlinewidth\":0,\"ticks\":\"\"}}}],\"scattermapbox\":[{\"type\":\"scattermapbox\",\"marker\":{\"colorbar\":{\"outlinewidth\":0,\"ticks\":\"\"}}}],\"scatterternary\":[{\"type\":\"scatterternary\",\"marker\":{\"colorbar\":{\"outlinewidth\":0,\"ticks\":\"\"}}}],\"scattercarpet\":[{\"type\":\"scattercarpet\",\"marker\":{\"colorbar\":{\"outlinewidth\":0,\"ticks\":\"\"}}}],\"carpet\":[{\"aaxis\":{\"endlinecolor\":\"#2a3f5f\",\"gridcolor\":\"white\",\"linecolor\":\"white\",\"minorgridcolor\":\"white\",\"startlinecolor\":\"#2a3f5f\"},\"baxis\":{\"endlinecolor\":\"#2a3f5f\",\"gridcolor\":\"white\",\"linecolor\":\"white\",\"minorgridcolor\":\"white\",\"startlinecolor\":\"#2a3f5f\"},\"type\":\"carpet\"}],\"table\":[{\"cells\":{\"fill\":{\"color\":\"#EBF0F8\"},\"line\":{\"color\":\"white\"}},\"header\":{\"fill\":{\"color\":\"#C8D4E3\"},\"line\":{\"color\":\"white\"}},\"type\":\"table\"}],\"barpolar\":[{\"marker\":{\"line\":{\"color\":\"#E5ECF6\",\"width\":0.5},\"pattern\":{\"fillmode\":\"overlay\",\"size\":10,\"solidity\":0.2}},\"type\":\"barpolar\"}],\"pie\":[{\"automargin\":true,\"type\":\"pie\"}]},\"layout\":{\"autotypenumbers\":\"strict\",\"colorway\":[\"#636efa\",\"#EF553B\",\"#00cc96\",\"#ab63fa\",\"#FFA15A\",\"#19d3f3\",\"#FF6692\",\"#B6E880\",\"#FF97FF\",\"#FECB52\"],\"font\":{\"color\":\"#2a3f5f\"},\"hovermode\":\"closest\",\"hoverlabel\":{\"align\":\"left\"},\"paper_bgcolor\":\"white\",\"plot_bgcolor\":\"#E5ECF6\",\"polar\":{\"bgcolor\":\"#E5ECF6\",\"angularaxis\":{\"gridcolor\":\"white\",\"linecolor\":\"white\",\"ticks\":\"\"},\"radialaxis\":{\"gridcolor\":\"white\",\"linecolor\":\"white\",\"ticks\":\"\"}},\"ternary\":{\"bgcolor\":\"#E5ECF6\",\"aaxis\":{\"gridcolor\":\"white\",\"linecolor\":\"white\",\"ticks\":\"\"},\"baxis\":{\"gridcolor\":\"white\",\"linecolor\":\"white\",\"ticks\":\"\"},\"caxis\":{\"gridcolor\":\"white\",\"linecolor\":\"white\",\"ticks\":\"\"}},\"coloraxis\":{\"colorbar\":{\"outlinewidth\":0,\"ticks\":\"\"}},\"colorscale\":{\"sequential\":[[0.0,\"#0d0887\"],[0.1111111111111111,\"#46039f\"],[0.2222222222222222,\"#7201a8\"],[0.3333333333333333,\"#9c179e\"],[0.4444444444444444,\"#bd3786\"],[0.5555555555555556,\"#d8576b\"],[0.6666666666666666,\"#ed7953\"],[0.7777777777777778,\"#fb9f3a\"],[0.8888888888888888,\"#fdca26\"],[1.0,\"#f0f921\"]],\"sequentialminus\":[[0.0,\"#0d0887\"],[0.1111111111111111,\"#46039f\"],[0.2222222222222222,\"#7201a8\"],[0.3333333333333333,\"#9c179e\"],[0.4444444444444444,\"#bd3786\"],[0.5555555555555556,\"#d8576b\"],[0.6666666666666666,\"#ed7953\"],[0.7777777777777778,\"#fb9f3a\"],[0.8888888888888888,\"#fdca26\"],[1.0,\"#f0f921\"]],\"diverging\":[[0,\"#8e0152\"],[0.1,\"#c51b7d\"],[0.2,\"#de77ae\"],[0.3,\"#f1b6da\"],[0.4,\"#fde0ef\"],[0.5,\"#f7f7f7\"],[0.6,\"#e6f5d0\"],[0.7,\"#b8e186\"],[0.8,\"#7fbc41\"],[0.9,\"#4d9221\"],[1,\"#276419\"]]},\"xaxis\":{\"gridcolor\":\"white\",\"linecolor\":\"white\",\"ticks\":\"\",\"title\":{\"standoff\":15},\"zerolinecolor\":\"white\",\"automargin\":true,\"zerolinewidth\":2},\"yaxis\":{\"gridcolor\":\"white\",\"linecolor\":\"white\",\"ticks\":\"\",\"title\":{\"standoff\":15},\"zerolinecolor\":\"white\",\"automargin\":true,\"zerolinewidth\":2},\"scene\":{\"xaxis\":{\"backgroundcolor\":\"#E5ECF6\",\"gridcolor\":\"white\",\"linecolor\":\"white\",\"showbackground\":true,\"ticks\":\"\",\"zerolinecolor\":\"white\",\"gridwidth\":2},\"yaxis\":{\"backgroundcolor\":\"#E5ECF6\",\"gridcolor\":\"white\",\"linecolor\":\"white\",\"showbackground\":true,\"ticks\":\"\",\"zerolinecolor\":\"white\",\"gridwidth\":2},\"zaxis\":{\"backgroundcolor\":\"#E5ECF6\",\"gridcolor\":\"white\",\"linecolor\":\"white\",\"showbackground\":true,\"ticks\":\"\",\"zerolinecolor\":\"white\",\"gridwidth\":2}},\"shapedefaults\":{\"line\":{\"color\":\"#2a3f5f\"}},\"annotationdefaults\":{\"arrowcolor\":\"#2a3f5f\",\"arrowhead\":0,\"arrowwidth\":1},\"geo\":{\"bgcolor\":\"white\",\"landcolor\":\"#E5ECF6\",\"subunitcolor\":\"white\",\"showland\":true,\"showlakes\":true,\"lakecolor\":\"white\"},\"title\":{\"x\":0.05},\"mapbox\":{\"style\":\"light\"}}},\"xaxis\":{\"anchor\":\"y\",\"domain\":[0.0,1.0],\"title\":{\"text\":\"observation\"}},\"yaxis\":{\"anchor\":\"x\",\"domain\":[0.0,0.8316],\"title\":{\"text\":\"count\"}},\"xaxis2\":{\"anchor\":\"y2\",\"domain\":[0.0,1.0],\"matches\":\"x\",\"showticklabels\":false,\"showgrid\":true},\"yaxis2\":{\"anchor\":\"x2\",\"domain\":[0.8416,1.0],\"matches\":\"y2\",\"showticklabels\":false,\"showline\":false,\"ticks\":\"\",\"showgrid\":false},\"legend\":{\"tracegroupgap\":0},\"margin\":{\"t\":60},\"barmode\":\"relative\"},                        {\"responsive\": true}                    ).then(function(){\n",
       "                            \n",
       "var gd = document.getElementById('89e24a3e-f5ee-40e8-87ba-7db81261aaed');\n",
       "var x = new MutationObserver(function (mutations, observer) {{\n",
       "        var display = window.getComputedStyle(gd).display;\n",
       "        if (!display || display === 'none') {{\n",
       "            console.log([gd, 'removed!']);\n",
       "            Plotly.purge(gd);\n",
       "            observer.disconnect();\n",
       "        }}\n",
       "}});\n",
       "\n",
       "// Listen for the removal of the full notebook cells\n",
       "var notebookContainer = gd.closest('#notebook-container');\n",
       "if (notebookContainer) {{\n",
       "    x.observe(notebookContainer, {childList: true});\n",
       "}}\n",
       "\n",
       "// Listen for the clearing of the current output cell\n",
       "var outputEl = gd.closest('.output');\n",
       "if (outputEl) {{\n",
       "    x.observe(outputEl, {childList: true});\n",
       "}}\n",
       "\n",
       "                        })                };                });            </script>        </div>"
      ]
     },
     "metadata": {},
     "output_type": "display_data"
    }
   ],
   "source": [
    "fig2 = px.histogram(ages2, x = \"observation\", nbins=10, marginal = \"box\")\n",
    "fig2.update_traces(marker_line_color='black', marker_line_width=1.5, opacity=0.7)\n",
    "fig2"
   ]
  },
  {
   "cell_type": "code",
   "execution_count": 110,
   "metadata": {},
   "outputs": [
    {
     "data": {
      "image/png": "[encoded data removed]",
      "text/plain": [
       "<Figure size 800x600 with 1 Axes>"
      ]
     },
     "metadata": {},
     "output_type": "display_data"
    }
   ],
   "source": [
    "fig, ax = plt.subplots(figsize=(8, 6))\n",
    "\n",
    "sns.histplot(ages2[\"observation\"], bins=10, kde=True, ax=ax)\n",
    "\n",
    "ax.set_xlabel('Observation')\n",
    "ax.set_ylabel('Frecuencia')\n",
    "\n",
    "for patch in ax.patches:\n",
    "    patch.set_edgecolor('black')\n",
    "    patch.set_linewidth(1.5)\n",
    "    patch.set_alpha(0.7)\n",
    "plt.show()"
   ]
  },
  {
   "cell_type": "markdown",
   "metadata": {},
   "source": [
    "####  4.- What do you see? Is there any difference with the frequency distribution in step 1?"
   ]
  },
  {
   "cell_type": "code",
   "execution_count": 52,
   "metadata": {},
   "outputs": [
    {
     "data": {
      "text/plain": [
       "'\\nYes, the dataframe has much less observations, \\nand they start at a higher age and stop at a lower age.\\n'"
      ]
     },
     "execution_count": 52,
     "metadata": {},
     "output_type": "execute_result"
    }
   ],
   "source": [
    "\"\"\"\n",
    "Yes, the dataframe has much less observations, \n",
    "and they start at a higher age and stop at a lower age.\n",
    "\"\"\""
   ]
  },
  {
   "cell_type": "markdown",
   "metadata": {},
   "source": [
    "#### 5.- Calculate the mean and standard deviation. Compare the results with the mean and standard deviation in step 2. What do you think?"
   ]
  },
  {
   "cell_type": "code",
   "execution_count": 53,
   "metadata": {},
   "outputs": [
    {
     "data": {
      "text/plain": [
       "27.155"
      ]
     },
     "execution_count": 53,
     "metadata": {},
     "output_type": "execute_result"
    }
   ],
   "source": [
    "np.mean(ages2[\"observation\"])"
   ]
  },
  {
   "cell_type": "code",
   "execution_count": 54,
   "metadata": {},
   "outputs": [
    {
     "data": {
      "text/plain": [
       "2.9683286543103704"
      ]
     },
     "execution_count": 54,
     "metadata": {},
     "output_type": "execute_result"
    }
   ],
   "source": [
    "np.std(ages2[\"observation\"])"
   ]
  },
  {
   "cell_type": "code",
   "execution_count": 55,
   "metadata": {},
   "outputs": [
    {
     "data": {
      "text/plain": [
       "'\\nThe mean is much lower, and also the standard deviation\\nbecause the ages are very similar.\\n'"
      ]
     },
     "execution_count": 55,
     "metadata": {},
     "output_type": "execute_result"
    }
   ],
   "source": [
    "\"\"\"\n",
    "The mean is much lower, and also the standard deviation\n",
    "because the ages are very similar.\n",
    "\"\"\""
   ]
  },
  {
   "cell_type": "markdown",
   "metadata": {},
   "source": [
    "## Challenge 5\n",
    "Now is the turn of `ages_population3.csv`.\n",
    "\n",
    "#### 1.- Read the file `ages_population3.csv`. Calculate the frequency distribution and plot it."
   ]
  },
  {
   "cell_type": "code",
   "execution_count": 56,
   "metadata": {},
   "outputs": [
    {
     "data": {
      "text/html": [
       "<div>\n",
       "<style scoped>\n",
       "    .dataframe tbody tr th:only-of-type {\n",
       "        vertical-align: middle;\n",
       "    }\n",
       "\n",
       "    .dataframe tbody tr th {\n",
       "        vertical-align: top;\n",
       "    }\n",
       "\n",
       "    .dataframe thead th {\n",
       "        text-align: right;\n",
       "    }\n",
       "</style>\n",
       "<table border=\"1\" class=\"dataframe\">\n",
       "  <thead>\n",
       "    <tr style=\"text-align: right;\">\n",
       "      <th></th>\n",
       "      <th>observation</th>\n",
       "    </tr>\n",
       "  </thead>\n",
       "  <tbody>\n",
       "    <tr>\n",
       "      <th>0</th>\n",
       "      <td>21.0</td>\n",
       "    </tr>\n",
       "    <tr>\n",
       "      <th>1</th>\n",
       "      <td>21.0</td>\n",
       "    </tr>\n",
       "    <tr>\n",
       "      <th>2</th>\n",
       "      <td>24.0</td>\n",
       "    </tr>\n",
       "    <tr>\n",
       "      <th>3</th>\n",
       "      <td>31.0</td>\n",
       "    </tr>\n",
       "    <tr>\n",
       "      <th>4</th>\n",
       "      <td>54.0</td>\n",
       "    </tr>\n",
       "    <tr>\n",
       "      <th>...</th>\n",
       "      <td>...</td>\n",
       "    </tr>\n",
       "    <tr>\n",
       "      <th>995</th>\n",
       "      <td>16.0</td>\n",
       "    </tr>\n",
       "    <tr>\n",
       "      <th>996</th>\n",
       "      <td>55.0</td>\n",
       "    </tr>\n",
       "    <tr>\n",
       "      <th>997</th>\n",
       "      <td>30.0</td>\n",
       "    </tr>\n",
       "    <tr>\n",
       "      <th>998</th>\n",
       "      <td>35.0</td>\n",
       "    </tr>\n",
       "    <tr>\n",
       "      <th>999</th>\n",
       "      <td>43.0</td>\n",
       "    </tr>\n",
       "  </tbody>\n",
       "</table>\n",
       "<p>1000 rows × 1 columns</p>\n",
       "</div>"
      ],
      "text/plain": [
       "     observation\n",
       "0           21.0\n",
       "1           21.0\n",
       "2           24.0\n",
       "3           31.0\n",
       "4           54.0\n",
       "..           ...\n",
       "995         16.0\n",
       "996         55.0\n",
       "997         30.0\n",
       "998         35.0\n",
       "999         43.0\n",
       "\n",
       "[1000 rows x 1 columns]"
      ]
     },
     "execution_count": 56,
     "metadata": {},
     "output_type": "execute_result"
    }
   ],
   "source": [
    "ages3 = pd.read_csv(\"../data/ages_population3.csv\")\n",
    "ages3"
   ]
  },
  {
   "cell_type": "code",
   "execution_count": 57,
   "metadata": {},
   "outputs": [
    {
     "data": {
      "text/plain": [
       "{1.0: 1,\n",
       " 2.0: 2,\n",
       " 4.0: 2,\n",
       " 5.0: 1,\n",
       " 7.0: 1,\n",
       " 8.0: 1,\n",
       " 9.0: 1,\n",
       " 10.0: 2,\n",
       " 11.0: 2,\n",
       " 12.0: 4,\n",
       " 13.0: 2,\n",
       " 14.0: 5,\n",
       " 15.0: 8,\n",
       " 16.0: 9,\n",
       " 17.0: 10,\n",
       " 18.0: 9,\n",
       " 19.0: 12,\n",
       " 20.0: 11,\n",
       " 21.0: 14,\n",
       " 22.0: 11,\n",
       " 23.0: 11,\n",
       " 24.0: 19,\n",
       " 25.0: 17,\n",
       " 26.0: 15,\n",
       " 27.0: 19,\n",
       " 28.0: 18,\n",
       " 29.0: 25,\n",
       " 30.0: 24,\n",
       " 31.0: 21,\n",
       " 32.0: 37,\n",
       " 33.0: 17,\n",
       " 34.0: 20,\n",
       " 35.0: 31,\n",
       " 36.0: 26,\n",
       " 37.0: 31,\n",
       " 38.0: 25,\n",
       " 39.0: 29,\n",
       " 40.0: 21,\n",
       " 41.0: 25,\n",
       " 42.0: 14,\n",
       " 43.0: 22,\n",
       " 44.0: 17,\n",
       " 45.0: 24,\n",
       " 46.0: 22,\n",
       " 47.0: 15,\n",
       " 48.0: 25,\n",
       " 49.0: 18,\n",
       " 50.0: 21,\n",
       " 51.0: 14,\n",
       " 52.0: 17,\n",
       " 53.0: 14,\n",
       " 54.0: 9,\n",
       " 55.0: 13,\n",
       " 56.0: 10,\n",
       " 57.0: 8,\n",
       " 58.0: 6,\n",
       " 59.0: 8,\n",
       " 60.0: 6,\n",
       " 61.0: 6,\n",
       " 62.0: 3,\n",
       " 63.0: 12,\n",
       " 64.0: 12,\n",
       " 65.0: 15,\n",
       " 66.0: 19,\n",
       " 67.0: 22,\n",
       " 68.0: 17,\n",
       " 69.0: 17,\n",
       " 70.0: 19,\n",
       " 71.0: 11,\n",
       " 72.0: 8,\n",
       " 73.0: 6,\n",
       " 74.0: 6,\n",
       " 75.0: 2,\n",
       " 76.0: 1,\n",
       " 77.0: 2}"
      ]
     },
     "execution_count": 57,
     "metadata": {},
     "output_type": "execute_result"
    }
   ],
   "source": [
    "f = frequency(ages3[\"observation\"])\n",
    "sorted_f = dict(sorted(f.items()))\n",
    "sorted_f"
   ]
  },
  {
   "cell_type": "code",
   "execution_count": 58,
   "metadata": {},
   "outputs": [
    {
     "data": {
      "application/vnd.plotly.v1+json": {
       "config": {
        "plotlyServerURL": "https://plot.ly"
       },
       "data": [
        {
         "alignmentgroup": "True",
         "bingroup": "x",
         "hovertemplate": "observation=%{x}<br>count=%{y}<extra></extra>",
         "legendgroup": "",
         "marker": {
          "color": "#636efa",
          "line": {
           "color": "black",
           "width": 1.5
          },
          "pattern": {
           "shape": ""
          }
         },
         "name": "",
         "nbinsx": 10,
         "offsetgroup": "",
         "opacity": 0.7,
         "orientation": "v",
         "showlegend": false,
         "type": "histogram",
         "x": [
          21,
          21,
          24,
          31,
          54,
          52,
          37,
          69,
          36,
          30,
          64,
          30,
          76,
          73,
          42,
          52,
          67,
          28,
          24,
          50,
          70,
          57,
          20,
          27,
          51,
          67,
          56,
          30,
          52,
          44,
          49,
          31,
          64,
          65,
          32,
          37,
          37,
          18,
          65,
          42,
          45,
          40,
          66,
          72,
          43,
          64,
          43,
          54,
          48,
          30,
          35,
          41,
          17,
          44,
          32,
          37,
          45,
          41,
          23,
          45,
          69,
          36,
          47,
          31,
          33,
          51,
          27,
          20,
          15,
          26,
          28,
          67,
          36,
          54,
          17,
          51,
          75,
          41,
          29,
          55,
          37,
          63,
          42,
          49,
          32,
          39,
          46,
          50,
          32,
          43,
          45,
          26,
          22,
          15,
          26,
          24,
          71,
          55,
          68,
          35,
          40,
          55,
          21,
          60,
          41,
          22,
          34,
          30,
          56,
          61,
          51,
          33,
          47,
          48,
          26,
          30,
          56,
          42,
          66,
          50,
          57,
          12,
          20,
          69,
          47,
          38,
          68,
          41,
          33,
          29,
          63,
          38,
          55,
          39,
          44,
          74,
          40,
          35,
          49,
          37,
          34,
          25,
          15,
          70,
          20,
          35,
          23,
          54,
          29,
          27,
          37,
          27,
          32,
          34,
          71,
          38,
          32,
          65,
          50,
          23,
          72,
          48,
          32,
          52,
          43,
          34,
          26,
          42,
          53,
          54,
          48,
          23,
          24,
          37,
          64,
          70,
          21,
          50,
          47,
          67,
          44,
          63,
          44,
          12,
          62,
          48,
          62,
          70,
          39,
          25,
          41,
          59,
          32,
          43,
          35,
          63,
          70,
          36,
          61,
          38,
          44,
          48,
          30,
          31,
          29,
          31,
          35,
          50,
          19,
          45,
          68,
          18,
          47,
          32,
          36,
          36,
          27,
          37,
          77,
          64,
          35,
          48,
          29,
          37,
          48,
          39,
          46,
          72,
          32,
          49,
          39,
          20,
          33,
          41,
          39,
          52,
          41,
          35,
          69,
          25,
          50,
          14,
          48,
          30,
          39,
          69,
          53,
          43,
          37,
          37,
          39,
          32,
          24,
          19,
          50,
          17,
          53,
          36,
          16,
          29,
          64,
          36,
          32,
          1,
          43,
          26,
          32,
          40,
          72,
          35,
          33,
          24,
          32,
          38,
          67,
          29,
          52,
          55,
          67,
          22,
          18,
          41,
          34,
          65,
          17,
          50,
          16,
          45,
          65,
          46,
          45,
          31,
          52,
          71,
          53,
          52,
          11,
          23,
          71,
          52,
          31,
          27,
          34,
          51,
          74,
          19,
          16,
          25,
          36,
          13,
          59,
          50,
          40,
          45,
          50,
          43,
          32,
          36,
          40,
          42,
          27,
          33,
          29,
          75,
          67,
          42,
          19,
          47,
          16,
          46,
          45,
          35,
          28,
          36,
          37,
          59,
          40,
          45,
          30,
          35,
          40,
          44,
          55,
          28,
          9,
          28,
          65,
          31,
          37,
          28,
          28,
          40,
          10,
          48,
          39,
          69,
          66,
          54,
          39,
          65,
          56,
          19,
          38,
          21,
          21,
          24,
          41,
          50,
          21,
          69,
          67,
          27,
          43,
          57,
          27,
          39,
          30,
          51,
          35,
          20,
          39,
          35,
          59,
          60,
          47,
          24,
          32,
          46,
          72,
          69,
          49,
          33,
          50,
          35,
          45,
          52,
          28,
          70,
          27,
          67,
          31,
          28,
          19,
          71,
          29,
          41,
          67,
          32,
          63,
          19,
          66,
          71,
          67,
          18,
          32,
          2,
          53,
          71,
          43,
          70,
          25,
          66,
          22,
          33,
          48,
          38,
          72,
          24,
          32,
          39,
          32,
          22,
          19,
          59,
          44,
          36,
          31,
          69,
          70,
          46,
          12,
          31,
          52,
          25,
          48,
          17,
          24,
          40,
          24,
          41,
          15,
          46,
          41,
          44,
          33,
          64,
          48,
          68,
          36,
          41,
          48,
          32,
          69,
          66,
          38,
          25,
          24,
          43,
          8,
          60,
          17,
          23,
          32,
          68,
          59,
          39,
          51,
          64,
          51,
          25,
          36,
          56,
          67,
          56,
          42,
          48,
          45,
          14,
          17,
          15,
          24,
          60,
          73,
          65,
          40,
          35,
          70,
          34,
          48,
          45,
          32,
          38,
          48,
          49,
          44,
          43,
          73,
          69,
          34,
          24,
          52,
          46,
          30,
          38,
          36,
          34,
          35,
          68,
          20,
          45,
          34,
          70,
          44,
          56,
          65,
          69,
          58,
          72,
          34,
          21,
          48,
          20,
          49,
          34,
          23,
          67,
          61,
          32,
          64,
          49,
          39,
          63,
          74,
          67,
          65,
          50,
          69,
          34,
          68,
          38,
          31,
          37,
          26,
          23,
          67,
          29,
          30,
          26,
          38,
          68,
          45,
          54,
          34,
          32,
          66,
          43,
          66,
          27,
          46,
          28,
          32,
          32,
          22,
          40,
          43,
          63,
          37,
          17,
          23,
          27,
          40,
          36,
          30,
          29,
          30,
          30,
          35,
          42,
          31,
          37,
          20,
          30,
          57,
          17,
          18,
          68,
          41,
          39,
          13,
          69,
          39,
          28,
          53,
          42,
          36,
          47,
          63,
          42,
          37,
          18,
          69,
          35,
          46,
          35,
          18,
          49,
          47,
          38,
          27,
          34,
          57,
          29,
          38,
          39,
          57,
          33,
          36,
          40,
          49,
          48,
          54,
          39,
          49,
          37,
          49,
          66,
          70,
          29,
          61,
          4,
          37,
          36,
          18,
          38,
          66,
          44,
          35,
          31,
          31,
          38,
          67,
          52,
          35,
          51,
          54,
          43,
          40,
          51,
          21,
          40,
          61,
          31,
          22,
          41,
          73,
          68,
          63,
          30,
          46,
          40,
          12,
          15,
          26,
          39,
          70,
          36,
          67,
          45,
          38,
          68,
          43,
          28,
          58,
          52,
          53,
          44,
          73,
          49,
          26,
          34,
          37,
          38,
          47,
          52,
          35,
          29,
          51,
          36,
          4,
          28,
          30,
          38,
          37,
          22,
          74,
          35,
          39,
          73,
          65,
          30,
          66,
          70,
          58,
          35,
          21,
          61,
          66,
          41,
          42,
          64,
          31,
          67,
          38,
          46,
          68,
          65,
          37,
          36,
          40,
          31,
          48,
          46,
          50,
          47,
          53,
          28,
          41,
          68,
          56,
          26,
          41,
          63,
          69,
          67,
          24,
          25,
          43,
          67,
          32,
          32,
          30,
          65,
          44,
          52,
          11,
          25,
          60,
          49,
          25,
          33,
          44,
          10,
          23,
          22,
          29,
          22,
          19,
          58,
          71,
          33,
          66,
          31,
          64,
          28,
          53,
          33,
          45,
          21,
          68,
          37,
          19,
          48,
          51,
          35,
          40,
          53,
          71,
          51,
          27,
          60,
          21,
          45,
          74,
          46,
          29,
          44,
          66,
          55,
          31,
          48,
          31,
          39,
          24,
          55,
          70,
          24,
          41,
          68,
          25,
          39,
          35,
          39,
          45,
          29,
          48,
          65,
          49,
          34,
          68,
          43,
          39,
          32,
          26,
          47,
          25,
          37,
          53,
          37,
          66,
          57,
          32,
          44,
          34,
          47,
          46,
          24,
          70,
          56,
          27,
          28,
          19,
          38,
          45,
          35,
          71,
          53,
          41,
          65,
          25,
          46,
          5,
          14,
          15,
          35,
          50,
          30,
          58,
          46,
          27,
          45,
          37,
          50,
          45,
          40,
          32,
          20,
          38,
          46,
          22,
          50,
          42,
          66,
          34,
          32,
          29,
          30,
          62,
          66,
          16,
          63,
          51,
          25,
          53,
          41,
          35,
          37,
          33,
          25,
          32,
          55,
          29,
          36,
          45,
          14,
          49,
          32,
          38,
          37,
          21,
          29,
          52,
          46,
          42,
          57,
          46,
          58,
          18,
          48,
          71,
          41,
          50,
          43,
          26,
          30,
          27,
          47,
          43,
          38,
          64,
          36,
          39,
          74,
          39,
          56,
          2,
          39,
          70,
          34,
          47,
          59,
          66,
          36,
          33,
          41,
          55,
          66,
          29,
          77,
          63,
          68,
          50,
          50,
          17,
          24,
          16,
          59,
          70,
          16,
          33,
          41,
          32,
          40,
          26,
          7,
          27,
          29,
          29,
          19,
          70,
          23,
          27,
          36,
          55,
          21,
          15,
          14,
          46,
          37,
          67,
          29,
          28,
          33,
          46,
          55,
          35,
          49,
          72,
          20,
          45,
          69,
          16,
          53,
          39,
          38,
          49,
          25,
          43,
          28,
          32,
          67,
          29,
          70,
          26,
          48,
          37,
          16,
          55,
          30,
          35,
          43
         ],
         "xaxis": "x",
         "yaxis": "y"
        },
        {
         "alignmentgroup": "True",
         "hovertemplate": "observation=%{x}<extra></extra>",
         "legendgroup": "",
         "marker": {
          "color": "#636efa",
          "line": {
           "color": "black",
           "width": 1.5
          }
         },
         "name": "",
         "notched": true,
         "offsetgroup": "",
         "opacity": 0.7,
         "showlegend": false,
         "type": "box",
         "x": [
          21,
          21,
          24,
          31,
          54,
          52,
          37,
          69,
          36,
          30,
          64,
          30,
          76,
          73,
          42,
          52,
          67,
          28,
          24,
          50,
          70,
          57,
          20,
          27,
          51,
          67,
          56,
          30,
          52,
          44,
          49,
          31,
          64,
          65,
          32,
          37,
          37,
          18,
          65,
          42,
          45,
          40,
          66,
          72,
          43,
          64,
          43,
          54,
          48,
          30,
          35,
          41,
          17,
          44,
          32,
          37,
          45,
          41,
          23,
          45,
          69,
          36,
          47,
          31,
          33,
          51,
          27,
          20,
          15,
          26,
          28,
          67,
          36,
          54,
          17,
          51,
          75,
          41,
          29,
          55,
          37,
          63,
          42,
          49,
          32,
          39,
          46,
          50,
          32,
          43,
          45,
          26,
          22,
          15,
          26,
          24,
          71,
          55,
          68,
          35,
          40,
          55,
          21,
          60,
          41,
          22,
          34,
          30,
          56,
          61,
          51,
          33,
          47,
          48,
          26,
          30,
          56,
          42,
          66,
          50,
          57,
          12,
          20,
          69,
          47,
          38,
          68,
          41,
          33,
          29,
          63,
          38,
          55,
          39,
          44,
          74,
          40,
          35,
          49,
          37,
          34,
          25,
          15,
          70,
          20,
          35,
          23,
          54,
          29,
          27,
          37,
          27,
          32,
          34,
          71,
          38,
          32,
          65,
          50,
          23,
          72,
          48,
          32,
          52,
          43,
          34,
          26,
          42,
          53,
          54,
          48,
          23,
          24,
          37,
          64,
          70,
          21,
          50,
          47,
          67,
          44,
          63,
          44,
          12,
          62,
          48,
          62,
          70,
          39,
          25,
          41,
          59,
          32,
          43,
          35,
          63,
          70,
          36,
          61,
          38,
          44,
          48,
          30,
          31,
          29,
          31,
          35,
          50,
          19,
          45,
          68,
          18,
          47,
          32,
          36,
          36,
          27,
          37,
          77,
          64,
          35,
          48,
          29,
          37,
          48,
          39,
          46,
          72,
          32,
          49,
          39,
          20,
          33,
          41,
          39,
          52,
          41,
          35,
          69,
          25,
          50,
          14,
          48,
          30,
          39,
          69,
          53,
          43,
          37,
          37,
          39,
          32,
          24,
          19,
          50,
          17,
          53,
          36,
          16,
          29,
          64,
          36,
          32,
          1,
          43,
          26,
          32,
          40,
          72,
          35,
          33,
          24,
          32,
          38,
          67,
          29,
          52,
          55,
          67,
          22,
          18,
          41,
          34,
          65,
          17,
          50,
          16,
          45,
          65,
          46,
          45,
          31,
          52,
          71,
          53,
          52,
          11,
          23,
          71,
          52,
          31,
          27,
          34,
          51,
          74,
          19,
          16,
          25,
          36,
          13,
          59,
          50,
          40,
          45,
          50,
          43,
          32,
          36,
          40,
          42,
          27,
          33,
          29,
          75,
          67,
          42,
          19,
          47,
          16,
          46,
          45,
          35,
          28,
          36,
          37,
          59,
          40,
          45,
          30,
          35,
          40,
          44,
          55,
          28,
          9,
          28,
          65,
          31,
          37,
          28,
          28,
          40,
          10,
          48,
          39,
          69,
          66,
          54,
          39,
          65,
          56,
          19,
          38,
          21,
          21,
          24,
          41,
          50,
          21,
          69,
          67,
          27,
          43,
          57,
          27,
          39,
          30,
          51,
          35,
          20,
          39,
          35,
          59,
          60,
          47,
          24,
          32,
          46,
          72,
          69,
          49,
          33,
          50,
          35,
          45,
          52,
          28,
          70,
          27,
          67,
          31,
          28,
          19,
          71,
          29,
          41,
          67,
          32,
          63,
          19,
          66,
          71,
          67,
          18,
          32,
          2,
          53,
          71,
          43,
          70,
          25,
          66,
          22,
          33,
          48,
          38,
          72,
          24,
          32,
          39,
          32,
          22,
          19,
          59,
          44,
          36,
          31,
          69,
          70,
          46,
          12,
          31,
          52,
          25,
          48,
          17,
          24,
          40,
          24,
          41,
          15,
          46,
          41,
          44,
          33,
          64,
          48,
          68,
          36,
          41,
          48,
          32,
          69,
          66,
          38,
          25,
          24,
          43,
          8,
          60,
          17,
          23,
          32,
          68,
          59,
          39,
          51,
          64,
          51,
          25,
          36,
          56,
          67,
          56,
          42,
          48,
          45,
          14,
          17,
          15,
          24,
          60,
          73,
          65,
          40,
          35,
          70,
          34,
          48,
          45,
          32,
          38,
          48,
          49,
          44,
          43,
          73,
          69,
          34,
          24,
          52,
          46,
          30,
          38,
          36,
          34,
          35,
          68,
          20,
          45,
          34,
          70,
          44,
          56,
          65,
          69,
          58,
          72,
          34,
          21,
          48,
          20,
          49,
          34,
          23,
          67,
          61,
          32,
          64,
          49,
          39,
          63,
          74,
          67,
          65,
          50,
          69,
          34,
          68,
          38,
          31,
          37,
          26,
          23,
          67,
          29,
          30,
          26,
          38,
          68,
          45,
          54,
          34,
          32,
          66,
          43,
          66,
          27,
          46,
          28,
          32,
          32,
          22,
          40,
          43,
          63,
          37,
          17,
          23,
          27,
          40,
          36,
          30,
          29,
          30,
          30,
          35,
          42,
          31,
          37,
          20,
          30,
          57,
          17,
          18,
          68,
          41,
          39,
          13,
          69,
          39,
          28,
          53,
          42,
          36,
          47,
          63,
          42,
          37,
          18,
          69,
          35,
          46,
          35,
          18,
          49,
          47,
          38,
          27,
          34,
          57,
          29,
          38,
          39,
          57,
          33,
          36,
          40,
          49,
          48,
          54,
          39,
          49,
          37,
          49,
          66,
          70,
          29,
          61,
          4,
          37,
          36,
          18,
          38,
          66,
          44,
          35,
          31,
          31,
          38,
          67,
          52,
          35,
          51,
          54,
          43,
          40,
          51,
          21,
          40,
          61,
          31,
          22,
          41,
          73,
          68,
          63,
          30,
          46,
          40,
          12,
          15,
          26,
          39,
          70,
          36,
          67,
          45,
          38,
          68,
          43,
          28,
          58,
          52,
          53,
          44,
          73,
          49,
          26,
          34,
          37,
          38,
          47,
          52,
          35,
          29,
          51,
          36,
          4,
          28,
          30,
          38,
          37,
          22,
          74,
          35,
          39,
          73,
          65,
          30,
          66,
          70,
          58,
          35,
          21,
          61,
          66,
          41,
          42,
          64,
          31,
          67,
          38,
          46,
          68,
          65,
          37,
          36,
          40,
          31,
          48,
          46,
          50,
          47,
          53,
          28,
          41,
          68,
          56,
          26,
          41,
          63,
          69,
          67,
          24,
          25,
          43,
          67,
          32,
          32,
          30,
          65,
          44,
          52,
          11,
          25,
          60,
          49,
          25,
          33,
          44,
          10,
          23,
          22,
          29,
          22,
          19,
          58,
          71,
          33,
          66,
          31,
          64,
          28,
          53,
          33,
          45,
          21,
          68,
          37,
          19,
          48,
          51,
          35,
          40,
          53,
          71,
          51,
          27,
          60,
          21,
          45,
          74,
          46,
          29,
          44,
          66,
          55,
          31,
          48,
          31,
          39,
          24,
          55,
          70,
          24,
          41,
          68,
          25,
          39,
          35,
          39,
          45,
          29,
          48,
          65,
          49,
          34,
          68,
          43,
          39,
          32,
          26,
          47,
          25,
          37,
          53,
          37,
          66,
          57,
          32,
          44,
          34,
          47,
          46,
          24,
          70,
          56,
          27,
          28,
          19,
          38,
          45,
          35,
          71,
          53,
          41,
          65,
          25,
          46,
          5,
          14,
          15,
          35,
          50,
          30,
          58,
          46,
          27,
          45,
          37,
          50,
          45,
          40,
          32,
          20,
          38,
          46,
          22,
          50,
          42,
          66,
          34,
          32,
          29,
          30,
          62,
          66,
          16,
          63,
          51,
          25,
          53,
          41,
          35,
          37,
          33,
          25,
          32,
          55,
          29,
          36,
          45,
          14,
          49,
          32,
          38,
          37,
          21,
          29,
          52,
          46,
          42,
          57,
          46,
          58,
          18,
          48,
          71,
          41,
          50,
          43,
          26,
          30,
          27,
          47,
          43,
          38,
          64,
          36,
          39,
          74,
          39,
          56,
          2,
          39,
          70,
          34,
          47,
          59,
          66,
          36,
          33,
          41,
          55,
          66,
          29,
          77,
          63,
          68,
          50,
          50,
          17,
          24,
          16,
          59,
          70,
          16,
          33,
          41,
          32,
          40,
          26,
          7,
          27,
          29,
          29,
          19,
          70,
          23,
          27,
          36,
          55,
          21,
          15,
          14,
          46,
          37,
          67,
          29,
          28,
          33,
          46,
          55,
          35,
          49,
          72,
          20,
          45,
          69,
          16,
          53,
          39,
          38,
          49,
          25,
          43,
          28,
          32,
          67,
          29,
          70,
          26,
          48,
          37,
          16,
          55,
          30,
          35,
          43
         ],
         "xaxis": "x2",
         "yaxis": "y2"
        }
       ],
       "layout": {
        "barmode": "relative",
        "legend": {
         "tracegroupgap": 0
        },
        "margin": {
         "t": 60
        },
        "template": {
         "data": {
          "bar": [
           {
            "error_x": {
             "color": "#2a3f5f"
            },
            "error_y": {
             "color": "#2a3f5f"
            },
            "marker": {
             "line": {
              "color": "#E5ECF6",
              "width": 0.5
             },
             "pattern": {
              "fillmode": "overlay",
              "size": 10,
              "solidity": 0.2
             }
            },
            "type": "bar"
           }
          ],
          "barpolar": [
           {
            "marker": {
             "line": {
              "color": "#E5ECF6",
              "width": 0.5
             },
             "pattern": {
              "fillmode": "overlay",
              "size": 10,
              "solidity": 0.2
             }
            },
            "type": "barpolar"
           }
          ],
          "carpet": [
           {
            "aaxis": {
             "endlinecolor": "#2a3f5f",
             "gridcolor": "white",
             "linecolor": "white",
             "minorgridcolor": "white",
             "startlinecolor": "#2a3f5f"
            },
            "baxis": {
             "endlinecolor": "#2a3f5f",
             "gridcolor": "white",
             "linecolor": "white",
             "minorgridcolor": "white",
             "startlinecolor": "#2a3f5f"
            },
            "type": "carpet"
           }
          ],
          "choropleth": [
           {
            "colorbar": {
             "outlinewidth": 0,
             "ticks": ""
            },
            "type": "choropleth"
           }
          ],
          "contour": [
           {
            "colorbar": {
             "outlinewidth": 0,
             "ticks": ""
            },
            "colorscale": [
             [
              0,
              "#0d0887"
             ],
             [
              0.1111111111111111,
              "#46039f"
             ],
             [
              0.2222222222222222,
              "#7201a8"
             ],
             [
              0.3333333333333333,
              "#9c179e"
             ],
             [
              0.4444444444444444,
              "#bd3786"
             ],
             [
              0.5555555555555556,
              "#d8576b"
             ],
             [
              0.6666666666666666,
              "#ed7953"
             ],
             [
              0.7777777777777778,
              "#fb9f3a"
             ],
             [
              0.8888888888888888,
              "#fdca26"
             ],
             [
              1,
              "#f0f921"
             ]
            ],
            "type": "contour"
           }
          ],
          "contourcarpet": [
           {
            "colorbar": {
             "outlinewidth": 0,
             "ticks": ""
            },
            "type": "contourcarpet"
           }
          ],
          "heatmap": [
           {
            "colorbar": {
             "outlinewidth": 0,
             "ticks": ""
            },
            "colorscale": [
             [
              0,
              "#0d0887"
             ],
             [
              0.1111111111111111,
              "#46039f"
             ],
             [
              0.2222222222222222,
              "#7201a8"
             ],
             [
              0.3333333333333333,
              "#9c179e"
             ],
             [
              0.4444444444444444,
              "#bd3786"
             ],
             [
              0.5555555555555556,
              "#d8576b"
             ],
             [
              0.6666666666666666,
              "#ed7953"
             ],
             [
              0.7777777777777778,
              "#fb9f3a"
             ],
             [
              0.8888888888888888,
              "#fdca26"
             ],
             [
              1,
              "#f0f921"
             ]
            ],
            "type": "heatmap"
           }
          ],
          "heatmapgl": [
           {
            "colorbar": {
             "outlinewidth": 0,
             "ticks": ""
            },
            "colorscale": [
             [
              0,
              "#0d0887"
             ],
             [
              0.1111111111111111,
              "#46039f"
             ],
             [
              0.2222222222222222,
              "#7201a8"
             ],
             [
              0.3333333333333333,
              "#9c179e"
             ],
             [
              0.4444444444444444,
              "#bd3786"
             ],
             [
              0.5555555555555556,
              "#d8576b"
             ],
             [
              0.6666666666666666,
              "#ed7953"
             ],
             [
              0.7777777777777778,
              "#fb9f3a"
             ],
             [
              0.8888888888888888,
              "#fdca26"
             ],
             [
              1,
              "#f0f921"
             ]
            ],
            "type": "heatmapgl"
           }
          ],
          "histogram": [
           {
            "marker": {
             "pattern": {
              "fillmode": "overlay",
              "size": 10,
              "solidity": 0.2
             }
            },
            "type": "histogram"
           }
          ],
          "histogram2d": [
           {
            "colorbar": {
             "outlinewidth": 0,
             "ticks": ""
            },
            "colorscale": [
             [
              0,
              "#0d0887"
             ],
             [
              0.1111111111111111,
              "#46039f"
             ],
             [
              0.2222222222222222,
              "#7201a8"
             ],
             [
              0.3333333333333333,
              "#9c179e"
             ],
             [
              0.4444444444444444,
              "#bd3786"
             ],
             [
              0.5555555555555556,
              "#d8576b"
             ],
             [
              0.6666666666666666,
              "#ed7953"
             ],
             [
              0.7777777777777778,
              "#fb9f3a"
             ],
             [
              0.8888888888888888,
              "#fdca26"
             ],
             [
              1,
              "#f0f921"
             ]
            ],
            "type": "histogram2d"
           }
          ],
          "histogram2dcontour": [
           {
            "colorbar": {
             "outlinewidth": 0,
             "ticks": ""
            },
            "colorscale": [
             [
              0,
              "#0d0887"
             ],
             [
              0.1111111111111111,
              "#46039f"
             ],
             [
              0.2222222222222222,
              "#7201a8"
             ],
             [
              0.3333333333333333,
              "#9c179e"
             ],
             [
              0.4444444444444444,
              "#bd3786"
             ],
             [
              0.5555555555555556,
              "#d8576b"
             ],
             [
              0.6666666666666666,
              "#ed7953"
             ],
             [
              0.7777777777777778,
              "#fb9f3a"
             ],
             [
              0.8888888888888888,
              "#fdca26"
             ],
             [
              1,
              "#f0f921"
             ]
            ],
            "type": "histogram2dcontour"
           }
          ],
          "mesh3d": [
           {
            "colorbar": {
             "outlinewidth": 0,
             "ticks": ""
            },
            "type": "mesh3d"
           }
          ],
          "parcoords": [
           {
            "line": {
             "colorbar": {
              "outlinewidth": 0,
              "ticks": ""
             }
            },
            "type": "parcoords"
           }
          ],
          "pie": [
           {
            "automargin": true,
            "type": "pie"
           }
          ],
          "scatter": [
           {
            "fillpattern": {
             "fillmode": "overlay",
             "size": 10,
             "solidity": 0.2
            },
            "type": "scatter"
           }
          ],
          "scatter3d": [
           {
            "line": {
             "colorbar": {
              "outlinewidth": 0,
              "ticks": ""
             }
            },
            "marker": {
             "colorbar": {
              "outlinewidth": 0,
              "ticks": ""
             }
            },
            "type": "scatter3d"
           }
          ],
          "scattercarpet": [
           {
            "marker": {
             "colorbar": {
              "outlinewidth": 0,
              "ticks": ""
             }
            },
            "type": "scattercarpet"
           }
          ],
          "scattergeo": [
           {
            "marker": {
             "colorbar": {
              "outlinewidth": 0,
              "ticks": ""
             }
            },
            "type": "scattergeo"
           }
          ],
          "scattergl": [
           {
            "marker": {
             "colorbar": {
              "outlinewidth": 0,
              "ticks": ""
             }
            },
            "type": "scattergl"
           }
          ],
          "scattermapbox": [
           {
            "marker": {
             "colorbar": {
              "outlinewidth": 0,
              "ticks": ""
             }
            },
            "type": "scattermapbox"
           }
          ],
          "scatterpolar": [
           {
            "marker": {
             "colorbar": {
              "outlinewidth": 0,
              "ticks": ""
             }
            },
            "type": "scatterpolar"
           }
          ],
          "scatterpolargl": [
           {
            "marker": {
             "colorbar": {
              "outlinewidth": 0,
              "ticks": ""
             }
            },
            "type": "scatterpolargl"
           }
          ],
          "scatterternary": [
           {
            "marker": {
             "colorbar": {
              "outlinewidth": 0,
              "ticks": ""
             }
            },
            "type": "scatterternary"
           }
          ],
          "surface": [
           {
            "colorbar": {
             "outlinewidth": 0,
             "ticks": ""
            },
            "colorscale": [
             [
              0,
              "#0d0887"
             ],
             [
              0.1111111111111111,
              "#46039f"
             ],
             [
              0.2222222222222222,
              "#7201a8"
             ],
             [
              0.3333333333333333,
              "#9c179e"
             ],
             [
              0.4444444444444444,
              "#bd3786"
             ],
             [
              0.5555555555555556,
              "#d8576b"
             ],
             [
              0.6666666666666666,
              "#ed7953"
             ],
             [
              0.7777777777777778,
              "#fb9f3a"
             ],
             [
              0.8888888888888888,
              "#fdca26"
             ],
             [
              1,
              "#f0f921"
             ]
            ],
            "type": "surface"
           }
          ],
          "table": [
           {
            "cells": {
             "fill": {
              "color": "#EBF0F8"
             },
             "line": {
              "color": "white"
             }
            },
            "header": {
             "fill": {
              "color": "#C8D4E3"
             },
             "line": {
              "color": "white"
             }
            },
            "type": "table"
           }
          ]
         },
         "layout": {
          "annotationdefaults": {
           "arrowcolor": "#2a3f5f",
           "arrowhead": 0,
           "arrowwidth": 1
          },
          "autotypenumbers": "strict",
          "coloraxis": {
           "colorbar": {
            "outlinewidth": 0,
            "ticks": ""
           }
          },
          "colorscale": {
           "diverging": [
            [
             0,
             "#8e0152"
            ],
            [
             0.1,
             "#c51b7d"
            ],
            [
             0.2,
             "#de77ae"
            ],
            [
             0.3,
             "#f1b6da"
            ],
            [
             0.4,
             "#fde0ef"
            ],
            [
             0.5,
             "#f7f7f7"
            ],
            [
             0.6,
             "#e6f5d0"
            ],
            [
             0.7,
             "#b8e186"
            ],
            [
             0.8,
             "#7fbc41"
            ],
            [
             0.9,
             "#4d9221"
            ],
            [
             1,
             "#276419"
            ]
           ],
           "sequential": [
            [
             0,
             "#0d0887"
            ],
            [
             0.1111111111111111,
             "#46039f"
            ],
            [
             0.2222222222222222,
             "#7201a8"
            ],
            [
             0.3333333333333333,
             "#9c179e"
            ],
            [
             0.4444444444444444,
             "#bd3786"
            ],
            [
             0.5555555555555556,
             "#d8576b"
            ],
            [
             0.6666666666666666,
             "#ed7953"
            ],
            [
             0.7777777777777778,
             "#fb9f3a"
            ],
            [
             0.8888888888888888,
             "#fdca26"
            ],
            [
             1,
             "#f0f921"
            ]
           ],
           "sequentialminus": [
            [
             0,
             "#0d0887"
            ],
            [
             0.1111111111111111,
             "#46039f"
            ],
            [
             0.2222222222222222,
             "#7201a8"
            ],
            [
             0.3333333333333333,
             "#9c179e"
            ],
            [
             0.4444444444444444,
             "#bd3786"
            ],
            [
             0.5555555555555556,
             "#d8576b"
            ],
            [
             0.6666666666666666,
             "#ed7953"
            ],
            [
             0.7777777777777778,
             "#fb9f3a"
            ],
            [
             0.8888888888888888,
             "#fdca26"
            ],
            [
             1,
             "#f0f921"
            ]
           ]
          },
          "colorway": [
           "#636efa",
           "#EF553B",
           "#00cc96",
           "#ab63fa",
           "#FFA15A",
           "#19d3f3",
           "#FF6692",
           "#B6E880",
           "#FF97FF",
           "#FECB52"
          ],
          "font": {
           "color": "#2a3f5f"
          },
          "geo": {
           "bgcolor": "white",
           "lakecolor": "white",
           "landcolor": "#E5ECF6",
           "showlakes": true,
           "showland": true,
           "subunitcolor": "white"
          },
          "hoverlabel": {
           "align": "left"
          },
          "hovermode": "closest",
          "mapbox": {
           "style": "light"
          },
          "paper_bgcolor": "white",
          "plot_bgcolor": "#E5ECF6",
          "polar": {
           "angularaxis": {
            "gridcolor": "white",
            "linecolor": "white",
            "ticks": ""
           },
           "bgcolor": "#E5ECF6",
           "radialaxis": {
            "gridcolor": "white",
            "linecolor": "white",
            "ticks": ""
           }
          },
          "scene": {
           "xaxis": {
            "backgroundcolor": "#E5ECF6",
            "gridcolor": "white",
            "gridwidth": 2,
            "linecolor": "white",
            "showbackground": true,
            "ticks": "",
            "zerolinecolor": "white"
           },
           "yaxis": {
            "backgroundcolor": "#E5ECF6",
            "gridcolor": "white",
            "gridwidth": 2,
            "linecolor": "white",
            "showbackground": true,
            "ticks": "",
            "zerolinecolor": "white"
           },
           "zaxis": {
            "backgroundcolor": "#E5ECF6",
            "gridcolor": "white",
            "gridwidth": 2,
            "linecolor": "white",
            "showbackground": true,
            "ticks": "",
            "zerolinecolor": "white"
           }
          },
          "shapedefaults": {
           "line": {
            "color": "#2a3f5f"
           }
          },
          "ternary": {
           "aaxis": {
            "gridcolor": "white",
            "linecolor": "white",
            "ticks": ""
           },
           "baxis": {
            "gridcolor": "white",
            "linecolor": "white",
            "ticks": ""
           },
           "bgcolor": "#E5ECF6",
           "caxis": {
            "gridcolor": "white",
            "linecolor": "white",
            "ticks": ""
           }
          },
          "title": {
           "x": 0.05
          },
          "xaxis": {
           "automargin": true,
           "gridcolor": "white",
           "linecolor": "white",
           "ticks": "",
           "title": {
            "standoff": 15
           },
           "zerolinecolor": "white",
           "zerolinewidth": 2
          },
          "yaxis": {
           "automargin": true,
           "gridcolor": "white",
           "linecolor": "white",
           "ticks": "",
           "title": {
            "standoff": 15
           },
           "zerolinecolor": "white",
           "zerolinewidth": 2
          }
         }
        },
        "xaxis": {
         "anchor": "y",
         "domain": [
          0,
          1
         ],
         "title": {
          "text": "observation"
         }
        },
        "xaxis2": {
         "anchor": "y2",
         "domain": [
          0,
          1
         ],
         "matches": "x",
         "showgrid": true,
         "showticklabels": false
        },
        "yaxis": {
         "anchor": "x",
         "domain": [
          0,
          0.8316
         ],
         "title": {
          "text": "count"
         }
        },
        "yaxis2": {
         "anchor": "x2",
         "domain": [
          0.8416,
          1
         ],
         "matches": "y2",
         "showgrid": false,
         "showline": false,
         "showticklabels": false,
         "ticks": ""
        }
       }
      },
      "text/html": [
       "<div>                            <div id=\"e231d301-0c31-4cdf-ba16-0a36112b85a6\" class=\"plotly-graph-div\" style=\"height:525px; width:100%;\"></div>            <script type=\"text/javascript\">                require([\"plotly\"], function(Plotly) {                    window.PLOTLYENV=window.PLOTLYENV || {};                                    if (document.getElementById(\"e231d301-0c31-4cdf-ba16-0a36112b85a6\")) {                    Plotly.newPlot(                        \"e231d301-0c31-4cdf-ba16-0a36112b85a6\",                        [{\"alignmentgroup\":\"True\",\"bingroup\":\"x\",\"hovertemplate\":\"observation=%{x}<br>count=%{y}<extra></extra>\",\"legendgroup\":\"\",\"marker\":{\"color\":\"#636efa\",\"pattern\":{\"shape\":\"\"},\"line\":{\"color\":\"black\",\"width\":1.5}},\"name\":\"\",\"nbinsx\":10,\"offsetgroup\":\"\",\"orientation\":\"v\",\"showlegend\":false,\"x\":[21.0,21.0,24.0,31.0,54.0,52.0,37.0,69.0,36.0,30.0,64.0,30.0,76.0,73.0,42.0,52.0,67.0,28.0,24.0,50.0,70.0,57.0,20.0,27.0,51.0,67.0,56.0,30.0,52.0,44.0,49.0,31.0,64.0,65.0,32.0,37.0,37.0,18.0,65.0,42.0,45.0,40.0,66.0,72.0,43.0,64.0,43.0,54.0,48.0,30.0,35.0,41.0,17.0,44.0,32.0,37.0,45.0,41.0,23.0,45.0,69.0,36.0,47.0,31.0,33.0,51.0,27.0,20.0,15.0,26.0,28.0,67.0,36.0,54.0,17.0,51.0,75.0,41.0,29.0,55.0,37.0,63.0,42.0,49.0,32.0,39.0,46.0,50.0,32.0,43.0,45.0,26.0,22.0,15.0,26.0,24.0,71.0,55.0,68.0,35.0,40.0,55.0,21.0,60.0,41.0,22.0,34.0,30.0,56.0,61.0,51.0,33.0,47.0,48.0,26.0,30.0,56.0,42.0,66.0,50.0,57.0,12.0,20.0,69.0,47.0,38.0,68.0,41.0,33.0,29.0,63.0,38.0,55.0,39.0,44.0,74.0,40.0,35.0,49.0,37.0,34.0,25.0,15.0,70.0,20.0,35.0,23.0,54.0,29.0,27.0,37.0,27.0,32.0,34.0,71.0,38.0,32.0,65.0,50.0,23.0,72.0,48.0,32.0,52.0,43.0,34.0,26.0,42.0,53.0,54.0,48.0,23.0,24.0,37.0,64.0,70.0,21.0,50.0,47.0,67.0,44.0,63.0,44.0,12.0,62.0,48.0,62.0,70.0,39.0,25.0,41.0,59.0,32.0,43.0,35.0,63.0,70.0,36.0,61.0,38.0,44.0,48.0,30.0,31.0,29.0,31.0,35.0,50.0,19.0,45.0,68.0,18.0,47.0,32.0,36.0,36.0,27.0,37.0,77.0,64.0,35.0,48.0,29.0,37.0,48.0,39.0,46.0,72.0,32.0,49.0,39.0,20.0,33.0,41.0,39.0,52.0,41.0,35.0,69.0,25.0,50.0,14.0,48.0,30.0,39.0,69.0,53.0,43.0,37.0,37.0,39.0,32.0,24.0,19.0,50.0,17.0,53.0,36.0,16.0,29.0,64.0,36.0,32.0,1.0,43.0,26.0,32.0,40.0,72.0,35.0,33.0,24.0,32.0,38.0,67.0,29.0,52.0,55.0,67.0,22.0,18.0,41.0,34.0,65.0,17.0,50.0,16.0,45.0,65.0,46.0,45.0,31.0,52.0,71.0,53.0,52.0,11.0,23.0,71.0,52.0,31.0,27.0,34.0,51.0,74.0,19.0,16.0,25.0,36.0,13.0,59.0,50.0,40.0,45.0,50.0,43.0,32.0,36.0,40.0,42.0,27.0,33.0,29.0,75.0,67.0,42.0,19.0,47.0,16.0,46.0,45.0,35.0,28.0,36.0,37.0,59.0,40.0,45.0,30.0,35.0,40.0,44.0,55.0,28.0,9.0,28.0,65.0,31.0,37.0,28.0,28.0,40.0,10.0,48.0,39.0,69.0,66.0,54.0,39.0,65.0,56.0,19.0,38.0,21.0,21.0,24.0,41.0,50.0,21.0,69.0,67.0,27.0,43.0,57.0,27.0,39.0,30.0,51.0,35.0,20.0,39.0,35.0,59.0,60.0,47.0,24.0,32.0,46.0,72.0,69.0,49.0,33.0,50.0,35.0,45.0,52.0,28.0,70.0,27.0,67.0,31.0,28.0,19.0,71.0,29.0,41.0,67.0,32.0,63.0,19.0,66.0,71.0,67.0,18.0,32.0,2.0,53.0,71.0,43.0,70.0,25.0,66.0,22.0,33.0,48.0,38.0,72.0,24.0,32.0,39.0,32.0,22.0,19.0,59.0,44.0,36.0,31.0,69.0,70.0,46.0,12.0,31.0,52.0,25.0,48.0,17.0,24.0,40.0,24.0,41.0,15.0,46.0,41.0,44.0,33.0,64.0,48.0,68.0,36.0,41.0,48.0,32.0,69.0,66.0,38.0,25.0,24.0,43.0,8.0,60.0,17.0,23.0,32.0,68.0,59.0,39.0,51.0,64.0,51.0,25.0,36.0,56.0,67.0,56.0,42.0,48.0,45.0,14.0,17.0,15.0,24.0,60.0,73.0,65.0,40.0,35.0,70.0,34.0,48.0,45.0,32.0,38.0,48.0,49.0,44.0,43.0,73.0,69.0,34.0,24.0,52.0,46.0,30.0,38.0,36.0,34.0,35.0,68.0,20.0,45.0,34.0,70.0,44.0,56.0,65.0,69.0,58.0,72.0,34.0,21.0,48.0,20.0,49.0,34.0,23.0,67.0,61.0,32.0,64.0,49.0,39.0,63.0,74.0,67.0,65.0,50.0,69.0,34.0,68.0,38.0,31.0,37.0,26.0,23.0,67.0,29.0,30.0,26.0,38.0,68.0,45.0,54.0,34.0,32.0,66.0,43.0,66.0,27.0,46.0,28.0,32.0,32.0,22.0,40.0,43.0,63.0,37.0,17.0,23.0,27.0,40.0,36.0,30.0,29.0,30.0,30.0,35.0,42.0,31.0,37.0,20.0,30.0,57.0,17.0,18.0,68.0,41.0,39.0,13.0,69.0,39.0,28.0,53.0,42.0,36.0,47.0,63.0,42.0,37.0,18.0,69.0,35.0,46.0,35.0,18.0,49.0,47.0,38.0,27.0,34.0,57.0,29.0,38.0,39.0,57.0,33.0,36.0,40.0,49.0,48.0,54.0,39.0,49.0,37.0,49.0,66.0,70.0,29.0,61.0,4.0,37.0,36.0,18.0,38.0,66.0,44.0,35.0,31.0,31.0,38.0,67.0,52.0,35.0,51.0,54.0,43.0,40.0,51.0,21.0,40.0,61.0,31.0,22.0,41.0,73.0,68.0,63.0,30.0,46.0,40.0,12.0,15.0,26.0,39.0,70.0,36.0,67.0,45.0,38.0,68.0,43.0,28.0,58.0,52.0,53.0,44.0,73.0,49.0,26.0,34.0,37.0,38.0,47.0,52.0,35.0,29.0,51.0,36.0,4.0,28.0,30.0,38.0,37.0,22.0,74.0,35.0,39.0,73.0,65.0,30.0,66.0,70.0,58.0,35.0,21.0,61.0,66.0,41.0,42.0,64.0,31.0,67.0,38.0,46.0,68.0,65.0,37.0,36.0,40.0,31.0,48.0,46.0,50.0,47.0,53.0,28.0,41.0,68.0,56.0,26.0,41.0,63.0,69.0,67.0,24.0,25.0,43.0,67.0,32.0,32.0,30.0,65.0,44.0,52.0,11.0,25.0,60.0,49.0,25.0,33.0,44.0,10.0,23.0,22.0,29.0,22.0,19.0,58.0,71.0,33.0,66.0,31.0,64.0,28.0,53.0,33.0,45.0,21.0,68.0,37.0,19.0,48.0,51.0,35.0,40.0,53.0,71.0,51.0,27.0,60.0,21.0,45.0,74.0,46.0,29.0,44.0,66.0,55.0,31.0,48.0,31.0,39.0,24.0,55.0,70.0,24.0,41.0,68.0,25.0,39.0,35.0,39.0,45.0,29.0,48.0,65.0,49.0,34.0,68.0,43.0,39.0,32.0,26.0,47.0,25.0,37.0,53.0,37.0,66.0,57.0,32.0,44.0,34.0,47.0,46.0,24.0,70.0,56.0,27.0,28.0,19.0,38.0,45.0,35.0,71.0,53.0,41.0,65.0,25.0,46.0,5.0,14.0,15.0,35.0,50.0,30.0,58.0,46.0,27.0,45.0,37.0,50.0,45.0,40.0,32.0,20.0,38.0,46.0,22.0,50.0,42.0,66.0,34.0,32.0,29.0,30.0,62.0,66.0,16.0,63.0,51.0,25.0,53.0,41.0,35.0,37.0,33.0,25.0,32.0,55.0,29.0,36.0,45.0,14.0,49.0,32.0,38.0,37.0,21.0,29.0,52.0,46.0,42.0,57.0,46.0,58.0,18.0,48.0,71.0,41.0,50.0,43.0,26.0,30.0,27.0,47.0,43.0,38.0,64.0,36.0,39.0,74.0,39.0,56.0,2.0,39.0,70.0,34.0,47.0,59.0,66.0,36.0,33.0,41.0,55.0,66.0,29.0,77.0,63.0,68.0,50.0,50.0,17.0,24.0,16.0,59.0,70.0,16.0,33.0,41.0,32.0,40.0,26.0,7.0,27.0,29.0,29.0,19.0,70.0,23.0,27.0,36.0,55.0,21.0,15.0,14.0,46.0,37.0,67.0,29.0,28.0,33.0,46.0,55.0,35.0,49.0,72.0,20.0,45.0,69.0,16.0,53.0,39.0,38.0,49.0,25.0,43.0,28.0,32.0,67.0,29.0,70.0,26.0,48.0,37.0,16.0,55.0,30.0,35.0,43.0],\"xaxis\":\"x\",\"yaxis\":\"y\",\"type\":\"histogram\",\"opacity\":0.7},{\"alignmentgroup\":\"True\",\"hovertemplate\":\"observation=%{x}<extra></extra>\",\"legendgroup\":\"\",\"marker\":{\"color\":\"#636efa\",\"line\":{\"color\":\"black\",\"width\":1.5}},\"name\":\"\",\"notched\":true,\"offsetgroup\":\"\",\"showlegend\":false,\"x\":[21.0,21.0,24.0,31.0,54.0,52.0,37.0,69.0,36.0,30.0,64.0,30.0,76.0,73.0,42.0,52.0,67.0,28.0,24.0,50.0,70.0,57.0,20.0,27.0,51.0,67.0,56.0,30.0,52.0,44.0,49.0,31.0,64.0,65.0,32.0,37.0,37.0,18.0,65.0,42.0,45.0,40.0,66.0,72.0,43.0,64.0,43.0,54.0,48.0,30.0,35.0,41.0,17.0,44.0,32.0,37.0,45.0,41.0,23.0,45.0,69.0,36.0,47.0,31.0,33.0,51.0,27.0,20.0,15.0,26.0,28.0,67.0,36.0,54.0,17.0,51.0,75.0,41.0,29.0,55.0,37.0,63.0,42.0,49.0,32.0,39.0,46.0,50.0,32.0,43.0,45.0,26.0,22.0,15.0,26.0,24.0,71.0,55.0,68.0,35.0,40.0,55.0,21.0,60.0,41.0,22.0,34.0,30.0,56.0,61.0,51.0,33.0,47.0,48.0,26.0,30.0,56.0,42.0,66.0,50.0,57.0,12.0,20.0,69.0,47.0,38.0,68.0,41.0,33.0,29.0,63.0,38.0,55.0,39.0,44.0,74.0,40.0,35.0,49.0,37.0,34.0,25.0,15.0,70.0,20.0,35.0,23.0,54.0,29.0,27.0,37.0,27.0,32.0,34.0,71.0,38.0,32.0,65.0,50.0,23.0,72.0,48.0,32.0,52.0,43.0,34.0,26.0,42.0,53.0,54.0,48.0,23.0,24.0,37.0,64.0,70.0,21.0,50.0,47.0,67.0,44.0,63.0,44.0,12.0,62.0,48.0,62.0,70.0,39.0,25.0,41.0,59.0,32.0,43.0,35.0,63.0,70.0,36.0,61.0,38.0,44.0,48.0,30.0,31.0,29.0,31.0,35.0,50.0,19.0,45.0,68.0,18.0,47.0,32.0,36.0,36.0,27.0,37.0,77.0,64.0,35.0,48.0,29.0,37.0,48.0,39.0,46.0,72.0,32.0,49.0,39.0,20.0,33.0,41.0,39.0,52.0,41.0,35.0,69.0,25.0,50.0,14.0,48.0,30.0,39.0,69.0,53.0,43.0,37.0,37.0,39.0,32.0,24.0,19.0,50.0,17.0,53.0,36.0,16.0,29.0,64.0,36.0,32.0,1.0,43.0,26.0,32.0,40.0,72.0,35.0,33.0,24.0,32.0,38.0,67.0,29.0,52.0,55.0,67.0,22.0,18.0,41.0,34.0,65.0,17.0,50.0,16.0,45.0,65.0,46.0,45.0,31.0,52.0,71.0,53.0,52.0,11.0,23.0,71.0,52.0,31.0,27.0,34.0,51.0,74.0,19.0,16.0,25.0,36.0,13.0,59.0,50.0,40.0,45.0,50.0,43.0,32.0,36.0,40.0,42.0,27.0,33.0,29.0,75.0,67.0,42.0,19.0,47.0,16.0,46.0,45.0,35.0,28.0,36.0,37.0,59.0,40.0,45.0,30.0,35.0,40.0,44.0,55.0,28.0,9.0,28.0,65.0,31.0,37.0,28.0,28.0,40.0,10.0,48.0,39.0,69.0,66.0,54.0,39.0,65.0,56.0,19.0,38.0,21.0,21.0,24.0,41.0,50.0,21.0,69.0,67.0,27.0,43.0,57.0,27.0,39.0,30.0,51.0,35.0,20.0,39.0,35.0,59.0,60.0,47.0,24.0,32.0,46.0,72.0,69.0,49.0,33.0,50.0,35.0,45.0,52.0,28.0,70.0,27.0,67.0,31.0,28.0,19.0,71.0,29.0,41.0,67.0,32.0,63.0,19.0,66.0,71.0,67.0,18.0,32.0,2.0,53.0,71.0,43.0,70.0,25.0,66.0,22.0,33.0,48.0,38.0,72.0,24.0,32.0,39.0,32.0,22.0,19.0,59.0,44.0,36.0,31.0,69.0,70.0,46.0,12.0,31.0,52.0,25.0,48.0,17.0,24.0,40.0,24.0,41.0,15.0,46.0,41.0,44.0,33.0,64.0,48.0,68.0,36.0,41.0,48.0,32.0,69.0,66.0,38.0,25.0,24.0,43.0,8.0,60.0,17.0,23.0,32.0,68.0,59.0,39.0,51.0,64.0,51.0,25.0,36.0,56.0,67.0,56.0,42.0,48.0,45.0,14.0,17.0,15.0,24.0,60.0,73.0,65.0,40.0,35.0,70.0,34.0,48.0,45.0,32.0,38.0,48.0,49.0,44.0,43.0,73.0,69.0,34.0,24.0,52.0,46.0,30.0,38.0,36.0,34.0,35.0,68.0,20.0,45.0,34.0,70.0,44.0,56.0,65.0,69.0,58.0,72.0,34.0,21.0,48.0,20.0,49.0,34.0,23.0,67.0,61.0,32.0,64.0,49.0,39.0,63.0,74.0,67.0,65.0,50.0,69.0,34.0,68.0,38.0,31.0,37.0,26.0,23.0,67.0,29.0,30.0,26.0,38.0,68.0,45.0,54.0,34.0,32.0,66.0,43.0,66.0,27.0,46.0,28.0,32.0,32.0,22.0,40.0,43.0,63.0,37.0,17.0,23.0,27.0,40.0,36.0,30.0,29.0,30.0,30.0,35.0,42.0,31.0,37.0,20.0,30.0,57.0,17.0,18.0,68.0,41.0,39.0,13.0,69.0,39.0,28.0,53.0,42.0,36.0,47.0,63.0,42.0,37.0,18.0,69.0,35.0,46.0,35.0,18.0,49.0,47.0,38.0,27.0,34.0,57.0,29.0,38.0,39.0,57.0,33.0,36.0,40.0,49.0,48.0,54.0,39.0,49.0,37.0,49.0,66.0,70.0,29.0,61.0,4.0,37.0,36.0,18.0,38.0,66.0,44.0,35.0,31.0,31.0,38.0,67.0,52.0,35.0,51.0,54.0,43.0,40.0,51.0,21.0,40.0,61.0,31.0,22.0,41.0,73.0,68.0,63.0,30.0,46.0,40.0,12.0,15.0,26.0,39.0,70.0,36.0,67.0,45.0,38.0,68.0,43.0,28.0,58.0,52.0,53.0,44.0,73.0,49.0,26.0,34.0,37.0,38.0,47.0,52.0,35.0,29.0,51.0,36.0,4.0,28.0,30.0,38.0,37.0,22.0,74.0,35.0,39.0,73.0,65.0,30.0,66.0,70.0,58.0,35.0,21.0,61.0,66.0,41.0,42.0,64.0,31.0,67.0,38.0,46.0,68.0,65.0,37.0,36.0,40.0,31.0,48.0,46.0,50.0,47.0,53.0,28.0,41.0,68.0,56.0,26.0,41.0,63.0,69.0,67.0,24.0,25.0,43.0,67.0,32.0,32.0,30.0,65.0,44.0,52.0,11.0,25.0,60.0,49.0,25.0,33.0,44.0,10.0,23.0,22.0,29.0,22.0,19.0,58.0,71.0,33.0,66.0,31.0,64.0,28.0,53.0,33.0,45.0,21.0,68.0,37.0,19.0,48.0,51.0,35.0,40.0,53.0,71.0,51.0,27.0,60.0,21.0,45.0,74.0,46.0,29.0,44.0,66.0,55.0,31.0,48.0,31.0,39.0,24.0,55.0,70.0,24.0,41.0,68.0,25.0,39.0,35.0,39.0,45.0,29.0,48.0,65.0,49.0,34.0,68.0,43.0,39.0,32.0,26.0,47.0,25.0,37.0,53.0,37.0,66.0,57.0,32.0,44.0,34.0,47.0,46.0,24.0,70.0,56.0,27.0,28.0,19.0,38.0,45.0,35.0,71.0,53.0,41.0,65.0,25.0,46.0,5.0,14.0,15.0,35.0,50.0,30.0,58.0,46.0,27.0,45.0,37.0,50.0,45.0,40.0,32.0,20.0,38.0,46.0,22.0,50.0,42.0,66.0,34.0,32.0,29.0,30.0,62.0,66.0,16.0,63.0,51.0,25.0,53.0,41.0,35.0,37.0,33.0,25.0,32.0,55.0,29.0,36.0,45.0,14.0,49.0,32.0,38.0,37.0,21.0,29.0,52.0,46.0,42.0,57.0,46.0,58.0,18.0,48.0,71.0,41.0,50.0,43.0,26.0,30.0,27.0,47.0,43.0,38.0,64.0,36.0,39.0,74.0,39.0,56.0,2.0,39.0,70.0,34.0,47.0,59.0,66.0,36.0,33.0,41.0,55.0,66.0,29.0,77.0,63.0,68.0,50.0,50.0,17.0,24.0,16.0,59.0,70.0,16.0,33.0,41.0,32.0,40.0,26.0,7.0,27.0,29.0,29.0,19.0,70.0,23.0,27.0,36.0,55.0,21.0,15.0,14.0,46.0,37.0,67.0,29.0,28.0,33.0,46.0,55.0,35.0,49.0,72.0,20.0,45.0,69.0,16.0,53.0,39.0,38.0,49.0,25.0,43.0,28.0,32.0,67.0,29.0,70.0,26.0,48.0,37.0,16.0,55.0,30.0,35.0,43.0],\"xaxis\":\"x2\",\"yaxis\":\"y2\",\"type\":\"box\",\"opacity\":0.7}],                        {\"template\":{\"data\":{\"histogram2dcontour\":[{\"type\":\"histogram2dcontour\",\"colorbar\":{\"outlinewidth\":0,\"ticks\":\"\"},\"colorscale\":[[0.0,\"#0d0887\"],[0.1111111111111111,\"#46039f\"],[0.2222222222222222,\"#7201a8\"],[0.3333333333333333,\"#9c179e\"],[0.4444444444444444,\"#bd3786\"],[0.5555555555555556,\"#d8576b\"],[0.6666666666666666,\"#ed7953\"],[0.7777777777777778,\"#fb9f3a\"],[0.8888888888888888,\"#fdca26\"],[1.0,\"#f0f921\"]]}],\"choropleth\":[{\"type\":\"choropleth\",\"colorbar\":{\"outlinewidth\":0,\"ticks\":\"\"}}],\"histogram2d\":[{\"type\":\"histogram2d\",\"colorbar\":{\"outlinewidth\":0,\"ticks\":\"\"},\"colorscale\":[[0.0,\"#0d0887\"],[0.1111111111111111,\"#46039f\"],[0.2222222222222222,\"#7201a8\"],[0.3333333333333333,\"#9c179e\"],[0.4444444444444444,\"#bd3786\"],[0.5555555555555556,\"#d8576b\"],[0.6666666666666666,\"#ed7953\"],[0.7777777777777778,\"#fb9f3a\"],[0.8888888888888888,\"#fdca26\"],[1.0,\"#f0f921\"]]}],\"heatmap\":[{\"type\":\"heatmap\",\"colorbar\":{\"outlinewidth\":0,\"ticks\":\"\"},\"colorscale\":[[0.0,\"#0d0887\"],[0.1111111111111111,\"#46039f\"],[0.2222222222222222,\"#7201a8\"],[0.3333333333333333,\"#9c179e\"],[0.4444444444444444,\"#bd3786\"],[0.5555555555555556,\"#d8576b\"],[0.6666666666666666,\"#ed7953\"],[0.7777777777777778,\"#fb9f3a\"],[0.8888888888888888,\"#fdca26\"],[1.0,\"#f0f921\"]]}],\"heatmapgl\":[{\"type\":\"heatmapgl\",\"colorbar\":{\"outlinewidth\":0,\"ticks\":\"\"},\"colorscale\":[[0.0,\"#0d0887\"],[0.1111111111111111,\"#46039f\"],[0.2222222222222222,\"#7201a8\"],[0.3333333333333333,\"#9c179e\"],[0.4444444444444444,\"#bd3786\"],[0.5555555555555556,\"#d8576b\"],[0.6666666666666666,\"#ed7953\"],[0.7777777777777778,\"#fb9f3a\"],[0.8888888888888888,\"#fdca26\"],[1.0,\"#f0f921\"]]}],\"contourcarpet\":[{\"type\":\"contourcarpet\",\"colorbar\":{\"outlinewidth\":0,\"ticks\":\"\"}}],\"contour\":[{\"type\":\"contour\",\"colorbar\":{\"outlinewidth\":0,\"ticks\":\"\"},\"colorscale\":[[0.0,\"#0d0887\"],[0.1111111111111111,\"#46039f\"],[0.2222222222222222,\"#7201a8\"],[0.3333333333333333,\"#9c179e\"],[0.4444444444444444,\"#bd3786\"],[0.5555555555555556,\"#d8576b\"],[0.6666666666666666,\"#ed7953\"],[0.7777777777777778,\"#fb9f3a\"],[0.8888888888888888,\"#fdca26\"],[1.0,\"#f0f921\"]]}],\"surface\":[{\"type\":\"surface\",\"colorbar\":{\"outlinewidth\":0,\"ticks\":\"\"},\"colorscale\":[[0.0,\"#0d0887\"],[0.1111111111111111,\"#46039f\"],[0.2222222222222222,\"#7201a8\"],[0.3333333333333333,\"#9c179e\"],[0.4444444444444444,\"#bd3786\"],[0.5555555555555556,\"#d8576b\"],[0.6666666666666666,\"#ed7953\"],[0.7777777777777778,\"#fb9f3a\"],[0.8888888888888888,\"#fdca26\"],[1.0,\"#f0f921\"]]}],\"mesh3d\":[{\"type\":\"mesh3d\",\"colorbar\":{\"outlinewidth\":0,\"ticks\":\"\"}}],\"scatter\":[{\"fillpattern\":{\"fillmode\":\"overlay\",\"size\":10,\"solidity\":0.2},\"type\":\"scatter\"}],\"parcoords\":[{\"type\":\"parcoords\",\"line\":{\"colorbar\":{\"outlinewidth\":0,\"ticks\":\"\"}}}],\"scatterpolargl\":[{\"type\":\"scatterpolargl\",\"marker\":{\"colorbar\":{\"outlinewidth\":0,\"ticks\":\"\"}}}],\"bar\":[{\"error_x\":{\"color\":\"#2a3f5f\"},\"error_y\":{\"color\":\"#2a3f5f\"},\"marker\":{\"line\":{\"color\":\"#E5ECF6\",\"width\":0.5},\"pattern\":{\"fillmode\":\"overlay\",\"size\":10,\"solidity\":0.2}},\"type\":\"bar\"}],\"scattergeo\":[{\"type\":\"scattergeo\",\"marker\":{\"colorbar\":{\"outlinewidth\":0,\"ticks\":\"\"}}}],\"scatterpolar\":[{\"type\":\"scatterpolar\",\"marker\":{\"colorbar\":{\"outlinewidth\":0,\"ticks\":\"\"}}}],\"histogram\":[{\"marker\":{\"pattern\":{\"fillmode\":\"overlay\",\"size\":10,\"solidity\":0.2}},\"type\":\"histogram\"}],\"scattergl\":[{\"type\":\"scattergl\",\"marker\":{\"colorbar\":{\"outlinewidth\":0,\"ticks\":\"\"}}}],\"scatter3d\":[{\"type\":\"scatter3d\",\"line\":{\"colorbar\":{\"outlinewidth\":0,\"ticks\":\"\"}},\"marker\":{\"colorbar\":{\"outlinewidth\":0,\"ticks\":\"\"}}}],\"scattermapbox\":[{\"type\":\"scattermapbox\",\"marker\":{\"colorbar\":{\"outlinewidth\":0,\"ticks\":\"\"}}}],\"scatterternary\":[{\"type\":\"scatterternary\",\"marker\":{\"colorbar\":{\"outlinewidth\":0,\"ticks\":\"\"}}}],\"scattercarpet\":[{\"type\":\"scattercarpet\",\"marker\":{\"colorbar\":{\"outlinewidth\":0,\"ticks\":\"\"}}}],\"carpet\":[{\"aaxis\":{\"endlinecolor\":\"#2a3f5f\",\"gridcolor\":\"white\",\"linecolor\":\"white\",\"minorgridcolor\":\"white\",\"startlinecolor\":\"#2a3f5f\"},\"baxis\":{\"endlinecolor\":\"#2a3f5f\",\"gridcolor\":\"white\",\"linecolor\":\"white\",\"minorgridcolor\":\"white\",\"startlinecolor\":\"#2a3f5f\"},\"type\":\"carpet\"}],\"table\":[{\"cells\":{\"fill\":{\"color\":\"#EBF0F8\"},\"line\":{\"color\":\"white\"}},\"header\":{\"fill\":{\"color\":\"#C8D4E3\"},\"line\":{\"color\":\"white\"}},\"type\":\"table\"}],\"barpolar\":[{\"marker\":{\"line\":{\"color\":\"#E5ECF6\",\"width\":0.5},\"pattern\":{\"fillmode\":\"overlay\",\"size\":10,\"solidity\":0.2}},\"type\":\"barpolar\"}],\"pie\":[{\"automargin\":true,\"type\":\"pie\"}]},\"layout\":{\"autotypenumbers\":\"strict\",\"colorway\":[\"#636efa\",\"#EF553B\",\"#00cc96\",\"#ab63fa\",\"#FFA15A\",\"#19d3f3\",\"#FF6692\",\"#B6E880\",\"#FF97FF\",\"#FECB52\"],\"font\":{\"color\":\"#2a3f5f\"},\"hovermode\":\"closest\",\"hoverlabel\":{\"align\":\"left\"},\"paper_bgcolor\":\"white\",\"plot_bgcolor\":\"#E5ECF6\",\"polar\":{\"bgcolor\":\"#E5ECF6\",\"angularaxis\":{\"gridcolor\":\"white\",\"linecolor\":\"white\",\"ticks\":\"\"},\"radialaxis\":{\"gridcolor\":\"white\",\"linecolor\":\"white\",\"ticks\":\"\"}},\"ternary\":{\"bgcolor\":\"#E5ECF6\",\"aaxis\":{\"gridcolor\":\"white\",\"linecolor\":\"white\",\"ticks\":\"\"},\"baxis\":{\"gridcolor\":\"white\",\"linecolor\":\"white\",\"ticks\":\"\"},\"caxis\":{\"gridcolor\":\"white\",\"linecolor\":\"white\",\"ticks\":\"\"}},\"coloraxis\":{\"colorbar\":{\"outlinewidth\":0,\"ticks\":\"\"}},\"colorscale\":{\"sequential\":[[0.0,\"#0d0887\"],[0.1111111111111111,\"#46039f\"],[0.2222222222222222,\"#7201a8\"],[0.3333333333333333,\"#9c179e\"],[0.4444444444444444,\"#bd3786\"],[0.5555555555555556,\"#d8576b\"],[0.6666666666666666,\"#ed7953\"],[0.7777777777777778,\"#fb9f3a\"],[0.8888888888888888,\"#fdca26\"],[1.0,\"#f0f921\"]],\"sequentialminus\":[[0.0,\"#0d0887\"],[0.1111111111111111,\"#46039f\"],[0.2222222222222222,\"#7201a8\"],[0.3333333333333333,\"#9c179e\"],[0.4444444444444444,\"#bd3786\"],[0.5555555555555556,\"#d8576b\"],[0.6666666666666666,\"#ed7953\"],[0.7777777777777778,\"#fb9f3a\"],[0.8888888888888888,\"#fdca26\"],[1.0,\"#f0f921\"]],\"diverging\":[[0,\"#8e0152\"],[0.1,\"#c51b7d\"],[0.2,\"#de77ae\"],[0.3,\"#f1b6da\"],[0.4,\"#fde0ef\"],[0.5,\"#f7f7f7\"],[0.6,\"#e6f5d0\"],[0.7,\"#b8e186\"],[0.8,\"#7fbc41\"],[0.9,\"#4d9221\"],[1,\"#276419\"]]},\"xaxis\":{\"gridcolor\":\"white\",\"linecolor\":\"white\",\"ticks\":\"\",\"title\":{\"standoff\":15},\"zerolinecolor\":\"white\",\"automargin\":true,\"zerolinewidth\":2},\"yaxis\":{\"gridcolor\":\"white\",\"linecolor\":\"white\",\"ticks\":\"\",\"title\":{\"standoff\":15},\"zerolinecolor\":\"white\",\"automargin\":true,\"zerolinewidth\":2},\"scene\":{\"xaxis\":{\"backgroundcolor\":\"#E5ECF6\",\"gridcolor\":\"white\",\"linecolor\":\"white\",\"showbackground\":true,\"ticks\":\"\",\"zerolinecolor\":\"white\",\"gridwidth\":2},\"yaxis\":{\"backgroundcolor\":\"#E5ECF6\",\"gridcolor\":\"white\",\"linecolor\":\"white\",\"showbackground\":true,\"ticks\":\"\",\"zerolinecolor\":\"white\",\"gridwidth\":2},\"zaxis\":{\"backgroundcolor\":\"#E5ECF6\",\"gridcolor\":\"white\",\"linecolor\":\"white\",\"showbackground\":true,\"ticks\":\"\",\"zerolinecolor\":\"white\",\"gridwidth\":2}},\"shapedefaults\":{\"line\":{\"color\":\"#2a3f5f\"}},\"annotationdefaults\":{\"arrowcolor\":\"#2a3f5f\",\"arrowhead\":0,\"arrowwidth\":1},\"geo\":{\"bgcolor\":\"white\",\"landcolor\":\"#E5ECF6\",\"subunitcolor\":\"white\",\"showland\":true,\"showlakes\":true,\"lakecolor\":\"white\"},\"title\":{\"x\":0.05},\"mapbox\":{\"style\":\"light\"}}},\"xaxis\":{\"anchor\":\"y\",\"domain\":[0.0,1.0],\"title\":{\"text\":\"observation\"}},\"yaxis\":{\"anchor\":\"x\",\"domain\":[0.0,0.8316],\"title\":{\"text\":\"count\"}},\"xaxis2\":{\"anchor\":\"y2\",\"domain\":[0.0,1.0],\"matches\":\"x\",\"showticklabels\":false,\"showgrid\":true},\"yaxis2\":{\"anchor\":\"x2\",\"domain\":[0.8416,1.0],\"matches\":\"y2\",\"showticklabels\":false,\"showline\":false,\"ticks\":\"\",\"showgrid\":false},\"legend\":{\"tracegroupgap\":0},\"margin\":{\"t\":60},\"barmode\":\"relative\"},                        {\"responsive\": true}                    ).then(function(){\n",
       "                            \n",
       "var gd = document.getElementById('e231d301-0c31-4cdf-ba16-0a36112b85a6');\n",
       "var x = new MutationObserver(function (mutations, observer) {{\n",
       "        var display = window.getComputedStyle(gd).display;\n",
       "        if (!display || display === 'none') {{\n",
       "            console.log([gd, 'removed!']);\n",
       "            Plotly.purge(gd);\n",
       "            observer.disconnect();\n",
       "        }}\n",
       "}});\n",
       "\n",
       "// Listen for the removal of the full notebook cells\n",
       "var notebookContainer = gd.closest('#notebook-container');\n",
       "if (notebookContainer) {{\n",
       "    x.observe(notebookContainer, {childList: true});\n",
       "}}\n",
       "\n",
       "// Listen for the clearing of the current output cell\n",
       "var outputEl = gd.closest('.output');\n",
       "if (outputEl) {{\n",
       "    x.observe(outputEl, {childList: true});\n",
       "}}\n",
       "\n",
       "                        })                };                });            </script>        </div>"
      ]
     },
     "metadata": {},
     "output_type": "display_data"
    }
   ],
   "source": [
    "fig3 = px.histogram(ages3, x = \"observation\", nbins=10, marginal = \"box\")\n",
    "fig3.update_traces(marker_line_color='black', marker_line_width=1.5, opacity=0.7)\n",
    "fig3"
   ]
  },
  {
   "cell_type": "code",
   "execution_count": 111,
   "metadata": {},
   "outputs": [
    {
     "data": {
      "image/png": "[encoded data removed]",
      "text/plain": [
       "<Figure size 800x600 with 1 Axes>"
      ]
     },
     "metadata": {},
     "output_type": "display_data"
    }
   ],
   "source": [
    "fig, ax = plt.subplots(figsize=(8, 6))\n",
    "\n",
    "sns.histplot(ages3[\"observation\"], bins=10, kde=True, ax=ax)\n",
    "\n",
    "ax.set_xlabel('Observation')\n",
    "ax.set_ylabel('Frecuencia')\n",
    "\n",
    "for patch in ax.patches:\n",
    "    patch.set_edgecolor('black')\n",
    "    patch.set_linewidth(1.5)\n",
    "    patch.set_alpha(0.7)\n",
    "plt.show()"
   ]
  },
  {
   "cell_type": "markdown",
   "metadata": {},
   "source": [
    "#### 2.- Calculate the mean and standard deviation. Compare the results with the plot in step 1. What is happening?"
   ]
  },
  {
   "cell_type": "code",
   "execution_count": 59,
   "metadata": {},
   "outputs": [
    {
     "data": {
      "text/plain": [
       "41.989"
      ]
     },
     "execution_count": 59,
     "metadata": {},
     "output_type": "execute_result"
    }
   ],
   "source": [
    "np.mean(ages3[\"observation\"])"
   ]
  },
  {
   "cell_type": "code",
   "execution_count": 60,
   "metadata": {},
   "outputs": [
    {
     "data": {
      "text/plain": [
       "16.136631587788084"
      ]
     },
     "execution_count": 60,
     "metadata": {},
     "output_type": "execute_result"
    }
   ],
   "source": [
    "np.std(ages3[\"observation\"])"
   ]
  },
  {
   "cell_type": "code",
   "execution_count": 61,
   "metadata": {},
   "outputs": [
    {
     "data": {
      "text/plain": [
       "'\\nBoth the mean and the standard\\ndeviation are higher than in ages1.\\nThe observated ages start and end like ages1, but\\nthere are a lot more of observation of old ages than in\\nthe first dataframes. That is what makes the mean higher. \\n\\n'"
      ]
     },
     "execution_count": 61,
     "metadata": {},
     "output_type": "execute_result"
    }
   ],
   "source": [
    "\"\"\"\n",
    "Both the mean and the standard\n",
    "deviation are higher than in ages1.\n",
    "The observated ages start and end like ages1, but\n",
    "there are a lot more of observation of old ages than in\n",
    "the first dataframes. That is what makes the mean higher. \n",
    "\n",
    "\"\"\""
   ]
  },
  {
   "cell_type": "markdown",
   "metadata": {},
   "source": [
    "#### 3.- Calculate the four quartiles. Use the results to explain your reasoning for question in step 2. How much of a difference is there between the median and the mean?"
   ]
  },
  {
   "cell_type": "code",
   "execution_count": 62,
   "metadata": {},
   "outputs": [],
   "source": [
    "def quartiles(l):\n",
    "    sorted_l = sorted(l)\n",
    "    q2 = median(sorted_l)\n",
    "    \n",
    "    lower_half = sorted_l[:len(sorted_l) // 2]\n",
    "    upper_half = sorted_l[len(sorted_l)//2+1:]\n",
    "    \n",
    "    q1 = median(lower_half)\n",
    "    q2 = median(sorted_l)\n",
    "    q3 = median(upper_half)\n",
    "    \n",
    "    return q1, q2, q3"
   ]
  },
  {
   "cell_type": "code",
   "execution_count": 63,
   "metadata": {},
   "outputs": [
    {
     "data": {
      "text/plain": [
       "(30.0, 40.0, 53.0)"
      ]
     },
     "execution_count": 63,
     "metadata": {},
     "output_type": "execute_result"
    }
   ],
   "source": [
    "quartiles_ages3 = quartiles(list(ages3[\"observation\"]))\n",
    "quartiles_ages3"
   ]
  },
  {
   "cell_type": "code",
   "execution_count": 64,
   "metadata": {},
   "outputs": [
    {
     "data": {
      "text/plain": [
       "(28.0, 37.0, 45.0)"
      ]
     },
     "execution_count": 64,
     "metadata": {},
     "output_type": "execute_result"
    }
   ],
   "source": [
    "quartiles_ages1 = quartiles(list(ages[\"observation\"]))\n",
    "quartiles_ages1"
   ]
  },
  {
   "cell_type": "code",
   "execution_count": 65,
   "metadata": {},
   "outputs": [
    {
     "data": {
      "text/plain": [
       "{'whiskers': [<matplotlib.lines.Line2D at 0x11f53fd90>,\n",
       "  <matplotlib.lines.Line2D at 0x11f54ca90>,\n",
       "  <matplotlib.lines.Line2D at 0x11f55cdd0>,\n",
       "  <matplotlib.lines.Line2D at 0x11f55d950>],\n",
       " 'caps': [<matplotlib.lines.Line2D at 0x11f54d8d0>,\n",
       "  <matplotlib.lines.Line2D at 0x11f54e350>,\n",
       "  <matplotlib.lines.Line2D at 0x11f55e410>,\n",
       "  <matplotlib.lines.Line2D at 0x11f55ef50>],\n",
       " 'boxes': [<matplotlib.lines.Line2D at 0x11f53f190>,\n",
       "  <matplotlib.lines.Line2D at 0x11f55c2d0>],\n",
       " 'medians': [<matplotlib.lines.Line2D at 0x11f54ecd0>,\n",
       "  <matplotlib.lines.Line2D at 0x11f55fa90>],\n",
       " 'fliers': [<matplotlib.lines.Line2D at 0x11f54f550>,\n",
       "  <matplotlib.lines.Line2D at 0x11f560510>],\n",
       " 'means': []}"
      ]
     },
     "execution_count": 65,
     "metadata": {},
     "output_type": "execute_result"
    },
    {
     "data": {
      "image/png": "[encoded data removed]",
      "text/plain": [
       "<Figure size 640x480 with 1 Axes>"
      ]
     },
     "metadata": {},
     "output_type": "display_data"
    }
   ],
   "source": [
    "plt.boxplot([ages['observation'], ages3['observation']], labels=['Ages', 'Ages3'])\n"
   ]
  },
  {
   "cell_type": "code",
   "execution_count": 66,
   "metadata": {},
   "outputs": [
    {
     "data": {
      "text/plain": [
       "'\\nThe median is higher on the last dataframe than in the\\nfirst one. Also, there is much more data from ages 45-80 \\nin the last one. \\nIn the last dataframe, there are much more ages higher than the median\\nthan in the first dataframe. \\n\\n'"
      ]
     },
     "execution_count": 66,
     "metadata": {},
     "output_type": "execute_result"
    }
   ],
   "source": [
    "\"\"\"\n",
    "The median is higher on the last dataframe than in the\n",
    "first one. Also, there is much more data from ages 45-80 \n",
    "in the last one. \n",
    "In the last dataframe, there are much more ages higher than the median\n",
    "than in the first dataframe. \n",
    "\n",
    "\"\"\""
   ]
  },
  {
   "cell_type": "markdown",
   "metadata": {},
   "source": [
    "#### 4.- Calculate other percentiles that might be useful to give more arguments to your reasoning."
   ]
  },
  {
   "cell_type": "code",
   "execution_count": 67,
   "metadata": {},
   "outputs": [
    {
     "data": {
      "text/plain": [
       "array([ 7.99, 10.98, 12.  , 13.96, 14.95, 16.  , 17.  , 18.  , 19.  ])"
      ]
     },
     "execution_count": 67,
     "metadata": {},
     "output_type": "execute_result"
    }
   ],
   "source": [
    "deciles1 = np.percentile(ages, range(1,10))\n",
    "deciles1"
   ]
  },
  {
   "cell_type": "code",
   "execution_count": 68,
   "metadata": {},
   "outputs": [
    {
     "data": {
      "text/plain": [
       "array([10.  , 14.  , 15.  , 16.  , 17.  , 18.94, 19.  , 20.  , 21.  ])"
      ]
     },
     "execution_count": 68,
     "metadata": {},
     "output_type": "execute_result"
    }
   ],
   "source": [
    "deciles3 = np.percentile(ages3, range(1,10))\n",
    "deciles3"
   ]
  },
  {
   "cell_type": "code",
   "execution_count": 69,
   "metadata": {},
   "outputs": [
    {
     "data": {
      "text/plain": [
       "'\\nIn general, percentiles are higher on the third dataframe\\nthan in the first one.\\n'"
      ]
     },
     "execution_count": 69,
     "metadata": {},
     "output_type": "execute_result"
    }
   ],
   "source": [
    "\"\"\"\n",
    "In general, percentiles are higher on the third dataframe\n",
    "than in the first one.\n",
    "\"\"\""
   ]
  },
  {
   "cell_type": "markdown",
   "metadata": {},
   "source": [
    "## Bonus challenge\n",
    "Compare the information about the three neighbourhoods. Prepare a report about the three of them. Remember to find out which are their similarities and their differences backing your arguments in basic statistics."
   ]
  },
  {
   "cell_type": "code",
   "execution_count": 70,
   "metadata": {},
   "outputs": [
    {
     "data": {
      "text/html": [
       "<div>\n",
       "<style scoped>\n",
       "    .dataframe tbody tr th:only-of-type {\n",
       "        vertical-align: middle;\n",
       "    }\n",
       "\n",
       "    .dataframe tbody tr th {\n",
       "        vertical-align: top;\n",
       "    }\n",
       "\n",
       "    .dataframe thead th {\n",
       "        text-align: right;\n",
       "    }\n",
       "</style>\n",
       "<table border=\"1\" class=\"dataframe\">\n",
       "  <thead>\n",
       "    <tr style=\"text-align: right;\">\n",
       "      <th></th>\n",
       "      <th>observation</th>\n",
       "      <th>observation2</th>\n",
       "      <th>observation3</th>\n",
       "    </tr>\n",
       "  </thead>\n",
       "  <tbody>\n",
       "    <tr>\n",
       "      <th>0</th>\n",
       "      <td>68.0</td>\n",
       "      <td>25.0</td>\n",
       "      <td>21.0</td>\n",
       "    </tr>\n",
       "    <tr>\n",
       "      <th>1</th>\n",
       "      <td>12.0</td>\n",
       "      <td>31.0</td>\n",
       "      <td>21.0</td>\n",
       "    </tr>\n",
       "    <tr>\n",
       "      <th>2</th>\n",
       "      <td>45.0</td>\n",
       "      <td>29.0</td>\n",
       "      <td>24.0</td>\n",
       "    </tr>\n",
       "    <tr>\n",
       "      <th>3</th>\n",
       "      <td>38.0</td>\n",
       "      <td>31.0</td>\n",
       "      <td>31.0</td>\n",
       "    </tr>\n",
       "    <tr>\n",
       "      <th>4</th>\n",
       "      <td>49.0</td>\n",
       "      <td>29.0</td>\n",
       "      <td>54.0</td>\n",
       "    </tr>\n",
       "    <tr>\n",
       "      <th>...</th>\n",
       "      <td>...</td>\n",
       "      <td>...</td>\n",
       "      <td>...</td>\n",
       "    </tr>\n",
       "    <tr>\n",
       "      <th>995</th>\n",
       "      <td>27.0</td>\n",
       "      <td>26.0</td>\n",
       "      <td>16.0</td>\n",
       "    </tr>\n",
       "    <tr>\n",
       "      <th>996</th>\n",
       "      <td>47.0</td>\n",
       "      <td>22.0</td>\n",
       "      <td>55.0</td>\n",
       "    </tr>\n",
       "    <tr>\n",
       "      <th>997</th>\n",
       "      <td>53.0</td>\n",
       "      <td>21.0</td>\n",
       "      <td>30.0</td>\n",
       "    </tr>\n",
       "    <tr>\n",
       "      <th>998</th>\n",
       "      <td>33.0</td>\n",
       "      <td>19.0</td>\n",
       "      <td>35.0</td>\n",
       "    </tr>\n",
       "    <tr>\n",
       "      <th>999</th>\n",
       "      <td>31.0</td>\n",
       "      <td>28.0</td>\n",
       "      <td>43.0</td>\n",
       "    </tr>\n",
       "  </tbody>\n",
       "</table>\n",
       "<p>1000 rows × 3 columns</p>\n",
       "</div>"
      ],
      "text/plain": [
       "     observation  observation2  observation3\n",
       "0           68.0          25.0          21.0\n",
       "1           12.0          31.0          21.0\n",
       "2           45.0          29.0          24.0\n",
       "3           38.0          31.0          31.0\n",
       "4           49.0          29.0          54.0\n",
       "..           ...           ...           ...\n",
       "995         27.0          26.0          16.0\n",
       "996         47.0          22.0          55.0\n",
       "997         53.0          21.0          30.0\n",
       "998         33.0          19.0          35.0\n",
       "999         31.0          28.0          43.0\n",
       "\n",
       "[1000 rows x 3 columns]"
      ]
     },
     "execution_count": 70,
     "metadata": {},
     "output_type": "execute_result"
    }
   ],
   "source": [
    "ages_total = ages\n",
    "ages_total[\"observation2\"] = ages2[\"observation\"]\n",
    "ages_total[\"observation3\"] = ages3[\"observation\"]\n",
    "ages_total"
   ]
  },
  {
   "cell_type": "code",
   "execution_count": 112,
   "metadata": {},
   "outputs": [
    {
     "data": {
      "text/plain": [
       "<Axes: ylabel='Density'>"
      ]
     },
     "execution_count": 112,
     "metadata": {},
     "output_type": "execute_result"
    },
    {
     "data": {
      "image/png": "[encoded data removed]",
      "text/plain": [
       "<Figure size 640x480 with 1 Axes>"
      ]
     },
     "metadata": {},
     "output_type": "display_data"
    }
   ],
   "source": [
    "sns.kdeplot(data = ages_total, multiple=\"stack\")"
   ]
  },
  {
   "cell_type": "code",
   "execution_count": 90,
   "metadata": {
    "scrolled": false
   },
   "outputs": [
    {
     "data": {
      "application/vnd.plotly.v1+json": {
       "config": {
        "plotlyServerURL": "https://plot.ly"
       },
       "data": [
        {
         "alignmentgroup": "True",
         "bingroup": "x",
         "hovertemplate": "observation=%{x}<br>count=%{y}<extra></extra>",
         "legendgroup": "",
         "marker": {
          "color": "#636efa",
          "line": {
           "color": "black",
           "width": 1.5
          },
          "pattern": {
           "shape": ""
          }
         },
         "name": "",
         "nbinsx": 20,
         "offsetgroup": "",
         "opacity": 0.7,
         "orientation": "v",
         "showlegend": false,
         "type": "histogram",
         "x": [
          68,
          12,
          45,
          38,
          49,
          27,
          39,
          12,
          42,
          33,
          30,
          25,
          30,
          44,
          53,
          46,
          50,
          22,
          6,
          29,
          29,
          27,
          35,
          38,
          28,
          26,
          60,
          41,
          38,
          41,
          44,
          52,
          46,
          39,
          44,
          46,
          32,
          23,
          15,
          40,
          42,
          32,
          45,
          29,
          22,
          41,
          39,
          63,
          39,
          31,
          34,
          28,
          45,
          33,
          32,
          61,
          64,
          37,
          56,
          44,
          33,
          38,
          40,
          38,
          56,
          14,
          52,
          34,
          14,
          34,
          31,
          46,
          50,
          37,
          13,
          12,
          25,
          28,
          51,
          13,
          36,
          52,
          13,
          30,
          36,
          35,
          26,
          34,
          51,
          52,
          35,
          44,
          23,
          29,
          25,
          30,
          27,
          42,
          18,
          39,
          42,
          48,
          30,
          40,
          34,
          28,
          48,
          48,
          42,
          53,
          34,
          37,
          32,
          29,
          18,
          35,
          58,
          37,
          32,
          49,
          20,
          42,
          29,
          22,
          39,
          41,
          54,
          20,
          19,
          39,
          39,
          39,
          58,
          23,
          45,
          13,
          44,
          39,
          30,
          37,
          62,
          45,
          33,
          55,
          33,
          39,
          34,
          32,
          25,
          21,
          39,
          43,
          18,
          40,
          50,
          35,
          46,
          36,
          30,
          44,
          34,
          58,
          14,
          27,
          62,
          42,
          27,
          50,
          29,
          41,
          30,
          37,
          43,
          43,
          49,
          31,
          17,
          42,
          48,
          29,
          38,
          31,
          20,
          50,
          26,
          45,
          56,
          35,
          48,
          35,
          55,
          44,
          23,
          39,
          39,
          45,
          21,
          43,
          38,
          40,
          35,
          25,
          7,
          26,
          40,
          52,
          46,
          47,
          38,
          1,
          16,
          54,
          45,
          35,
          54,
          41,
          12,
          37,
          50,
          37,
          24,
          47,
          39,
          30,
          41,
          31,
          23,
          42,
          24,
          23,
          31,
          45,
          53,
          21,
          59,
          63,
          41,
          53,
          59,
          48,
          57,
          39,
          32,
          36,
          21,
          40,
          51,
          44,
          59,
          25,
          52,
          42,
          8,
          34,
          43,
          46,
          36,
          42,
          46,
          44,
          29,
          17,
          56,
          41,
          30,
          67,
          41,
          34,
          42,
          22,
          19,
          57,
          16,
          24,
          26,
          32,
          35,
          36,
          26,
          21,
          20,
          28,
          19,
          56,
          41,
          38,
          42,
          31,
          30,
          41,
          31,
          33,
          42,
          45,
          62,
          29,
          41,
          19,
          42,
          42,
          54,
          2,
          40,
          28,
          42,
          28,
          26,
          43,
          32,
          54,
          34,
          25,
          32,
          14,
          66,
          24,
          43,
          33,
          29,
          8,
          43,
          30,
          34,
          37,
          40,
          42,
          48,
          19,
          35,
          41,
          26,
          36,
          23,
          46,
          35,
          28,
          39,
          21,
          4,
          73,
          43,
          48,
          20,
          49,
          28,
          26,
          34,
          20,
          39,
          46,
          37,
          20,
          29,
          63,
          36,
          49,
          36,
          36,
          34,
          46,
          44,
          15,
          38,
          82,
          48,
          29,
          49,
          57,
          16,
          12,
          36,
          59,
          49,
          17,
          25,
          33,
          37,
          40,
          43,
          57,
          43,
          38,
          35,
          30,
          14,
          48,
          24,
          32,
          47,
          29,
          50,
          43,
          55,
          36,
          49,
          46,
          45,
          52,
          36,
          30,
          33,
          34,
          18,
          32,
          40,
          37,
          36,
          63,
          44,
          57,
          35,
          28,
          57,
          15,
          40,
          47,
          17,
          53,
          39,
          29,
          47,
          37,
          30,
          19,
          66,
          56,
          8,
          22,
          43,
          39,
          21,
          41,
          54,
          51,
          37,
          23,
          56,
          70,
          39,
          14,
          60,
          26,
          30,
          47,
          52,
          30,
          54,
          5,
          22,
          23,
          34,
          2,
          34,
          45,
          31,
          42,
          47,
          35,
          36,
          39,
          41,
          60,
          42,
          26,
          45,
          25,
          32,
          47,
          36,
          37,
          40,
          57,
          40,
          59,
          31,
          32,
          63,
          38,
          41,
          43,
          17,
          34,
          28,
          43,
          51,
          8,
          30,
          43,
          24,
          1,
          16,
          43,
          27,
          71,
          50,
          50,
          9,
          30,
          15,
          32,
          50,
          39,
          24,
          55,
          38,
          17,
          36,
          43,
          40,
          42,
          37,
          55,
          31,
          31,
          31,
          21,
          43,
          45,
          36,
          23,
          32,
          14,
          16,
          69,
          11,
          33,
          36,
          39,
          19,
          31,
          26,
          52,
          41,
          30,
          31,
          32,
          35,
          43,
          52,
          41,
          17,
          38,
          28,
          54,
          42,
          24,
          39,
          44,
          31,
          48,
          6,
          50,
          27,
          45,
          28,
          29,
          43,
          44,
          14,
          28,
          15,
          37,
          61,
          36,
          35,
          32,
          34,
          26,
          37,
          41,
          59,
          45,
          46,
          32,
          30,
          33,
          27,
          10,
          42,
          30,
          54,
          36,
          44,
          45,
          54,
          37,
          40,
          23,
          66,
          32,
          39,
          34,
          46,
          39,
          38,
          38,
          50,
          55,
          30,
          47,
          41,
          56,
          39,
          41,
          27,
          23,
          30,
          17,
          45,
          29,
          42,
          26,
          22,
          39,
          23,
          48,
          51,
          39,
          52,
          39,
          41,
          56,
          38,
          44,
          33,
          39,
          44,
          29,
          49,
          13,
          53,
          58,
          27,
          23,
          27,
          45,
          12,
          30,
          40,
          30,
          49,
          40,
          32,
          53,
          37,
          31,
          46,
          31,
          22,
          19,
          12,
          49,
          47,
          42,
          38,
          58,
          43,
          38,
          42,
          30,
          45,
          26,
          38,
          26,
          46,
          20,
          29,
          39,
          37,
          42,
          43,
          48,
          55,
          22,
          26,
          30,
          55,
          35,
          51,
          46,
          38,
          65,
          55,
          41,
          30,
          37,
          27,
          36,
          42,
          38,
          20,
          47,
          31,
          34,
          35,
          36,
          5,
          40,
          41,
          27,
          47,
          63,
          35,
          32,
          27,
          50,
          39,
          38,
          36,
          17,
          27,
          45,
          30,
          28,
          43,
          33,
          45,
          20,
          29,
          48,
          20,
          44,
          42,
          60,
          25,
          48,
          41,
          39,
          11,
          35,
          43,
          51,
          24,
          33,
          22,
          21,
          45,
          48,
          56,
          25,
          33,
          36,
          53,
          51,
          42,
          15,
          32,
          22,
          59,
          54,
          32,
          39,
          47,
          17,
          28,
          29,
          56,
          34,
          28,
          44,
          67,
          26,
          25,
          23,
          56,
          52,
          25,
          49,
          26,
          39,
          63,
          48,
          48,
          30,
          37,
          46,
          14,
          15,
          44,
          39,
          40,
          22,
          30,
          39,
          43,
          46,
          35,
          16,
          44,
          18,
          26,
          27,
          37,
          20,
          35,
          50,
          55,
          45,
          41,
          54,
          56,
          46,
          56,
          24,
          33,
          12,
          31,
          12,
          25,
          49,
          52,
          55,
          27,
          49,
          44,
          49,
          40,
          34,
          16,
          19,
          36,
          32,
          67,
          52,
          38,
          33,
          68,
          14,
          43,
          10,
          11,
          39,
          13,
          54,
          41,
          40,
          18,
          16,
          45,
          35,
          39,
          34,
          46,
          53,
          23,
          55,
          37,
          29,
          48,
          35,
          45,
          68,
          29,
          40,
          33,
          64,
          45,
          10,
          47,
          23,
          39,
          20,
          41,
          36,
          41,
          25,
          46,
          49,
          28,
          40,
          58,
          46,
          37,
          41,
          38,
          35,
          31,
          30,
          35,
          34,
          15,
          58,
          41,
          59,
          32,
          12,
          27,
          41,
          37,
          47,
          49,
          47,
          53,
          35,
          38,
          24,
          50,
          27,
          27,
          26,
          24,
          30,
          43,
          35,
          22,
          22,
          32,
          37,
          55,
          27,
          36,
          50,
          21,
          45,
          27,
          53,
          41,
          28,
          45,
          39,
          43,
          29,
          18,
          34,
          19,
          26,
          32,
          65,
          38,
          24,
          27,
          24,
          19,
          49,
          25,
          41,
          22,
          31,
          24,
          21,
          8,
          56,
          42,
          43,
          62,
          22,
          67,
          38,
          43,
          41,
          34,
          38,
          21,
          35,
          28,
          27,
          21,
          40,
          44,
          25,
          40,
          29,
          39,
          25,
          33,
          37,
          35,
          26,
          34,
          43,
          39,
          32,
          33,
          24,
          24,
          25,
          36,
          49,
          31,
          12,
          9,
          35,
          21,
          36,
          37,
          34,
          24,
          35,
          38,
          33,
          42,
          32,
          29,
          36,
          40,
          27,
          47,
          53,
          33,
          31
         ],
         "xaxis": "x",
         "yaxis": "y"
        },
        {
         "alignmentgroup": "True",
         "bingroup": "x",
         "hovertemplate": "observation2=%{x}<br>count=%{y}<extra></extra>",
         "legendgroup": "",
         "marker": {
          "color": "#636efa",
          "line": {
           "color": "black",
           "width": 1.5
          },
          "pattern": {
           "shape": ""
          }
         },
         "name": "",
         "nbinsx": 20,
         "offsetgroup": "",
         "opacity": 0.7,
         "orientation": "v",
         "showlegend": false,
         "type": "histogram",
         "x": [
          25,
          31,
          29,
          31,
          29,
          29,
          28,
          30,
          24,
          26,
          30,
          29,
          24,
          26,
          30,
          25,
          25,
          30,
          21,
          29,
          25,
          28,
          27,
          27,
          31,
          27,
          26,
          24,
          29,
          23,
          31,
          26,
          28,
          22,
          28,
          31,
          29,
          22,
          28,
          25,
          26,
          32,
          26,
          28,
          29,
          31,
          27,
          25,
          24,
          30,
          27,
          22,
          25,
          28,
          25,
          31,
          27,
          30,
          28,
          27,
          29,
          26,
          28,
          26,
          22,
          30,
          27,
          31,
          27,
          24,
          27,
          28,
          23,
          20,
          23,
          25,
          29,
          33,
          27,
          25,
          25,
          26,
          31,
          28,
          29,
          23,
          30,
          26,
          27,
          24,
          29,
          26,
          28,
          24,
          25,
          21,
          19,
          26,
          28,
          28,
          24,
          28,
          30,
          27,
          29,
          26,
          28,
          31,
          32,
          25,
          30,
          30,
          24,
          22,
          29,
          25,
          21,
          30,
          30,
          29,
          29,
          22,
          33,
          31,
          26,
          25,
          28,
          31,
          28,
          28,
          31,
          23,
          33,
          25,
          33,
          23,
          30,
          27,
          24,
          29,
          24,
          28,
          23,
          24,
          32,
          29,
          31,
          34,
          31,
          27,
          26,
          28,
          26,
          28,
          26,
          33,
          29,
          22,
          26,
          25,
          28,
          29,
          28,
          28,
          31,
          25,
          30,
          26,
          26,
          30,
          27,
          23,
          29,
          30,
          25,
          32,
          27,
          29,
          28,
          27,
          27,
          23,
          23,
          27,
          25,
          27,
          35,
          30,
          27,
          27,
          28,
          30,
          26,
          32,
          21,
          29,
          28,
          31,
          31,
          28,
          27,
          31,
          26,
          24,
          28,
          28,
          26,
          26,
          24,
          28,
          25,
          29,
          26,
          24,
          30,
          25,
          29,
          30,
          29,
          26,
          28,
          25,
          29,
          29,
          31,
          26,
          23,
          25,
          24,
          27,
          23,
          28,
          31,
          26,
          25,
          31,
          29,
          24,
          28,
          26,
          27,
          25,
          27,
          31,
          29,
          29,
          29,
          32,
          24,
          30,
          28,
          27,
          22,
          29,
          21,
          25,
          27,
          24,
          23,
          33,
          23,
          30,
          25,
          35,
          26,
          23,
          27,
          30,
          27,
          28,
          24,
          27,
          20,
          29,
          31,
          23,
          29,
          29,
          31,
          25,
          24,
          23,
          23,
          20,
          28,
          28,
          28,
          27,
          36,
          20,
          31,
          28,
          29,
          30,
          33,
          28,
          25,
          29,
          28,
          26,
          23,
          26,
          34,
          29,
          30,
          28,
          29,
          27,
          26,
          30,
          33,
          25,
          25,
          24,
          25,
          29,
          34,
          24,
          34,
          27,
          27,
          28,
          30,
          27,
          26,
          21,
          21,
          19,
          29,
          28,
          32,
          29,
          28,
          27,
          24,
          28,
          30,
          26,
          29,
          24,
          27,
          32,
          29,
          31,
          31,
          24,
          30,
          26,
          24,
          27,
          23,
          25,
          28,
          28,
          31,
          24,
          21,
          28,
          23,
          28,
          25,
          26,
          24,
          28,
          23,
          24,
          24,
          31,
          30,
          26,
          28,
          28,
          25,
          28,
          25,
          28,
          29,
          27,
          27,
          33,
          25,
          29,
          25,
          25,
          25,
          32,
          26,
          28,
          32,
          29,
          25,
          30,
          28,
          26,
          27,
          20,
          26,
          30,
          31,
          29,
          23,
          27,
          29,
          28,
          27,
          23,
          26,
          29,
          31,
          27,
          26,
          33,
          25,
          26,
          26,
          30,
          30,
          26,
          28,
          26,
          29,
          28,
          31,
          29,
          31,
          23,
          23,
          28,
          27,
          26,
          29,
          26,
          25,
          30,
          27,
          25,
          27,
          24,
          28,
          29,
          21,
          24,
          27,
          26,
          28,
          30,
          22,
          25,
          22,
          25,
          31,
          29,
          22,
          20,
          30,
          28,
          30,
          29,
          32,
          27,
          31,
          26,
          30,
          23,
          25,
          28,
          26,
          29,
          34,
          26,
          27,
          33,
          27,
          25,
          30,
          30,
          26,
          25,
          26,
          30,
          21,
          25,
          27,
          29,
          24,
          22,
          30,
          23,
          33,
          28,
          29,
          22,
          29,
          28,
          27,
          26,
          25,
          29,
          27,
          32,
          30,
          24,
          24,
          26,
          30,
          26,
          24,
          28,
          30,
          20,
          20,
          28,
          29,
          26,
          24,
          25,
          29,
          26,
          30,
          25,
          29,
          27,
          28,
          28,
          25,
          36,
          25,
          30,
          26,
          20,
          26,
          22,
          23,
          27,
          25,
          24,
          28,
          27,
          25,
          28,
          26,
          24,
          29,
          22,
          29,
          30,
          25,
          26,
          31,
          22,
          29,
          32,
          27,
          28,
          30,
          29,
          27,
          27,
          26,
          27,
          32,
          30,
          29,
          28,
          29,
          28,
          31,
          33,
          22,
          30,
          27,
          30,
          25,
          29,
          30,
          28,
          28,
          25,
          26,
          26,
          24,
          25,
          26,
          23,
          32,
          31,
          22,
          28,
          22,
          29,
          27,
          29,
          27,
          24,
          27,
          32,
          26,
          24,
          24,
          26,
          33,
          23,
          23,
          27,
          30,
          31,
          27,
          24,
          26,
          31,
          27,
          26,
          30,
          27,
          28,
          31,
          35,
          30,
          30,
          28,
          26,
          22,
          32,
          28,
          28,
          26,
          22,
          27,
          24,
          27,
          30,
          32,
          30,
          28,
          27,
          28,
          28,
          20,
          32,
          26,
          31,
          27,
          25,
          26,
          24,
          29,
          31,
          29,
          27,
          26,
          23,
          27,
          25,
          28,
          28,
          24,
          29,
          30,
          26,
          29,
          22,
          28,
          28,
          28,
          25,
          28,
          25,
          29,
          31,
          33,
          28,
          26,
          28,
          31,
          29,
          25,
          27,
          28,
          30,
          26,
          21,
          29,
          22,
          31,
          30,
          33,
          29,
          21,
          26,
          30,
          32,
          25,
          26,
          31,
          24,
          24,
          27,
          29,
          28,
          28,
          23,
          30,
          29,
          25,
          24,
          30,
          22,
          29,
          23,
          26,
          30,
          27,
          24,
          33,
          31,
          25,
          24,
          30,
          23,
          27,
          26,
          26,
          25,
          30,
          28,
          33,
          23,
          28,
          25,
          33,
          28,
          31,
          26,
          22,
          30,
          28,
          28,
          24,
          29,
          28,
          28,
          30,
          21,
          32,
          30,
          27,
          24,
          26,
          25,
          25,
          31,
          29,
          27,
          23,
          29,
          29,
          28,
          26,
          24,
          29,
          32,
          25,
          25,
          26,
          29,
          27,
          27,
          28,
          26,
          29,
          25,
          29,
          23,
          27,
          31,
          27,
          28,
          28,
          25,
          21,
          23,
          29,
          24,
          29,
          30,
          28,
          30,
          29,
          25,
          25,
          28,
          26,
          27,
          27,
          28,
          25,
          32,
          26,
          29,
          28,
          24,
          28,
          27,
          24,
          31,
          27,
          29,
          26,
          33,
          26,
          30,
          32,
          28,
          25,
          25,
          27,
          28,
          30,
          25,
          33,
          21,
          31,
          30,
          26,
          28,
          29,
          27,
          24,
          27,
          27,
          27,
          26,
          27,
          32,
          25,
          30,
          22,
          25,
          34,
          26,
          27,
          33,
          26,
          27,
          28,
          24,
          26,
          25,
          26,
          25,
          24,
          29,
          27,
          25,
          26,
          22,
          24,
          22,
          26,
          32,
          29,
          27,
          31,
          26,
          27,
          34,
          32,
          26,
          30,
          24,
          27,
          24,
          30,
          31,
          28,
          27,
          27,
          29,
          30,
          28,
          29,
          24,
          24,
          29,
          30,
          31,
          28,
          27,
          29,
          28,
          30,
          26,
          20,
          28,
          24,
          28,
          26,
          20,
          28,
          32,
          24,
          27,
          28,
          24,
          26,
          29,
          26,
          28,
          24,
          29,
          29,
          30,
          26,
          24,
          27,
          24,
          29,
          26,
          22,
          26,
          31,
          27,
          24,
          30,
          27,
          24,
          27,
          28,
          31,
          28,
          27,
          22,
          27,
          32,
          26,
          30,
          25,
          32,
          25,
          26,
          28,
          26,
          27,
          26,
          29,
          29,
          24,
          22,
          22,
          26,
          27,
          32,
          29,
          27,
          27,
          25,
          30,
          30,
          27,
          28,
          27,
          26,
          23,
          22,
          31,
          28,
          25,
          28,
          27,
          29,
          28,
          24,
          31,
          28,
          28,
          24,
          29,
          26,
          30,
          27,
          20,
          25,
          22,
          28,
          25,
          29,
          21,
          27,
          27,
          25,
          27,
          25,
          26,
          25,
          27,
          26,
          22,
          21,
          19,
          28
         ],
         "xaxis": "x2",
         "yaxis": "y2"
        },
        {
         "alignmentgroup": "True",
         "bingroup": "x",
         "hovertemplate": "observation3=%{x}<br>count=%{y}<extra></extra>",
         "legendgroup": "",
         "marker": {
          "color": "#636efa",
          "line": {
           "color": "black",
           "width": 1.5
          },
          "pattern": {
           "shape": ""
          }
         },
         "name": "",
         "nbinsx": 20,
         "offsetgroup": "",
         "opacity": 0.7,
         "orientation": "v",
         "showlegend": false,
         "type": "histogram",
         "x": [
          21,
          21,
          24,
          31,
          54,
          52,
          37,
          69,
          36,
          30,
          64,
          30,
          76,
          73,
          42,
          52,
          67,
          28,
          24,
          50,
          70,
          57,
          20,
          27,
          51,
          67,
          56,
          30,
          52,
          44,
          49,
          31,
          64,
          65,
          32,
          37,
          37,
          18,
          65,
          42,
          45,
          40,
          66,
          72,
          43,
          64,
          43,
          54,
          48,
          30,
          35,
          41,
          17,
          44,
          32,
          37,
          45,
          41,
          23,
          45,
          69,
          36,
          47,
          31,
          33,
          51,
          27,
          20,
          15,
          26,
          28,
          67,
          36,
          54,
          17,
          51,
          75,
          41,
          29,
          55,
          37,
          63,
          42,
          49,
          32,
          39,
          46,
          50,
          32,
          43,
          45,
          26,
          22,
          15,
          26,
          24,
          71,
          55,
          68,
          35,
          40,
          55,
          21,
          60,
          41,
          22,
          34,
          30,
          56,
          61,
          51,
          33,
          47,
          48,
          26,
          30,
          56,
          42,
          66,
          50,
          57,
          12,
          20,
          69,
          47,
          38,
          68,
          41,
          33,
          29,
          63,
          38,
          55,
          39,
          44,
          74,
          40,
          35,
          49,
          37,
          34,
          25,
          15,
          70,
          20,
          35,
          23,
          54,
          29,
          27,
          37,
          27,
          32,
          34,
          71,
          38,
          32,
          65,
          50,
          23,
          72,
          48,
          32,
          52,
          43,
          34,
          26,
          42,
          53,
          54,
          48,
          23,
          24,
          37,
          64,
          70,
          21,
          50,
          47,
          67,
          44,
          63,
          44,
          12,
          62,
          48,
          62,
          70,
          39,
          25,
          41,
          59,
          32,
          43,
          35,
          63,
          70,
          36,
          61,
          38,
          44,
          48,
          30,
          31,
          29,
          31,
          35,
          50,
          19,
          45,
          68,
          18,
          47,
          32,
          36,
          36,
          27,
          37,
          77,
          64,
          35,
          48,
          29,
          37,
          48,
          39,
          46,
          72,
          32,
          49,
          39,
          20,
          33,
          41,
          39,
          52,
          41,
          35,
          69,
          25,
          50,
          14,
          48,
          30,
          39,
          69,
          53,
          43,
          37,
          37,
          39,
          32,
          24,
          19,
          50,
          17,
          53,
          36,
          16,
          29,
          64,
          36,
          32,
          1,
          43,
          26,
          32,
          40,
          72,
          35,
          33,
          24,
          32,
          38,
          67,
          29,
          52,
          55,
          67,
          22,
          18,
          41,
          34,
          65,
          17,
          50,
          16,
          45,
          65,
          46,
          45,
          31,
          52,
          71,
          53,
          52,
          11,
          23,
          71,
          52,
          31,
          27,
          34,
          51,
          74,
          19,
          16,
          25,
          36,
          13,
          59,
          50,
          40,
          45,
          50,
          43,
          32,
          36,
          40,
          42,
          27,
          33,
          29,
          75,
          67,
          42,
          19,
          47,
          16,
          46,
          45,
          35,
          28,
          36,
          37,
          59,
          40,
          45,
          30,
          35,
          40,
          44,
          55,
          28,
          9,
          28,
          65,
          31,
          37,
          28,
          28,
          40,
          10,
          48,
          39,
          69,
          66,
          54,
          39,
          65,
          56,
          19,
          38,
          21,
          21,
          24,
          41,
          50,
          21,
          69,
          67,
          27,
          43,
          57,
          27,
          39,
          30,
          51,
          35,
          20,
          39,
          35,
          59,
          60,
          47,
          24,
          32,
          46,
          72,
          69,
          49,
          33,
          50,
          35,
          45,
          52,
          28,
          70,
          27,
          67,
          31,
          28,
          19,
          71,
          29,
          41,
          67,
          32,
          63,
          19,
          66,
          71,
          67,
          18,
          32,
          2,
          53,
          71,
          43,
          70,
          25,
          66,
          22,
          33,
          48,
          38,
          72,
          24,
          32,
          39,
          32,
          22,
          19,
          59,
          44,
          36,
          31,
          69,
          70,
          46,
          12,
          31,
          52,
          25,
          48,
          17,
          24,
          40,
          24,
          41,
          15,
          46,
          41,
          44,
          33,
          64,
          48,
          68,
          36,
          41,
          48,
          32,
          69,
          66,
          38,
          25,
          24,
          43,
          8,
          60,
          17,
          23,
          32,
          68,
          59,
          39,
          51,
          64,
          51,
          25,
          36,
          56,
          67,
          56,
          42,
          48,
          45,
          14,
          17,
          15,
          24,
          60,
          73,
          65,
          40,
          35,
          70,
          34,
          48,
          45,
          32,
          38,
          48,
          49,
          44,
          43,
          73,
          69,
          34,
          24,
          52,
          46,
          30,
          38,
          36,
          34,
          35,
          68,
          20,
          45,
          34,
          70,
          44,
          56,
          65,
          69,
          58,
          72,
          34,
          21,
          48,
          20,
          49,
          34,
          23,
          67,
          61,
          32,
          64,
          49,
          39,
          63,
          74,
          67,
          65,
          50,
          69,
          34,
          68,
          38,
          31,
          37,
          26,
          23,
          67,
          29,
          30,
          26,
          38,
          68,
          45,
          54,
          34,
          32,
          66,
          43,
          66,
          27,
          46,
          28,
          32,
          32,
          22,
          40,
          43,
          63,
          37,
          17,
          23,
          27,
          40,
          36,
          30,
          29,
          30,
          30,
          35,
          42,
          31,
          37,
          20,
          30,
          57,
          17,
          18,
          68,
          41,
          39,
          13,
          69,
          39,
          28,
          53,
          42,
          36,
          47,
          63,
          42,
          37,
          18,
          69,
          35,
          46,
          35,
          18,
          49,
          47,
          38,
          27,
          34,
          57,
          29,
          38,
          39,
          57,
          33,
          36,
          40,
          49,
          48,
          54,
          39,
          49,
          37,
          49,
          66,
          70,
          29,
          61,
          4,
          37,
          36,
          18,
          38,
          66,
          44,
          35,
          31,
          31,
          38,
          67,
          52,
          35,
          51,
          54,
          43,
          40,
          51,
          21,
          40,
          61,
          31,
          22,
          41,
          73,
          68,
          63,
          30,
          46,
          40,
          12,
          15,
          26,
          39,
          70,
          36,
          67,
          45,
          38,
          68,
          43,
          28,
          58,
          52,
          53,
          44,
          73,
          49,
          26,
          34,
          37,
          38,
          47,
          52,
          35,
          29,
          51,
          36,
          4,
          28,
          30,
          38,
          37,
          22,
          74,
          35,
          39,
          73,
          65,
          30,
          66,
          70,
          58,
          35,
          21,
          61,
          66,
          41,
          42,
          64,
          31,
          67,
          38,
          46,
          68,
          65,
          37,
          36,
          40,
          31,
          48,
          46,
          50,
          47,
          53,
          28,
          41,
          68,
          56,
          26,
          41,
          63,
          69,
          67,
          24,
          25,
          43,
          67,
          32,
          32,
          30,
          65,
          44,
          52,
          11,
          25,
          60,
          49,
          25,
          33,
          44,
          10,
          23,
          22,
          29,
          22,
          19,
          58,
          71,
          33,
          66,
          31,
          64,
          28,
          53,
          33,
          45,
          21,
          68,
          37,
          19,
          48,
          51,
          35,
          40,
          53,
          71,
          51,
          27,
          60,
          21,
          45,
          74,
          46,
          29,
          44,
          66,
          55,
          31,
          48,
          31,
          39,
          24,
          55,
          70,
          24,
          41,
          68,
          25,
          39,
          35,
          39,
          45,
          29,
          48,
          65,
          49,
          34,
          68,
          43,
          39,
          32,
          26,
          47,
          25,
          37,
          53,
          37,
          66,
          57,
          32,
          44,
          34,
          47,
          46,
          24,
          70,
          56,
          27,
          28,
          19,
          38,
          45,
          35,
          71,
          53,
          41,
          65,
          25,
          46,
          5,
          14,
          15,
          35,
          50,
          30,
          58,
          46,
          27,
          45,
          37,
          50,
          45,
          40,
          32,
          20,
          38,
          46,
          22,
          50,
          42,
          66,
          34,
          32,
          29,
          30,
          62,
          66,
          16,
          63,
          51,
          25,
          53,
          41,
          35,
          37,
          33,
          25,
          32,
          55,
          29,
          36,
          45,
          14,
          49,
          32,
          38,
          37,
          21,
          29,
          52,
          46,
          42,
          57,
          46,
          58,
          18,
          48,
          71,
          41,
          50,
          43,
          26,
          30,
          27,
          47,
          43,
          38,
          64,
          36,
          39,
          74,
          39,
          56,
          2,
          39,
          70,
          34,
          47,
          59,
          66,
          36,
          33,
          41,
          55,
          66,
          29,
          77,
          63,
          68,
          50,
          50,
          17,
          24,
          16,
          59,
          70,
          16,
          33,
          41,
          32,
          40,
          26,
          7,
          27,
          29,
          29,
          19,
          70,
          23,
          27,
          36,
          55,
          21,
          15,
          14,
          46,
          37,
          67,
          29,
          28,
          33,
          46,
          55,
          35,
          49,
          72,
          20,
          45,
          69,
          16,
          53,
          39,
          38,
          49,
          25,
          43,
          28,
          32,
          67,
          29,
          70,
          26,
          48,
          37,
          16,
          55,
          30,
          35,
          43
         ],
         "xaxis": "x3",
         "yaxis": "y3"
        }
       ],
       "layout": {
        "annotations": [
         {
          "font": {
           "size": 16
          },
          "showarrow": false,
          "text": "Observation",
          "x": 0.14444444444444446,
          "xanchor": "center",
          "xref": "paper",
          "y": 1,
          "yanchor": "bottom",
          "yref": "paper"
         },
         {
          "font": {
           "size": 16
          },
          "showarrow": false,
          "text": "Observation2",
          "x": 0.5,
          "xanchor": "center",
          "xref": "paper",
          "y": 1,
          "yanchor": "bottom",
          "yref": "paper"
         },
         {
          "font": {
           "size": 16
          },
          "showarrow": false,
          "text": "Observation3",
          "x": 0.8555555555555556,
          "xanchor": "center",
          "xref": "paper",
          "y": 1,
          "yanchor": "bottom",
          "yref": "paper"
         }
        ],
        "template": {
         "data": {
          "bar": [
           {
            "error_x": {
             "color": "#2a3f5f"
            },
            "error_y": {
             "color": "#2a3f5f"
            },
            "marker": {
             "line": {
              "color": "#E5ECF6",
              "width": 0.5
             },
             "pattern": {
              "fillmode": "overlay",
              "size": 10,
              "solidity": 0.2
             }
            },
            "type": "bar"
           }
          ],
          "barpolar": [
           {
            "marker": {
             "line": {
              "color": "#E5ECF6",
              "width": 0.5
             },
             "pattern": {
              "fillmode": "overlay",
              "size": 10,
              "solidity": 0.2
             }
            },
            "type": "barpolar"
           }
          ],
          "carpet": [
           {
            "aaxis": {
             "endlinecolor": "#2a3f5f",
             "gridcolor": "white",
             "linecolor": "white",
             "minorgridcolor": "white",
             "startlinecolor": "#2a3f5f"
            },
            "baxis": {
             "endlinecolor": "#2a3f5f",
             "gridcolor": "white",
             "linecolor": "white",
             "minorgridcolor": "white",
             "startlinecolor": "#2a3f5f"
            },
            "type": "carpet"
           }
          ],
          "choropleth": [
           {
            "colorbar": {
             "outlinewidth": 0,
             "ticks": ""
            },
            "type": "choropleth"
           }
          ],
          "contour": [
           {
            "colorbar": {
             "outlinewidth": 0,
             "ticks": ""
            },
            "colorscale": [
             [
              0,
              "#0d0887"
             ],
             [
              0.1111111111111111,
              "#46039f"
             ],
             [
              0.2222222222222222,
              "#7201a8"
             ],
             [
              0.3333333333333333,
              "#9c179e"
             ],
             [
              0.4444444444444444,
              "#bd3786"
             ],
             [
              0.5555555555555556,
              "#d8576b"
             ],
             [
              0.6666666666666666,
              "#ed7953"
             ],
             [
              0.7777777777777778,
              "#fb9f3a"
             ],
             [
              0.8888888888888888,
              "#fdca26"
             ],
             [
              1,
              "#f0f921"
             ]
            ],
            "type": "contour"
           }
          ],
          "contourcarpet": [
           {
            "colorbar": {
             "outlinewidth": 0,
             "ticks": ""
            },
            "type": "contourcarpet"
           }
          ],
          "heatmap": [
           {
            "colorbar": {
             "outlinewidth": 0,
             "ticks": ""
            },
            "colorscale": [
             [
              0,
              "#0d0887"
             ],
             [
              0.1111111111111111,
              "#46039f"
             ],
             [
              0.2222222222222222,
              "#7201a8"
             ],
             [
              0.3333333333333333,
              "#9c179e"
             ],
             [
              0.4444444444444444,
              "#bd3786"
             ],
             [
              0.5555555555555556,
              "#d8576b"
             ],
             [
              0.6666666666666666,
              "#ed7953"
             ],
             [
              0.7777777777777778,
              "#fb9f3a"
             ],
             [
              0.8888888888888888,
              "#fdca26"
             ],
             [
              1,
              "#f0f921"
             ]
            ],
            "type": "heatmap"
           }
          ],
          "heatmapgl": [
           {
            "colorbar": {
             "outlinewidth": 0,
             "ticks": ""
            },
            "colorscale": [
             [
              0,
              "#0d0887"
             ],
             [
              0.1111111111111111,
              "#46039f"
             ],
             [
              0.2222222222222222,
              "#7201a8"
             ],
             [
              0.3333333333333333,
              "#9c179e"
             ],
             [
              0.4444444444444444,
              "#bd3786"
             ],
             [
              0.5555555555555556,
              "#d8576b"
             ],
             [
              0.6666666666666666,
              "#ed7953"
             ],
             [
              0.7777777777777778,
              "#fb9f3a"
             ],
             [
              0.8888888888888888,
              "#fdca26"
             ],
             [
              1,
              "#f0f921"
             ]
            ],
            "type": "heatmapgl"
           }
          ],
          "histogram": [
           {
            "marker": {
             "pattern": {
              "fillmode": "overlay",
              "size": 10,
              "solidity": 0.2
             }
            },
            "type": "histogram"
           }
          ],
          "histogram2d": [
           {
            "colorbar": {
             "outlinewidth": 0,
             "ticks": ""
            },
            "colorscale": [
             [
              0,
              "#0d0887"
             ],
             [
              0.1111111111111111,
              "#46039f"
             ],
             [
              0.2222222222222222,
              "#7201a8"
             ],
             [
              0.3333333333333333,
              "#9c179e"
             ],
             [
              0.4444444444444444,
              "#bd3786"
             ],
             [
              0.5555555555555556,
              "#d8576b"
             ],
             [
              0.6666666666666666,
              "#ed7953"
             ],
             [
              0.7777777777777778,
              "#fb9f3a"
             ],
             [
              0.8888888888888888,
              "#fdca26"
             ],
             [
              1,
              "#f0f921"
             ]
            ],
            "type": "histogram2d"
           }
          ],
          "histogram2dcontour": [
           {
            "colorbar": {
             "outlinewidth": 0,
             "ticks": ""
            },
            "colorscale": [
             [
              0,
              "#0d0887"
             ],
             [
              0.1111111111111111,
              "#46039f"
             ],
             [
              0.2222222222222222,
              "#7201a8"
             ],
             [
              0.3333333333333333,
              "#9c179e"
             ],
             [
              0.4444444444444444,
              "#bd3786"
             ],
             [
              0.5555555555555556,
              "#d8576b"
             ],
             [
              0.6666666666666666,
              "#ed7953"
             ],
             [
              0.7777777777777778,
              "#fb9f3a"
             ],
             [
              0.8888888888888888,
              "#fdca26"
             ],
             [
              1,
              "#f0f921"
             ]
            ],
            "type": "histogram2dcontour"
           }
          ],
          "mesh3d": [
           {
            "colorbar": {
             "outlinewidth": 0,
             "ticks": ""
            },
            "type": "mesh3d"
           }
          ],
          "parcoords": [
           {
            "line": {
             "colorbar": {
              "outlinewidth": 0,
              "ticks": ""
             }
            },
            "type": "parcoords"
           }
          ],
          "pie": [
           {
            "automargin": true,
            "type": "pie"
           }
          ],
          "scatter": [
           {
            "fillpattern": {
             "fillmode": "overlay",
             "size": 10,
             "solidity": 0.2
            },
            "type": "scatter"
           }
          ],
          "scatter3d": [
           {
            "line": {
             "colorbar": {
              "outlinewidth": 0,
              "ticks": ""
             }
            },
            "marker": {
             "colorbar": {
              "outlinewidth": 0,
              "ticks": ""
             }
            },
            "type": "scatter3d"
           }
          ],
          "scattercarpet": [
           {
            "marker": {
             "colorbar": {
              "outlinewidth": 0,
              "ticks": ""
             }
            },
            "type": "scattercarpet"
           }
          ],
          "scattergeo": [
           {
            "marker": {
             "colorbar": {
              "outlinewidth": 0,
              "ticks": ""
             }
            },
            "type": "scattergeo"
           }
          ],
          "scattergl": [
           {
            "marker": {
             "colorbar": {
              "outlinewidth": 0,
              "ticks": ""
             }
            },
            "type": "scattergl"
           }
          ],
          "scattermapbox": [
           {
            "marker": {
             "colorbar": {
              "outlinewidth": 0,
              "ticks": ""
             }
            },
            "type": "scattermapbox"
           }
          ],
          "scatterpolar": [
           {
            "marker": {
             "colorbar": {
              "outlinewidth": 0,
              "ticks": ""
             }
            },
            "type": "scatterpolar"
           }
          ],
          "scatterpolargl": [
           {
            "marker": {
             "colorbar": {
              "outlinewidth": 0,
              "ticks": ""
             }
            },
            "type": "scatterpolargl"
           }
          ],
          "scatterternary": [
           {
            "marker": {
             "colorbar": {
              "outlinewidth": 0,
              "ticks": ""
             }
            },
            "type": "scatterternary"
           }
          ],
          "surface": [
           {
            "colorbar": {
             "outlinewidth": 0,
             "ticks": ""
            },
            "colorscale": [
             [
              0,
              "#0d0887"
             ],
             [
              0.1111111111111111,
              "#46039f"
             ],
             [
              0.2222222222222222,
              "#7201a8"
             ],
             [
              0.3333333333333333,
              "#9c179e"
             ],
             [
              0.4444444444444444,
              "#bd3786"
             ],
             [
              0.5555555555555556,
              "#d8576b"
             ],
             [
              0.6666666666666666,
              "#ed7953"
             ],
             [
              0.7777777777777778,
              "#fb9f3a"
             ],
             [
              0.8888888888888888,
              "#fdca26"
             ],
             [
              1,
              "#f0f921"
             ]
            ],
            "type": "surface"
           }
          ],
          "table": [
           {
            "cells": {
             "fill": {
              "color": "#EBF0F8"
             },
             "line": {
              "color": "white"
             }
            },
            "header": {
             "fill": {
              "color": "#C8D4E3"
             },
             "line": {
              "color": "white"
             }
            },
            "type": "table"
           }
          ]
         },
         "layout": {
          "annotationdefaults": {
           "arrowcolor": "#2a3f5f",
           "arrowhead": 0,
           "arrowwidth": 1
          },
          "autotypenumbers": "strict",
          "coloraxis": {
           "colorbar": {
            "outlinewidth": 0,
            "ticks": ""
           }
          },
          "colorscale": {
           "diverging": [
            [
             0,
             "#8e0152"
            ],
            [
             0.1,
             "#c51b7d"
            ],
            [
             0.2,
             "#de77ae"
            ],
            [
             0.3,
             "#f1b6da"
            ],
            [
             0.4,
             "#fde0ef"
            ],
            [
             0.5,
             "#f7f7f7"
            ],
            [
             0.6,
             "#e6f5d0"
            ],
            [
             0.7,
             "#b8e186"
            ],
            [
             0.8,
             "#7fbc41"
            ],
            [
             0.9,
             "#4d9221"
            ],
            [
             1,
             "#276419"
            ]
           ],
           "sequential": [
            [
             0,
             "#0d0887"
            ],
            [
             0.1111111111111111,
             "#46039f"
            ],
            [
             0.2222222222222222,
             "#7201a8"
            ],
            [
             0.3333333333333333,
             "#9c179e"
            ],
            [
             0.4444444444444444,
             "#bd3786"
            ],
            [
             0.5555555555555556,
             "#d8576b"
            ],
            [
             0.6666666666666666,
             "#ed7953"
            ],
            [
             0.7777777777777778,
             "#fb9f3a"
            ],
            [
             0.8888888888888888,
             "#fdca26"
            ],
            [
             1,
             "#f0f921"
            ]
           ],
           "sequentialminus": [
            [
             0,
             "#0d0887"
            ],
            [
             0.1111111111111111,
             "#46039f"
            ],
            [
             0.2222222222222222,
             "#7201a8"
            ],
            [
             0.3333333333333333,
             "#9c179e"
            ],
            [
             0.4444444444444444,
             "#bd3786"
            ],
            [
             0.5555555555555556,
             "#d8576b"
            ],
            [
             0.6666666666666666,
             "#ed7953"
            ],
            [
             0.7777777777777778,
             "#fb9f3a"
            ],
            [
             0.8888888888888888,
             "#fdca26"
            ],
            [
             1,
             "#f0f921"
            ]
           ]
          },
          "colorway": [
           "#636efa",
           "#EF553B",
           "#00cc96",
           "#ab63fa",
           "#FFA15A",
           "#19d3f3",
           "#FF6692",
           "#B6E880",
           "#FF97FF",
           "#FECB52"
          ],
          "font": {
           "color": "#2a3f5f"
          },
          "geo": {
           "bgcolor": "white",
           "lakecolor": "white",
           "landcolor": "#E5ECF6",
           "showlakes": true,
           "showland": true,
           "subunitcolor": "white"
          },
          "hoverlabel": {
           "align": "left"
          },
          "hovermode": "closest",
          "mapbox": {
           "style": "light"
          },
          "paper_bgcolor": "white",
          "plot_bgcolor": "#E5ECF6",
          "polar": {
           "angularaxis": {
            "gridcolor": "white",
            "linecolor": "white",
            "ticks": ""
           },
           "bgcolor": "#E5ECF6",
           "radialaxis": {
            "gridcolor": "white",
            "linecolor": "white",
            "ticks": ""
           }
          },
          "scene": {
           "xaxis": {
            "backgroundcolor": "#E5ECF6",
            "gridcolor": "white",
            "gridwidth": 2,
            "linecolor": "white",
            "showbackground": true,
            "ticks": "",
            "zerolinecolor": "white"
           },
           "yaxis": {
            "backgroundcolor": "#E5ECF6",
            "gridcolor": "white",
            "gridwidth": 2,
            "linecolor": "white",
            "showbackground": true,
            "ticks": "",
            "zerolinecolor": "white"
           },
           "zaxis": {
            "backgroundcolor": "#E5ECF6",
            "gridcolor": "white",
            "gridwidth": 2,
            "linecolor": "white",
            "showbackground": true,
            "ticks": "",
            "zerolinecolor": "white"
           }
          },
          "shapedefaults": {
           "line": {
            "color": "#2a3f5f"
           }
          },
          "ternary": {
           "aaxis": {
            "gridcolor": "white",
            "linecolor": "white",
            "ticks": ""
           },
           "baxis": {
            "gridcolor": "white",
            "linecolor": "white",
            "ticks": ""
           },
           "bgcolor": "#E5ECF6",
           "caxis": {
            "gridcolor": "white",
            "linecolor": "white",
            "ticks": ""
           }
          },
          "title": {
           "x": 0.05
          },
          "xaxis": {
           "automargin": true,
           "gridcolor": "white",
           "linecolor": "white",
           "ticks": "",
           "title": {
            "standoff": 15
           },
           "zerolinecolor": "white",
           "zerolinewidth": 2
          },
          "yaxis": {
           "automargin": true,
           "gridcolor": "white",
           "linecolor": "white",
           "ticks": "",
           "title": {
            "standoff": 15
           },
           "zerolinecolor": "white",
           "zerolinewidth": 2
          }
         }
        },
        "title": {
         "text": "Edades según barrio"
        },
        "xaxis": {
         "anchor": "y",
         "domain": [
          0,
          0.2888888888888889
         ]
        },
        "xaxis2": {
         "anchor": "y2",
         "domain": [
          0.35555555555555557,
          0.6444444444444445
         ]
        },
        "xaxis3": {
         "anchor": "y3",
         "domain": [
          0.7111111111111111,
          1
         ]
        },
        "yaxis": {
         "anchor": "x",
         "domain": [
          0,
          1
         ]
        },
        "yaxis2": {
         "anchor": "x2",
         "domain": [
          0,
          1
         ]
        },
        "yaxis3": {
         "anchor": "x3",
         "domain": [
          0,
          1
         ]
        }
       }
      },
      "text/html": [
       "<div>                            <div id=\"6cfde2f4-73d5-4481-8b4a-4d3f40372b8e\" class=\"plotly-graph-div\" style=\"height:525px; width:100%;\"></div>            <script type=\"text/javascript\">                require([\"plotly\"], function(Plotly) {                    window.PLOTLYENV=window.PLOTLYENV || {};                                    if (document.getElementById(\"6cfde2f4-73d5-4481-8b4a-4d3f40372b8e\")) {                    Plotly.newPlot(                        \"6cfde2f4-73d5-4481-8b4a-4d3f40372b8e\",                        [{\"alignmentgroup\":\"True\",\"bingroup\":\"x\",\"hovertemplate\":\"observation=%{x}<br>count=%{y}<extra></extra>\",\"legendgroup\":\"\",\"marker\":{\"color\":\"#636efa\",\"pattern\":{\"shape\":\"\"},\"line\":{\"color\":\"black\",\"width\":1.5}},\"name\":\"\",\"nbinsx\":20,\"offsetgroup\":\"\",\"orientation\":\"v\",\"showlegend\":false,\"x\":[68.0,12.0,45.0,38.0,49.0,27.0,39.0,12.0,42.0,33.0,30.0,25.0,30.0,44.0,53.0,46.0,50.0,22.0,6.0,29.0,29.0,27.0,35.0,38.0,28.0,26.0,60.0,41.0,38.0,41.0,44.0,52.0,46.0,39.0,44.0,46.0,32.0,23.0,15.0,40.0,42.0,32.0,45.0,29.0,22.0,41.0,39.0,63.0,39.0,31.0,34.0,28.0,45.0,33.0,32.0,61.0,64.0,37.0,56.0,44.0,33.0,38.0,40.0,38.0,56.0,14.0,52.0,34.0,14.0,34.0,31.0,46.0,50.0,37.0,13.0,12.0,25.0,28.0,51.0,13.0,36.0,52.0,13.0,30.0,36.0,35.0,26.0,34.0,51.0,52.0,35.0,44.0,23.0,29.0,25.0,30.0,27.0,42.0,18.0,39.0,42.0,48.0,30.0,40.0,34.0,28.0,48.0,48.0,42.0,53.0,34.0,37.0,32.0,29.0,18.0,35.0,58.0,37.0,32.0,49.0,20.0,42.0,29.0,22.0,39.0,41.0,54.0,20.0,19.0,39.0,39.0,39.0,58.0,23.0,45.0,13.0,44.0,39.0,30.0,37.0,62.0,45.0,33.0,55.0,33.0,39.0,34.0,32.0,25.0,21.0,39.0,43.0,18.0,40.0,50.0,35.0,46.0,36.0,30.0,44.0,34.0,58.0,14.0,27.0,62.0,42.0,27.0,50.0,29.0,41.0,30.0,37.0,43.0,43.0,49.0,31.0,17.0,42.0,48.0,29.0,38.0,31.0,20.0,50.0,26.0,45.0,56.0,35.0,48.0,35.0,55.0,44.0,23.0,39.0,39.0,45.0,21.0,43.0,38.0,40.0,35.0,25.0,7.0,26.0,40.0,52.0,46.0,47.0,38.0,1.0,16.0,54.0,45.0,35.0,54.0,41.0,12.0,37.0,50.0,37.0,24.0,47.0,39.0,30.0,41.0,31.0,23.0,42.0,24.0,23.0,31.0,45.0,53.0,21.0,59.0,63.0,41.0,53.0,59.0,48.0,57.0,39.0,32.0,36.0,21.0,40.0,51.0,44.0,59.0,25.0,52.0,42.0,8.0,34.0,43.0,46.0,36.0,42.0,46.0,44.0,29.0,17.0,56.0,41.0,30.0,67.0,41.0,34.0,42.0,22.0,19.0,57.0,16.0,24.0,26.0,32.0,35.0,36.0,26.0,21.0,20.0,28.0,19.0,56.0,41.0,38.0,42.0,31.0,30.0,41.0,31.0,33.0,42.0,45.0,62.0,29.0,41.0,19.0,42.0,42.0,54.0,2.0,40.0,28.0,42.0,28.0,26.0,43.0,32.0,54.0,34.0,25.0,32.0,14.0,66.0,24.0,43.0,33.0,29.0,8.0,43.0,30.0,34.0,37.0,40.0,42.0,48.0,19.0,35.0,41.0,26.0,36.0,23.0,46.0,35.0,28.0,39.0,21.0,4.0,73.0,43.0,48.0,20.0,49.0,28.0,26.0,34.0,20.0,39.0,46.0,37.0,20.0,29.0,63.0,36.0,49.0,36.0,36.0,34.0,46.0,44.0,15.0,38.0,82.0,48.0,29.0,49.0,57.0,16.0,12.0,36.0,59.0,49.0,17.0,25.0,33.0,37.0,40.0,43.0,57.0,43.0,38.0,35.0,30.0,14.0,48.0,24.0,32.0,47.0,29.0,50.0,43.0,55.0,36.0,49.0,46.0,45.0,52.0,36.0,30.0,33.0,34.0,18.0,32.0,40.0,37.0,36.0,63.0,44.0,57.0,35.0,28.0,57.0,15.0,40.0,47.0,17.0,53.0,39.0,29.0,47.0,37.0,30.0,19.0,66.0,56.0,8.0,22.0,43.0,39.0,21.0,41.0,54.0,51.0,37.0,23.0,56.0,70.0,39.0,14.0,60.0,26.0,30.0,47.0,52.0,30.0,54.0,5.0,22.0,23.0,34.0,2.0,34.0,45.0,31.0,42.0,47.0,35.0,36.0,39.0,41.0,60.0,42.0,26.0,45.0,25.0,32.0,47.0,36.0,37.0,40.0,57.0,40.0,59.0,31.0,32.0,63.0,38.0,41.0,43.0,17.0,34.0,28.0,43.0,51.0,8.0,30.0,43.0,24.0,1.0,16.0,43.0,27.0,71.0,50.0,50.0,9.0,30.0,15.0,32.0,50.0,39.0,24.0,55.0,38.0,17.0,36.0,43.0,40.0,42.0,37.0,55.0,31.0,31.0,31.0,21.0,43.0,45.0,36.0,23.0,32.0,14.0,16.0,69.0,11.0,33.0,36.0,39.0,19.0,31.0,26.0,52.0,41.0,30.0,31.0,32.0,35.0,43.0,52.0,41.0,17.0,38.0,28.0,54.0,42.0,24.0,39.0,44.0,31.0,48.0,6.0,50.0,27.0,45.0,28.0,29.0,43.0,44.0,14.0,28.0,15.0,37.0,61.0,36.0,35.0,32.0,34.0,26.0,37.0,41.0,59.0,45.0,46.0,32.0,30.0,33.0,27.0,10.0,42.0,30.0,54.0,36.0,44.0,45.0,54.0,37.0,40.0,23.0,66.0,32.0,39.0,34.0,46.0,39.0,38.0,38.0,50.0,55.0,30.0,47.0,41.0,56.0,39.0,41.0,27.0,23.0,30.0,17.0,45.0,29.0,42.0,26.0,22.0,39.0,23.0,48.0,51.0,39.0,52.0,39.0,41.0,56.0,38.0,44.0,33.0,39.0,44.0,29.0,49.0,13.0,53.0,58.0,27.0,23.0,27.0,45.0,12.0,30.0,40.0,30.0,49.0,40.0,32.0,53.0,37.0,31.0,46.0,31.0,22.0,19.0,12.0,49.0,47.0,42.0,38.0,58.0,43.0,38.0,42.0,30.0,45.0,26.0,38.0,26.0,46.0,20.0,29.0,39.0,37.0,42.0,43.0,48.0,55.0,22.0,26.0,30.0,55.0,35.0,51.0,46.0,38.0,65.0,55.0,41.0,30.0,37.0,27.0,36.0,42.0,38.0,20.0,47.0,31.0,34.0,35.0,36.0,5.0,40.0,41.0,27.0,47.0,63.0,35.0,32.0,27.0,50.0,39.0,38.0,36.0,17.0,27.0,45.0,30.0,28.0,43.0,33.0,45.0,20.0,29.0,48.0,20.0,44.0,42.0,60.0,25.0,48.0,41.0,39.0,11.0,35.0,43.0,51.0,24.0,33.0,22.0,21.0,45.0,48.0,56.0,25.0,33.0,36.0,53.0,51.0,42.0,15.0,32.0,22.0,59.0,54.0,32.0,39.0,47.0,17.0,28.0,29.0,56.0,34.0,28.0,44.0,67.0,26.0,25.0,23.0,56.0,52.0,25.0,49.0,26.0,39.0,63.0,48.0,48.0,30.0,37.0,46.0,14.0,15.0,44.0,39.0,40.0,22.0,30.0,39.0,43.0,46.0,35.0,16.0,44.0,18.0,26.0,27.0,37.0,20.0,35.0,50.0,55.0,45.0,41.0,54.0,56.0,46.0,56.0,24.0,33.0,12.0,31.0,12.0,25.0,49.0,52.0,55.0,27.0,49.0,44.0,49.0,40.0,34.0,16.0,19.0,36.0,32.0,67.0,52.0,38.0,33.0,68.0,14.0,43.0,10.0,11.0,39.0,13.0,54.0,41.0,40.0,18.0,16.0,45.0,35.0,39.0,34.0,46.0,53.0,23.0,55.0,37.0,29.0,48.0,35.0,45.0,68.0,29.0,40.0,33.0,64.0,45.0,10.0,47.0,23.0,39.0,20.0,41.0,36.0,41.0,25.0,46.0,49.0,28.0,40.0,58.0,46.0,37.0,41.0,38.0,35.0,31.0,30.0,35.0,34.0,15.0,58.0,41.0,59.0,32.0,12.0,27.0,41.0,37.0,47.0,49.0,47.0,53.0,35.0,38.0,24.0,50.0,27.0,27.0,26.0,24.0,30.0,43.0,35.0,22.0,22.0,32.0,37.0,55.0,27.0,36.0,50.0,21.0,45.0,27.0,53.0,41.0,28.0,45.0,39.0,43.0,29.0,18.0,34.0,19.0,26.0,32.0,65.0,38.0,24.0,27.0,24.0,19.0,49.0,25.0,41.0,22.0,31.0,24.0,21.0,8.0,56.0,42.0,43.0,62.0,22.0,67.0,38.0,43.0,41.0,34.0,38.0,21.0,35.0,28.0,27.0,21.0,40.0,44.0,25.0,40.0,29.0,39.0,25.0,33.0,37.0,35.0,26.0,34.0,43.0,39.0,32.0,33.0,24.0,24.0,25.0,36.0,49.0,31.0,12.0,9.0,35.0,21.0,36.0,37.0,34.0,24.0,35.0,38.0,33.0,42.0,32.0,29.0,36.0,40.0,27.0,47.0,53.0,33.0,31.0],\"xaxis\":\"x\",\"yaxis\":\"y\",\"type\":\"histogram\",\"opacity\":0.7},{\"alignmentgroup\":\"True\",\"bingroup\":\"x\",\"hovertemplate\":\"observation2=%{x}<br>count=%{y}<extra></extra>\",\"legendgroup\":\"\",\"marker\":{\"color\":\"#636efa\",\"pattern\":{\"shape\":\"\"},\"line\":{\"color\":\"black\",\"width\":1.5}},\"name\":\"\",\"nbinsx\":20,\"offsetgroup\":\"\",\"orientation\":\"v\",\"showlegend\":false,\"x\":[25.0,31.0,29.0,31.0,29.0,29.0,28.0,30.0,24.0,26.0,30.0,29.0,24.0,26.0,30.0,25.0,25.0,30.0,21.0,29.0,25.0,28.0,27.0,27.0,31.0,27.0,26.0,24.0,29.0,23.0,31.0,26.0,28.0,22.0,28.0,31.0,29.0,22.0,28.0,25.0,26.0,32.0,26.0,28.0,29.0,31.0,27.0,25.0,24.0,30.0,27.0,22.0,25.0,28.0,25.0,31.0,27.0,30.0,28.0,27.0,29.0,26.0,28.0,26.0,22.0,30.0,27.0,31.0,27.0,24.0,27.0,28.0,23.0,20.0,23.0,25.0,29.0,33.0,27.0,25.0,25.0,26.0,31.0,28.0,29.0,23.0,30.0,26.0,27.0,24.0,29.0,26.0,28.0,24.0,25.0,21.0,19.0,26.0,28.0,28.0,24.0,28.0,30.0,27.0,29.0,26.0,28.0,31.0,32.0,25.0,30.0,30.0,24.0,22.0,29.0,25.0,21.0,30.0,30.0,29.0,29.0,22.0,33.0,31.0,26.0,25.0,28.0,31.0,28.0,28.0,31.0,23.0,33.0,25.0,33.0,23.0,30.0,27.0,24.0,29.0,24.0,28.0,23.0,24.0,32.0,29.0,31.0,34.0,31.0,27.0,26.0,28.0,26.0,28.0,26.0,33.0,29.0,22.0,26.0,25.0,28.0,29.0,28.0,28.0,31.0,25.0,30.0,26.0,26.0,30.0,27.0,23.0,29.0,30.0,25.0,32.0,27.0,29.0,28.0,27.0,27.0,23.0,23.0,27.0,25.0,27.0,35.0,30.0,27.0,27.0,28.0,30.0,26.0,32.0,21.0,29.0,28.0,31.0,31.0,28.0,27.0,31.0,26.0,24.0,28.0,28.0,26.0,26.0,24.0,28.0,25.0,29.0,26.0,24.0,30.0,25.0,29.0,30.0,29.0,26.0,28.0,25.0,29.0,29.0,31.0,26.0,23.0,25.0,24.0,27.0,23.0,28.0,31.0,26.0,25.0,31.0,29.0,24.0,28.0,26.0,27.0,25.0,27.0,31.0,29.0,29.0,29.0,32.0,24.0,30.0,28.0,27.0,22.0,29.0,21.0,25.0,27.0,24.0,23.0,33.0,23.0,30.0,25.0,35.0,26.0,23.0,27.0,30.0,27.0,28.0,24.0,27.0,20.0,29.0,31.0,23.0,29.0,29.0,31.0,25.0,24.0,23.0,23.0,20.0,28.0,28.0,28.0,27.0,36.0,20.0,31.0,28.0,29.0,30.0,33.0,28.0,25.0,29.0,28.0,26.0,23.0,26.0,34.0,29.0,30.0,28.0,29.0,27.0,26.0,30.0,33.0,25.0,25.0,24.0,25.0,29.0,34.0,24.0,34.0,27.0,27.0,28.0,30.0,27.0,26.0,21.0,21.0,19.0,29.0,28.0,32.0,29.0,28.0,27.0,24.0,28.0,30.0,26.0,29.0,24.0,27.0,32.0,29.0,31.0,31.0,24.0,30.0,26.0,24.0,27.0,23.0,25.0,28.0,28.0,31.0,24.0,21.0,28.0,23.0,28.0,25.0,26.0,24.0,28.0,23.0,24.0,24.0,31.0,30.0,26.0,28.0,28.0,25.0,28.0,25.0,28.0,29.0,27.0,27.0,33.0,25.0,29.0,25.0,25.0,25.0,32.0,26.0,28.0,32.0,29.0,25.0,30.0,28.0,26.0,27.0,20.0,26.0,30.0,31.0,29.0,23.0,27.0,29.0,28.0,27.0,23.0,26.0,29.0,31.0,27.0,26.0,33.0,25.0,26.0,26.0,30.0,30.0,26.0,28.0,26.0,29.0,28.0,31.0,29.0,31.0,23.0,23.0,28.0,27.0,26.0,29.0,26.0,25.0,30.0,27.0,25.0,27.0,24.0,28.0,29.0,21.0,24.0,27.0,26.0,28.0,30.0,22.0,25.0,22.0,25.0,31.0,29.0,22.0,20.0,30.0,28.0,30.0,29.0,32.0,27.0,31.0,26.0,30.0,23.0,25.0,28.0,26.0,29.0,34.0,26.0,27.0,33.0,27.0,25.0,30.0,30.0,26.0,25.0,26.0,30.0,21.0,25.0,27.0,29.0,24.0,22.0,30.0,23.0,33.0,28.0,29.0,22.0,29.0,28.0,27.0,26.0,25.0,29.0,27.0,32.0,30.0,24.0,24.0,26.0,30.0,26.0,24.0,28.0,30.0,20.0,20.0,28.0,29.0,26.0,24.0,25.0,29.0,26.0,30.0,25.0,29.0,27.0,28.0,28.0,25.0,36.0,25.0,30.0,26.0,20.0,26.0,22.0,23.0,27.0,25.0,24.0,28.0,27.0,25.0,28.0,26.0,24.0,29.0,22.0,29.0,30.0,25.0,26.0,31.0,22.0,29.0,32.0,27.0,28.0,30.0,29.0,27.0,27.0,26.0,27.0,32.0,30.0,29.0,28.0,29.0,28.0,31.0,33.0,22.0,30.0,27.0,30.0,25.0,29.0,30.0,28.0,28.0,25.0,26.0,26.0,24.0,25.0,26.0,23.0,32.0,31.0,22.0,28.0,22.0,29.0,27.0,29.0,27.0,24.0,27.0,32.0,26.0,24.0,24.0,26.0,33.0,23.0,23.0,27.0,30.0,31.0,27.0,24.0,26.0,31.0,27.0,26.0,30.0,27.0,28.0,31.0,35.0,30.0,30.0,28.0,26.0,22.0,32.0,28.0,28.0,26.0,22.0,27.0,24.0,27.0,30.0,32.0,30.0,28.0,27.0,28.0,28.0,20.0,32.0,26.0,31.0,27.0,25.0,26.0,24.0,29.0,31.0,29.0,27.0,26.0,23.0,27.0,25.0,28.0,28.0,24.0,29.0,30.0,26.0,29.0,22.0,28.0,28.0,28.0,25.0,28.0,25.0,29.0,31.0,33.0,28.0,26.0,28.0,31.0,29.0,25.0,27.0,28.0,30.0,26.0,21.0,29.0,22.0,31.0,30.0,33.0,29.0,21.0,26.0,30.0,32.0,25.0,26.0,31.0,24.0,24.0,27.0,29.0,28.0,28.0,23.0,30.0,29.0,25.0,24.0,30.0,22.0,29.0,23.0,26.0,30.0,27.0,24.0,33.0,31.0,25.0,24.0,30.0,23.0,27.0,26.0,26.0,25.0,30.0,28.0,33.0,23.0,28.0,25.0,33.0,28.0,31.0,26.0,22.0,30.0,28.0,28.0,24.0,29.0,28.0,28.0,30.0,21.0,32.0,30.0,27.0,24.0,26.0,25.0,25.0,31.0,29.0,27.0,23.0,29.0,29.0,28.0,26.0,24.0,29.0,32.0,25.0,25.0,26.0,29.0,27.0,27.0,28.0,26.0,29.0,25.0,29.0,23.0,27.0,31.0,27.0,28.0,28.0,25.0,21.0,23.0,29.0,24.0,29.0,30.0,28.0,30.0,29.0,25.0,25.0,28.0,26.0,27.0,27.0,28.0,25.0,32.0,26.0,29.0,28.0,24.0,28.0,27.0,24.0,31.0,27.0,29.0,26.0,33.0,26.0,30.0,32.0,28.0,25.0,25.0,27.0,28.0,30.0,25.0,33.0,21.0,31.0,30.0,26.0,28.0,29.0,27.0,24.0,27.0,27.0,27.0,26.0,27.0,32.0,25.0,30.0,22.0,25.0,34.0,26.0,27.0,33.0,26.0,27.0,28.0,24.0,26.0,25.0,26.0,25.0,24.0,29.0,27.0,25.0,26.0,22.0,24.0,22.0,26.0,32.0,29.0,27.0,31.0,26.0,27.0,34.0,32.0,26.0,30.0,24.0,27.0,24.0,30.0,31.0,28.0,27.0,27.0,29.0,30.0,28.0,29.0,24.0,24.0,29.0,30.0,31.0,28.0,27.0,29.0,28.0,30.0,26.0,20.0,28.0,24.0,28.0,26.0,20.0,28.0,32.0,24.0,27.0,28.0,24.0,26.0,29.0,26.0,28.0,24.0,29.0,29.0,30.0,26.0,24.0,27.0,24.0,29.0,26.0,22.0,26.0,31.0,27.0,24.0,30.0,27.0,24.0,27.0,28.0,31.0,28.0,27.0,22.0,27.0,32.0,26.0,30.0,25.0,32.0,25.0,26.0,28.0,26.0,27.0,26.0,29.0,29.0,24.0,22.0,22.0,26.0,27.0,32.0,29.0,27.0,27.0,25.0,30.0,30.0,27.0,28.0,27.0,26.0,23.0,22.0,31.0,28.0,25.0,28.0,27.0,29.0,28.0,24.0,31.0,28.0,28.0,24.0,29.0,26.0,30.0,27.0,20.0,25.0,22.0,28.0,25.0,29.0,21.0,27.0,27.0,25.0,27.0,25.0,26.0,25.0,27.0,26.0,22.0,21.0,19.0,28.0],\"xaxis\":\"x2\",\"yaxis\":\"y2\",\"type\":\"histogram\",\"opacity\":0.7},{\"alignmentgroup\":\"True\",\"bingroup\":\"x\",\"hovertemplate\":\"observation3=%{x}<br>count=%{y}<extra></extra>\",\"legendgroup\":\"\",\"marker\":{\"color\":\"#636efa\",\"pattern\":{\"shape\":\"\"},\"line\":{\"color\":\"black\",\"width\":1.5}},\"name\":\"\",\"nbinsx\":20,\"offsetgroup\":\"\",\"orientation\":\"v\",\"showlegend\":false,\"x\":[21.0,21.0,24.0,31.0,54.0,52.0,37.0,69.0,36.0,30.0,64.0,30.0,76.0,73.0,42.0,52.0,67.0,28.0,24.0,50.0,70.0,57.0,20.0,27.0,51.0,67.0,56.0,30.0,52.0,44.0,49.0,31.0,64.0,65.0,32.0,37.0,37.0,18.0,65.0,42.0,45.0,40.0,66.0,72.0,43.0,64.0,43.0,54.0,48.0,30.0,35.0,41.0,17.0,44.0,32.0,37.0,45.0,41.0,23.0,45.0,69.0,36.0,47.0,31.0,33.0,51.0,27.0,20.0,15.0,26.0,28.0,67.0,36.0,54.0,17.0,51.0,75.0,41.0,29.0,55.0,37.0,63.0,42.0,49.0,32.0,39.0,46.0,50.0,32.0,43.0,45.0,26.0,22.0,15.0,26.0,24.0,71.0,55.0,68.0,35.0,40.0,55.0,21.0,60.0,41.0,22.0,34.0,30.0,56.0,61.0,51.0,33.0,47.0,48.0,26.0,30.0,56.0,42.0,66.0,50.0,57.0,12.0,20.0,69.0,47.0,38.0,68.0,41.0,33.0,29.0,63.0,38.0,55.0,39.0,44.0,74.0,40.0,35.0,49.0,37.0,34.0,25.0,15.0,70.0,20.0,35.0,23.0,54.0,29.0,27.0,37.0,27.0,32.0,34.0,71.0,38.0,32.0,65.0,50.0,23.0,72.0,48.0,32.0,52.0,43.0,34.0,26.0,42.0,53.0,54.0,48.0,23.0,24.0,37.0,64.0,70.0,21.0,50.0,47.0,67.0,44.0,63.0,44.0,12.0,62.0,48.0,62.0,70.0,39.0,25.0,41.0,59.0,32.0,43.0,35.0,63.0,70.0,36.0,61.0,38.0,44.0,48.0,30.0,31.0,29.0,31.0,35.0,50.0,19.0,45.0,68.0,18.0,47.0,32.0,36.0,36.0,27.0,37.0,77.0,64.0,35.0,48.0,29.0,37.0,48.0,39.0,46.0,72.0,32.0,49.0,39.0,20.0,33.0,41.0,39.0,52.0,41.0,35.0,69.0,25.0,50.0,14.0,48.0,30.0,39.0,69.0,53.0,43.0,37.0,37.0,39.0,32.0,24.0,19.0,50.0,17.0,53.0,36.0,16.0,29.0,64.0,36.0,32.0,1.0,43.0,26.0,32.0,40.0,72.0,35.0,33.0,24.0,32.0,38.0,67.0,29.0,52.0,55.0,67.0,22.0,18.0,41.0,34.0,65.0,17.0,50.0,16.0,45.0,65.0,46.0,45.0,31.0,52.0,71.0,53.0,52.0,11.0,23.0,71.0,52.0,31.0,27.0,34.0,51.0,74.0,19.0,16.0,25.0,36.0,13.0,59.0,50.0,40.0,45.0,50.0,43.0,32.0,36.0,40.0,42.0,27.0,33.0,29.0,75.0,67.0,42.0,19.0,47.0,16.0,46.0,45.0,35.0,28.0,36.0,37.0,59.0,40.0,45.0,30.0,35.0,40.0,44.0,55.0,28.0,9.0,28.0,65.0,31.0,37.0,28.0,28.0,40.0,10.0,48.0,39.0,69.0,66.0,54.0,39.0,65.0,56.0,19.0,38.0,21.0,21.0,24.0,41.0,50.0,21.0,69.0,67.0,27.0,43.0,57.0,27.0,39.0,30.0,51.0,35.0,20.0,39.0,35.0,59.0,60.0,47.0,24.0,32.0,46.0,72.0,69.0,49.0,33.0,50.0,35.0,45.0,52.0,28.0,70.0,27.0,67.0,31.0,28.0,19.0,71.0,29.0,41.0,67.0,32.0,63.0,19.0,66.0,71.0,67.0,18.0,32.0,2.0,53.0,71.0,43.0,70.0,25.0,66.0,22.0,33.0,48.0,38.0,72.0,24.0,32.0,39.0,32.0,22.0,19.0,59.0,44.0,36.0,31.0,69.0,70.0,46.0,12.0,31.0,52.0,25.0,48.0,17.0,24.0,40.0,24.0,41.0,15.0,46.0,41.0,44.0,33.0,64.0,48.0,68.0,36.0,41.0,48.0,32.0,69.0,66.0,38.0,25.0,24.0,43.0,8.0,60.0,17.0,23.0,32.0,68.0,59.0,39.0,51.0,64.0,51.0,25.0,36.0,56.0,67.0,56.0,42.0,48.0,45.0,14.0,17.0,15.0,24.0,60.0,73.0,65.0,40.0,35.0,70.0,34.0,48.0,45.0,32.0,38.0,48.0,49.0,44.0,43.0,73.0,69.0,34.0,24.0,52.0,46.0,30.0,38.0,36.0,34.0,35.0,68.0,20.0,45.0,34.0,70.0,44.0,56.0,65.0,69.0,58.0,72.0,34.0,21.0,48.0,20.0,49.0,34.0,23.0,67.0,61.0,32.0,64.0,49.0,39.0,63.0,74.0,67.0,65.0,50.0,69.0,34.0,68.0,38.0,31.0,37.0,26.0,23.0,67.0,29.0,30.0,26.0,38.0,68.0,45.0,54.0,34.0,32.0,66.0,43.0,66.0,27.0,46.0,28.0,32.0,32.0,22.0,40.0,43.0,63.0,37.0,17.0,23.0,27.0,40.0,36.0,30.0,29.0,30.0,30.0,35.0,42.0,31.0,37.0,20.0,30.0,57.0,17.0,18.0,68.0,41.0,39.0,13.0,69.0,39.0,28.0,53.0,42.0,36.0,47.0,63.0,42.0,37.0,18.0,69.0,35.0,46.0,35.0,18.0,49.0,47.0,38.0,27.0,34.0,57.0,29.0,38.0,39.0,57.0,33.0,36.0,40.0,49.0,48.0,54.0,39.0,49.0,37.0,49.0,66.0,70.0,29.0,61.0,4.0,37.0,36.0,18.0,38.0,66.0,44.0,35.0,31.0,31.0,38.0,67.0,52.0,35.0,51.0,54.0,43.0,40.0,51.0,21.0,40.0,61.0,31.0,22.0,41.0,73.0,68.0,63.0,30.0,46.0,40.0,12.0,15.0,26.0,39.0,70.0,36.0,67.0,45.0,38.0,68.0,43.0,28.0,58.0,52.0,53.0,44.0,73.0,49.0,26.0,34.0,37.0,38.0,47.0,52.0,35.0,29.0,51.0,36.0,4.0,28.0,30.0,38.0,37.0,22.0,74.0,35.0,39.0,73.0,65.0,30.0,66.0,70.0,58.0,35.0,21.0,61.0,66.0,41.0,42.0,64.0,31.0,67.0,38.0,46.0,68.0,65.0,37.0,36.0,40.0,31.0,48.0,46.0,50.0,47.0,53.0,28.0,41.0,68.0,56.0,26.0,41.0,63.0,69.0,67.0,24.0,25.0,43.0,67.0,32.0,32.0,30.0,65.0,44.0,52.0,11.0,25.0,60.0,49.0,25.0,33.0,44.0,10.0,23.0,22.0,29.0,22.0,19.0,58.0,71.0,33.0,66.0,31.0,64.0,28.0,53.0,33.0,45.0,21.0,68.0,37.0,19.0,48.0,51.0,35.0,40.0,53.0,71.0,51.0,27.0,60.0,21.0,45.0,74.0,46.0,29.0,44.0,66.0,55.0,31.0,48.0,31.0,39.0,24.0,55.0,70.0,24.0,41.0,68.0,25.0,39.0,35.0,39.0,45.0,29.0,48.0,65.0,49.0,34.0,68.0,43.0,39.0,32.0,26.0,47.0,25.0,37.0,53.0,37.0,66.0,57.0,32.0,44.0,34.0,47.0,46.0,24.0,70.0,56.0,27.0,28.0,19.0,38.0,45.0,35.0,71.0,53.0,41.0,65.0,25.0,46.0,5.0,14.0,15.0,35.0,50.0,30.0,58.0,46.0,27.0,45.0,37.0,50.0,45.0,40.0,32.0,20.0,38.0,46.0,22.0,50.0,42.0,66.0,34.0,32.0,29.0,30.0,62.0,66.0,16.0,63.0,51.0,25.0,53.0,41.0,35.0,37.0,33.0,25.0,32.0,55.0,29.0,36.0,45.0,14.0,49.0,32.0,38.0,37.0,21.0,29.0,52.0,46.0,42.0,57.0,46.0,58.0,18.0,48.0,71.0,41.0,50.0,43.0,26.0,30.0,27.0,47.0,43.0,38.0,64.0,36.0,39.0,74.0,39.0,56.0,2.0,39.0,70.0,34.0,47.0,59.0,66.0,36.0,33.0,41.0,55.0,66.0,29.0,77.0,63.0,68.0,50.0,50.0,17.0,24.0,16.0,59.0,70.0,16.0,33.0,41.0,32.0,40.0,26.0,7.0,27.0,29.0,29.0,19.0,70.0,23.0,27.0,36.0,55.0,21.0,15.0,14.0,46.0,37.0,67.0,29.0,28.0,33.0,46.0,55.0,35.0,49.0,72.0,20.0,45.0,69.0,16.0,53.0,39.0,38.0,49.0,25.0,43.0,28.0,32.0,67.0,29.0,70.0,26.0,48.0,37.0,16.0,55.0,30.0,35.0,43.0],\"xaxis\":\"x3\",\"yaxis\":\"y3\",\"type\":\"histogram\",\"opacity\":0.7}],                        {\"template\":{\"data\":{\"histogram2dcontour\":[{\"type\":\"histogram2dcontour\",\"colorbar\":{\"outlinewidth\":0,\"ticks\":\"\"},\"colorscale\":[[0.0,\"#0d0887\"],[0.1111111111111111,\"#46039f\"],[0.2222222222222222,\"#7201a8\"],[0.3333333333333333,\"#9c179e\"],[0.4444444444444444,\"#bd3786\"],[0.5555555555555556,\"#d8576b\"],[0.6666666666666666,\"#ed7953\"],[0.7777777777777778,\"#fb9f3a\"],[0.8888888888888888,\"#fdca26\"],[1.0,\"#f0f921\"]]}],\"choropleth\":[{\"type\":\"choropleth\",\"colorbar\":{\"outlinewidth\":0,\"ticks\":\"\"}}],\"histogram2d\":[{\"type\":\"histogram2d\",\"colorbar\":{\"outlinewidth\":0,\"ticks\":\"\"},\"colorscale\":[[0.0,\"#0d0887\"],[0.1111111111111111,\"#46039f\"],[0.2222222222222222,\"#7201a8\"],[0.3333333333333333,\"#9c179e\"],[0.4444444444444444,\"#bd3786\"],[0.5555555555555556,\"#d8576b\"],[0.6666666666666666,\"#ed7953\"],[0.7777777777777778,\"#fb9f3a\"],[0.8888888888888888,\"#fdca26\"],[1.0,\"#f0f921\"]]}],\"heatmap\":[{\"type\":\"heatmap\",\"colorbar\":{\"outlinewidth\":0,\"ticks\":\"\"},\"colorscale\":[[0.0,\"#0d0887\"],[0.1111111111111111,\"#46039f\"],[0.2222222222222222,\"#7201a8\"],[0.3333333333333333,\"#9c179e\"],[0.4444444444444444,\"#bd3786\"],[0.5555555555555556,\"#d8576b\"],[0.6666666666666666,\"#ed7953\"],[0.7777777777777778,\"#fb9f3a\"],[0.8888888888888888,\"#fdca26\"],[1.0,\"#f0f921\"]]}],\"heatmapgl\":[{\"type\":\"heatmapgl\",\"colorbar\":{\"outlinewidth\":0,\"ticks\":\"\"},\"colorscale\":[[0.0,\"#0d0887\"],[0.1111111111111111,\"#46039f\"],[0.2222222222222222,\"#7201a8\"],[0.3333333333333333,\"#9c179e\"],[0.4444444444444444,\"#bd3786\"],[0.5555555555555556,\"#d8576b\"],[0.6666666666666666,\"#ed7953\"],[0.7777777777777778,\"#fb9f3a\"],[0.8888888888888888,\"#fdca26\"],[1.0,\"#f0f921\"]]}],\"contourcarpet\":[{\"type\":\"contourcarpet\",\"colorbar\":{\"outlinewidth\":0,\"ticks\":\"\"}}],\"contour\":[{\"type\":\"contour\",\"colorbar\":{\"outlinewidth\":0,\"ticks\":\"\"},\"colorscale\":[[0.0,\"#0d0887\"],[0.1111111111111111,\"#46039f\"],[0.2222222222222222,\"#7201a8\"],[0.3333333333333333,\"#9c179e\"],[0.4444444444444444,\"#bd3786\"],[0.5555555555555556,\"#d8576b\"],[0.6666666666666666,\"#ed7953\"],[0.7777777777777778,\"#fb9f3a\"],[0.8888888888888888,\"#fdca26\"],[1.0,\"#f0f921\"]]}],\"surface\":[{\"type\":\"surface\",\"colorbar\":{\"outlinewidth\":0,\"ticks\":\"\"},\"colorscale\":[[0.0,\"#0d0887\"],[0.1111111111111111,\"#46039f\"],[0.2222222222222222,\"#7201a8\"],[0.3333333333333333,\"#9c179e\"],[0.4444444444444444,\"#bd3786\"],[0.5555555555555556,\"#d8576b\"],[0.6666666666666666,\"#ed7953\"],[0.7777777777777778,\"#fb9f3a\"],[0.8888888888888888,\"#fdca26\"],[1.0,\"#f0f921\"]]}],\"mesh3d\":[{\"type\":\"mesh3d\",\"colorbar\":{\"outlinewidth\":0,\"ticks\":\"\"}}],\"scatter\":[{\"fillpattern\":{\"fillmode\":\"overlay\",\"size\":10,\"solidity\":0.2},\"type\":\"scatter\"}],\"parcoords\":[{\"type\":\"parcoords\",\"line\":{\"colorbar\":{\"outlinewidth\":0,\"ticks\":\"\"}}}],\"scatterpolargl\":[{\"type\":\"scatterpolargl\",\"marker\":{\"colorbar\":{\"outlinewidth\":0,\"ticks\":\"\"}}}],\"bar\":[{\"error_x\":{\"color\":\"#2a3f5f\"},\"error_y\":{\"color\":\"#2a3f5f\"},\"marker\":{\"line\":{\"color\":\"#E5ECF6\",\"width\":0.5},\"pattern\":{\"fillmode\":\"overlay\",\"size\":10,\"solidity\":0.2}},\"type\":\"bar\"}],\"scattergeo\":[{\"type\":\"scattergeo\",\"marker\":{\"colorbar\":{\"outlinewidth\":0,\"ticks\":\"\"}}}],\"scatterpolar\":[{\"type\":\"scatterpolar\",\"marker\":{\"colorbar\":{\"outlinewidth\":0,\"ticks\":\"\"}}}],\"histogram\":[{\"marker\":{\"pattern\":{\"fillmode\":\"overlay\",\"size\":10,\"solidity\":0.2}},\"type\":\"histogram\"}],\"scattergl\":[{\"type\":\"scattergl\",\"marker\":{\"colorbar\":{\"outlinewidth\":0,\"ticks\":\"\"}}}],\"scatter3d\":[{\"type\":\"scatter3d\",\"line\":{\"colorbar\":{\"outlinewidth\":0,\"ticks\":\"\"}},\"marker\":{\"colorbar\":{\"outlinewidth\":0,\"ticks\":\"\"}}}],\"scattermapbox\":[{\"type\":\"scattermapbox\",\"marker\":{\"colorbar\":{\"outlinewidth\":0,\"ticks\":\"\"}}}],\"scatterternary\":[{\"type\":\"scatterternary\",\"marker\":{\"colorbar\":{\"outlinewidth\":0,\"ticks\":\"\"}}}],\"scattercarpet\":[{\"type\":\"scattercarpet\",\"marker\":{\"colorbar\":{\"outlinewidth\":0,\"ticks\":\"\"}}}],\"carpet\":[{\"aaxis\":{\"endlinecolor\":\"#2a3f5f\",\"gridcolor\":\"white\",\"linecolor\":\"white\",\"minorgridcolor\":\"white\",\"startlinecolor\":\"#2a3f5f\"},\"baxis\":{\"endlinecolor\":\"#2a3f5f\",\"gridcolor\":\"white\",\"linecolor\":\"white\",\"minorgridcolor\":\"white\",\"startlinecolor\":\"#2a3f5f\"},\"type\":\"carpet\"}],\"table\":[{\"cells\":{\"fill\":{\"color\":\"#EBF0F8\"},\"line\":{\"color\":\"white\"}},\"header\":{\"fill\":{\"color\":\"#C8D4E3\"},\"line\":{\"color\":\"white\"}},\"type\":\"table\"}],\"barpolar\":[{\"marker\":{\"line\":{\"color\":\"#E5ECF6\",\"width\":0.5},\"pattern\":{\"fillmode\":\"overlay\",\"size\":10,\"solidity\":0.2}},\"type\":\"barpolar\"}],\"pie\":[{\"automargin\":true,\"type\":\"pie\"}]},\"layout\":{\"autotypenumbers\":\"strict\",\"colorway\":[\"#636efa\",\"#EF553B\",\"#00cc96\",\"#ab63fa\",\"#FFA15A\",\"#19d3f3\",\"#FF6692\",\"#B6E880\",\"#FF97FF\",\"#FECB52\"],\"font\":{\"color\":\"#2a3f5f\"},\"hovermode\":\"closest\",\"hoverlabel\":{\"align\":\"left\"},\"paper_bgcolor\":\"white\",\"plot_bgcolor\":\"#E5ECF6\",\"polar\":{\"bgcolor\":\"#E5ECF6\",\"angularaxis\":{\"gridcolor\":\"white\",\"linecolor\":\"white\",\"ticks\":\"\"},\"radialaxis\":{\"gridcolor\":\"white\",\"linecolor\":\"white\",\"ticks\":\"\"}},\"ternary\":{\"bgcolor\":\"#E5ECF6\",\"aaxis\":{\"gridcolor\":\"white\",\"linecolor\":\"white\",\"ticks\":\"\"},\"baxis\":{\"gridcolor\":\"white\",\"linecolor\":\"white\",\"ticks\":\"\"},\"caxis\":{\"gridcolor\":\"white\",\"linecolor\":\"white\",\"ticks\":\"\"}},\"coloraxis\":{\"colorbar\":{\"outlinewidth\":0,\"ticks\":\"\"}},\"colorscale\":{\"sequential\":[[0.0,\"#0d0887\"],[0.1111111111111111,\"#46039f\"],[0.2222222222222222,\"#7201a8\"],[0.3333333333333333,\"#9c179e\"],[0.4444444444444444,\"#bd3786\"],[0.5555555555555556,\"#d8576b\"],[0.6666666666666666,\"#ed7953\"],[0.7777777777777778,\"#fb9f3a\"],[0.8888888888888888,\"#fdca26\"],[1.0,\"#f0f921\"]],\"sequentialminus\":[[0.0,\"#0d0887\"],[0.1111111111111111,\"#46039f\"],[0.2222222222222222,\"#7201a8\"],[0.3333333333333333,\"#9c179e\"],[0.4444444444444444,\"#bd3786\"],[0.5555555555555556,\"#d8576b\"],[0.6666666666666666,\"#ed7953\"],[0.7777777777777778,\"#fb9f3a\"],[0.8888888888888888,\"#fdca26\"],[1.0,\"#f0f921\"]],\"diverging\":[[0,\"#8e0152\"],[0.1,\"#c51b7d\"],[0.2,\"#de77ae\"],[0.3,\"#f1b6da\"],[0.4,\"#fde0ef\"],[0.5,\"#f7f7f7\"],[0.6,\"#e6f5d0\"],[0.7,\"#b8e186\"],[0.8,\"#7fbc41\"],[0.9,\"#4d9221\"],[1,\"#276419\"]]},\"xaxis\":{\"gridcolor\":\"white\",\"linecolor\":\"white\",\"ticks\":\"\",\"title\":{\"standoff\":15},\"zerolinecolor\":\"white\",\"automargin\":true,\"zerolinewidth\":2},\"yaxis\":{\"gridcolor\":\"white\",\"linecolor\":\"white\",\"ticks\":\"\",\"title\":{\"standoff\":15},\"zerolinecolor\":\"white\",\"automargin\":true,\"zerolinewidth\":2},\"scene\":{\"xaxis\":{\"backgroundcolor\":\"#E5ECF6\",\"gridcolor\":\"white\",\"linecolor\":\"white\",\"showbackground\":true,\"ticks\":\"\",\"zerolinecolor\":\"white\",\"gridwidth\":2},\"yaxis\":{\"backgroundcolor\":\"#E5ECF6\",\"gridcolor\":\"white\",\"linecolor\":\"white\",\"showbackground\":true,\"ticks\":\"\",\"zerolinecolor\":\"white\",\"gridwidth\":2},\"zaxis\":{\"backgroundcolor\":\"#E5ECF6\",\"gridcolor\":\"white\",\"linecolor\":\"white\",\"showbackground\":true,\"ticks\":\"\",\"zerolinecolor\":\"white\",\"gridwidth\":2}},\"shapedefaults\":{\"line\":{\"color\":\"#2a3f5f\"}},\"annotationdefaults\":{\"arrowcolor\":\"#2a3f5f\",\"arrowhead\":0,\"arrowwidth\":1},\"geo\":{\"bgcolor\":\"white\",\"landcolor\":\"#E5ECF6\",\"subunitcolor\":\"white\",\"showland\":true,\"showlakes\":true,\"lakecolor\":\"white\"},\"title\":{\"x\":0.05},\"mapbox\":{\"style\":\"light\"}}},\"xaxis\":{\"anchor\":\"y\",\"domain\":[0.0,0.2888888888888889]},\"yaxis\":{\"anchor\":\"x\",\"domain\":[0.0,1.0]},\"xaxis2\":{\"anchor\":\"y2\",\"domain\":[0.35555555555555557,0.6444444444444445]},\"yaxis2\":{\"anchor\":\"x2\",\"domain\":[0.0,1.0]},\"xaxis3\":{\"anchor\":\"y3\",\"domain\":[0.7111111111111111,1.0]},\"yaxis3\":{\"anchor\":\"x3\",\"domain\":[0.0,1.0]},\"annotations\":[{\"font\":{\"size\":16},\"showarrow\":false,\"text\":\"Observation\",\"x\":0.14444444444444446,\"xanchor\":\"center\",\"xref\":\"paper\",\"y\":1.0,\"yanchor\":\"bottom\",\"yref\":\"paper\"},{\"font\":{\"size\":16},\"showarrow\":false,\"text\":\"Observation2\",\"x\":0.5,\"xanchor\":\"center\",\"xref\":\"paper\",\"y\":1.0,\"yanchor\":\"bottom\",\"yref\":\"paper\"},{\"font\":{\"size\":16},\"showarrow\":false,\"text\":\"Observation3\",\"x\":0.8555555555555556,\"xanchor\":\"center\",\"xref\":\"paper\",\"y\":1.0,\"yanchor\":\"bottom\",\"yref\":\"paper\"}],\"title\":{\"text\":\"Edades seg\\u00fan barrio\"}},                        {\"responsive\": true}                    ).then(function(){\n",
       "                            \n",
       "var gd = document.getElementById('6cfde2f4-73d5-4481-8b4a-4d3f40372b8e');\n",
       "var x = new MutationObserver(function (mutations, observer) {{\n",
       "        var display = window.getComputedStyle(gd).display;\n",
       "        if (!display || display === 'none') {{\n",
       "            console.log([gd, 'removed!']);\n",
       "            Plotly.purge(gd);\n",
       "            observer.disconnect();\n",
       "        }}\n",
       "}});\n",
       "\n",
       "// Listen for the removal of the full notebook cells\n",
       "var notebookContainer = gd.closest('#notebook-container');\n",
       "if (notebookContainer) {{\n",
       "    x.observe(notebookContainer, {childList: true});\n",
       "}}\n",
       "\n",
       "// Listen for the clearing of the current output cell\n",
       "var outputEl = gd.closest('.output');\n",
       "if (outputEl) {{\n",
       "    x.observe(outputEl, {childList: true});\n",
       "}}\n",
       "\n",
       "                        })                };                });            </script>        </div>"
      ]
     },
     "metadata": {},
     "output_type": "display_data"
    }
   ],
   "source": [
    "fig = make_subplots(rows=1, cols=3, subplot_titles=('Observation', 'Observation2', 'Observation3'))\n",
    "\n",
    "for i, column in enumerate(ages_total.columns, start=1):\n",
    "    hist = px.histogram(ages_total, x=column, nbins=20, labels={'value': 'Edad', 'variable': 'Observación'})\n",
    "    fig.add_trace(hist['data'][0], row=1, col=i)\n",
    "fig.update_traces(marker_line_color='black', marker_line_width=1.5, opacity=0.7)\n",
    "fig.update_layout(title_text='Edades según barrio')\n",
    "\n",
    "fig.show()"
   ]
  },
  {
   "cell_type": "code",
   "execution_count": 113,
   "metadata": {},
   "outputs": [
    {
     "data": {
      "image/png": "[encoded data removed]",
      "text/plain": [
       "<Figure size 1500x500 with 3 Axes>"
      ]
     },
     "metadata": {},
     "output_type": "display_data"
    }
   ],
   "source": [
    "fig, axes = plt.subplots(1, 3, figsize=(15, 5), sharey=True)\n",
    "\n",
    "subplot_titles = ['Observation', 'Observation2', 'Observation3']\n",
    "\n",
    "for i, column in enumerate(ages_total.columns):\n",
    "    sns.histplot(ages_total[column], bins=20, kde=True, ax=axes[i])\n",
    "    axes[i].set_xlabel('Edad')\n",
    "    axes[i].set_ylabel('Frecuencia')\n",
    "    axes[i].set_title(subplot_titles[i])\n",
    "\n",
    "plt.suptitle('Edades según barrio', y=1.02)\n",
    "plt.tight_layout()\n",
    "\n",
    "plt.show()"
   ]
  },
  {
   "cell_type": "code",
   "execution_count": 73,
   "metadata": {},
   "outputs": [
    {
     "data": {
      "application/vnd.plotly.v1+json": {
       "config": {
        "plotlyServerURL": "https://plot.ly"
       },
       "data": [
        {
         "alignmentgroup": "True",
         "hovertemplate": "observation=%{y}<extra></extra>",
         "legendgroup": "",
         "marker": {
          "color": "#636efa"
         },
         "name": "",
         "notched": false,
         "offsetgroup": "",
         "orientation": "v",
         "showlegend": false,
         "type": "box",
         "x0": " ",
         "xaxis": "x",
         "y": [
          68,
          12,
          45,
          38,
          49,
          27,
          39,
          12,
          42,
          33,
          30,
          25,
          30,
          44,
          53,
          46,
          50,
          22,
          6,
          29,
          29,
          27,
          35,
          38,
          28,
          26,
          60,
          41,
          38,
          41,
          44,
          52,
          46,
          39,
          44,
          46,
          32,
          23,
          15,
          40,
          42,
          32,
          45,
          29,
          22,
          41,
          39,
          63,
          39,
          31,
          34,
          28,
          45,
          33,
          32,
          61,
          64,
          37,
          56,
          44,
          33,
          38,
          40,
          38,
          56,
          14,
          52,
          34,
          14,
          34,
          31,
          46,
          50,
          37,
          13,
          12,
          25,
          28,
          51,
          13,
          36,
          52,
          13,
          30,
          36,
          35,
          26,
          34,
          51,
          52,
          35,
          44,
          23,
          29,
          25,
          30,
          27,
          42,
          18,
          39,
          42,
          48,
          30,
          40,
          34,
          28,
          48,
          48,
          42,
          53,
          34,
          37,
          32,
          29,
          18,
          35,
          58,
          37,
          32,
          49,
          20,
          42,
          29,
          22,
          39,
          41,
          54,
          20,
          19,
          39,
          39,
          39,
          58,
          23,
          45,
          13,
          44,
          39,
          30,
          37,
          62,
          45,
          33,
          55,
          33,
          39,
          34,
          32,
          25,
          21,
          39,
          43,
          18,
          40,
          50,
          35,
          46,
          36,
          30,
          44,
          34,
          58,
          14,
          27,
          62,
          42,
          27,
          50,
          29,
          41,
          30,
          37,
          43,
          43,
          49,
          31,
          17,
          42,
          48,
          29,
          38,
          31,
          20,
          50,
          26,
          45,
          56,
          35,
          48,
          35,
          55,
          44,
          23,
          39,
          39,
          45,
          21,
          43,
          38,
          40,
          35,
          25,
          7,
          26,
          40,
          52,
          46,
          47,
          38,
          1,
          16,
          54,
          45,
          35,
          54,
          41,
          12,
          37,
          50,
          37,
          24,
          47,
          39,
          30,
          41,
          31,
          23,
          42,
          24,
          23,
          31,
          45,
          53,
          21,
          59,
          63,
          41,
          53,
          59,
          48,
          57,
          39,
          32,
          36,
          21,
          40,
          51,
          44,
          59,
          25,
          52,
          42,
          8,
          34,
          43,
          46,
          36,
          42,
          46,
          44,
          29,
          17,
          56,
          41,
          30,
          67,
          41,
          34,
          42,
          22,
          19,
          57,
          16,
          24,
          26,
          32,
          35,
          36,
          26,
          21,
          20,
          28,
          19,
          56,
          41,
          38,
          42,
          31,
          30,
          41,
          31,
          33,
          42,
          45,
          62,
          29,
          41,
          19,
          42,
          42,
          54,
          2,
          40,
          28,
          42,
          28,
          26,
          43,
          32,
          54,
          34,
          25,
          32,
          14,
          66,
          24,
          43,
          33,
          29,
          8,
          43,
          30,
          34,
          37,
          40,
          42,
          48,
          19,
          35,
          41,
          26,
          36,
          23,
          46,
          35,
          28,
          39,
          21,
          4,
          73,
          43,
          48,
          20,
          49,
          28,
          26,
          34,
          20,
          39,
          46,
          37,
          20,
          29,
          63,
          36,
          49,
          36,
          36,
          34,
          46,
          44,
          15,
          38,
          82,
          48,
          29,
          49,
          57,
          16,
          12,
          36,
          59,
          49,
          17,
          25,
          33,
          37,
          40,
          43,
          57,
          43,
          38,
          35,
          30,
          14,
          48,
          24,
          32,
          47,
          29,
          50,
          43,
          55,
          36,
          49,
          46,
          45,
          52,
          36,
          30,
          33,
          34,
          18,
          32,
          40,
          37,
          36,
          63,
          44,
          57,
          35,
          28,
          57,
          15,
          40,
          47,
          17,
          53,
          39,
          29,
          47,
          37,
          30,
          19,
          66,
          56,
          8,
          22,
          43,
          39,
          21,
          41,
          54,
          51,
          37,
          23,
          56,
          70,
          39,
          14,
          60,
          26,
          30,
          47,
          52,
          30,
          54,
          5,
          22,
          23,
          34,
          2,
          34,
          45,
          31,
          42,
          47,
          35,
          36,
          39,
          41,
          60,
          42,
          26,
          45,
          25,
          32,
          47,
          36,
          37,
          40,
          57,
          40,
          59,
          31,
          32,
          63,
          38,
          41,
          43,
          17,
          34,
          28,
          43,
          51,
          8,
          30,
          43,
          24,
          1,
          16,
          43,
          27,
          71,
          50,
          50,
          9,
          30,
          15,
          32,
          50,
          39,
          24,
          55,
          38,
          17,
          36,
          43,
          40,
          42,
          37,
          55,
          31,
          31,
          31,
          21,
          43,
          45,
          36,
          23,
          32,
          14,
          16,
          69,
          11,
          33,
          36,
          39,
          19,
          31,
          26,
          52,
          41,
          30,
          31,
          32,
          35,
          43,
          52,
          41,
          17,
          38,
          28,
          54,
          42,
          24,
          39,
          44,
          31,
          48,
          6,
          50,
          27,
          45,
          28,
          29,
          43,
          44,
          14,
          28,
          15,
          37,
          61,
          36,
          35,
          32,
          34,
          26,
          37,
          41,
          59,
          45,
          46,
          32,
          30,
          33,
          27,
          10,
          42,
          30,
          54,
          36,
          44,
          45,
          54,
          37,
          40,
          23,
          66,
          32,
          39,
          34,
          46,
          39,
          38,
          38,
          50,
          55,
          30,
          47,
          41,
          56,
          39,
          41,
          27,
          23,
          30,
          17,
          45,
          29,
          42,
          26,
          22,
          39,
          23,
          48,
          51,
          39,
          52,
          39,
          41,
          56,
          38,
          44,
          33,
          39,
          44,
          29,
          49,
          13,
          53,
          58,
          27,
          23,
          27,
          45,
          12,
          30,
          40,
          30,
          49,
          40,
          32,
          53,
          37,
          31,
          46,
          31,
          22,
          19,
          12,
          49,
          47,
          42,
          38,
          58,
          43,
          38,
          42,
          30,
          45,
          26,
          38,
          26,
          46,
          20,
          29,
          39,
          37,
          42,
          43,
          48,
          55,
          22,
          26,
          30,
          55,
          35,
          51,
          46,
          38,
          65,
          55,
          41,
          30,
          37,
          27,
          36,
          42,
          38,
          20,
          47,
          31,
          34,
          35,
          36,
          5,
          40,
          41,
          27,
          47,
          63,
          35,
          32,
          27,
          50,
          39,
          38,
          36,
          17,
          27,
          45,
          30,
          28,
          43,
          33,
          45,
          20,
          29,
          48,
          20,
          44,
          42,
          60,
          25,
          48,
          41,
          39,
          11,
          35,
          43,
          51,
          24,
          33,
          22,
          21,
          45,
          48,
          56,
          25,
          33,
          36,
          53,
          51,
          42,
          15,
          32,
          22,
          59,
          54,
          32,
          39,
          47,
          17,
          28,
          29,
          56,
          34,
          28,
          44,
          67,
          26,
          25,
          23,
          56,
          52,
          25,
          49,
          26,
          39,
          63,
          48,
          48,
          30,
          37,
          46,
          14,
          15,
          44,
          39,
          40,
          22,
          30,
          39,
          43,
          46,
          35,
          16,
          44,
          18,
          26,
          27,
          37,
          20,
          35,
          50,
          55,
          45,
          41,
          54,
          56,
          46,
          56,
          24,
          33,
          12,
          31,
          12,
          25,
          49,
          52,
          55,
          27,
          49,
          44,
          49,
          40,
          34,
          16,
          19,
          36,
          32,
          67,
          52,
          38,
          33,
          68,
          14,
          43,
          10,
          11,
          39,
          13,
          54,
          41,
          40,
          18,
          16,
          45,
          35,
          39,
          34,
          46,
          53,
          23,
          55,
          37,
          29,
          48,
          35,
          45,
          68,
          29,
          40,
          33,
          64,
          45,
          10,
          47,
          23,
          39,
          20,
          41,
          36,
          41,
          25,
          46,
          49,
          28,
          40,
          58,
          46,
          37,
          41,
          38,
          35,
          31,
          30,
          35,
          34,
          15,
          58,
          41,
          59,
          32,
          12,
          27,
          41,
          37,
          47,
          49,
          47,
          53,
          35,
          38,
          24,
          50,
          27,
          27,
          26,
          24,
          30,
          43,
          35,
          22,
          22,
          32,
          37,
          55,
          27,
          36,
          50,
          21,
          45,
          27,
          53,
          41,
          28,
          45,
          39,
          43,
          29,
          18,
          34,
          19,
          26,
          32,
          65,
          38,
          24,
          27,
          24,
          19,
          49,
          25,
          41,
          22,
          31,
          24,
          21,
          8,
          56,
          42,
          43,
          62,
          22,
          67,
          38,
          43,
          41,
          34,
          38,
          21,
          35,
          28,
          27,
          21,
          40,
          44,
          25,
          40,
          29,
          39,
          25,
          33,
          37,
          35,
          26,
          34,
          43,
          39,
          32,
          33,
          24,
          24,
          25,
          36,
          49,
          31,
          12,
          9,
          35,
          21,
          36,
          37,
          34,
          24,
          35,
          38,
          33,
          42,
          32,
          29,
          36,
          40,
          27,
          47,
          53,
          33,
          31
         ],
         "y0": " ",
         "yaxis": "y"
        },
        {
         "alignmentgroup": "True",
         "hovertemplate": "observation2=%{y}<extra></extra>",
         "legendgroup": "",
         "marker": {
          "color": "#636efa"
         },
         "name": "",
         "notched": false,
         "offsetgroup": "",
         "orientation": "v",
         "showlegend": false,
         "type": "box",
         "x0": " ",
         "xaxis": "x2",
         "y": [
          25,
          31,
          29,
          31,
          29,
          29,
          28,
          30,
          24,
          26,
          30,
          29,
          24,
          26,
          30,
          25,
          25,
          30,
          21,
          29,
          25,
          28,
          27,
          27,
          31,
          27,
          26,
          24,
          29,
          23,
          31,
          26,
          28,
          22,
          28,
          31,
          29,
          22,
          28,
          25,
          26,
          32,
          26,
          28,
          29,
          31,
          27,
          25,
          24,
          30,
          27,
          22,
          25,
          28,
          25,
          31,
          27,
          30,
          28,
          27,
          29,
          26,
          28,
          26,
          22,
          30,
          27,
          31,
          27,
          24,
          27,
          28,
          23,
          20,
          23,
          25,
          29,
          33,
          27,
          25,
          25,
          26,
          31,
          28,
          29,
          23,
          30,
          26,
          27,
          24,
          29,
          26,
          28,
          24,
          25,
          21,
          19,
          26,
          28,
          28,
          24,
          28,
          30,
          27,
          29,
          26,
          28,
          31,
          32,
          25,
          30,
          30,
          24,
          22,
          29,
          25,
          21,
          30,
          30,
          29,
          29,
          22,
          33,
          31,
          26,
          25,
          28,
          31,
          28,
          28,
          31,
          23,
          33,
          25,
          33,
          23,
          30,
          27,
          24,
          29,
          24,
          28,
          23,
          24,
          32,
          29,
          31,
          34,
          31,
          27,
          26,
          28,
          26,
          28,
          26,
          33,
          29,
          22,
          26,
          25,
          28,
          29,
          28,
          28,
          31,
          25,
          30,
          26,
          26,
          30,
          27,
          23,
          29,
          30,
          25,
          32,
          27,
          29,
          28,
          27,
          27,
          23,
          23,
          27,
          25,
          27,
          35,
          30,
          27,
          27,
          28,
          30,
          26,
          32,
          21,
          29,
          28,
          31,
          31,
          28,
          27,
          31,
          26,
          24,
          28,
          28,
          26,
          26,
          24,
          28,
          25,
          29,
          26,
          24,
          30,
          25,
          29,
          30,
          29,
          26,
          28,
          25,
          29,
          29,
          31,
          26,
          23,
          25,
          24,
          27,
          23,
          28,
          31,
          26,
          25,
          31,
          29,
          24,
          28,
          26,
          27,
          25,
          27,
          31,
          29,
          29,
          29,
          32,
          24,
          30,
          28,
          27,
          22,
          29,
          21,
          25,
          27,
          24,
          23,
          33,
          23,
          30,
          25,
          35,
          26,
          23,
          27,
          30,
          27,
          28,
          24,
          27,
          20,
          29,
          31,
          23,
          29,
          29,
          31,
          25,
          24,
          23,
          23,
          20,
          28,
          28,
          28,
          27,
          36,
          20,
          31,
          28,
          29,
          30,
          33,
          28,
          25,
          29,
          28,
          26,
          23,
          26,
          34,
          29,
          30,
          28,
          29,
          27,
          26,
          30,
          33,
          25,
          25,
          24,
          25,
          29,
          34,
          24,
          34,
          27,
          27,
          28,
          30,
          27,
          26,
          21,
          21,
          19,
          29,
          28,
          32,
          29,
          28,
          27,
          24,
          28,
          30,
          26,
          29,
          24,
          27,
          32,
          29,
          31,
          31,
          24,
          30,
          26,
          24,
          27,
          23,
          25,
          28,
          28,
          31,
          24,
          21,
          28,
          23,
          28,
          25,
          26,
          24,
          28,
          23,
          24,
          24,
          31,
          30,
          26,
          28,
          28,
          25,
          28,
          25,
          28,
          29,
          27,
          27,
          33,
          25,
          29,
          25,
          25,
          25,
          32,
          26,
          28,
          32,
          29,
          25,
          30,
          28,
          26,
          27,
          20,
          26,
          30,
          31,
          29,
          23,
          27,
          29,
          28,
          27,
          23,
          26,
          29,
          31,
          27,
          26,
          33,
          25,
          26,
          26,
          30,
          30,
          26,
          28,
          26,
          29,
          28,
          31,
          29,
          31,
          23,
          23,
          28,
          27,
          26,
          29,
          26,
          25,
          30,
          27,
          25,
          27,
          24,
          28,
          29,
          21,
          24,
          27,
          26,
          28,
          30,
          22,
          25,
          22,
          25,
          31,
          29,
          22,
          20,
          30,
          28,
          30,
          29,
          32,
          27,
          31,
          26,
          30,
          23,
          25,
          28,
          26,
          29,
          34,
          26,
          27,
          33,
          27,
          25,
          30,
          30,
          26,
          25,
          26,
          30,
          21,
          25,
          27,
          29,
          24,
          22,
          30,
          23,
          33,
          28,
          29,
          22,
          29,
          28,
          27,
          26,
          25,
          29,
          27,
          32,
          30,
          24,
          24,
          26,
          30,
          26,
          24,
          28,
          30,
          20,
          20,
          28,
          29,
          26,
          24,
          25,
          29,
          26,
          30,
          25,
          29,
          27,
          28,
          28,
          25,
          36,
          25,
          30,
          26,
          20,
          26,
          22,
          23,
          27,
          25,
          24,
          28,
          27,
          25,
          28,
          26,
          24,
          29,
          22,
          29,
          30,
          25,
          26,
          31,
          22,
          29,
          32,
          27,
          28,
          30,
          29,
          27,
          27,
          26,
          27,
          32,
          30,
          29,
          28,
          29,
          28,
          31,
          33,
          22,
          30,
          27,
          30,
          25,
          29,
          30,
          28,
          28,
          25,
          26,
          26,
          24,
          25,
          26,
          23,
          32,
          31,
          22,
          28,
          22,
          29,
          27,
          29,
          27,
          24,
          27,
          32,
          26,
          24,
          24,
          26,
          33,
          23,
          23,
          27,
          30,
          31,
          27,
          24,
          26,
          31,
          27,
          26,
          30,
          27,
          28,
          31,
          35,
          30,
          30,
          28,
          26,
          22,
          32,
          28,
          28,
          26,
          22,
          27,
          24,
          27,
          30,
          32,
          30,
          28,
          27,
          28,
          28,
          20,
          32,
          26,
          31,
          27,
          25,
          26,
          24,
          29,
          31,
          29,
          27,
          26,
          23,
          27,
          25,
          28,
          28,
          24,
          29,
          30,
          26,
          29,
          22,
          28,
          28,
          28,
          25,
          28,
          25,
          29,
          31,
          33,
          28,
          26,
          28,
          31,
          29,
          25,
          27,
          28,
          30,
          26,
          21,
          29,
          22,
          31,
          30,
          33,
          29,
          21,
          26,
          30,
          32,
          25,
          26,
          31,
          24,
          24,
          27,
          29,
          28,
          28,
          23,
          30,
          29,
          25,
          24,
          30,
          22,
          29,
          23,
          26,
          30,
          27,
          24,
          33,
          31,
          25,
          24,
          30,
          23,
          27,
          26,
          26,
          25,
          30,
          28,
          33,
          23,
          28,
          25,
          33,
          28,
          31,
          26,
          22,
          30,
          28,
          28,
          24,
          29,
          28,
          28,
          30,
          21,
          32,
          30,
          27,
          24,
          26,
          25,
          25,
          31,
          29,
          27,
          23,
          29,
          29,
          28,
          26,
          24,
          29,
          32,
          25,
          25,
          26,
          29,
          27,
          27,
          28,
          26,
          29,
          25,
          29,
          23,
          27,
          31,
          27,
          28,
          28,
          25,
          21,
          23,
          29,
          24,
          29,
          30,
          28,
          30,
          29,
          25,
          25,
          28,
          26,
          27,
          27,
          28,
          25,
          32,
          26,
          29,
          28,
          24,
          28,
          27,
          24,
          31,
          27,
          29,
          26,
          33,
          26,
          30,
          32,
          28,
          25,
          25,
          27,
          28,
          30,
          25,
          33,
          21,
          31,
          30,
          26,
          28,
          29,
          27,
          24,
          27,
          27,
          27,
          26,
          27,
          32,
          25,
          30,
          22,
          25,
          34,
          26,
          27,
          33,
          26,
          27,
          28,
          24,
          26,
          25,
          26,
          25,
          24,
          29,
          27,
          25,
          26,
          22,
          24,
          22,
          26,
          32,
          29,
          27,
          31,
          26,
          27,
          34,
          32,
          26,
          30,
          24,
          27,
          24,
          30,
          31,
          28,
          27,
          27,
          29,
          30,
          28,
          29,
          24,
          24,
          29,
          30,
          31,
          28,
          27,
          29,
          28,
          30,
          26,
          20,
          28,
          24,
          28,
          26,
          20,
          28,
          32,
          24,
          27,
          28,
          24,
          26,
          29,
          26,
          28,
          24,
          29,
          29,
          30,
          26,
          24,
          27,
          24,
          29,
          26,
          22,
          26,
          31,
          27,
          24,
          30,
          27,
          24,
          27,
          28,
          31,
          28,
          27,
          22,
          27,
          32,
          26,
          30,
          25,
          32,
          25,
          26,
          28,
          26,
          27,
          26,
          29,
          29,
          24,
          22,
          22,
          26,
          27,
          32,
          29,
          27,
          27,
          25,
          30,
          30,
          27,
          28,
          27,
          26,
          23,
          22,
          31,
          28,
          25,
          28,
          27,
          29,
          28,
          24,
          31,
          28,
          28,
          24,
          29,
          26,
          30,
          27,
          20,
          25,
          22,
          28,
          25,
          29,
          21,
          27,
          27,
          25,
          27,
          25,
          26,
          25,
          27,
          26,
          22,
          21,
          19,
          28
         ],
         "y0": " ",
         "yaxis": "y2"
        },
        {
         "alignmentgroup": "True",
         "hovertemplate": "observation3=%{y}<extra></extra>",
         "legendgroup": "",
         "marker": {
          "color": "#636efa"
         },
         "name": "",
         "notched": false,
         "offsetgroup": "",
         "orientation": "v",
         "showlegend": false,
         "type": "box",
         "x0": " ",
         "xaxis": "x3",
         "y": [
          21,
          21,
          24,
          31,
          54,
          52,
          37,
          69,
          36,
          30,
          64,
          30,
          76,
          73,
          42,
          52,
          67,
          28,
          24,
          50,
          70,
          57,
          20,
          27,
          51,
          67,
          56,
          30,
          52,
          44,
          49,
          31,
          64,
          65,
          32,
          37,
          37,
          18,
          65,
          42,
          45,
          40,
          66,
          72,
          43,
          64,
          43,
          54,
          48,
          30,
          35,
          41,
          17,
          44,
          32,
          37,
          45,
          41,
          23,
          45,
          69,
          36,
          47,
          31,
          33,
          51,
          27,
          20,
          15,
          26,
          28,
          67,
          36,
          54,
          17,
          51,
          75,
          41,
          29,
          55,
          37,
          63,
          42,
          49,
          32,
          39,
          46,
          50,
          32,
          43,
          45,
          26,
          22,
          15,
          26,
          24,
          71,
          55,
          68,
          35,
          40,
          55,
          21,
          60,
          41,
          22,
          34,
          30,
          56,
          61,
          51,
          33,
          47,
          48,
          26,
          30,
          56,
          42,
          66,
          50,
          57,
          12,
          20,
          69,
          47,
          38,
          68,
          41,
          33,
          29,
          63,
          38,
          55,
          39,
          44,
          74,
          40,
          35,
          49,
          37,
          34,
          25,
          15,
          70,
          20,
          35,
          23,
          54,
          29,
          27,
          37,
          27,
          32,
          34,
          71,
          38,
          32,
          65,
          50,
          23,
          72,
          48,
          32,
          52,
          43,
          34,
          26,
          42,
          53,
          54,
          48,
          23,
          24,
          37,
          64,
          70,
          21,
          50,
          47,
          67,
          44,
          63,
          44,
          12,
          62,
          48,
          62,
          70,
          39,
          25,
          41,
          59,
          32,
          43,
          35,
          63,
          70,
          36,
          61,
          38,
          44,
          48,
          30,
          31,
          29,
          31,
          35,
          50,
          19,
          45,
          68,
          18,
          47,
          32,
          36,
          36,
          27,
          37,
          77,
          64,
          35,
          48,
          29,
          37,
          48,
          39,
          46,
          72,
          32,
          49,
          39,
          20,
          33,
          41,
          39,
          52,
          41,
          35,
          69,
          25,
          50,
          14,
          48,
          30,
          39,
          69,
          53,
          43,
          37,
          37,
          39,
          32,
          24,
          19,
          50,
          17,
          53,
          36,
          16,
          29,
          64,
          36,
          32,
          1,
          43,
          26,
          32,
          40,
          72,
          35,
          33,
          24,
          32,
          38,
          67,
          29,
          52,
          55,
          67,
          22,
          18,
          41,
          34,
          65,
          17,
          50,
          16,
          45,
          65,
          46,
          45,
          31,
          52,
          71,
          53,
          52,
          11,
          23,
          71,
          52,
          31,
          27,
          34,
          51,
          74,
          19,
          16,
          25,
          36,
          13,
          59,
          50,
          40,
          45,
          50,
          43,
          32,
          36,
          40,
          42,
          27,
          33,
          29,
          75,
          67,
          42,
          19,
          47,
          16,
          46,
          45,
          35,
          28,
          36,
          37,
          59,
          40,
          45,
          30,
          35,
          40,
          44,
          55,
          28,
          9,
          28,
          65,
          31,
          37,
          28,
          28,
          40,
          10,
          48,
          39,
          69,
          66,
          54,
          39,
          65,
          56,
          19,
          38,
          21,
          21,
          24,
          41,
          50,
          21,
          69,
          67,
          27,
          43,
          57,
          27,
          39,
          30,
          51,
          35,
          20,
          39,
          35,
          59,
          60,
          47,
          24,
          32,
          46,
          72,
          69,
          49,
          33,
          50,
          35,
          45,
          52,
          28,
          70,
          27,
          67,
          31,
          28,
          19,
          71,
          29,
          41,
          67,
          32,
          63,
          19,
          66,
          71,
          67,
          18,
          32,
          2,
          53,
          71,
          43,
          70,
          25,
          66,
          22,
          33,
          48,
          38,
          72,
          24,
          32,
          39,
          32,
          22,
          19,
          59,
          44,
          36,
          31,
          69,
          70,
          46,
          12,
          31,
          52,
          25,
          48,
          17,
          24,
          40,
          24,
          41,
          15,
          46,
          41,
          44,
          33,
          64,
          48,
          68,
          36,
          41,
          48,
          32,
          69,
          66,
          38,
          25,
          24,
          43,
          8,
          60,
          17,
          23,
          32,
          68,
          59,
          39,
          51,
          64,
          51,
          25,
          36,
          56,
          67,
          56,
          42,
          48,
          45,
          14,
          17,
          15,
          24,
          60,
          73,
          65,
          40,
          35,
          70,
          34,
          48,
          45,
          32,
          38,
          48,
          49,
          44,
          43,
          73,
          69,
          34,
          24,
          52,
          46,
          30,
          38,
          36,
          34,
          35,
          68,
          20,
          45,
          34,
          70,
          44,
          56,
          65,
          69,
          58,
          72,
          34,
          21,
          48,
          20,
          49,
          34,
          23,
          67,
          61,
          32,
          64,
          49,
          39,
          63,
          74,
          67,
          65,
          50,
          69,
          34,
          68,
          38,
          31,
          37,
          26,
          23,
          67,
          29,
          30,
          26,
          38,
          68,
          45,
          54,
          34,
          32,
          66,
          43,
          66,
          27,
          46,
          28,
          32,
          32,
          22,
          40,
          43,
          63,
          37,
          17,
          23,
          27,
          40,
          36,
          30,
          29,
          30,
          30,
          35,
          42,
          31,
          37,
          20,
          30,
          57,
          17,
          18,
          68,
          41,
          39,
          13,
          69,
          39,
          28,
          53,
          42,
          36,
          47,
          63,
          42,
          37,
          18,
          69,
          35,
          46,
          35,
          18,
          49,
          47,
          38,
          27,
          34,
          57,
          29,
          38,
          39,
          57,
          33,
          36,
          40,
          49,
          48,
          54,
          39,
          49,
          37,
          49,
          66,
          70,
          29,
          61,
          4,
          37,
          36,
          18,
          38,
          66,
          44,
          35,
          31,
          31,
          38,
          67,
          52,
          35,
          51,
          54,
          43,
          40,
          51,
          21,
          40,
          61,
          31,
          22,
          41,
          73,
          68,
          63,
          30,
          46,
          40,
          12,
          15,
          26,
          39,
          70,
          36,
          67,
          45,
          38,
          68,
          43,
          28,
          58,
          52,
          53,
          44,
          73,
          49,
          26,
          34,
          37,
          38,
          47,
          52,
          35,
          29,
          51,
          36,
          4,
          28,
          30,
          38,
          37,
          22,
          74,
          35,
          39,
          73,
          65,
          30,
          66,
          70,
          58,
          35,
          21,
          61,
          66,
          41,
          42,
          64,
          31,
          67,
          38,
          46,
          68,
          65,
          37,
          36,
          40,
          31,
          48,
          46,
          50,
          47,
          53,
          28,
          41,
          68,
          56,
          26,
          41,
          63,
          69,
          67,
          24,
          25,
          43,
          67,
          32,
          32,
          30,
          65,
          44,
          52,
          11,
          25,
          60,
          49,
          25,
          33,
          44,
          10,
          23,
          22,
          29,
          22,
          19,
          58,
          71,
          33,
          66,
          31,
          64,
          28,
          53,
          33,
          45,
          21,
          68,
          37,
          19,
          48,
          51,
          35,
          40,
          53,
          71,
          51,
          27,
          60,
          21,
          45,
          74,
          46,
          29,
          44,
          66,
          55,
          31,
          48,
          31,
          39,
          24,
          55,
          70,
          24,
          41,
          68,
          25,
          39,
          35,
          39,
          45,
          29,
          48,
          65,
          49,
          34,
          68,
          43,
          39,
          32,
          26,
          47,
          25,
          37,
          53,
          37,
          66,
          57,
          32,
          44,
          34,
          47,
          46,
          24,
          70,
          56,
          27,
          28,
          19,
          38,
          45,
          35,
          71,
          53,
          41,
          65,
          25,
          46,
          5,
          14,
          15,
          35,
          50,
          30,
          58,
          46,
          27,
          45,
          37,
          50,
          45,
          40,
          32,
          20,
          38,
          46,
          22,
          50,
          42,
          66,
          34,
          32,
          29,
          30,
          62,
          66,
          16,
          63,
          51,
          25,
          53,
          41,
          35,
          37,
          33,
          25,
          32,
          55,
          29,
          36,
          45,
          14,
          49,
          32,
          38,
          37,
          21,
          29,
          52,
          46,
          42,
          57,
          46,
          58,
          18,
          48,
          71,
          41,
          50,
          43,
          26,
          30,
          27,
          47,
          43,
          38,
          64,
          36,
          39,
          74,
          39,
          56,
          2,
          39,
          70,
          34,
          47,
          59,
          66,
          36,
          33,
          41,
          55,
          66,
          29,
          77,
          63,
          68,
          50,
          50,
          17,
          24,
          16,
          59,
          70,
          16,
          33,
          41,
          32,
          40,
          26,
          7,
          27,
          29,
          29,
          19,
          70,
          23,
          27,
          36,
          55,
          21,
          15,
          14,
          46,
          37,
          67,
          29,
          28,
          33,
          46,
          55,
          35,
          49,
          72,
          20,
          45,
          69,
          16,
          53,
          39,
          38,
          49,
          25,
          43,
          28,
          32,
          67,
          29,
          70,
          26,
          48,
          37,
          16,
          55,
          30,
          35,
          43
         ],
         "y0": " ",
         "yaxis": "y3"
        }
       ],
       "layout": {
        "annotations": [
         {
          "font": {
           "size": 16
          },
          "showarrow": false,
          "text": "Observation",
          "x": 0.14444444444444446,
          "xanchor": "center",
          "xref": "paper",
          "y": 1,
          "yanchor": "bottom",
          "yref": "paper"
         },
         {
          "font": {
           "size": 16
          },
          "showarrow": false,
          "text": "Observation2",
          "x": 0.5,
          "xanchor": "center",
          "xref": "paper",
          "y": 1,
          "yanchor": "bottom",
          "yref": "paper"
         },
         {
          "font": {
           "size": 16
          },
          "showarrow": false,
          "text": "Observation3",
          "x": 0.8555555555555556,
          "xanchor": "center",
          "xref": "paper",
          "y": 1,
          "yanchor": "bottom",
          "yref": "paper"
         }
        ],
        "template": {
         "data": {
          "bar": [
           {
            "error_x": {
             "color": "#2a3f5f"
            },
            "error_y": {
             "color": "#2a3f5f"
            },
            "marker": {
             "line": {
              "color": "#E5ECF6",
              "width": 0.5
             },
             "pattern": {
              "fillmode": "overlay",
              "size": 10,
              "solidity": 0.2
             }
            },
            "type": "bar"
           }
          ],
          "barpolar": [
           {
            "marker": {
             "line": {
              "color": "#E5ECF6",
              "width": 0.5
             },
             "pattern": {
              "fillmode": "overlay",
              "size": 10,
              "solidity": 0.2
             }
            },
            "type": "barpolar"
           }
          ],
          "carpet": [
           {
            "aaxis": {
             "endlinecolor": "#2a3f5f",
             "gridcolor": "white",
             "linecolor": "white",
             "minorgridcolor": "white",
             "startlinecolor": "#2a3f5f"
            },
            "baxis": {
             "endlinecolor": "#2a3f5f",
             "gridcolor": "white",
             "linecolor": "white",
             "minorgridcolor": "white",
             "startlinecolor": "#2a3f5f"
            },
            "type": "carpet"
           }
          ],
          "choropleth": [
           {
            "colorbar": {
             "outlinewidth": 0,
             "ticks": ""
            },
            "type": "choropleth"
           }
          ],
          "contour": [
           {
            "colorbar": {
             "outlinewidth": 0,
             "ticks": ""
            },
            "colorscale": [
             [
              0,
              "#0d0887"
             ],
             [
              0.1111111111111111,
              "#46039f"
             ],
             [
              0.2222222222222222,
              "#7201a8"
             ],
             [
              0.3333333333333333,
              "#9c179e"
             ],
             [
              0.4444444444444444,
              "#bd3786"
             ],
             [
              0.5555555555555556,
              "#d8576b"
             ],
             [
              0.6666666666666666,
              "#ed7953"
             ],
             [
              0.7777777777777778,
              "#fb9f3a"
             ],
             [
              0.8888888888888888,
              "#fdca26"
             ],
             [
              1,
              "#f0f921"
             ]
            ],
            "type": "contour"
           }
          ],
          "contourcarpet": [
           {
            "colorbar": {
             "outlinewidth": 0,
             "ticks": ""
            },
            "type": "contourcarpet"
           }
          ],
          "heatmap": [
           {
            "colorbar": {
             "outlinewidth": 0,
             "ticks": ""
            },
            "colorscale": [
             [
              0,
              "#0d0887"
             ],
             [
              0.1111111111111111,
              "#46039f"
             ],
             [
              0.2222222222222222,
              "#7201a8"
             ],
             [
              0.3333333333333333,
              "#9c179e"
             ],
             [
              0.4444444444444444,
              "#bd3786"
             ],
             [
              0.5555555555555556,
              "#d8576b"
             ],
             [
              0.6666666666666666,
              "#ed7953"
             ],
             [
              0.7777777777777778,
              "#fb9f3a"
             ],
             [
              0.8888888888888888,
              "#fdca26"
             ],
             [
              1,
              "#f0f921"
             ]
            ],
            "type": "heatmap"
           }
          ],
          "heatmapgl": [
           {
            "colorbar": {
             "outlinewidth": 0,
             "ticks": ""
            },
            "colorscale": [
             [
              0,
              "#0d0887"
             ],
             [
              0.1111111111111111,
              "#46039f"
             ],
             [
              0.2222222222222222,
              "#7201a8"
             ],
             [
              0.3333333333333333,
              "#9c179e"
             ],
             [
              0.4444444444444444,
              "#bd3786"
             ],
             [
              0.5555555555555556,
              "#d8576b"
             ],
             [
              0.6666666666666666,
              "#ed7953"
             ],
             [
              0.7777777777777778,
              "#fb9f3a"
             ],
             [
              0.8888888888888888,
              "#fdca26"
             ],
             [
              1,
              "#f0f921"
             ]
            ],
            "type": "heatmapgl"
           }
          ],
          "histogram": [
           {
            "marker": {
             "pattern": {
              "fillmode": "overlay",
              "size": 10,
              "solidity": 0.2
             }
            },
            "type": "histogram"
           }
          ],
          "histogram2d": [
           {
            "colorbar": {
             "outlinewidth": 0,
             "ticks": ""
            },
            "colorscale": [
             [
              0,
              "#0d0887"
             ],
             [
              0.1111111111111111,
              "#46039f"
             ],
             [
              0.2222222222222222,
              "#7201a8"
             ],
             [
              0.3333333333333333,
              "#9c179e"
             ],
             [
              0.4444444444444444,
              "#bd3786"
             ],
             [
              0.5555555555555556,
              "#d8576b"
             ],
             [
              0.6666666666666666,
              "#ed7953"
             ],
             [
              0.7777777777777778,
              "#fb9f3a"
             ],
             [
              0.8888888888888888,
              "#fdca26"
             ],
             [
              1,
              "#f0f921"
             ]
            ],
            "type": "histogram2d"
           }
          ],
          "histogram2dcontour": [
           {
            "colorbar": {
             "outlinewidth": 0,
             "ticks": ""
            },
            "colorscale": [
             [
              0,
              "#0d0887"
             ],
             [
              0.1111111111111111,
              "#46039f"
             ],
             [
              0.2222222222222222,
              "#7201a8"
             ],
             [
              0.3333333333333333,
              "#9c179e"
             ],
             [
              0.4444444444444444,
              "#bd3786"
             ],
             [
              0.5555555555555556,
              "#d8576b"
             ],
             [
              0.6666666666666666,
              "#ed7953"
             ],
             [
              0.7777777777777778,
              "#fb9f3a"
             ],
             [
              0.8888888888888888,
              "#fdca26"
             ],
             [
              1,
              "#f0f921"
             ]
            ],
            "type": "histogram2dcontour"
           }
          ],
          "mesh3d": [
           {
            "colorbar": {
             "outlinewidth": 0,
             "ticks": ""
            },
            "type": "mesh3d"
           }
          ],
          "parcoords": [
           {
            "line": {
             "colorbar": {
              "outlinewidth": 0,
              "ticks": ""
             }
            },
            "type": "parcoords"
           }
          ],
          "pie": [
           {
            "automargin": true,
            "type": "pie"
           }
          ],
          "scatter": [
           {
            "fillpattern": {
             "fillmode": "overlay",
             "size": 10,
             "solidity": 0.2
            },
            "type": "scatter"
           }
          ],
          "scatter3d": [
           {
            "line": {
             "colorbar": {
              "outlinewidth": 0,
              "ticks": ""
             }
            },
            "marker": {
             "colorbar": {
              "outlinewidth": 0,
              "ticks": ""
             }
            },
            "type": "scatter3d"
           }
          ],
          "scattercarpet": [
           {
            "marker": {
             "colorbar": {
              "outlinewidth": 0,
              "ticks": ""
             }
            },
            "type": "scattercarpet"
           }
          ],
          "scattergeo": [
           {
            "marker": {
             "colorbar": {
              "outlinewidth": 0,
              "ticks": ""
             }
            },
            "type": "scattergeo"
           }
          ],
          "scattergl": [
           {
            "marker": {
             "colorbar": {
              "outlinewidth": 0,
              "ticks": ""
             }
            },
            "type": "scattergl"
           }
          ],
          "scattermapbox": [
           {
            "marker": {
             "colorbar": {
              "outlinewidth": 0,
              "ticks": ""
             }
            },
            "type": "scattermapbox"
           }
          ],
          "scatterpolar": [
           {
            "marker": {
             "colorbar": {
              "outlinewidth": 0,
              "ticks": ""
             }
            },
            "type": "scatterpolar"
           }
          ],
          "scatterpolargl": [
           {
            "marker": {
             "colorbar": {
              "outlinewidth": 0,
              "ticks": ""
             }
            },
            "type": "scatterpolargl"
           }
          ],
          "scatterternary": [
           {
            "marker": {
             "colorbar": {
              "outlinewidth": 0,
              "ticks": ""
             }
            },
            "type": "scatterternary"
           }
          ],
          "surface": [
           {
            "colorbar": {
             "outlinewidth": 0,
             "ticks": ""
            },
            "colorscale": [
             [
              0,
              "#0d0887"
             ],
             [
              0.1111111111111111,
              "#46039f"
             ],
             [
              0.2222222222222222,
              "#7201a8"
             ],
             [
              0.3333333333333333,
              "#9c179e"
             ],
             [
              0.4444444444444444,
              "#bd3786"
             ],
             [
              0.5555555555555556,
              "#d8576b"
             ],
             [
              0.6666666666666666,
              "#ed7953"
             ],
             [
              0.7777777777777778,
              "#fb9f3a"
             ],
             [
              0.8888888888888888,
              "#fdca26"
             ],
             [
              1,
              "#f0f921"
             ]
            ],
            "type": "surface"
           }
          ],
          "table": [
           {
            "cells": {
             "fill": {
              "color": "#EBF0F8"
             },
             "line": {
              "color": "white"
             }
            },
            "header": {
             "fill": {
              "color": "#C8D4E3"
             },
             "line": {
              "color": "white"
             }
            },
            "type": "table"
           }
          ]
         },
         "layout": {
          "annotationdefaults": {
           "arrowcolor": "#2a3f5f",
           "arrowhead": 0,
           "arrowwidth": 1
          },
          "autotypenumbers": "strict",
          "coloraxis": {
           "colorbar": {
            "outlinewidth": 0,
            "ticks": ""
           }
          },
          "colorscale": {
           "diverging": [
            [
             0,
             "#8e0152"
            ],
            [
             0.1,
             "#c51b7d"
            ],
            [
             0.2,
             "#de77ae"
            ],
            [
             0.3,
             "#f1b6da"
            ],
            [
             0.4,
             "#fde0ef"
            ],
            [
             0.5,
             "#f7f7f7"
            ],
            [
             0.6,
             "#e6f5d0"
            ],
            [
             0.7,
             "#b8e186"
            ],
            [
             0.8,
             "#7fbc41"
            ],
            [
             0.9,
             "#4d9221"
            ],
            [
             1,
             "#276419"
            ]
           ],
           "sequential": [
            [
             0,
             "#0d0887"
            ],
            [
             0.1111111111111111,
             "#46039f"
            ],
            [
             0.2222222222222222,
             "#7201a8"
            ],
            [
             0.3333333333333333,
             "#9c179e"
            ],
            [
             0.4444444444444444,
             "#bd3786"
            ],
            [
             0.5555555555555556,
             "#d8576b"
            ],
            [
             0.6666666666666666,
             "#ed7953"
            ],
            [
             0.7777777777777778,
             "#fb9f3a"
            ],
            [
             0.8888888888888888,
             "#fdca26"
            ],
            [
             1,
             "#f0f921"
            ]
           ],
           "sequentialminus": [
            [
             0,
             "#0d0887"
            ],
            [
             0.1111111111111111,
             "#46039f"
            ],
            [
             0.2222222222222222,
             "#7201a8"
            ],
            [
             0.3333333333333333,
             "#9c179e"
            ],
            [
             0.4444444444444444,
             "#bd3786"
            ],
            [
             0.5555555555555556,
             "#d8576b"
            ],
            [
             0.6666666666666666,
             "#ed7953"
            ],
            [
             0.7777777777777778,
             "#fb9f3a"
            ],
            [
             0.8888888888888888,
             "#fdca26"
            ],
            [
             1,
             "#f0f921"
            ]
           ]
          },
          "colorway": [
           "#636efa",
           "#EF553B",
           "#00cc96",
           "#ab63fa",
           "#FFA15A",
           "#19d3f3",
           "#FF6692",
           "#B6E880",
           "#FF97FF",
           "#FECB52"
          ],
          "font": {
           "color": "#2a3f5f"
          },
          "geo": {
           "bgcolor": "white",
           "lakecolor": "white",
           "landcolor": "#E5ECF6",
           "showlakes": true,
           "showland": true,
           "subunitcolor": "white"
          },
          "hoverlabel": {
           "align": "left"
          },
          "hovermode": "closest",
          "mapbox": {
           "style": "light"
          },
          "paper_bgcolor": "white",
          "plot_bgcolor": "#E5ECF6",
          "polar": {
           "angularaxis": {
            "gridcolor": "white",
            "linecolor": "white",
            "ticks": ""
           },
           "bgcolor": "#E5ECF6",
           "radialaxis": {
            "gridcolor": "white",
            "linecolor": "white",
            "ticks": ""
           }
          },
          "scene": {
           "xaxis": {
            "backgroundcolor": "#E5ECF6",
            "gridcolor": "white",
            "gridwidth": 2,
            "linecolor": "white",
            "showbackground": true,
            "ticks": "",
            "zerolinecolor": "white"
           },
           "yaxis": {
            "backgroundcolor": "#E5ECF6",
            "gridcolor": "white",
            "gridwidth": 2,
            "linecolor": "white",
            "showbackground": true,
            "ticks": "",
            "zerolinecolor": "white"
           },
           "zaxis": {
            "backgroundcolor": "#E5ECF6",
            "gridcolor": "white",
            "gridwidth": 2,
            "linecolor": "white",
            "showbackground": true,
            "ticks": "",
            "zerolinecolor": "white"
           }
          },
          "shapedefaults": {
           "line": {
            "color": "#2a3f5f"
           }
          },
          "ternary": {
           "aaxis": {
            "gridcolor": "white",
            "linecolor": "white",
            "ticks": ""
           },
           "baxis": {
            "gridcolor": "white",
            "linecolor": "white",
            "ticks": ""
           },
           "bgcolor": "#E5ECF6",
           "caxis": {
            "gridcolor": "white",
            "linecolor": "white",
            "ticks": ""
           }
          },
          "title": {
           "x": 0.05
          },
          "xaxis": {
           "automargin": true,
           "gridcolor": "white",
           "linecolor": "white",
           "ticks": "",
           "title": {
            "standoff": 15
           },
           "zerolinecolor": "white",
           "zerolinewidth": 2
          },
          "yaxis": {
           "automargin": true,
           "gridcolor": "white",
           "linecolor": "white",
           "ticks": "",
           "title": {
            "standoff": 15
           },
           "zerolinecolor": "white",
           "zerolinewidth": 2
          }
         }
        },
        "title": {
         "text": "Edades según barrio"
        },
        "xaxis": {
         "anchor": "y",
         "domain": [
          0,
          0.2888888888888889
         ]
        },
        "xaxis2": {
         "anchor": "y2",
         "domain": [
          0.35555555555555557,
          0.6444444444444445
         ]
        },
        "xaxis3": {
         "anchor": "y3",
         "domain": [
          0.7111111111111111,
          1
         ]
        },
        "yaxis": {
         "anchor": "x",
         "domain": [
          0,
          1
         ]
        },
        "yaxis2": {
         "anchor": "x2",
         "domain": [
          0,
          1
         ]
        },
        "yaxis3": {
         "anchor": "x3",
         "domain": [
          0,
          1
         ]
        }
       }
      },
      "text/html": [
       "<div>                            <div id=\"5b6dd72f-6c53-4667-848b-ccdb52daecda\" class=\"plotly-graph-div\" style=\"height:525px; width:100%;\"></div>            <script type=\"text/javascript\">                require([\"plotly\"], function(Plotly) {                    window.PLOTLYENV=window.PLOTLYENV || {};                                    if (document.getElementById(\"5b6dd72f-6c53-4667-848b-ccdb52daecda\")) {                    Plotly.newPlot(                        \"5b6dd72f-6c53-4667-848b-ccdb52daecda\",                        [{\"alignmentgroup\":\"True\",\"hovertemplate\":\"observation=%{y}<extra></extra>\",\"legendgroup\":\"\",\"marker\":{\"color\":\"#636efa\"},\"name\":\"\",\"notched\":false,\"offsetgroup\":\"\",\"orientation\":\"v\",\"showlegend\":false,\"x0\":\" \",\"xaxis\":\"x\",\"y\":[68.0,12.0,45.0,38.0,49.0,27.0,39.0,12.0,42.0,33.0,30.0,25.0,30.0,44.0,53.0,46.0,50.0,22.0,6.0,29.0,29.0,27.0,35.0,38.0,28.0,26.0,60.0,41.0,38.0,41.0,44.0,52.0,46.0,39.0,44.0,46.0,32.0,23.0,15.0,40.0,42.0,32.0,45.0,29.0,22.0,41.0,39.0,63.0,39.0,31.0,34.0,28.0,45.0,33.0,32.0,61.0,64.0,37.0,56.0,44.0,33.0,38.0,40.0,38.0,56.0,14.0,52.0,34.0,14.0,34.0,31.0,46.0,50.0,37.0,13.0,12.0,25.0,28.0,51.0,13.0,36.0,52.0,13.0,30.0,36.0,35.0,26.0,34.0,51.0,52.0,35.0,44.0,23.0,29.0,25.0,30.0,27.0,42.0,18.0,39.0,42.0,48.0,30.0,40.0,34.0,28.0,48.0,48.0,42.0,53.0,34.0,37.0,32.0,29.0,18.0,35.0,58.0,37.0,32.0,49.0,20.0,42.0,29.0,22.0,39.0,41.0,54.0,20.0,19.0,39.0,39.0,39.0,58.0,23.0,45.0,13.0,44.0,39.0,30.0,37.0,62.0,45.0,33.0,55.0,33.0,39.0,34.0,32.0,25.0,21.0,39.0,43.0,18.0,40.0,50.0,35.0,46.0,36.0,30.0,44.0,34.0,58.0,14.0,27.0,62.0,42.0,27.0,50.0,29.0,41.0,30.0,37.0,43.0,43.0,49.0,31.0,17.0,42.0,48.0,29.0,38.0,31.0,20.0,50.0,26.0,45.0,56.0,35.0,48.0,35.0,55.0,44.0,23.0,39.0,39.0,45.0,21.0,43.0,38.0,40.0,35.0,25.0,7.0,26.0,40.0,52.0,46.0,47.0,38.0,1.0,16.0,54.0,45.0,35.0,54.0,41.0,12.0,37.0,50.0,37.0,24.0,47.0,39.0,30.0,41.0,31.0,23.0,42.0,24.0,23.0,31.0,45.0,53.0,21.0,59.0,63.0,41.0,53.0,59.0,48.0,57.0,39.0,32.0,36.0,21.0,40.0,51.0,44.0,59.0,25.0,52.0,42.0,8.0,34.0,43.0,46.0,36.0,42.0,46.0,44.0,29.0,17.0,56.0,41.0,30.0,67.0,41.0,34.0,42.0,22.0,19.0,57.0,16.0,24.0,26.0,32.0,35.0,36.0,26.0,21.0,20.0,28.0,19.0,56.0,41.0,38.0,42.0,31.0,30.0,41.0,31.0,33.0,42.0,45.0,62.0,29.0,41.0,19.0,42.0,42.0,54.0,2.0,40.0,28.0,42.0,28.0,26.0,43.0,32.0,54.0,34.0,25.0,32.0,14.0,66.0,24.0,43.0,33.0,29.0,8.0,43.0,30.0,34.0,37.0,40.0,42.0,48.0,19.0,35.0,41.0,26.0,36.0,23.0,46.0,35.0,28.0,39.0,21.0,4.0,73.0,43.0,48.0,20.0,49.0,28.0,26.0,34.0,20.0,39.0,46.0,37.0,20.0,29.0,63.0,36.0,49.0,36.0,36.0,34.0,46.0,44.0,15.0,38.0,82.0,48.0,29.0,49.0,57.0,16.0,12.0,36.0,59.0,49.0,17.0,25.0,33.0,37.0,40.0,43.0,57.0,43.0,38.0,35.0,30.0,14.0,48.0,24.0,32.0,47.0,29.0,50.0,43.0,55.0,36.0,49.0,46.0,45.0,52.0,36.0,30.0,33.0,34.0,18.0,32.0,40.0,37.0,36.0,63.0,44.0,57.0,35.0,28.0,57.0,15.0,40.0,47.0,17.0,53.0,39.0,29.0,47.0,37.0,30.0,19.0,66.0,56.0,8.0,22.0,43.0,39.0,21.0,41.0,54.0,51.0,37.0,23.0,56.0,70.0,39.0,14.0,60.0,26.0,30.0,47.0,52.0,30.0,54.0,5.0,22.0,23.0,34.0,2.0,34.0,45.0,31.0,42.0,47.0,35.0,36.0,39.0,41.0,60.0,42.0,26.0,45.0,25.0,32.0,47.0,36.0,37.0,40.0,57.0,40.0,59.0,31.0,32.0,63.0,38.0,41.0,43.0,17.0,34.0,28.0,43.0,51.0,8.0,30.0,43.0,24.0,1.0,16.0,43.0,27.0,71.0,50.0,50.0,9.0,30.0,15.0,32.0,50.0,39.0,24.0,55.0,38.0,17.0,36.0,43.0,40.0,42.0,37.0,55.0,31.0,31.0,31.0,21.0,43.0,45.0,36.0,23.0,32.0,14.0,16.0,69.0,11.0,33.0,36.0,39.0,19.0,31.0,26.0,52.0,41.0,30.0,31.0,32.0,35.0,43.0,52.0,41.0,17.0,38.0,28.0,54.0,42.0,24.0,39.0,44.0,31.0,48.0,6.0,50.0,27.0,45.0,28.0,29.0,43.0,44.0,14.0,28.0,15.0,37.0,61.0,36.0,35.0,32.0,34.0,26.0,37.0,41.0,59.0,45.0,46.0,32.0,30.0,33.0,27.0,10.0,42.0,30.0,54.0,36.0,44.0,45.0,54.0,37.0,40.0,23.0,66.0,32.0,39.0,34.0,46.0,39.0,38.0,38.0,50.0,55.0,30.0,47.0,41.0,56.0,39.0,41.0,27.0,23.0,30.0,17.0,45.0,29.0,42.0,26.0,22.0,39.0,23.0,48.0,51.0,39.0,52.0,39.0,41.0,56.0,38.0,44.0,33.0,39.0,44.0,29.0,49.0,13.0,53.0,58.0,27.0,23.0,27.0,45.0,12.0,30.0,40.0,30.0,49.0,40.0,32.0,53.0,37.0,31.0,46.0,31.0,22.0,19.0,12.0,49.0,47.0,42.0,38.0,58.0,43.0,38.0,42.0,30.0,45.0,26.0,38.0,26.0,46.0,20.0,29.0,39.0,37.0,42.0,43.0,48.0,55.0,22.0,26.0,30.0,55.0,35.0,51.0,46.0,38.0,65.0,55.0,41.0,30.0,37.0,27.0,36.0,42.0,38.0,20.0,47.0,31.0,34.0,35.0,36.0,5.0,40.0,41.0,27.0,47.0,63.0,35.0,32.0,27.0,50.0,39.0,38.0,36.0,17.0,27.0,45.0,30.0,28.0,43.0,33.0,45.0,20.0,29.0,48.0,20.0,44.0,42.0,60.0,25.0,48.0,41.0,39.0,11.0,35.0,43.0,51.0,24.0,33.0,22.0,21.0,45.0,48.0,56.0,25.0,33.0,36.0,53.0,51.0,42.0,15.0,32.0,22.0,59.0,54.0,32.0,39.0,47.0,17.0,28.0,29.0,56.0,34.0,28.0,44.0,67.0,26.0,25.0,23.0,56.0,52.0,25.0,49.0,26.0,39.0,63.0,48.0,48.0,30.0,37.0,46.0,14.0,15.0,44.0,39.0,40.0,22.0,30.0,39.0,43.0,46.0,35.0,16.0,44.0,18.0,26.0,27.0,37.0,20.0,35.0,50.0,55.0,45.0,41.0,54.0,56.0,46.0,56.0,24.0,33.0,12.0,31.0,12.0,25.0,49.0,52.0,55.0,27.0,49.0,44.0,49.0,40.0,34.0,16.0,19.0,36.0,32.0,67.0,52.0,38.0,33.0,68.0,14.0,43.0,10.0,11.0,39.0,13.0,54.0,41.0,40.0,18.0,16.0,45.0,35.0,39.0,34.0,46.0,53.0,23.0,55.0,37.0,29.0,48.0,35.0,45.0,68.0,29.0,40.0,33.0,64.0,45.0,10.0,47.0,23.0,39.0,20.0,41.0,36.0,41.0,25.0,46.0,49.0,28.0,40.0,58.0,46.0,37.0,41.0,38.0,35.0,31.0,30.0,35.0,34.0,15.0,58.0,41.0,59.0,32.0,12.0,27.0,41.0,37.0,47.0,49.0,47.0,53.0,35.0,38.0,24.0,50.0,27.0,27.0,26.0,24.0,30.0,43.0,35.0,22.0,22.0,32.0,37.0,55.0,27.0,36.0,50.0,21.0,45.0,27.0,53.0,41.0,28.0,45.0,39.0,43.0,29.0,18.0,34.0,19.0,26.0,32.0,65.0,38.0,24.0,27.0,24.0,19.0,49.0,25.0,41.0,22.0,31.0,24.0,21.0,8.0,56.0,42.0,43.0,62.0,22.0,67.0,38.0,43.0,41.0,34.0,38.0,21.0,35.0,28.0,27.0,21.0,40.0,44.0,25.0,40.0,29.0,39.0,25.0,33.0,37.0,35.0,26.0,34.0,43.0,39.0,32.0,33.0,24.0,24.0,25.0,36.0,49.0,31.0,12.0,9.0,35.0,21.0,36.0,37.0,34.0,24.0,35.0,38.0,33.0,42.0,32.0,29.0,36.0,40.0,27.0,47.0,53.0,33.0,31.0],\"y0\":\" \",\"yaxis\":\"y\",\"type\":\"box\"},{\"alignmentgroup\":\"True\",\"hovertemplate\":\"observation2=%{y}<extra></extra>\",\"legendgroup\":\"\",\"marker\":{\"color\":\"#636efa\"},\"name\":\"\",\"notched\":false,\"offsetgroup\":\"\",\"orientation\":\"v\",\"showlegend\":false,\"x0\":\" \",\"xaxis\":\"x2\",\"y\":[25.0,31.0,29.0,31.0,29.0,29.0,28.0,30.0,24.0,26.0,30.0,29.0,24.0,26.0,30.0,25.0,25.0,30.0,21.0,29.0,25.0,28.0,27.0,27.0,31.0,27.0,26.0,24.0,29.0,23.0,31.0,26.0,28.0,22.0,28.0,31.0,29.0,22.0,28.0,25.0,26.0,32.0,26.0,28.0,29.0,31.0,27.0,25.0,24.0,30.0,27.0,22.0,25.0,28.0,25.0,31.0,27.0,30.0,28.0,27.0,29.0,26.0,28.0,26.0,22.0,30.0,27.0,31.0,27.0,24.0,27.0,28.0,23.0,20.0,23.0,25.0,29.0,33.0,27.0,25.0,25.0,26.0,31.0,28.0,29.0,23.0,30.0,26.0,27.0,24.0,29.0,26.0,28.0,24.0,25.0,21.0,19.0,26.0,28.0,28.0,24.0,28.0,30.0,27.0,29.0,26.0,28.0,31.0,32.0,25.0,30.0,30.0,24.0,22.0,29.0,25.0,21.0,30.0,30.0,29.0,29.0,22.0,33.0,31.0,26.0,25.0,28.0,31.0,28.0,28.0,31.0,23.0,33.0,25.0,33.0,23.0,30.0,27.0,24.0,29.0,24.0,28.0,23.0,24.0,32.0,29.0,31.0,34.0,31.0,27.0,26.0,28.0,26.0,28.0,26.0,33.0,29.0,22.0,26.0,25.0,28.0,29.0,28.0,28.0,31.0,25.0,30.0,26.0,26.0,30.0,27.0,23.0,29.0,30.0,25.0,32.0,27.0,29.0,28.0,27.0,27.0,23.0,23.0,27.0,25.0,27.0,35.0,30.0,27.0,27.0,28.0,30.0,26.0,32.0,21.0,29.0,28.0,31.0,31.0,28.0,27.0,31.0,26.0,24.0,28.0,28.0,26.0,26.0,24.0,28.0,25.0,29.0,26.0,24.0,30.0,25.0,29.0,30.0,29.0,26.0,28.0,25.0,29.0,29.0,31.0,26.0,23.0,25.0,24.0,27.0,23.0,28.0,31.0,26.0,25.0,31.0,29.0,24.0,28.0,26.0,27.0,25.0,27.0,31.0,29.0,29.0,29.0,32.0,24.0,30.0,28.0,27.0,22.0,29.0,21.0,25.0,27.0,24.0,23.0,33.0,23.0,30.0,25.0,35.0,26.0,23.0,27.0,30.0,27.0,28.0,24.0,27.0,20.0,29.0,31.0,23.0,29.0,29.0,31.0,25.0,24.0,23.0,23.0,20.0,28.0,28.0,28.0,27.0,36.0,20.0,31.0,28.0,29.0,30.0,33.0,28.0,25.0,29.0,28.0,26.0,23.0,26.0,34.0,29.0,30.0,28.0,29.0,27.0,26.0,30.0,33.0,25.0,25.0,24.0,25.0,29.0,34.0,24.0,34.0,27.0,27.0,28.0,30.0,27.0,26.0,21.0,21.0,19.0,29.0,28.0,32.0,29.0,28.0,27.0,24.0,28.0,30.0,26.0,29.0,24.0,27.0,32.0,29.0,31.0,31.0,24.0,30.0,26.0,24.0,27.0,23.0,25.0,28.0,28.0,31.0,24.0,21.0,28.0,23.0,28.0,25.0,26.0,24.0,28.0,23.0,24.0,24.0,31.0,30.0,26.0,28.0,28.0,25.0,28.0,25.0,28.0,29.0,27.0,27.0,33.0,25.0,29.0,25.0,25.0,25.0,32.0,26.0,28.0,32.0,29.0,25.0,30.0,28.0,26.0,27.0,20.0,26.0,30.0,31.0,29.0,23.0,27.0,29.0,28.0,27.0,23.0,26.0,29.0,31.0,27.0,26.0,33.0,25.0,26.0,26.0,30.0,30.0,26.0,28.0,26.0,29.0,28.0,31.0,29.0,31.0,23.0,23.0,28.0,27.0,26.0,29.0,26.0,25.0,30.0,27.0,25.0,27.0,24.0,28.0,29.0,21.0,24.0,27.0,26.0,28.0,30.0,22.0,25.0,22.0,25.0,31.0,29.0,22.0,20.0,30.0,28.0,30.0,29.0,32.0,27.0,31.0,26.0,30.0,23.0,25.0,28.0,26.0,29.0,34.0,26.0,27.0,33.0,27.0,25.0,30.0,30.0,26.0,25.0,26.0,30.0,21.0,25.0,27.0,29.0,24.0,22.0,30.0,23.0,33.0,28.0,29.0,22.0,29.0,28.0,27.0,26.0,25.0,29.0,27.0,32.0,30.0,24.0,24.0,26.0,30.0,26.0,24.0,28.0,30.0,20.0,20.0,28.0,29.0,26.0,24.0,25.0,29.0,26.0,30.0,25.0,29.0,27.0,28.0,28.0,25.0,36.0,25.0,30.0,26.0,20.0,26.0,22.0,23.0,27.0,25.0,24.0,28.0,27.0,25.0,28.0,26.0,24.0,29.0,22.0,29.0,30.0,25.0,26.0,31.0,22.0,29.0,32.0,27.0,28.0,30.0,29.0,27.0,27.0,26.0,27.0,32.0,30.0,29.0,28.0,29.0,28.0,31.0,33.0,22.0,30.0,27.0,30.0,25.0,29.0,30.0,28.0,28.0,25.0,26.0,26.0,24.0,25.0,26.0,23.0,32.0,31.0,22.0,28.0,22.0,29.0,27.0,29.0,27.0,24.0,27.0,32.0,26.0,24.0,24.0,26.0,33.0,23.0,23.0,27.0,30.0,31.0,27.0,24.0,26.0,31.0,27.0,26.0,30.0,27.0,28.0,31.0,35.0,30.0,30.0,28.0,26.0,22.0,32.0,28.0,28.0,26.0,22.0,27.0,24.0,27.0,30.0,32.0,30.0,28.0,27.0,28.0,28.0,20.0,32.0,26.0,31.0,27.0,25.0,26.0,24.0,29.0,31.0,29.0,27.0,26.0,23.0,27.0,25.0,28.0,28.0,24.0,29.0,30.0,26.0,29.0,22.0,28.0,28.0,28.0,25.0,28.0,25.0,29.0,31.0,33.0,28.0,26.0,28.0,31.0,29.0,25.0,27.0,28.0,30.0,26.0,21.0,29.0,22.0,31.0,30.0,33.0,29.0,21.0,26.0,30.0,32.0,25.0,26.0,31.0,24.0,24.0,27.0,29.0,28.0,28.0,23.0,30.0,29.0,25.0,24.0,30.0,22.0,29.0,23.0,26.0,30.0,27.0,24.0,33.0,31.0,25.0,24.0,30.0,23.0,27.0,26.0,26.0,25.0,30.0,28.0,33.0,23.0,28.0,25.0,33.0,28.0,31.0,26.0,22.0,30.0,28.0,28.0,24.0,29.0,28.0,28.0,30.0,21.0,32.0,30.0,27.0,24.0,26.0,25.0,25.0,31.0,29.0,27.0,23.0,29.0,29.0,28.0,26.0,24.0,29.0,32.0,25.0,25.0,26.0,29.0,27.0,27.0,28.0,26.0,29.0,25.0,29.0,23.0,27.0,31.0,27.0,28.0,28.0,25.0,21.0,23.0,29.0,24.0,29.0,30.0,28.0,30.0,29.0,25.0,25.0,28.0,26.0,27.0,27.0,28.0,25.0,32.0,26.0,29.0,28.0,24.0,28.0,27.0,24.0,31.0,27.0,29.0,26.0,33.0,26.0,30.0,32.0,28.0,25.0,25.0,27.0,28.0,30.0,25.0,33.0,21.0,31.0,30.0,26.0,28.0,29.0,27.0,24.0,27.0,27.0,27.0,26.0,27.0,32.0,25.0,30.0,22.0,25.0,34.0,26.0,27.0,33.0,26.0,27.0,28.0,24.0,26.0,25.0,26.0,25.0,24.0,29.0,27.0,25.0,26.0,22.0,24.0,22.0,26.0,32.0,29.0,27.0,31.0,26.0,27.0,34.0,32.0,26.0,30.0,24.0,27.0,24.0,30.0,31.0,28.0,27.0,27.0,29.0,30.0,28.0,29.0,24.0,24.0,29.0,30.0,31.0,28.0,27.0,29.0,28.0,30.0,26.0,20.0,28.0,24.0,28.0,26.0,20.0,28.0,32.0,24.0,27.0,28.0,24.0,26.0,29.0,26.0,28.0,24.0,29.0,29.0,30.0,26.0,24.0,27.0,24.0,29.0,26.0,22.0,26.0,31.0,27.0,24.0,30.0,27.0,24.0,27.0,28.0,31.0,28.0,27.0,22.0,27.0,32.0,26.0,30.0,25.0,32.0,25.0,26.0,28.0,26.0,27.0,26.0,29.0,29.0,24.0,22.0,22.0,26.0,27.0,32.0,29.0,27.0,27.0,25.0,30.0,30.0,27.0,28.0,27.0,26.0,23.0,22.0,31.0,28.0,25.0,28.0,27.0,29.0,28.0,24.0,31.0,28.0,28.0,24.0,29.0,26.0,30.0,27.0,20.0,25.0,22.0,28.0,25.0,29.0,21.0,27.0,27.0,25.0,27.0,25.0,26.0,25.0,27.0,26.0,22.0,21.0,19.0,28.0],\"y0\":\" \",\"yaxis\":\"y2\",\"type\":\"box\"},{\"alignmentgroup\":\"True\",\"hovertemplate\":\"observation3=%{y}<extra></extra>\",\"legendgroup\":\"\",\"marker\":{\"color\":\"#636efa\"},\"name\":\"\",\"notched\":false,\"offsetgroup\":\"\",\"orientation\":\"v\",\"showlegend\":false,\"x0\":\" \",\"xaxis\":\"x3\",\"y\":[21.0,21.0,24.0,31.0,54.0,52.0,37.0,69.0,36.0,30.0,64.0,30.0,76.0,73.0,42.0,52.0,67.0,28.0,24.0,50.0,70.0,57.0,20.0,27.0,51.0,67.0,56.0,30.0,52.0,44.0,49.0,31.0,64.0,65.0,32.0,37.0,37.0,18.0,65.0,42.0,45.0,40.0,66.0,72.0,43.0,64.0,43.0,54.0,48.0,30.0,35.0,41.0,17.0,44.0,32.0,37.0,45.0,41.0,23.0,45.0,69.0,36.0,47.0,31.0,33.0,51.0,27.0,20.0,15.0,26.0,28.0,67.0,36.0,54.0,17.0,51.0,75.0,41.0,29.0,55.0,37.0,63.0,42.0,49.0,32.0,39.0,46.0,50.0,32.0,43.0,45.0,26.0,22.0,15.0,26.0,24.0,71.0,55.0,68.0,35.0,40.0,55.0,21.0,60.0,41.0,22.0,34.0,30.0,56.0,61.0,51.0,33.0,47.0,48.0,26.0,30.0,56.0,42.0,66.0,50.0,57.0,12.0,20.0,69.0,47.0,38.0,68.0,41.0,33.0,29.0,63.0,38.0,55.0,39.0,44.0,74.0,40.0,35.0,49.0,37.0,34.0,25.0,15.0,70.0,20.0,35.0,23.0,54.0,29.0,27.0,37.0,27.0,32.0,34.0,71.0,38.0,32.0,65.0,50.0,23.0,72.0,48.0,32.0,52.0,43.0,34.0,26.0,42.0,53.0,54.0,48.0,23.0,24.0,37.0,64.0,70.0,21.0,50.0,47.0,67.0,44.0,63.0,44.0,12.0,62.0,48.0,62.0,70.0,39.0,25.0,41.0,59.0,32.0,43.0,35.0,63.0,70.0,36.0,61.0,38.0,44.0,48.0,30.0,31.0,29.0,31.0,35.0,50.0,19.0,45.0,68.0,18.0,47.0,32.0,36.0,36.0,27.0,37.0,77.0,64.0,35.0,48.0,29.0,37.0,48.0,39.0,46.0,72.0,32.0,49.0,39.0,20.0,33.0,41.0,39.0,52.0,41.0,35.0,69.0,25.0,50.0,14.0,48.0,30.0,39.0,69.0,53.0,43.0,37.0,37.0,39.0,32.0,24.0,19.0,50.0,17.0,53.0,36.0,16.0,29.0,64.0,36.0,32.0,1.0,43.0,26.0,32.0,40.0,72.0,35.0,33.0,24.0,32.0,38.0,67.0,29.0,52.0,55.0,67.0,22.0,18.0,41.0,34.0,65.0,17.0,50.0,16.0,45.0,65.0,46.0,45.0,31.0,52.0,71.0,53.0,52.0,11.0,23.0,71.0,52.0,31.0,27.0,34.0,51.0,74.0,19.0,16.0,25.0,36.0,13.0,59.0,50.0,40.0,45.0,50.0,43.0,32.0,36.0,40.0,42.0,27.0,33.0,29.0,75.0,67.0,42.0,19.0,47.0,16.0,46.0,45.0,35.0,28.0,36.0,37.0,59.0,40.0,45.0,30.0,35.0,40.0,44.0,55.0,28.0,9.0,28.0,65.0,31.0,37.0,28.0,28.0,40.0,10.0,48.0,39.0,69.0,66.0,54.0,39.0,65.0,56.0,19.0,38.0,21.0,21.0,24.0,41.0,50.0,21.0,69.0,67.0,27.0,43.0,57.0,27.0,39.0,30.0,51.0,35.0,20.0,39.0,35.0,59.0,60.0,47.0,24.0,32.0,46.0,72.0,69.0,49.0,33.0,50.0,35.0,45.0,52.0,28.0,70.0,27.0,67.0,31.0,28.0,19.0,71.0,29.0,41.0,67.0,32.0,63.0,19.0,66.0,71.0,67.0,18.0,32.0,2.0,53.0,71.0,43.0,70.0,25.0,66.0,22.0,33.0,48.0,38.0,72.0,24.0,32.0,39.0,32.0,22.0,19.0,59.0,44.0,36.0,31.0,69.0,70.0,46.0,12.0,31.0,52.0,25.0,48.0,17.0,24.0,40.0,24.0,41.0,15.0,46.0,41.0,44.0,33.0,64.0,48.0,68.0,36.0,41.0,48.0,32.0,69.0,66.0,38.0,25.0,24.0,43.0,8.0,60.0,17.0,23.0,32.0,68.0,59.0,39.0,51.0,64.0,51.0,25.0,36.0,56.0,67.0,56.0,42.0,48.0,45.0,14.0,17.0,15.0,24.0,60.0,73.0,65.0,40.0,35.0,70.0,34.0,48.0,45.0,32.0,38.0,48.0,49.0,44.0,43.0,73.0,69.0,34.0,24.0,52.0,46.0,30.0,38.0,36.0,34.0,35.0,68.0,20.0,45.0,34.0,70.0,44.0,56.0,65.0,69.0,58.0,72.0,34.0,21.0,48.0,20.0,49.0,34.0,23.0,67.0,61.0,32.0,64.0,49.0,39.0,63.0,74.0,67.0,65.0,50.0,69.0,34.0,68.0,38.0,31.0,37.0,26.0,23.0,67.0,29.0,30.0,26.0,38.0,68.0,45.0,54.0,34.0,32.0,66.0,43.0,66.0,27.0,46.0,28.0,32.0,32.0,22.0,40.0,43.0,63.0,37.0,17.0,23.0,27.0,40.0,36.0,30.0,29.0,30.0,30.0,35.0,42.0,31.0,37.0,20.0,30.0,57.0,17.0,18.0,68.0,41.0,39.0,13.0,69.0,39.0,28.0,53.0,42.0,36.0,47.0,63.0,42.0,37.0,18.0,69.0,35.0,46.0,35.0,18.0,49.0,47.0,38.0,27.0,34.0,57.0,29.0,38.0,39.0,57.0,33.0,36.0,40.0,49.0,48.0,54.0,39.0,49.0,37.0,49.0,66.0,70.0,29.0,61.0,4.0,37.0,36.0,18.0,38.0,66.0,44.0,35.0,31.0,31.0,38.0,67.0,52.0,35.0,51.0,54.0,43.0,40.0,51.0,21.0,40.0,61.0,31.0,22.0,41.0,73.0,68.0,63.0,30.0,46.0,40.0,12.0,15.0,26.0,39.0,70.0,36.0,67.0,45.0,38.0,68.0,43.0,28.0,58.0,52.0,53.0,44.0,73.0,49.0,26.0,34.0,37.0,38.0,47.0,52.0,35.0,29.0,51.0,36.0,4.0,28.0,30.0,38.0,37.0,22.0,74.0,35.0,39.0,73.0,65.0,30.0,66.0,70.0,58.0,35.0,21.0,61.0,66.0,41.0,42.0,64.0,31.0,67.0,38.0,46.0,68.0,65.0,37.0,36.0,40.0,31.0,48.0,46.0,50.0,47.0,53.0,28.0,41.0,68.0,56.0,26.0,41.0,63.0,69.0,67.0,24.0,25.0,43.0,67.0,32.0,32.0,30.0,65.0,44.0,52.0,11.0,25.0,60.0,49.0,25.0,33.0,44.0,10.0,23.0,22.0,29.0,22.0,19.0,58.0,71.0,33.0,66.0,31.0,64.0,28.0,53.0,33.0,45.0,21.0,68.0,37.0,19.0,48.0,51.0,35.0,40.0,53.0,71.0,51.0,27.0,60.0,21.0,45.0,74.0,46.0,29.0,44.0,66.0,55.0,31.0,48.0,31.0,39.0,24.0,55.0,70.0,24.0,41.0,68.0,25.0,39.0,35.0,39.0,45.0,29.0,48.0,65.0,49.0,34.0,68.0,43.0,39.0,32.0,26.0,47.0,25.0,37.0,53.0,37.0,66.0,57.0,32.0,44.0,34.0,47.0,46.0,24.0,70.0,56.0,27.0,28.0,19.0,38.0,45.0,35.0,71.0,53.0,41.0,65.0,25.0,46.0,5.0,14.0,15.0,35.0,50.0,30.0,58.0,46.0,27.0,45.0,37.0,50.0,45.0,40.0,32.0,20.0,38.0,46.0,22.0,50.0,42.0,66.0,34.0,32.0,29.0,30.0,62.0,66.0,16.0,63.0,51.0,25.0,53.0,41.0,35.0,37.0,33.0,25.0,32.0,55.0,29.0,36.0,45.0,14.0,49.0,32.0,38.0,37.0,21.0,29.0,52.0,46.0,42.0,57.0,46.0,58.0,18.0,48.0,71.0,41.0,50.0,43.0,26.0,30.0,27.0,47.0,43.0,38.0,64.0,36.0,39.0,74.0,39.0,56.0,2.0,39.0,70.0,34.0,47.0,59.0,66.0,36.0,33.0,41.0,55.0,66.0,29.0,77.0,63.0,68.0,50.0,50.0,17.0,24.0,16.0,59.0,70.0,16.0,33.0,41.0,32.0,40.0,26.0,7.0,27.0,29.0,29.0,19.0,70.0,23.0,27.0,36.0,55.0,21.0,15.0,14.0,46.0,37.0,67.0,29.0,28.0,33.0,46.0,55.0,35.0,49.0,72.0,20.0,45.0,69.0,16.0,53.0,39.0,38.0,49.0,25.0,43.0,28.0,32.0,67.0,29.0,70.0,26.0,48.0,37.0,16.0,55.0,30.0,35.0,43.0],\"y0\":\" \",\"yaxis\":\"y3\",\"type\":\"box\"}],                        {\"template\":{\"data\":{\"histogram2dcontour\":[{\"type\":\"histogram2dcontour\",\"colorbar\":{\"outlinewidth\":0,\"ticks\":\"\"},\"colorscale\":[[0.0,\"#0d0887\"],[0.1111111111111111,\"#46039f\"],[0.2222222222222222,\"#7201a8\"],[0.3333333333333333,\"#9c179e\"],[0.4444444444444444,\"#bd3786\"],[0.5555555555555556,\"#d8576b\"],[0.6666666666666666,\"#ed7953\"],[0.7777777777777778,\"#fb9f3a\"],[0.8888888888888888,\"#fdca26\"],[1.0,\"#f0f921\"]]}],\"choropleth\":[{\"type\":\"choropleth\",\"colorbar\":{\"outlinewidth\":0,\"ticks\":\"\"}}],\"histogram2d\":[{\"type\":\"histogram2d\",\"colorbar\":{\"outlinewidth\":0,\"ticks\":\"\"},\"colorscale\":[[0.0,\"#0d0887\"],[0.1111111111111111,\"#46039f\"],[0.2222222222222222,\"#7201a8\"],[0.3333333333333333,\"#9c179e\"],[0.4444444444444444,\"#bd3786\"],[0.5555555555555556,\"#d8576b\"],[0.6666666666666666,\"#ed7953\"],[0.7777777777777778,\"#fb9f3a\"],[0.8888888888888888,\"#fdca26\"],[1.0,\"#f0f921\"]]}],\"heatmap\":[{\"type\":\"heatmap\",\"colorbar\":{\"outlinewidth\":0,\"ticks\":\"\"},\"colorscale\":[[0.0,\"#0d0887\"],[0.1111111111111111,\"#46039f\"],[0.2222222222222222,\"#7201a8\"],[0.3333333333333333,\"#9c179e\"],[0.4444444444444444,\"#bd3786\"],[0.5555555555555556,\"#d8576b\"],[0.6666666666666666,\"#ed7953\"],[0.7777777777777778,\"#fb9f3a\"],[0.8888888888888888,\"#fdca26\"],[1.0,\"#f0f921\"]]}],\"heatmapgl\":[{\"type\":\"heatmapgl\",\"colorbar\":{\"outlinewidth\":0,\"ticks\":\"\"},\"colorscale\":[[0.0,\"#0d0887\"],[0.1111111111111111,\"#46039f\"],[0.2222222222222222,\"#7201a8\"],[0.3333333333333333,\"#9c179e\"],[0.4444444444444444,\"#bd3786\"],[0.5555555555555556,\"#d8576b\"],[0.6666666666666666,\"#ed7953\"],[0.7777777777777778,\"#fb9f3a\"],[0.8888888888888888,\"#fdca26\"],[1.0,\"#f0f921\"]]}],\"contourcarpet\":[{\"type\":\"contourcarpet\",\"colorbar\":{\"outlinewidth\":0,\"ticks\":\"\"}}],\"contour\":[{\"type\":\"contour\",\"colorbar\":{\"outlinewidth\":0,\"ticks\":\"\"},\"colorscale\":[[0.0,\"#0d0887\"],[0.1111111111111111,\"#46039f\"],[0.2222222222222222,\"#7201a8\"],[0.3333333333333333,\"#9c179e\"],[0.4444444444444444,\"#bd3786\"],[0.5555555555555556,\"#d8576b\"],[0.6666666666666666,\"#ed7953\"],[0.7777777777777778,\"#fb9f3a\"],[0.8888888888888888,\"#fdca26\"],[1.0,\"#f0f921\"]]}],\"surface\":[{\"type\":\"surface\",\"colorbar\":{\"outlinewidth\":0,\"ticks\":\"\"},\"colorscale\":[[0.0,\"#0d0887\"],[0.1111111111111111,\"#46039f\"],[0.2222222222222222,\"#7201a8\"],[0.3333333333333333,\"#9c179e\"],[0.4444444444444444,\"#bd3786\"],[0.5555555555555556,\"#d8576b\"],[0.6666666666666666,\"#ed7953\"],[0.7777777777777778,\"#fb9f3a\"],[0.8888888888888888,\"#fdca26\"],[1.0,\"#f0f921\"]]}],\"mesh3d\":[{\"type\":\"mesh3d\",\"colorbar\":{\"outlinewidth\":0,\"ticks\":\"\"}}],\"scatter\":[{\"fillpattern\":{\"fillmode\":\"overlay\",\"size\":10,\"solidity\":0.2},\"type\":\"scatter\"}],\"parcoords\":[{\"type\":\"parcoords\",\"line\":{\"colorbar\":{\"outlinewidth\":0,\"ticks\":\"\"}}}],\"scatterpolargl\":[{\"type\":\"scatterpolargl\",\"marker\":{\"colorbar\":{\"outlinewidth\":0,\"ticks\":\"\"}}}],\"bar\":[{\"error_x\":{\"color\":\"#2a3f5f\"},\"error_y\":{\"color\":\"#2a3f5f\"},\"marker\":{\"line\":{\"color\":\"#E5ECF6\",\"width\":0.5},\"pattern\":{\"fillmode\":\"overlay\",\"size\":10,\"solidity\":0.2}},\"type\":\"bar\"}],\"scattergeo\":[{\"type\":\"scattergeo\",\"marker\":{\"colorbar\":{\"outlinewidth\":0,\"ticks\":\"\"}}}],\"scatterpolar\":[{\"type\":\"scatterpolar\",\"marker\":{\"colorbar\":{\"outlinewidth\":0,\"ticks\":\"\"}}}],\"histogram\":[{\"marker\":{\"pattern\":{\"fillmode\":\"overlay\",\"size\":10,\"solidity\":0.2}},\"type\":\"histogram\"}],\"scattergl\":[{\"type\":\"scattergl\",\"marker\":{\"colorbar\":{\"outlinewidth\":0,\"ticks\":\"\"}}}],\"scatter3d\":[{\"type\":\"scatter3d\",\"line\":{\"colorbar\":{\"outlinewidth\":0,\"ticks\":\"\"}},\"marker\":{\"colorbar\":{\"outlinewidth\":0,\"ticks\":\"\"}}}],\"scattermapbox\":[{\"type\":\"scattermapbox\",\"marker\":{\"colorbar\":{\"outlinewidth\":0,\"ticks\":\"\"}}}],\"scatterternary\":[{\"type\":\"scatterternary\",\"marker\":{\"colorbar\":{\"outlinewidth\":0,\"ticks\":\"\"}}}],\"scattercarpet\":[{\"type\":\"scattercarpet\",\"marker\":{\"colorbar\":{\"outlinewidth\":0,\"ticks\":\"\"}}}],\"carpet\":[{\"aaxis\":{\"endlinecolor\":\"#2a3f5f\",\"gridcolor\":\"white\",\"linecolor\":\"white\",\"minorgridcolor\":\"white\",\"startlinecolor\":\"#2a3f5f\"},\"baxis\":{\"endlinecolor\":\"#2a3f5f\",\"gridcolor\":\"white\",\"linecolor\":\"white\",\"minorgridcolor\":\"white\",\"startlinecolor\":\"#2a3f5f\"},\"type\":\"carpet\"}],\"table\":[{\"cells\":{\"fill\":{\"color\":\"#EBF0F8\"},\"line\":{\"color\":\"white\"}},\"header\":{\"fill\":{\"color\":\"#C8D4E3\"},\"line\":{\"color\":\"white\"}},\"type\":\"table\"}],\"barpolar\":[{\"marker\":{\"line\":{\"color\":\"#E5ECF6\",\"width\":0.5},\"pattern\":{\"fillmode\":\"overlay\",\"size\":10,\"solidity\":0.2}},\"type\":\"barpolar\"}],\"pie\":[{\"automargin\":true,\"type\":\"pie\"}]},\"layout\":{\"autotypenumbers\":\"strict\",\"colorway\":[\"#636efa\",\"#EF553B\",\"#00cc96\",\"#ab63fa\",\"#FFA15A\",\"#19d3f3\",\"#FF6692\",\"#B6E880\",\"#FF97FF\",\"#FECB52\"],\"font\":{\"color\":\"#2a3f5f\"},\"hovermode\":\"closest\",\"hoverlabel\":{\"align\":\"left\"},\"paper_bgcolor\":\"white\",\"plot_bgcolor\":\"#E5ECF6\",\"polar\":{\"bgcolor\":\"#E5ECF6\",\"angularaxis\":{\"gridcolor\":\"white\",\"linecolor\":\"white\",\"ticks\":\"\"},\"radialaxis\":{\"gridcolor\":\"white\",\"linecolor\":\"white\",\"ticks\":\"\"}},\"ternary\":{\"bgcolor\":\"#E5ECF6\",\"aaxis\":{\"gridcolor\":\"white\",\"linecolor\":\"white\",\"ticks\":\"\"},\"baxis\":{\"gridcolor\":\"white\",\"linecolor\":\"white\",\"ticks\":\"\"},\"caxis\":{\"gridcolor\":\"white\",\"linecolor\":\"white\",\"ticks\":\"\"}},\"coloraxis\":{\"colorbar\":{\"outlinewidth\":0,\"ticks\":\"\"}},\"colorscale\":{\"sequential\":[[0.0,\"#0d0887\"],[0.1111111111111111,\"#46039f\"],[0.2222222222222222,\"#7201a8\"],[0.3333333333333333,\"#9c179e\"],[0.4444444444444444,\"#bd3786\"],[0.5555555555555556,\"#d8576b\"],[0.6666666666666666,\"#ed7953\"],[0.7777777777777778,\"#fb9f3a\"],[0.8888888888888888,\"#fdca26\"],[1.0,\"#f0f921\"]],\"sequentialminus\":[[0.0,\"#0d0887\"],[0.1111111111111111,\"#46039f\"],[0.2222222222222222,\"#7201a8\"],[0.3333333333333333,\"#9c179e\"],[0.4444444444444444,\"#bd3786\"],[0.5555555555555556,\"#d8576b\"],[0.6666666666666666,\"#ed7953\"],[0.7777777777777778,\"#fb9f3a\"],[0.8888888888888888,\"#fdca26\"],[1.0,\"#f0f921\"]],\"diverging\":[[0,\"#8e0152\"],[0.1,\"#c51b7d\"],[0.2,\"#de77ae\"],[0.3,\"#f1b6da\"],[0.4,\"#fde0ef\"],[0.5,\"#f7f7f7\"],[0.6,\"#e6f5d0\"],[0.7,\"#b8e186\"],[0.8,\"#7fbc41\"],[0.9,\"#4d9221\"],[1,\"#276419\"]]},\"xaxis\":{\"gridcolor\":\"white\",\"linecolor\":\"white\",\"ticks\":\"\",\"title\":{\"standoff\":15},\"zerolinecolor\":\"white\",\"automargin\":true,\"zerolinewidth\":2},\"yaxis\":{\"gridcolor\":\"white\",\"linecolor\":\"white\",\"ticks\":\"\",\"title\":{\"standoff\":15},\"zerolinecolor\":\"white\",\"automargin\":true,\"zerolinewidth\":2},\"scene\":{\"xaxis\":{\"backgroundcolor\":\"#E5ECF6\",\"gridcolor\":\"white\",\"linecolor\":\"white\",\"showbackground\":true,\"ticks\":\"\",\"zerolinecolor\":\"white\",\"gridwidth\":2},\"yaxis\":{\"backgroundcolor\":\"#E5ECF6\",\"gridcolor\":\"white\",\"linecolor\":\"white\",\"showbackground\":true,\"ticks\":\"\",\"zerolinecolor\":\"white\",\"gridwidth\":2},\"zaxis\":{\"backgroundcolor\":\"#E5ECF6\",\"gridcolor\":\"white\",\"linecolor\":\"white\",\"showbackground\":true,\"ticks\":\"\",\"zerolinecolor\":\"white\",\"gridwidth\":2}},\"shapedefaults\":{\"line\":{\"color\":\"#2a3f5f\"}},\"annotationdefaults\":{\"arrowcolor\":\"#2a3f5f\",\"arrowhead\":0,\"arrowwidth\":1},\"geo\":{\"bgcolor\":\"white\",\"landcolor\":\"#E5ECF6\",\"subunitcolor\":\"white\",\"showland\":true,\"showlakes\":true,\"lakecolor\":\"white\"},\"title\":{\"x\":0.05},\"mapbox\":{\"style\":\"light\"}}},\"xaxis\":{\"anchor\":\"y\",\"domain\":[0.0,0.2888888888888889]},\"yaxis\":{\"anchor\":\"x\",\"domain\":[0.0,1.0]},\"xaxis2\":{\"anchor\":\"y2\",\"domain\":[0.35555555555555557,0.6444444444444445]},\"yaxis2\":{\"anchor\":\"x2\",\"domain\":[0.0,1.0]},\"xaxis3\":{\"anchor\":\"y3\",\"domain\":[0.7111111111111111,1.0]},\"yaxis3\":{\"anchor\":\"x3\",\"domain\":[0.0,1.0]},\"annotations\":[{\"font\":{\"size\":16},\"showarrow\":false,\"text\":\"Observation\",\"x\":0.14444444444444446,\"xanchor\":\"center\",\"xref\":\"paper\",\"y\":1.0,\"yanchor\":\"bottom\",\"yref\":\"paper\"},{\"font\":{\"size\":16},\"showarrow\":false,\"text\":\"Observation2\",\"x\":0.5,\"xanchor\":\"center\",\"xref\":\"paper\",\"y\":1.0,\"yanchor\":\"bottom\",\"yref\":\"paper\"},{\"font\":{\"size\":16},\"showarrow\":false,\"text\":\"Observation3\",\"x\":0.8555555555555556,\"xanchor\":\"center\",\"xref\":\"paper\",\"y\":1.0,\"yanchor\":\"bottom\",\"yref\":\"paper\"}],\"title\":{\"text\":\"Edades seg\\u00fan barrio\"}},                        {\"responsive\": true}                    ).then(function(){\n",
       "                            \n",
       "var gd = document.getElementById('5b6dd72f-6c53-4667-848b-ccdb52daecda');\n",
       "var x = new MutationObserver(function (mutations, observer) {{\n",
       "        var display = window.getComputedStyle(gd).display;\n",
       "        if (!display || display === 'none') {{\n",
       "            console.log([gd, 'removed!']);\n",
       "            Plotly.purge(gd);\n",
       "            observer.disconnect();\n",
       "        }}\n",
       "}});\n",
       "\n",
       "// Listen for the removal of the full notebook cells\n",
       "var notebookContainer = gd.closest('#notebook-container');\n",
       "if (notebookContainer) {{\n",
       "    x.observe(notebookContainer, {childList: true});\n",
       "}}\n",
       "\n",
       "// Listen for the clearing of the current output cell\n",
       "var outputEl = gd.closest('.output');\n",
       "if (outputEl) {{\n",
       "    x.observe(outputEl, {childList: true});\n",
       "}}\n",
       "\n",
       "                        })                };                });            </script>        </div>"
      ]
     },
     "metadata": {},
     "output_type": "display_data"
    }
   ],
   "source": [
    "fig = make_subplots(rows=1, cols=3, subplot_titles=('Observation', 'Observation2', 'Observation3'))\n",
    "\n",
    "for i, column in enumerate(ages_total.columns, start=1):\n",
    "    box = px.box(ages_total, y=column, labels={'value': 'Edad', 'variable': 'Observación'})\n",
    "    fig.add_trace(box['data'][0], row=1, col=i)\n",
    "fig.update_layout(title_text='Edades según barrio')\n",
    "\n",
    "fig.show()"
   ]
  },
  {
   "cell_type": "code",
   "execution_count": 116,
   "metadata": {
    "scrolled": true
   },
   "outputs": [
    {
     "data": {
      "image/png": "[encoded data removed]",
      "text/plain": [
       "<Figure size 1500x500 with 3 Axes>"
      ]
     },
     "metadata": {},
     "output_type": "display_data"
    }
   ],
   "source": [
    "fig, axes = plt.subplots(1, 3, figsize=(15, 5), sharey=True)\n",
    "\n",
    "subplot_titles = ['Observation', 'Observation2', 'Observation3']\n",
    "\n",
    "for i, column in enumerate(ages_total.columns):\n",
    "    sns.set_style(\"dark\")\n",
    "    sns.violinplot(ages_total[column], bins=20, kde=True, ax=axes[i])\n",
    "    axes[i].set_xlabel('Edad')\n",
    "    axes[i].set_ylabel('Frecuencia')\n",
    "    axes[i].set_title(subplot_titles[i])\n",
    "\n",
    "plt.suptitle('Edades según barrio', y=1.02)\n",
    "plt.tight_layout()\n",
    "\n",
    "plt.show()"
   ]
  },
  {
   "cell_type": "code",
   "execution_count": 74,
   "metadata": {},
   "outputs": [
    {
     "data": {
      "text/html": [
       "<div>\n",
       "<style scoped>\n",
       "    .dataframe tbody tr th:only-of-type {\n",
       "        vertical-align: middle;\n",
       "    }\n",
       "\n",
       "    .dataframe tbody tr th {\n",
       "        vertical-align: top;\n",
       "    }\n",
       "\n",
       "    .dataframe thead th {\n",
       "        text-align: right;\n",
       "    }\n",
       "</style>\n",
       "<table border=\"1\" class=\"dataframe\">\n",
       "  <thead>\n",
       "    <tr style=\"text-align: right;\">\n",
       "      <th></th>\n",
       "      <th>observation</th>\n",
       "      <th>observation2</th>\n",
       "      <th>observation3</th>\n",
       "    </tr>\n",
       "  </thead>\n",
       "  <tbody>\n",
       "    <tr>\n",
       "      <th>count</th>\n",
       "      <td>1000.0000</td>\n",
       "      <td>1000.000000</td>\n",
       "      <td>1000.000000</td>\n",
       "    </tr>\n",
       "    <tr>\n",
       "      <th>mean</th>\n",
       "      <td>36.5600</td>\n",
       "      <td>27.155000</td>\n",
       "      <td>41.989000</td>\n",
       "    </tr>\n",
       "    <tr>\n",
       "      <th>std</th>\n",
       "      <td>12.8165</td>\n",
       "      <td>2.969814</td>\n",
       "      <td>16.144706</td>\n",
       "    </tr>\n",
       "    <tr>\n",
       "      <th>min</th>\n",
       "      <td>1.0000</td>\n",
       "      <td>19.000000</td>\n",
       "      <td>1.000000</td>\n",
       "    </tr>\n",
       "    <tr>\n",
       "      <th>25%</th>\n",
       "      <td>28.0000</td>\n",
       "      <td>25.000000</td>\n",
       "      <td>30.000000</td>\n",
       "    </tr>\n",
       "    <tr>\n",
       "      <th>50%</th>\n",
       "      <td>37.0000</td>\n",
       "      <td>27.000000</td>\n",
       "      <td>40.000000</td>\n",
       "    </tr>\n",
       "    <tr>\n",
       "      <th>75%</th>\n",
       "      <td>45.0000</td>\n",
       "      <td>29.000000</td>\n",
       "      <td>53.000000</td>\n",
       "    </tr>\n",
       "    <tr>\n",
       "      <th>max</th>\n",
       "      <td>82.0000</td>\n",
       "      <td>36.000000</td>\n",
       "      <td>77.000000</td>\n",
       "    </tr>\n",
       "  </tbody>\n",
       "</table>\n",
       "</div>"
      ],
      "text/plain": [
       "       observation  observation2  observation3\n",
       "count    1000.0000   1000.000000   1000.000000\n",
       "mean       36.5600     27.155000     41.989000\n",
       "std        12.8165      2.969814     16.144706\n",
       "min         1.0000     19.000000      1.000000\n",
       "25%        28.0000     25.000000     30.000000\n",
       "50%        37.0000     27.000000     40.000000\n",
       "75%        45.0000     29.000000     53.000000\n",
       "max        82.0000     36.000000     77.000000"
      ]
     },
     "execution_count": 74,
     "metadata": {},
     "output_type": "execute_result"
    }
   ],
   "source": [
    "describe = ages_total.describe()\n",
    "describe"
   ]
  },
  {
   "cell_type": "code",
   "execution_count": 75,
   "metadata": {},
   "outputs": [
    {
     "data": {
      "text/plain": [
       "\"\\nObserving the data provided for the three \\nneighborhoods, we can make the following observations:\\n\\n#First Neighborhood:\\n\\nThe first neighborhood has a diverse population of all \\nages, with a mean age of 36 years.\\nThe standard deviation indicates that the age data \\nis not highly dispersed.\\n\\n#Second Neighborhood:\\n\\nThe second neighborhood has a mean age of 27 years and \\nshows a notable absence of children and older \\nindividuals.\\nThis suggests it may be a new neighborhood, possibly \\nlocated on the outskirts of the city. It appears to be \\na residential area with a young population that has \\nnot yet started families.\\nThis neighborhood has the lowest standard deviation, \\nindicating that the ages are closely grouped together \\ndue to the absence of children and older individuals.\\n\\n#Third Neighborhood:\\n\\nThe third neighborhood is characterized by an older \\npopulation, with a mean age of 41 years.\\nIt has a mix of children, young people, and older \\nindividuals, suggesting it might be one of the city's \\noldest neighborhoods. Residents may have purchased \\nhomes when they were more affordable, and now they \\nlive with their children or grandchildren.\\nThis observation could explain the absence of older \\nindividuals in the other two neighborhoods. It's \\npossible that the third neighborhood has more \\nretirement homes, which might not be present in the \\nother areas.\\nThe third neighborhood has the highest standard \\ndeviation, reflecting the diverse age groups present.\\n\\n\""
      ]
     },
     "execution_count": 75,
     "metadata": {},
     "output_type": "execute_result"
    }
   ],
   "source": [
    "\"\"\"\n",
    "Observing the data provided for the three \n",
    "neighborhoods, we can make the following observations:\n",
    "\n",
    "#First Neighborhood:\n",
    "\n",
    "The first neighborhood has a diverse population of all \n",
    "ages, with a mean age of 36 years.\n",
    "The standard deviation indicates that the age data \n",
    "is not highly dispersed.\n",
    "\n",
    "#Second Neighborhood:\n",
    "\n",
    "The second neighborhood has a mean age of 27 years and \n",
    "shows a notable absence of children and older \n",
    "individuals.\n",
    "This suggests it may be a new neighborhood, possibly \n",
    "located on the outskirts of the city. It appears to be \n",
    "a residential area with a young population that has \n",
    "not yet started families.\n",
    "This neighborhood has the lowest standard deviation, \n",
    "indicating that the ages are closely grouped together \n",
    "due to the absence of children and older individuals.\n",
    "\n",
    "#Third Neighborhood:\n",
    "\n",
    "The third neighborhood is characterized by an older \n",
    "population, with a mean age of 41 years.\n",
    "It has a mix of children, young people, and older \n",
    "individuals, suggesting it might be one of the city's \n",
    "oldest neighborhoods. Residents may have purchased \n",
    "homes when they were more affordable, and now they \n",
    "live with their children or grandchildren.\n",
    "This observation could explain the absence of older \n",
    "individuals in the other two neighborhoods. It's \n",
    "possible that the third neighborhood has more \n",
    "retirement homes, which might not be present in the \n",
    "other areas.\n",
    "The third neighborhood has the highest standard \n",
    "deviation, reflecting the diverse age groups present.\n",
    "\n",
    "\"\"\""
   ]
  }
 ],
 "metadata": {
  "kernelspec": {
   "display_name": "Python (m2_env)”\n",
   "language": "python",
   "name": "pm1"
  },
  "language_info": {
   "codemirror_mode": {
    "name": "ipython",
    "version": 3
   },
   "file_extension": ".py",
   "mimetype": "text/x-python",
   "name": "python",
   "nbconvert_exporter": "python",
   "pygments_lexer": "ipython3",
   "version": "3.11.5"
  }
 },
 "nbformat": 4,
 "nbformat_minor": 2
}

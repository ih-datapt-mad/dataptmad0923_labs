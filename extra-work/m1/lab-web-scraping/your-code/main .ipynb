{
 "cells": [
  {
   "cell_type": "markdown",
   "metadata": {},
   "source": [
    "# Web Scraping Lab\n",
    "\n",
    "You will find in this notebook some scrapy exercises to practise your scraping skills.\n",
    "\n",
    "**Tips:**\n",
    "\n",
    "- Check the response status code for each request to ensure you have obtained the intended content.\n",
    "- Print the response text in each request to understand the kind of info you are getting and its format.\n",
    "- Check for patterns in the response text to extract the data/info requested in each question.\n",
    "- Visit the urls below and take a look at their source code through Chrome DevTools. You'll need to identify the html tags, special class names, etc used in the html content you are expected to extract.\n",
    "\n",
    "**Resources**:\n",
    "- [Requests library](http://docs.python-requests.org/en/master/#the-user-guide)\n",
    "- [Beautiful Soup Doc](https://www.crummy.com/software/BeautifulSoup/bs4/doc/)\n",
    "- [Urllib](https://docs.python.org/3/library/urllib.html#module-urllib)\n",
    "- [re lib](https://docs.python.org/3/library/re.html)\n",
    "- [lxml lib](https://lxml.de/)\n",
    "- [Scrapy](https://scrapy.org/)\n",
    "- [List of HTTP status codes](https://en.wikipedia.org/wiki/List_of_HTTP_status_codes)\n",
    "- [HTML basics](http://www.simplehtmlguide.com/cheatsheet.php)\n",
    "- [CSS basics](https://www.cssbasics.com/#page_start)"
   ]
  },
  {
   "cell_type": "markdown",
   "metadata": {},
   "source": [
    "#### Below are the libraries and modules you may need. `requests`,  `BeautifulSoup` and `pandas` are already imported for you. If you prefer to use additional libraries feel free to do it."
   ]
  },
  {
   "cell_type": "code",
   "execution_count": 7,
   "metadata": {},
   "outputs": [],
   "source": [
    "import requests\n",
    "from bs4 import BeautifulSoup\n",
    "import pandas as pd\n",
    "import bs4"
   ]
  },
  {
   "cell_type": "markdown",
   "metadata": {},
   "source": [
    "#### Download, parse (using BeautifulSoup), and print the content from the Trending Developers page from GitHub:"
   ]
  },
  {
   "cell_type": "code",
   "execution_count": 8,
   "metadata": {},
   "outputs": [],
   "source": [
    "# This is the url you will scrape in this exercise\n",
    "url = 'https://github.com/trending/developers'"
   ]
  },
  {
   "cell_type": "code",
   "execution_count": 9,
   "metadata": {},
   "outputs": [
    {
     "ename": "NameError",
     "evalue": "name 'parsed_html' is not defined",
     "output_type": "error",
     "traceback": [
      "\u001b[0;31m---------------------------------------------------------------------------\u001b[0m",
      "\u001b[0;31mNameError\u001b[0m                                 Traceback (most recent call last)",
      "Cell \u001b[0;32mIn[9], line 7\u001b[0m\n\u001b[1;32m      5\u001b[0m requests\u001b[38;5;241m.\u001b[39mmodels\u001b[38;5;241m.\u001b[39mResponse \n\u001b[1;32m      6\u001b[0m \u001b[38;5;66;03m#response.content\u001b[39;00m\n\u001b[0;32m----> 7\u001b[0m parsed_html \u001b[38;5;241m=\u001b[39m bs4\u001b[38;5;241m.\u001b[39mBeautifulSoup(parsed_html,\u001b[38;5;124m\"\u001b[39m\u001b[38;5;124mhtml.parser\u001b[39m\u001b[38;5;124m\"\u001b[39m)\n\u001b[1;32m      8\u001b[0m parsed_html \u001b[38;5;241m=\u001b[39m response\u001b[38;5;241m.\u001b[39mcontent\n\u001b[1;32m      9\u001b[0m \u001b[38;5;28mlen\u001b[39m(parsed_html)\n",
      "\u001b[0;31mNameError\u001b[0m: name 'parsed_html' is not defined"
     ]
    }
   ],
   "source": [
    "# your code here\n",
    "response = requests.get(url)\n",
    "response.content\n",
    "type(response)\n",
    "requests.models.Response \n",
    "#response.content\n",
    "parsed_html = bs4.BeautifulSoup(parsed_html,\"html.parser\")\n",
    "parsed_html = response.content\n",
    "len(parsed_html) "
   ]
  },
  {
   "cell_type": "code",
   "execution_count": null,
   "metadata": {},
   "outputs": [],
   "source": [
    "parsed_html = bs4.BeautifulSoup(html,\"html.parser\")\n",
    "#parsed_html.head\n",
    "#parsed_html.body\n",
    "#parsed_html.title\n",
    "#parsed_html.body.a"
   ]
  },
  {
   "cell_type": "code",
   "execution_count": null,
   "metadata": {},
   "outputs": [],
   "source": [
    "article = parsed_html.find_all(\"h1\",{\"class\":\"h3 lh-condensed\"})\n",
    "#article[11]\n",
    "#article[0].contents\n",
    "#article[0].contents[1].string"
   ]
  },
  {
   "cell_type": "code",
   "execution_count": 10,
   "metadata": {
    "scrolled": true
   },
   "outputs": [
    {
     "ename": "NameError",
     "evalue": "name 'article' is not defined",
     "output_type": "error",
     "traceback": [
      "\u001b[0;31m---------------------------------------------------------------------------\u001b[0m",
      "\u001b[0;31mNameError\u001b[0m                                 Traceback (most recent call last)",
      "Cell \u001b[0;32mIn[10], line 2\u001b[0m\n\u001b[1;32m      1\u001b[0m articles \u001b[38;5;241m=\u001b[39m []\n\u001b[0;32m----> 2\u001b[0m \u001b[38;5;28;01mfor\u001b[39;00m a \u001b[38;5;129;01min\u001b[39;00m article:\n\u001b[1;32m      3\u001b[0m     a \u001b[38;5;241m=\u001b[39m \u001b[38;5;28mstr\u001b[39m(a)\n\u001b[1;32m      4\u001b[0m     soup_a \u001b[38;5;241m=\u001b[39m bs4\u001b[38;5;241m.\u001b[39mBeautifulSoup(a, \u001b[38;5;124m\"\u001b[39m\u001b[38;5;124mhtml.parser\u001b[39m\u001b[38;5;124m\"\u001b[39m)\n",
      "\u001b[0;31mNameError\u001b[0m: name 'article' is not defined"
     ]
    }
   ],
   "source": [
    "articles = []\n",
    "for a in article:\n",
    "    a = str(a)\n",
    "    soup_a = bs4.BeautifulSoup(a, \"html.parser\")\n",
    "    list_a = soup_a.find_all(\"a\")\n",
    "    for e in list_a:\n",
    "        articles.append(e.string.strip())\n",
    "print(len(articles))"
   ]
  },
  {
   "cell_type": "code",
   "execution_count": null,
   "metadata": {},
   "outputs": [],
   "source": [
    "\n",
    "print(articles)"
   ]
  },
  {
   "cell_type": "markdown",
   "metadata": {},
   "source": [
    "#### Display the names of the trending developers retrieved in the previous step.\n",
    "\n",
    "Your output should be a Python list of developer names. Each name should not contain any html tag.\n",
    "\n",
    "**Instructions:**\n",
    "\n",
    "1. Find out the html tag and class names used for the developer names. You can achieve this using Chrome DevTools.\n",
    "\n",
    "1. Use BeautifulSoup to extract all the html elements that contain the developer names.\n",
    "\n",
    "1. Use string manipulation techniques to replace whitespaces and linebreaks (i.e. `\\n`) in the *text* of each html element. Use a list to store the clean names.\n",
    "\n",
    "1. Print the list of names.\n",
    "\n",
    "Your output should look like below:\n",
    "\n",
    "```\n",
    "['trimstray (@trimstray)',\n",
    " 'joewalnes (JoeWalnes)',\n",
    " 'charlax (Charles-AxelDein)',\n",
    " 'ForrestKnight (ForrestKnight)',\n",
    " 'revery-ui (revery-ui)',\n",
    " 'alibaba (Alibaba)',\n",
    " 'Microsoft (Microsoft)',\n",
    " 'github (GitHub)',\n",
    " 'facebook (Facebook)',\n",
    " 'boazsegev (Bo)',\n",
    " 'google (Google)',\n",
    " 'cloudfetch',\n",
    " 'sindresorhus (SindreSorhus)',\n",
    " 'tensorflow',\n",
    " 'apache (TheApacheSoftwareFoundation)',\n",
    " 'DevonCrawford (DevonCrawford)',\n",
    " 'ARMmbed (ArmMbed)',\n",
    " 'vuejs (vuejs)',\n",
    " 'fastai (fast.ai)',\n",
    " 'QiShaoXuan (Qi)',\n",
    " 'joelparkerhenderson (JoelParkerHenderson)',\n",
    " 'torvalds (LinusTorvalds)',\n",
    " 'CyC2018',\n",
    " 'komeiji-satori (神楽坂覚々)',\n",
    " 'script-8']\n",
    " ```"
   ]
  },
  {
   "cell_type": "code",
   "execution_count": null,
   "metadata": {},
   "outputs": [],
   "source": [
    "# your code here"
   ]
  },
  {
   "cell_type": "markdown",
   "metadata": {},
   "source": [
    "#### Display the trending Python repositories in GitHub.\n",
    "\n",
    "The steps to solve this problem is similar to the previous one except that you need to find out the repository names instead of developer names."
   ]
  },
  {
   "cell_type": "code",
   "execution_count": null,
   "metadata": {},
   "outputs": [],
   "source": [
    "# This is the url you will scrape in this exercise\n",
    "url = 'https://github.com/trending/python?since=daily'"
   ]
  },
  {
   "cell_type": "code",
   "execution_count": null,
   "metadata": {},
   "outputs": [],
   "source": [
    "# your code here\n",
    "parsed_html = bs4.BeautifulSoup(html,\"html.parser\")"
   ]
  },
  {
   "cell_type": "markdown",
   "metadata": {},
   "source": [
    "#### Display all the image links from Walt Disney wikipedia page."
   ]
  },
  {
   "cell_type": "code",
   "execution_count": 16,
   "metadata": {},
   "outputs": [],
   "source": [
    "# This is the url you will scrape in this exercise\n",
    "url = 'https://en.wikipedia.org/wiki/Walt_Disney'"
   ]
  },
  {
   "cell_type": "code",
   "execution_count": null,
   "metadata": {},
   "outputs": [],
   "source": [
    "# your code here\n",
    "response = requests.get(url)\n",
    "response.content\n",
    "type(response)\n",
    "requests.models.Response \n",
    "#response.content\n",
    "parsed_html = bs4.BeautifulSoup(html,\"html.parser\")\n",
    "html = response.content\n",
    "len(html) "
   ]
  },
  {
   "cell_type": "code",
   "execution_count": null,
   "metadata": {},
   "outputs": [],
   "source": [
    "image_tags = parsed_html.find_all('img')\n",
    "print(type(image_tags))"
   ]
  },
  {
   "cell_type": "code",
   "execution_count": null,
   "metadata": {},
   "outputs": [],
   "source": [
    "#for image_tag in image_tags:\n",
    "    #print(image_tag)"
   ]
  },
  {
   "cell_type": "code",
   "execution_count": 11,
   "metadata": {},
   "outputs": [
    {
     "ename": "NameError",
     "evalue": "name 're' is not defined",
     "output_type": "error",
     "traceback": [
      "\u001b[0;31m---------------------------------------------------------------------------\u001b[0m",
      "\u001b[0;31mNameError\u001b[0m                                 Traceback (most recent call last)",
      "Cell \u001b[0;32mIn[11], line 1\u001b[0m\n\u001b[0;32m----> 1\u001b[0m https_pattern \u001b[38;5;241m=\u001b[39m re\u001b[38;5;241m.\u001b[39mcompile(\u001b[38;5;124mr\u001b[39m\u001b[38;5;124m'\u001b[39m\u001b[38;5;124mhttps://\u001b[39m\u001b[38;5;124m\\\u001b[39m\u001b[38;5;124mS+\u001b[39m\u001b[38;5;124m'\u001b[39m)\n\u001b[1;32m      2\u001b[0m \u001b[38;5;28mprint\u001b[39m(https_pattern)\n\u001b[1;32m      3\u001b[0m matches \u001b[38;5;241m=\u001b[39m pattern\u001b[38;5;241m.\u001b[39mfindall(text)\n",
      "\u001b[0;31mNameError\u001b[0m: name 're' is not defined"
     ]
    }
   ],
   "source": [
    "https_pattern = re.compile(r'https://\\S+')\n",
    "print(https_pattern)\n",
    "matches = pattern.findall(text)"
   ]
  },
  {
   "cell_type": "markdown",
   "metadata": {},
   "source": [
    "#### Retrieve an arbitary Wikipedia page of \"Python\" and create a list of links on that page."
   ]
  },
  {
   "cell_type": "code",
   "execution_count": 13,
   "metadata": {},
   "outputs": [],
   "source": [
    "# This is the url you will scrape in this exercise\n",
    "url ='https://en.wikipedia.org/wiki/Python' "
   ]
  },
  {
   "cell_type": "code",
   "execution_count": 15,
   "metadata": {},
   "outputs": [
    {
     "name": "stdout",
     "output_type": "stream",
     "text": [
      "#bodyContent\n",
      "/wiki/Main_Page\n",
      "/wiki/Wikipedia:Contents\n",
      "/wiki/Portal:Current_events\n",
      "/wiki/Special:Random\n",
      "/wiki/Wikipedia:About\n",
      "//en.wikipedia.org/wiki/Wikipedia:Contact_us\n",
      "https://donate.wikimedia.org/wiki/Special:FundraiserRedirector?utm_source=donate&utm_medium=sidebar&utm_campaign=C13_en.wikipedia.org&uselang=en\n",
      "/wiki/Help:Contents\n",
      "/wiki/Help:Introduction\n",
      "/wiki/Wikipedia:Community_portal\n",
      "/wiki/Special:RecentChanges\n",
      "/wiki/Wikipedia:File_upload_wizard\n",
      "/wiki/Main_Page\n",
      "/wiki/Special:Search\n",
      "/w/index.php?title=Special:CreateAccount&returnto=Python\n",
      "/w/index.php?title=Special:UserLogin&returnto=Python\n",
      "/w/index.php?title=Special:CreateAccount&returnto=Python\n",
      "/w/index.php?title=Special:UserLogin&returnto=Python\n",
      "/wiki/Help:Introduction\n",
      "/wiki/Special:MyContributions\n",
      "/wiki/Special:MyTalk\n",
      "#\n",
      "#Snakes\n",
      "#Computing\n",
      "#People\n",
      "#Roller_coasters\n",
      "#Vehicles\n",
      "#Weaponry\n",
      "#Other_uses\n",
      "#See_also\n",
      "https://af.wikipedia.org/wiki/Python\n",
      "https://als.wikipedia.org/wiki/Python\n",
      "https://ar.wikipedia.org/wiki/%D8%A8%D8%A7%D9%8A%D8%AB%D9%88%D9%86_(%D8%AA%D9%88%D8%B6%D9%8A%D8%AD)\n",
      "https://az.wikipedia.org/wiki/Python_(d%C9%99qiql%C9%99%C5%9Fdirm%C9%99)\n",
      "https://bn.wikipedia.org/wiki/%E0%A6%AA%E0%A6%BE%E0%A6%87%E0%A6%A5%E0%A6%A8_(%E0%A6%A6%E0%A7%8D%E0%A6%AC%E0%A7%8D%E0%A6%AF%E0%A6%B0%E0%A7%8D%E0%A6%A5%E0%A6%A4%E0%A6%BE_%E0%A6%A8%E0%A6%BF%E0%A6%B0%E0%A6%B8%E0%A6%A8)\n",
      "https://be.wikipedia.org/wiki/Python\n",
      "https://bg.wikipedia.org/wiki/%D0%9F%D0%B8%D1%82%D0%BE%D0%BD_(%D0%BF%D0%BE%D1%8F%D1%81%D0%BD%D0%B5%D0%BD%D0%B8%D0%B5)\n",
      "https://cs.wikipedia.org/wiki/Python_(rozcestn%C3%ADk)\n",
      "https://da.wikipedia.org/wiki/Python\n",
      "https://de.wikipedia.org/wiki/Python\n",
      "https://eo.wikipedia.org/wiki/Pitono_(apartigilo)\n",
      "https://eu.wikipedia.org/wiki/Python_(argipena)\n",
      "https://fa.wikipedia.org/wiki/%D9%BE%D8%A7%DB%8C%D8%AA%D9%88%D9%86\n",
      "https://fr.wikipedia.org/wiki/Python\n",
      "https://ko.wikipedia.org/wiki/%ED%8C%8C%EC%9D%B4%EC%84%A0\n",
      "https://hr.wikipedia.org/wiki/Python_(razdvojba)\n",
      "https://io.wikipedia.org/wiki/Pitono\n",
      "https://id.wikipedia.org/wiki/Python\n",
      "https://ia.wikipedia.org/wiki/Python_(disambiguation)\n",
      "https://is.wikipedia.org/wiki/Python_(a%C3%B0greining)\n",
      "https://it.wikipedia.org/wiki/Python_(disambigua)\n",
      "https://he.wikipedia.org/wiki/%D7%A4%D7%99%D7%AA%D7%95%D7%9F\n",
      "https://kn.wikipedia.org/wiki/%E0%B2%B9%E0%B3%86%E0%B2%AC%E0%B3%8D%E0%B2%AC%E0%B2%BE%E0%B2%B5%E0%B3%81\n",
      "https://ka.wikipedia.org/wiki/%E1%83%9E%E1%83%98%E1%83%97%E1%83%9D%E1%83%9C%E1%83%98_(%E1%83%9B%E1%83%A0%E1%83%90%E1%83%95%E1%83%90%E1%83%9A%E1%83%9B%E1%83%9C%E1%83%98%E1%83%A8%E1%83%95%E1%83%9C%E1%83%94%E1%83%9A%E1%83%9D%E1%83%95%E1%83%90%E1%83%9C%E1%83%98)\n",
      "https://kg.wikipedia.org/wiki/Mboma_(nyoka)\n",
      "https://la.wikipedia.org/wiki/Python_(discretiva)\n",
      "https://lb.wikipedia.org/wiki/Python\n",
      "https://hu.wikipedia.org/wiki/Python_(egy%C3%A9rtelm%C5%B1s%C3%ADt%C5%91_lap)\n",
      "https://mr.wikipedia.org/wiki/%E0%A4%AA%E0%A4%BE%E0%A4%AF%E0%A4%A5%E0%A5%89%E0%A4%A8_(%E0%A4%86%E0%A4%9C%E0%A5%8D%E0%A4%9E%E0%A4%BE%E0%A4%B5%E0%A4%B2%E0%A5%80_%E0%A4%AD%E0%A4%BE%E0%A4%B7%E0%A4%BE)\n",
      "https://nl.wikipedia.org/wiki/Python\n",
      "https://ja.wikipedia.org/wiki/%E3%83%91%E3%82%A4%E3%82%BD%E3%83%B3\n",
      "https://no.wikipedia.org/wiki/Pyton\n",
      "https://pl.wikipedia.org/wiki/Pyton\n",
      "https://pt.wikipedia.org/wiki/Python_(desambigua%C3%A7%C3%A3o)\n",
      "https://ru.wikipedia.org/wiki/Python_(%D0%B7%D0%BD%D0%B0%D1%87%D0%B5%D0%BD%D0%B8%D1%8F)\n",
      "https://sk.wikipedia.org/wiki/Python\n",
      "https://sr.wikipedia.org/wiki/%D0%9F%D0%B8%D1%82%D0%BE%D0%BD_(%D0%B2%D0%B8%D1%88%D0%B5%D0%B7%D0%BD%D0%B0%D1%87%D0%BD%D0%B0_%D0%BE%D0%B4%D1%80%D0%B5%D0%B4%D0%BD%D0%B8%D1%86%D0%B0)\n",
      "https://sh.wikipedia.org/wiki/Python\n",
      "https://fi.wikipedia.org/wiki/Python\n",
      "https://sv.wikipedia.org/wiki/Pyton\n",
      "https://th.wikipedia.org/wiki/%E0%B9%84%E0%B8%9E%E0%B8%97%E0%B8%AD%E0%B8%99\n",
      "https://tr.wikipedia.org/wiki/Python_(anlam_ayr%C4%B1m%C4%B1)\n",
      "https://uk.wikipedia.org/wiki/%D0%9F%D1%96%D1%84%D0%BE%D0%BD\n",
      "https://ur.wikipedia.org/wiki/%D9%BE%D8%A7%D8%A6%DB%8C%D8%AA%DA%BE%D9%88%D9%86\n",
      "https://vi.wikipedia.org/wiki/Python\n",
      "https://zh.wikipedia.org/wiki/Python_(%E6%B6%88%E6%AD%A7%E4%B9%89)\n",
      "https://www.wikidata.org/wiki/Special:EntityPage/Q747452#sitelinks-wikipedia\n",
      "/wiki/Python\n",
      "/wiki/Talk:Python\n",
      "/wiki/Python\n",
      "/w/index.php?title=Python&action=edit\n",
      "/w/index.php?title=Python&action=history\n",
      "/wiki/Python\n",
      "/w/index.php?title=Python&action=edit\n",
      "/w/index.php?title=Python&action=history\n",
      "/wiki/Special:WhatLinksHere/Python\n",
      "/wiki/Special:RecentChangesLinked/Python\n",
      "/wiki/Wikipedia:File_Upload_Wizard\n",
      "/wiki/Special:SpecialPages\n",
      "/w/index.php?title=Python&oldid=1196720317\n",
      "/w/index.php?title=Python&action=info\n",
      "/w/index.php?title=Special:CiteThisPage&page=Python&id=1196720317&wpFormIdentifier=titleform\n",
      "/w/index.php?title=Special:UrlShortener&url=https%3A%2F%2Fen.wikipedia.org%2Fwiki%2FPython\n",
      "/w/index.php?title=Special:QrCode&url=https%3A%2F%2Fen.wikipedia.org%2Fwiki%2FPython\n",
      "https://www.wikidata.org/wiki/Special:EntityPage/Q747452\n",
      "/w/index.php?title=Special:DownloadAsPdf&page=Python&action=show-download-screen\n",
      "/w/index.php?title=Python&printable=yes\n",
      "https://commons.wikimedia.org/wiki/Category:Python\n",
      "https://en.wiktionary.org/wiki/Python\n",
      "https://en.wiktionary.org/wiki/python\n",
      "/w/index.php?title=Python&action=edit&section=1\n",
      "/wiki/Pythonidae\n",
      "/wiki/Python_(genus)\n",
      "/wiki/Python_(mythology)\n",
      "/w/index.php?title=Python&action=edit&section=2\n",
      "/wiki/Python_(programming_language)\n",
      "/wiki/CMU_Common_Lisp\n",
      "/wiki/PERQ#PERQ_3\n",
      "/w/index.php?title=Python&action=edit&section=3\n",
      "/wiki/Python_of_Aenus\n",
      "/wiki/Python_(painter)\n",
      "/wiki/Python_of_Byzantium\n",
      "/wiki/Python_of_Catana\n",
      "/wiki/Python_Anghelo\n",
      "/w/index.php?title=Python&action=edit&section=4\n",
      "/wiki/Python_(Efteling)\n",
      "/wiki/Python_(Busch_Gardens_Tampa_Bay)\n",
      "/wiki/Python_(Coney_Island,_Cincinnati,_Ohio)\n",
      "/w/index.php?title=Python&action=edit&section=5\n",
      "/wiki/Python_(automobile_maker)\n",
      "/wiki/Python_(Ford_prototype)\n",
      "/w/index.php?title=Python&action=edit&section=6\n",
      "/wiki/Python_(missile)\n",
      "/wiki/Python_(nuclear_primary)\n",
      "/wiki/Colt_Python\n",
      "/w/index.php?title=Python&action=edit&section=7\n",
      "/wiki/Python_(codename)\n",
      "/wiki/Python_(film)\n",
      "/wiki/Monty_Python\n",
      "/wiki/Python_(Monty)_Pictures\n",
      "/wiki/Timon_of_Phlius\n",
      "/w/index.php?title=Python&action=edit&section=8\n",
      "/wiki/Pyton\n",
      "/wiki/Pithon\n",
      "/wiki/File:Disambig_gray.svg\n",
      "/wiki/Help:Disambiguation\n",
      "https://en.wikipedia.org/w/index.php?title=Special:WhatLinksHere/Python&namespace=0\n",
      "https://en.wikipedia.org/w/index.php?title=Python&oldid=1196720317\n",
      "/wiki/Help:Category\n",
      "/wiki/Category:Disambiguation_pages\n",
      "/wiki/Category:Human_name_disambiguation_pages\n",
      "/wiki/Category:Disambiguation_pages_with_given-name-holder_lists\n",
      "/wiki/Category:Short_description_is_different_from_Wikidata\n",
      "/wiki/Category:All_article_disambiguation_pages\n",
      "/wiki/Category:All_disambiguation_pages\n",
      "/wiki/Category:Animal_common_name_disambiguation_pages\n",
      "//en.wikipedia.org/wiki/Wikipedia:Text_of_the_Creative_Commons_Attribution-ShareAlike_4.0_International_License\n",
      "//en.wikipedia.org/wiki/Wikipedia:Text_of_the_Creative_Commons_Attribution-ShareAlike_4.0_International_License\n",
      "//foundation.wikimedia.org/wiki/Terms_of_Use\n",
      "//foundation.wikimedia.org/wiki/Privacy_policy\n",
      "//www.wikimediafoundation.org/\n",
      "https://foundation.wikimedia.org/wiki/Special:MyLanguage/Policy:Privacy_policy\n",
      "/wiki/Wikipedia:About\n",
      "/wiki/Wikipedia:General_disclaimer\n",
      "//en.wikipedia.org/wiki/Wikipedia:Contact_us\n",
      "https://foundation.wikimedia.org/wiki/Special:MyLanguage/Policy:Universal_Code_of_Conduct\n",
      "https://developer.wikimedia.org\n",
      "https://stats.wikimedia.org/#/en.wikipedia.org\n",
      "https://foundation.wikimedia.org/wiki/Special:MyLanguage/Policy:Cookie_statement\n",
      "//en.m.wikipedia.org/w/index.php?title=Python&mobileaction=toggle_view_mobile\n",
      "https://wikimediafoundation.org/\n",
      "https://www.mediawiki.org/\n"
     ]
    }
   ],
   "source": [
    "# your code here\n",
    "response = requests.get(url)\n",
    "if response.status_code == 200:\n",
    "    soup = BeautifulSoup(response.content, \"html.parser\")\n",
    "    links = soup.find_all(\"a\")\n",
    "    link_list = [link.get(\"href\") for link in links if link.get(\"href\")]\n",
    "    for link in link_list:\n",
    "        print(link)\n",
    "else:\n",
    "    print(\"Failed to retrieve the page. Status code:\", response.status_code)"
   ]
  },
  {
   "cell_type": "markdown",
   "metadata": {},
   "source": [
    "#### Find the number of titles that have changed in the United States Code since its last release point."
   ]
  },
  {
   "cell_type": "code",
   "execution_count": 17,
   "metadata": {},
   "outputs": [],
   "source": [
    "# This is the url you will scrape in this exercise\n",
    "url = 'http://uscode.house.gov/download/download.shtml'"
   ]
  },
  {
   "cell_type": "code",
   "execution_count": 19,
   "metadata": {},
   "outputs": [
    {
     "name": "stdout",
     "output_type": "stream",
     "text": [
      "Failed to find the section containing information about changed titles\n"
     ]
    }
   ],
   "source": [
    "import requests\n",
    "from bs4 import BeautifulSoup\n",
    "\n",
    "url = 'http://uscode.house.gov/download/download.shtml'\n",
    "response = requests.get(url)\n",
    "\n",
    "if response.status_code == 200:\n",
    "    \n",
    "    soup = BeautifulSoup(response.content, 'html.parser')\n",
    "    \n",
    "\n",
    "    changed_titles_section = soup.find('div', id='changed-titles')\n",
    "    \n",
    "   \n",
    "    if changed_titles_section:\n",
    "    \n",
    "        changed_titles_list = changed_titles_section.find('ul')\n",
    "        \n",
    "      \n",
    "        if changed_titles_list:\n",
    "           \n",
    "            num_changed_titles = len(changed_titles_list.find_all('li'))\n",
    "            \n",
    "            print(\"Number of titles that have changed: \", num_changed_titles)\n",
    "        else:\n",
    "            print(\"Failed to find the list of changed titles\")\n",
    "    else:\n",
    "        print(\"Failed to find the section containing information about changed titles\")\n",
    "else:\n",
    "    print('Failed to retrieve data from the URL')\n"
   ]
  },
  {
   "cell_type": "markdown",
   "metadata": {},
   "source": [
    "#### Find a Python list with the top ten FBI's Most Wanted names."
   ]
  },
  {
   "cell_type": "code",
   "execution_count": 20,
   "metadata": {},
   "outputs": [],
   "source": [
    "# This is the url you will scrape in this exercise\n",
    "url = 'https://www.fbi.gov/wanted/topten'"
   ]
  },
  {
   "cell_type": "code",
   "execution_count": 21,
   "metadata": {},
   "outputs": [
    {
     "name": "stdout",
     "output_type": "stream",
     "text": [
      "Failed to retrieve data from the URL\n"
     ]
    }
   ],
   "source": [
    "# your code here\n",
    "response = requests.get(url)\n",
    "\n",
    "if response.status_code == 200:\n",
    "\n",
    "    soup = BeautifulSoup(response.content, 'html.parser')\n",
    "    \n",
    "    top_ten_section = soup.find('div', class_='portal-type-person castle-grid-block-item')\n",
    "    \n",
    "    if top_ten_section:\n",
    "      \n",
    "        names_list = top_ten_section.find_all('h3', class_='title')\n",
    "        \n",
    "        top_ten_names = [name.text.strip() for name in names_list]\n",
    "        \n",
    "        print(\"Top ten FBI's Most Wanted names:\")\n",
    "        for i, name in enumerate(top_ten_names, start=1):\n",
    "            print(f\"{i}. {name}\")\n",
    "    else:\n",
    "        print(\"Failed to find the section containing the top ten most wanted names\")\n",
    "else:\n",
    "    print('Failed to retrieve data from the URL')"
   ]
  },
  {
   "cell_type": "markdown",
   "metadata": {},
   "source": [
    "####  Display the 20 latest earthquakes info (date, time, latitude, longitude and region name) by the EMSC as a pandas dataframe."
   ]
  },
  {
   "cell_type": "code",
   "execution_count": 22,
   "metadata": {},
   "outputs": [],
   "source": [
    "# This is the url you will scrape in this exercise\n",
    "url = 'https://www.emsc-csem.org/Earthquake/'"
   ]
  },
  {
   "cell_type": "code",
   "execution_count": 24,
   "metadata": {},
   "outputs": [
    {
     "name": "stdout",
     "output_type": "stream",
     "text": [
      "<!DOCTYPE html>\n",
      "<html lang=\"en\">\n",
      " <head>\n",
      "  <meta charset=\"utf-8\"/>\n",
      "  <meta content=\"srFzNKBTd0FbRhtnzP--Tjxl01NfbscjYwkp4yOWuQY\" name=\"google-site-verification\">\n",
      "   <meta content=\"BCAA3C04C41AE6E6AFAF117B9469C66F\" name=\"msvalidate.01\"/>\n",
      "   <meta content=\"43b36314ccb77957\" name=\"y_key\"/>\n",
      "   <meta content=\"all\" name=\"robots\"/>\n",
      "   <meta content=\"Get informed on the latest earthquakes occurred around the globe. earthquakes today - recent and latest earthquakes, earthquake map and earthquake information. Earthquake information for europe. EMSC (European Mediterranean Seismological Centre) provides real time earthquake information for seismic events with magnitude larger than 5 in the European Mediterranean area and larger than 7 in the rest of the world.\" lang=\"en\" name=\"description\"/>\n",
      "   <meta content=\"705855916142039\" property=\"fb:app_id\"/>\n",
      "   <meta content=\"en_FR\" property=\"og:locale\"/>\n",
      "   <meta content=\"website\" property=\"og:type\"/>\n",
      "   <meta content=\"EMSC - European-Mediterranean Seismological Centre\" property=\"og:site_name\"/>\n",
      "   <meta content=\"//www.emsc-csem.org/Earthquake_information/\" property=\"og:url\"/>\n",
      "   <meta content=\"Earthquake information\" property=\"og:title\"/>\n",
      "   <meta content=\"Get informed on the latest earthquakes occurred around the globe.\" property=\"og:description\"/>\n",
      "   <link href=\"/favicon.png\" rel=\"icon\" type=\"image/x-icon\"/>\n",
      "   <title>\n",
      "    Earthquake information\n",
      "   </title>\n",
      "   <script>\n",
      "    console.log((new Date()).toString());\n",
      "   </script>\n",
      "   <link href=\"//static3.emsc.eu/Css/m_emsc.min.css\" rel=\"stylesheet\"/>\n",
      "   <script src=\"//static1.emsc.eu/javascript/jquery-3.6.0.min.js\">\n",
      "   </script>\n",
      "   <script>\n",
      "    var emsc_ws_url=\"wss://cobra.emsc-csem.org/eq_search\";\n",
      "   </script>\n",
      "   <script src=\"//static1.emsc.eu/javascript/eq_list.min.js?v=1\">\n",
      "   </script>\n",
      "   <script defer=\"\" src=\"//static2.emsc.eu/javascript/eq_list_kml.min.js\">\n",
      "   </script>\n",
      "   <script src=\"//static2.emsc.eu/javascript/emsc.min.js\">\n",
      "   </script>\n",
      "   <style>\n",
      "    .eqs{width:100%;table-layout:fixed;border-spacing:0;border-collapse:collapse}.eqs thead,.eqs tbody{width:100%}table.eqs td{padding:8px 3px;font-size:14px}table.eqs th{padding:8px 3px;font-size:16px;background-color:#F8F8F8;border-bottom:2px solid}.tbmag{text-align:center}.tblat,.tblon,.tbdep{text-align:right}.tbreg{width:30%;text-align:left;white-space:nowrap;overflow:hidden;text-overflow:ellipsis}.tbdat{width:20%;text-align:center}.tbdep{padding-right:15px!important}.lilist:hover,.lilist.hover{border:1px solid #eee;font-weight:bold;cursor:pointer}.tago{text-align:left;font-size:10px;color:grey;text-align:center}.evtyp{width:26px;height:26px;background:url(//static1.emsc.eu/Css/img/sprites_eqtype.png);float:right;margin:1px;padding:0;display:inline-block}.bg-type_sonicboom{background-position:-29px -1px}.bg-type_volcano{background-position:-1px -1px}.bg-type_explosion{background-position:-113px -1px}.bg-type_landslide{background-position:-141px -1px}.bg-type_induced{background-position:-57px -1px}.bg-type_tsunami_pending{background-position:-169px -1px}.bg-type_tsunami{background-position:-197px -1px}.bg-type_tsunami_NO{background-position:-85px -1px}.eqs tr:nth-child(2n){background:#ccc}.eqs tr.rw,.eqs tr.bow{font-weight:bold}.eqs tr.rw,tr.rw .tbdat a{color:red}.eqs th>div{font-size:small}.eqs th>span{margin-left:4px;cursor:pointer}.tbmagtyp{display:none}.tbmagtyp.mts{display:table-cell;text-align:right}.sea{text-align:center;margin-bottom:50px}.form,.form form{display:inline-block}.form{margin-top:20px}.form th{padding:5px}.fopen,.form{display:none}.search{cursor:pointer;font-size:16px;font-weight:bold}.fopen,.fclose{margin-right:10px}.rset{margin-left:20px}.with{padding-left:145px}.coords-icon{background:url(//static2.emsc.eu/Css/img/search_map_icon.png);width:106px;height:30px;margin-left:-140px;cursor:pointer;position:absolute}.moref{display:none}.more{display:inline-block;cursor:pointer;border:1px solid;padding:0 4px;border-radius:5px;font-weight:900;font-size:large;vertical-align:top;margin-top:30px}td.ic{text-align:left}#map-coord{position:absolute;left:10%;top:20%;width:80%;height:600px;display:none}.lds-dual-ring{display:inline-block;width:80px;height:80px;position:absolute;left:50%;margin-left:-40px}.lds-dual-ring:after{content:\" \";display:block;width:64px;height:64px;margin:8px;border-radius:50%;border:6px solid #000;border-color:#000 transparent #000 transparent;animation:lds-dual-ring 1.2s linear infinite}@keyframes lds-dual-ring{0%{transform:rotate(0deg)}100%{transform:rotate(360deg)}}.page-cont{text-align:center}.pag{display:inline-block;margin:10px;padding:5px 10px;border:1px solid #eee;background-color:rgb(179,0,18);color:white;cursor:pointer}.selview{background:none;color:rgb(179,0,18);cursor:default}.tbdat a{text-decoration:none;color:black}.citiz{width:80px}.dm{display:inline-block;width:50%;margin-top:3px;text-align:center}.dm.comm:after,.dm.pic:after{width:16px;height:16px;background:url(//static3.emsc.eu/Images/icon/sprite_com_pic.png);display:block;content:\"\";margin:auto}.dm.comm:after{background-position:-19px -1px}.dm.pic:after{background-position:-1px -1px}.links{text-align:center;margin-bottom:1em}.links span{margin:0 5px;cursor:pointer}.cho{color:red;font-weight:bold}.subm{margin-top:15px}.moref label{font-weight:bold;margin-right:10px}#reg{text-transform:uppercase;width:98%}.prop{min-width:200px;position:absolute;z-index:20;height:auto;border:1px solid #666;padding:8px;font-size:10px;font-family:verdana;font-weight:bold;background:white;display:none}.prop .res{width:100%}.prop .res td{cursor:pointer;text-align:left}.prop-close{float:right;color:blue}.prop-send{color:blue;text-decoration:underline;font-weight:bold;cursor:pointer}#nbres{font-weight:bold;color:red;height:20px}.download{text-align:right}.downl{display:none;margin:0 5px}\n",
      "   </style>\n",
      "  </meta>\n",
      " </head>\n",
      " <body>\n",
      "  <div class=\"banner\" role=\"banner\">\n",
      "   <div class=\"banner-ct\">\n",
      "    <div class=\"bann-logo\">\n",
      "     <a href=\"/\">\n",
      "      <div class=\"spe emsc-logo\">\n",
      "      </div>\n",
      "      <div class=\"emsc-logo-label\">\n",
      "       Centre Sismologique Euro-Méditerranéen\n",
      "      </div>\n",
      "      <div class=\"emsc-logo-label\">\n",
      "       Euro-Mediterranean Seismological Centre\n",
      "      </div>\n",
      "     </a>\n",
      "    </div>\n",
      "    <div class=\"hmenu\">\n",
      "     <div class=\"hmenu0 hmenu1\">\n",
      "      <div class=\"hmenus menut mt1\">\n",
      "       Earthquakes\n",
      "      </div>\n",
      "      <div class=\"hmenus menus\">\n",
      "       <a href=\"//www.emsc-csem.org/Earthquake_map/\">\n",
      "        World map\n",
      "       </a>\n",
      "      </div>\n",
      "      <div class=\"hmenus menus\">\n",
      "       <a href=\"//www.emsc-csem.org/Earthquake_information/\">\n",
      "        Latest earthquakes\n",
      "       </a>\n",
      "      </div>\n",
      "      <div class=\"hmenus menus\">\n",
      "       <a href=\"//www.emsc-csem.org/Earthquake_data/\">\n",
      "        Seismic data\n",
      "       </a>\n",
      "      </div>\n",
      "      <div class=\"hmenus menus\">\n",
      "       <a href=\"//www.emsc-csem.org/Special_reports/\">\n",
      "        Special reports\n",
      "       </a>\n",
      "      </div>\n",
      "     </div>\n",
      "     <div class=\"hmenu0 hmenu2\">\n",
      "      <div class=\"hmenus menut mt2\">\n",
      "       LastQuake\n",
      "      </div>\n",
      "      <div class=\"hmenus menus\">\n",
      "       <a href=\"//www.emsc-csem.org/lastquake/how_it_works/\">\n",
      "        How it works\n",
      "       </a>\n",
      "      </div>\n",
      "      <div class=\"hmenus menus\">\n",
      "       <a href=\"//www.emsc-csem.org/lastquake/information_channels/\">\n",
      "        Information channels\n",
      "       </a>\n",
      "      </div>\n",
      "      <div class=\"hmenus menus\">\n",
      "       <a href=\"//www.emsc-csem.org/lastquake/citizen_seismology/\">\n",
      "        Citizen seismology\n",
      "       </a>\n",
      "      </div>\n",
      "     </div>\n",
      "     <div class=\"hmenu0 hmenu3\">\n",
      "      <div class=\"hmenus menut mt3\">\n",
      "       About Us\n",
      "      </div>\n",
      "      <div class=\"hmenus menus\">\n",
      "       <a href=\"//www.emsc-csem.org/about_us/who_we_are/\">\n",
      "        Who we are\n",
      "       </a>\n",
      "      </div>\n",
      "      <div class=\"hmenus menus\">\n",
      "       <a href=\"//www.emsc-csem.org/about_us/what_we_do/\">\n",
      "        What we do\n",
      "       </a>\n",
      "      </div>\n",
      "      <div class=\"hmenus menus\">\n",
      "       <a href=\"//www.emsc-csem.org/about_us/timeline/\">\n",
      "        Timeline\n",
      "       </a>\n",
      "      </div>\n",
      "     </div>\n",
      "     <div class=\"hmenu0 hmenu4\">\n",
      "      <div class=\"hmenus menut mt4\">\n",
      "       Partner with us\n",
      "      </div>\n",
      "      <div class=\"hmenus menus\">\n",
      "       <a href=\"//www.emsc-csem.org/partner_with_us/mission_and_vision/\">\n",
      "        Mission &amp; vision\n",
      "       </a>\n",
      "      </div>\n",
      "      <div class=\"hmenus menus\">\n",
      "       <a href=\"//www.emsc-csem.org/partner_with_us/partners/\">\n",
      "        Partners\n",
      "       </a>\n",
      "      </div>\n",
      "      <div class=\"hmenus menus\">\n",
      "       <a href=\"//www.emsc-csem.org/partner_with_us/support_our_work/\">\n",
      "        Support our work\n",
      "       </a>\n",
      "      </div>\n",
      "     </div>\n",
      "    </div>\n",
      "    <div class=\"btncont\">\n",
      "     <a class=\"hbt hbtdonate\" href=\"/donate/\">\n",
      "      Donate\n",
      "     </a>\n",
      "     <a class=\"hbt hbtlogin\" href=\"/Member/login.php\">\n",
      "      Log in\n",
      "     </a>\n",
      "    </div>\n",
      "   </div>\n",
      "   <div class=\"emsctime\">\n",
      "   </div>\n",
      "  </div>\n",
      "  <div class=\"bandeau\">\n",
      "   <div class=\"bandeaumv\">\n",
      "   </div>\n",
      "  </div>\n",
      "  <div class=\"content\" role=\"main\">\n",
      "   <div class=\"sea\">\n",
      "    <div class=\"search\">\n",
      "     <span class=\"fclose\">\n",
      "      ▶\n",
      "     </span>\n",
      "     <span class=\"fopen\">\n",
      "      ▼\n",
      "     </span>\n",
      "     Search earthquakes\n",
      "    </div>\n",
      "    <div class=\"form\">\n",
      "     <form>\n",
      "      <table>\n",
      "       <tr>\n",
      "        <th>\n",
      "        </th>\n",
      "        <th>\n",
      "         Period\n",
      "        </th>\n",
      "        <th>\n",
      "         Magnitude\n",
      "        </th>\n",
      "        <th class=\"moref\">\n",
      "         Depth\n",
      "        </th>\n",
      "        <th class=\"moref\">\n",
      "         Latitude\n",
      "        </th>\n",
      "        <th class=\"moref\">\n",
      "         Longitude\n",
      "        </th>\n",
      "        <th class=\"moref\">\n",
      "        </th>\n",
      "        <th class=\"moref\">\n",
      "         Reports\n",
      "        </th>\n",
      "        <th class=\"moref\">\n",
      "         Images\n",
      "        </th>\n",
      "        <th class=\"moref\">\n",
      "         Comments\n",
      "        </th>\n",
      "       </tr>\n",
      "       <tr>\n",
      "        <td>\n",
      "         Min:\n",
      "        </td>\n",
      "        <td>\n",
      "         <input aria-label=\"date min\" id=\"datemin\" max=\"2024-02-16\" min=\"2004-10-01\" name=\"datemin\" type=\"date\"/>\n",
      "        </td>\n",
      "        <td>\n",
      "         <input aria-label=\"magnitude min\" id=\"magmin\" max=\"11\" min=\"0\" name=\"magmin\" step=\"0.1\" type=\"number\"/>\n",
      "        </td>\n",
      "        <td>\n",
      "         <input aria-label=\"depth min\" class=\"moref\" id=\"depthmin\" max=\"10000\" min=\"-10\" name=\"depthmin\" step=\"1\" type=\"number\"/>\n",
      "        </td>\n",
      "        <td>\n",
      "         <input aria-label=\"latitude min\" class=\"moref\" id=\"latmin\" max=\"90\" min=\"-90\" name=\"latmin\" step=\"0.001\" type=\"number\"/>\n",
      "        </td>\n",
      "        <td class=\"ic\">\n",
      "         <input aria-label=\"longitude min\" class=\"moref\" id=\"lonmin\" max=\"180\" min=\"-180\" name=\"lonmin\" step=\"0.001\" type=\"number\"/>\n",
      "        </td>\n",
      "        <td class=\"moref with\">\n",
      "         <div class=\"moref coords-icon\" data-maploaded=\"false\">\n",
      "         </div>\n",
      "         With:\n",
      "        </td>\n",
      "        <td class=\"moref\">\n",
      "         <input aria-label=\"with reports\" id=\"reports\" name=\"reports\" type=\"checkbox\"/>\n",
      "        </td>\n",
      "        <td class=\"moref\">\n",
      "         <input aria-label=\"with medias\" id=\"medias\" name=\"medias\" type=\"checkbox\"/>\n",
      "        </td>\n",
      "        <td class=\"moref\">\n",
      "         <input aria-label=\"with comments\" id=\"comms\" name=\"comms\" type=\"checkbox\"/>\n",
      "        </td>\n",
      "       </tr>\n",
      "       <tr>\n",
      "        <td>\n",
      "         Max:\n",
      "        </td>\n",
      "        <td>\n",
      "         <input aria-label=\"date max\" id=\"datemax\" max=\"2024-02-16\" min=\"2004-10-01\" name=\"datemax\" type=\"date\"/>\n",
      "        </td>\n",
      "        <td>\n",
      "         <input aria-label=\"magnitude max\" id=\"magmax\" max=\"11\" min=\"0\" name=\"magmax\" step=\"0.1\" type=\"number\"/>\n",
      "        </td>\n",
      "        <td>\n",
      "         <input aria-label=\"depth max\" class=\"moref\" id=\"depthmax\" max=\"10000\" min=\"-10\" name=\"depthmax\" step=\"1\" type=\"number\"/>\n",
      "        </td>\n",
      "        <td>\n",
      "         <input aria-label=\"latitude max\" class=\"moref\" id=\"latmax\" max=\"90\" min=\"-90\" name=\"latmax\" step=\"0.001\" type=\"number\"/>\n",
      "        </td>\n",
      "        <td class=\"ic\">\n",
      "         <input aria-label=\"longitude max\" class=\"moref\" id=\"lonmax\" max=\"180\" min=\"-180\" name=\"lonmax\" step=\"0.001\" type=\"number\"/>\n",
      "        </td>\n",
      "        <td class=\"moref\">\n",
      "        </td>\n",
      "        <td class=\"moref\">\n",
      "        </td>\n",
      "        <td class=\"moref\">\n",
      "        </td>\n",
      "        <td class=\"moref\">\n",
      "        </td>\n",
      "       </tr>\n",
      "       <tr class=\"moref\">\n",
      "        <td>\n",
      "         <label for=\"flynn_region\">\n",
      "          Region Name\n",
      "         </label>\n",
      "        </td>\n",
      "        <td colspan=\"5\">\n",
      "         <input id=\"reg\" name=\"flynn_region\" type=\"text\"/>\n",
      "         <div class=\"prop\">\n",
      "          <table class=\"res\">\n",
      "           <tr>\n",
      "            <td style=\"width:20px;\">\n",
      "             <input class=\"checkall\" type=\"checkbox\"/>\n",
      "            </td>\n",
      "            <td>\n",
      "             <span class=\"prop-close\">\n",
      "              [x]\n",
      "             </span>\n",
      "            </td>\n",
      "           </tr>\n",
      "          </table>\n",
      "          <div class=\"prop-send\">\n",
      "           Send checked\n",
      "          </div>\n",
      "         </div>\n",
      "        </td>\n",
      "       </tr>\n",
      "      </table>\n",
      "      <div class=\"subm\">\n",
      "       <input type=\"submit\" value=\"Search\">\n",
      "        <input class=\"rset\" type=\"button\" value=\"Reset\"/>\n",
      "       </input>\n",
      "      </div>\n",
      "     </form>\n",
      "     <div class=\"more\">\n",
      "      +\n",
      "     </div>\n",
      "     <div id=\"map-coord\">\n",
      "     </div>\n",
      "    </div>\n",
      "   </div>\n",
      "   <div class=\"links\">\n",
      "    <span data-magmin=\"0\">\n",
      "     [ Full list ]\n",
      "    </span>\n",
      "    <span data-magmin=\"3\">\n",
      "     [ mag≥3 ]\n",
      "    </span>\n",
      "    <span data-magmin=\"4\">\n",
      "     [ mag≥4 ]\n",
      "    </span>\n",
      "    <span data-magmin=\"5\">\n",
      "     [ mag≥5 ]\n",
      "    </span>\n",
      "   </div>\n",
      "   <div id=\"nbres\">\n",
      "   </div>\n",
      "   <div class=\"page-cont\">\n",
      "    <div class=\"pag spei spei2\">\n",
      "     «\n",
      "    </div>\n",
      "    <div class=\"pag spei spei1\">\n",
      "     ‹\n",
      "    </div>\n",
      "    <div class=\"pag\">\n",
      "     1\n",
      "    </div>\n",
      "    <div class=\"pag\">\n",
      "     2\n",
      "    </div>\n",
      "    <div class=\"pag\">\n",
      "     3\n",
      "    </div>\n",
      "    <div class=\"pag\">\n",
      "     4\n",
      "    </div>\n",
      "    <div class=\"pag\">\n",
      "     5\n",
      "    </div>\n",
      "    <div class=\"pag\">\n",
      "     6\n",
      "    </div>\n",
      "    <div class=\"pag\">\n",
      "     7\n",
      "    </div>\n",
      "    <div class=\"pag\">\n",
      "     8\n",
      "    </div>\n",
      "    <div class=\"pag\">\n",
      "     9\n",
      "    </div>\n",
      "    <div class=\"pag\">\n",
      "     10\n",
      "    </div>\n",
      "    <div class=\"pag spes spes1\">\n",
      "     ›\n",
      "    </div>\n",
      "    <div class=\"pag spes spes2\">\n",
      "     »\n",
      "    </div>\n",
      "   </div>\n",
      "   <div class=\"download\">\n",
      "    <a class=\"downl\" href=\"javascript:viewOnMap();\" id=\"view_map\">\n",
      "     View on map\n",
      "    </a>\n",
      "    <a class=\"downl\" href=\"javascript:Emsc_kml._export();\" id=\"download_kml\">\n",
      "     Export as KML\n",
      "    </a>\n",
      "    <a class=\"downl\" href=\"javascript:csv_export();\" id=\"download\">\n",
      "     Export as csv\n",
      "    </a>\n",
      "   </div>\n",
      "   <div class=\"htab\">\n",
      "    <table class=\"eqs table-scroll\">\n",
      "     <thead>\n",
      "      <tr>\n",
      "       <th class=\"thico\">\n",
      "        <th class=\"citiz\" colspan=\"2\">\n",
      "         <div>\n",
      "          Citizen\n",
      "          <br/>\n",
      "          response\n",
      "         </div>\n",
      "         <div>\n",
      "          <div class=\"dm comm\">\n",
      "          </div>\n",
      "          <div class=\"dm pic\">\n",
      "          </div>\n",
      "         </div>\n",
      "        </th>\n",
      "       </th>\n",
      "       <th class=\"tbdat\">\n",
      "        Date &amp; Time\n",
      "        <div>\n",
      "         UTC\n",
      "        </div>\n",
      "       </th>\n",
      "       <th class=\"tblat\">\n",
      "        Lat.\n",
      "        <div>\n",
      "         degrees\n",
      "        </div>\n",
      "       </th>\n",
      "       <th class=\"tblon\">\n",
      "        Lon.\n",
      "        <div>\n",
      "         degrees\n",
      "        </div>\n",
      "       </th>\n",
      "       <th class=\"tbdep\">\n",
      "        Depth\n",
      "        <div>\n",
      "         km\n",
      "        </div>\n",
      "       </th>\n",
      "       <th class=\"tbmag\">\n",
      "        Mag.\n",
      "        <span>\n",
      "         [+]\n",
      "        </span>\n",
      "       </th>\n",
      "       <th class=\"tbreg\">\n",
      "        Region\n",
      "       </th>\n",
      "      </tr>\n",
      "     </thead>\n",
      "     <tbody>\n",
      "     </tbody>\n",
      "    </table>\n",
      "   </div>\n",
      "   <div class=\"page-cont\">\n",
      "    <div class=\"pag spei spei2\">\n",
      "     «\n",
      "    </div>\n",
      "    <div class=\"pag spei spei1\">\n",
      "     ‹\n",
      "    </div>\n",
      "    <div class=\"pag\">\n",
      "     1\n",
      "    </div>\n",
      "    <div class=\"pag\">\n",
      "     2\n",
      "    </div>\n",
      "    <div class=\"pag\">\n",
      "     3\n",
      "    </div>\n",
      "    <div class=\"pag\">\n",
      "     4\n",
      "    </div>\n",
      "    <div class=\"pag\">\n",
      "     5\n",
      "    </div>\n",
      "    <div class=\"pag\">\n",
      "     6\n",
      "    </div>\n",
      "    <div class=\"pag\">\n",
      "     7\n",
      "    </div>\n",
      "    <div class=\"pag\">\n",
      "     8\n",
      "    </div>\n",
      "    <div class=\"pag\">\n",
      "     9\n",
      "    </div>\n",
      "    <div class=\"pag\">\n",
      "     10\n",
      "    </div>\n",
      "    <div class=\"pag spes spes1\">\n",
      "     ›\n",
      "    </div>\n",
      "    <div class=\"pag spes spes2\">\n",
      "     »\n",
      "    </div>\n",
      "   </div>\n",
      "   <div>\n",
      "    <b>\n",
      "     Bold : Earthquakes with a magnitude ≥ 4.5 in Euro-med, or ≥ 5.5 in the world\n",
      "    </b>\n",
      "    <br>\n",
      "     <b style=\"color:red;\">\n",
      "      Red : Earthquakes with a magnitude ≥ 5.0 in Euro-med, or ≥ 6.0 in the world\n",
      "     </b>\n",
      "     <br/>\n",
      "    </br>\n",
      "   </div>\n",
      "   <script>\n",
      "    eval(function(p,a,c,k,e,d){e=function(c){return c};if(!''.replace(/^/,String)){while(c--){d[c]=k[c]||c}k=[function(e){return d[e]}];e=function(){return'\\\\w+'};c=1};while(c--){if(k[c]){p=p.replace(new RegExp('\\\\b'+e(c)+'\\\\b','g'),k[c])}}return p}('$(8).1(7(){6.5(\"4 1\");$(\".3\").0();$(\".2\").0()});',9,9,'click|ready|more|search|Doc|log|console|function|document'.split('|'),0,{}))\n",
      "   </script>\n",
      "   <script>\n",
      "    console.log(\"TimeLoad\",0.004076004028);\n",
      "   </script>\n",
      "  </div>\n",
      "  <div class=\"footer\">\n",
      "   <div class=\"foot-cont\">\n",
      "    <div class=\"part\">\n",
      "     <div class=\"foot-logo-label\">\n",
      "      EMSC is the European infrastructure for seismological products in\n",
      "     </div>\n",
      "     <a aria-label=\"epos\" href=\"https://www.epos-eu.org/\" target=\"_blank\">\n",
      "      <div class=\"spe foot-logo\">\n",
      "      </div>\n",
      "     </a>\n",
      "    </div>\n",
      "    <div class=\"part2\">\n",
      "     <div class=\"part-middle\">\n",
      "      <a href=\"/faq/\">\n",
      "       FAQ\n",
      "      </a>\n",
      "      <a class=\"privacy\" href=\"/privacy/index.php\">\n",
      "       © 2023 - privacy\n",
      "      </a>\n",
      "      <a href=\"/contact/\">\n",
      "       Contact us\n",
      "      </a>\n",
      "     </div>\n",
      "    </div>\n",
      "    <div class=\"part p-soc\">\n",
      "     <a aria-label=\"facebook EMSC.CSEM\" href=\"https://www.facebook.com/EMSC.CSEM/\" target=\"_blank\">\n",
      "      <span class=\"spe f-facebook\">\n",
      "      </span>\n",
      "     </a>\n",
      "     <a aria-label=\"twitter lastquake\" href=\"https://twitter.com/lastquake\" target=\"_blank\">\n",
      "      <span class=\"spe f-twitter\">\n",
      "      </span>\n",
      "     </a>\n",
      "     <a aria-label=\"linkedin emsc-csem\" href=\"https://www.linkedin.com/company/emsc-csem/\" target=\"_blank\">\n",
      "      <span class=\"spe f-linkedin\">\n",
      "      </span>\n",
      "     </a>\n",
      "     <a aria-label=\"youtube EuroMSC\" href=\"https://www.youtube.com/user/EuroMSC\" target=\"_blank\">\n",
      "      <span class=\"spe f-youtube\">\n",
      "      </span>\n",
      "     </a>\n",
      "    </div>\n",
      "   </div>\n",
      "  </div>\n",
      " </body>\n",
      "</html>\n",
      "\n",
      "Table containing earthquake information not found on the page\n"
     ]
    }
   ],
   "source": [
    "# your code here\n",
    "response = requests.get(url)\n",
    "\n",
    "if response.status_code == 200:\n",
    "   \n",
    "    soup = BeautifulSoup(response.content, 'html.parser')\n",
    "    \n",
    "    print(soup.prettify())\n",
    "    \n",
    "    table = soup.find('table', id='tbody')\n",
    "    \n",
    "    if table:\n",
    "        \n",
    "        data = []\n",
    "        for row in table.find_all('tr'):\n",
    "            cols = row.find_all('td')\n",
    "            if len(cols) >= 13:\n",
    "                date = cols[3].text.strip()\n",
    "                time = cols[4].text.strip()\n",
    "                latitude = cols[5].text.strip() + ' ' + cols[6].text.strip()\n",
    "                longitude = cols[7].text.strip() + ' ' + cols[8].text.strip()\n",
    "                region = cols[11].text.strip()\n",
    "                data.append([date, time, latitude, longitude, region])\n",
    "        \n",
    "        df = pd.DataFrame(data, columns=['Date', 'Time', 'Latitude', 'Longitude', 'Region'])\n",
    "        \n",
    "        print(df.head(20))\n",
    "    else:\n",
    "        print('Table containing earthquake information not found on the page')\n",
    "else:\n",
    "    print('Failed to retrieve data from the URL')"
   ]
  },
  {
   "cell_type": "markdown",
   "metadata": {},
   "source": [
    "#### Count the number of tweets by a given Twitter account.\n",
    "Ask the user for the handle (@handle) of a twitter account. You will need to include a ***try/except block*** for account names not found. \n",
    "<br>***Hint:*** the program should count the number of tweets for any provided account."
   ]
  },
  {
   "cell_type": "code",
   "execution_count": null,
   "metadata": {},
   "outputs": [],
   "source": [
    "# This is the url you will scrape in this exercise \n",
    "# You will need to add the account credentials to this url\n",
    "url = 'https://twitter.com/'"
   ]
  },
  {
   "cell_type": "code",
   "execution_count": null,
   "metadata": {},
   "outputs": [],
   "source": [
    "# your code here"
   ]
  },
  {
   "cell_type": "markdown",
   "metadata": {},
   "source": [
    "#### Number of followers of a given twitter account\n",
    "Ask the user for the handle (@handle) of a twitter account. You will need to include a ***try/except block*** for account names not found. \n",
    "<br>***Hint:*** the program should count the followers for any provided account."
   ]
  },
  {
   "cell_type": "code",
   "execution_count": null,
   "metadata": {},
   "outputs": [],
   "source": [
    "# This is the url you will scrape in this exercise \n",
    "# You will need to add the account credentials to this url\n",
    "url = 'https://twitter.com/'"
   ]
  },
  {
   "cell_type": "code",
   "execution_count": null,
   "metadata": {},
   "outputs": [],
   "source": [
    "# your code here"
   ]
  },
  {
   "cell_type": "markdown",
   "metadata": {},
   "source": [
    "#### List all language names and number of related articles in the order they appear in wikipedia.org."
   ]
  },
  {
   "cell_type": "code",
   "execution_count": null,
   "metadata": {},
   "outputs": [],
   "source": [
    "# This is the url you will scrape in this exercise\n",
    "url = 'https://www.wikipedia.org/'"
   ]
  },
  {
   "cell_type": "code",
   "execution_count": null,
   "metadata": {},
   "outputs": [],
   "source": [
    "# your code here"
   ]
  },
  {
   "cell_type": "markdown",
   "metadata": {},
   "source": [
    "#### A list with the different kind of datasets available in data.gov.uk."
   ]
  },
  {
   "cell_type": "code",
   "execution_count": null,
   "metadata": {},
   "outputs": [],
   "source": [
    "# This is the url you will scrape in this exercise\n",
    "url = 'https://data.gov.uk/'"
   ]
  },
  {
   "cell_type": "code",
   "execution_count": null,
   "metadata": {},
   "outputs": [],
   "source": [
    "# your code here"
   ]
  },
  {
   "cell_type": "markdown",
   "metadata": {},
   "source": [
    "#### Display the top 10 languages by number of native speakers stored in a pandas dataframe."
   ]
  },
  {
   "cell_type": "code",
   "execution_count": null,
   "metadata": {},
   "outputs": [],
   "source": [
    "# This is the url you will scrape in this exercise\n",
    "url = 'https://en.wikipedia.org/wiki/List_of_languages_by_number_of_native_speakers'"
   ]
  },
  {
   "cell_type": "code",
   "execution_count": null,
   "metadata": {},
   "outputs": [],
   "source": [
    "# your code here"
   ]
  },
  {
   "cell_type": "markdown",
   "metadata": {},
   "source": [
    "## Bonus\n",
    "#### Scrape a certain number of tweets of a given Twitter account."
   ]
  },
  {
   "cell_type": "code",
   "execution_count": null,
   "metadata": {},
   "outputs": [],
   "source": [
    "# This is the url you will scrape in this exercise \n",
    "# You will need to add the account credentials to this url\n",
    "url = 'https://twitter.com/'"
   ]
  },
  {
   "cell_type": "code",
   "execution_count": null,
   "metadata": {},
   "outputs": [],
   "source": [
    "# your code here"
   ]
  },
  {
   "cell_type": "markdown",
   "metadata": {},
   "source": [
    "#### Display IMDB's top 250 data (movie name, initial release, director name and stars) as a pandas dataframe."
   ]
  },
  {
   "cell_type": "code",
   "execution_count": null,
   "metadata": {},
   "outputs": [],
   "source": [
    "# This is the url you will scrape in this exercise \n",
    "url = 'https://www.imdb.com/chart/top'"
   ]
  },
  {
   "cell_type": "code",
   "execution_count": null,
   "metadata": {},
   "outputs": [],
   "source": [
    "# your code here"
   ]
  },
  {
   "cell_type": "markdown",
   "metadata": {},
   "source": [
    "#### Display the movie name, year and a brief summary of the top 10 random movies (IMDB) as a pandas dataframe."
   ]
  },
  {
   "cell_type": "code",
   "execution_count": null,
   "metadata": {},
   "outputs": [],
   "source": [
    "#This is the url you will scrape in this exercise\n",
    "url = 'http://www.imdb.com/chart/top'"
   ]
  },
  {
   "cell_type": "code",
   "execution_count": null,
   "metadata": {},
   "outputs": [],
   "source": [
    "# your code here"
   ]
  },
  {
   "cell_type": "markdown",
   "metadata": {},
   "source": [
    "#### Find the live weather report (temperature, wind speed, description and weather) of a given city."
   ]
  },
  {
   "cell_type": "code",
   "execution_count": null,
   "metadata": {},
   "outputs": [],
   "source": [
    "#https://openweathermap.org/current\n",
    "city = input('Enter the city: ')\n",
    "url = 'http://api.openweathermap.org/data/2.5/weather?'+'q='+city+'&APPID=b35975e18dc93725acb092f7272cc6b8&units=metric'"
   ]
  },
  {
   "cell_type": "code",
   "execution_count": null,
   "metadata": {},
   "outputs": [],
   "source": [
    "# your code here"
   ]
  },
  {
   "cell_type": "markdown",
   "metadata": {},
   "source": [
    "#### Find the book name, price and stock availability as a pandas dataframe."
   ]
  },
  {
   "cell_type": "code",
   "execution_count": null,
   "metadata": {},
   "outputs": [],
   "source": [
    "# This is the url you will scrape in this exercise. \n",
    "# It is a fictional bookstore created to be scraped. \n",
    "url = 'http://books.toscrape.com/'"
   ]
  },
  {
   "cell_type": "code",
   "execution_count": null,
   "metadata": {},
   "outputs": [],
   "source": [
    "# your code here"
   ]
  }
 ],
 "metadata": {
  "kernelspec": {
   "display_name": "python (m2_env)",
   "language": "python",
   "name": "m2_env"
  },
  "language_info": {
   "codemirror_mode": {
    "name": "ipython",
    "version": 3
   },
   "file_extension": ".py",
   "mimetype": "text/x-python",
   "name": "python",
   "nbconvert_exporter": "python",
   "pygments_lexer": "ipython3",
   "version": "3.11.6"
  }
 },
 "nbformat": 4,
 "nbformat_minor": 2
}
